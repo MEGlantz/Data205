{
 "cells": [
  {
   "cell_type": "markdown",
   "metadata": {},
   "source": [
    "note:  I have added geopandas and geojson to my environment---need to update yml"
   ]
  },
  {
   "cell_type": "raw",
   "metadata": {},
   "source": [
    "import json\n",
    "import geojson\n",
    "import numpy as np\n",
    "import pandas as pd\n",
    "import geopandas as gpd\n",
    "import requests"
   ]
  },
  {
   "cell_type": "code",
   "execution_count": 10,
   "metadata": {},
   "outputs": [],
   "source": [
    "dcdf = gpd.GeoDataFrame(requests.get('https://opendata.arcgis.com/datasets/70392a096a8e431381f1f692aaa06afd_24.geojson'))"
   ]
  },
  {
   "cell_type": "code",
   "execution_count": 11,
   "metadata": {},
   "outputs": [
    {
     "data": {
      "text/html": [
       "<div>\n",
       "<style scoped>\n",
       "    .dataframe tbody tr th:only-of-type {\n",
       "        vertical-align: middle;\n",
       "    }\n",
       "\n",
       "    .dataframe tbody tr th {\n",
       "        vertical-align: top;\n",
       "    }\n",
       "\n",
       "    .dataframe thead th {\n",
       "        text-align: right;\n",
       "    }\n",
       "</style>\n",
       "<table border=\"1\" class=\"dataframe\">\n",
       "  <thead>\n",
       "    <tr style=\"text-align: right;\">\n",
       "      <th></th>\n",
       "      <th>0</th>\n",
       "    </tr>\n",
       "  </thead>\n",
       "  <tbody>\n",
       "    <tr>\n",
       "      <td>0</td>\n",
       "      <td>b'{\\n\"type\": \"FeatureCollection\",\\n\"name\": \"Cr...</td>\n",
       "    </tr>\n",
       "    <tr>\n",
       "      <td>1</td>\n",
       "      <td>b'3:CRS84\" } },\\n\"features\": [\\n{ \"type\": \"Fea...</td>\n",
       "    </tr>\n",
       "    <tr>\n",
       "      <td>2</td>\n",
       "      <td>b'\"REPORTDATE\": \"2019-03-26T13:33:18Z\", \"ROUTE...</td>\n",
       "    </tr>\n",
       "    <tr>\n",
       "      <td>3</td>\n",
       "      <td>b'ID\": 14930, \"FROMDATE\": \"2019-03-26T04:00:00...</td>\n",
       "    </tr>\n",
       "    <tr>\n",
       "      <td>4</td>\n",
       "      <td>b' 38.894518, \"LONGITUDE\": -76.927255, \"XCOORD...</td>\n",
       "    </tr>\n",
       "  </tbody>\n",
       "</table>\n",
       "</div>"
      ],
      "text/plain": [
       "                                                   0\n",
       "0  b'{\\n\"type\": \"FeatureCollection\",\\n\"name\": \"Cr...\n",
       "1  b'3:CRS84\" } },\\n\"features\": [\\n{ \"type\": \"Fea...\n",
       "2  b'\"REPORTDATE\": \"2019-03-26T13:33:18Z\", \"ROUTE...\n",
       "3  b'ID\": 14930, \"FROMDATE\": \"2019-03-26T04:00:00...\n",
       "4  b' 38.894518, \"LONGITUDE\": -76.927255, \"XCOORD..."
      ]
     },
     "execution_count": 11,
     "metadata": {},
     "output_type": "execute_result"
    }
   ],
   "source": [
    "dcdf.head()"
   ]
  },
  {
   "cell_type": "code",
   "execution_count": null,
   "metadata": {},
   "outputs": [],
   "source": [
    "Note:  check how to add more api or data entries\n",
    "    "
   ]
  }
 ],
 "metadata": {
  "kernelspec": {
   "display_name": "Python 3",
   "language": "python",
   "name": "python3"
  },
  "language_info": {
   "codemirror_mode": {
    "name": "ipython",
    "version": 3
   },
   "file_extension": ".py",
   "mimetype": "text/x-python",
   "name": "python",
   "nbconvert_exporter": "python",
   "pygments_lexer": "ipython3",
   "version": "3.8.3"
  }
 },
 "nbformat": 4,
 "nbformat_minor": 4
}
