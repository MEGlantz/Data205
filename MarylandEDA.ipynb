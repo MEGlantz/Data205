{
 "cells": [
  {
   "cell_type": "markdown",
   "metadata": {},
   "source": [
    "# EDA on Maryland Crash Data"
   ]
  },
  {
   "cell_type": "code",
   "execution_count": 3,
   "metadata": {},
   "outputs": [],
   "source": [
    "import numpy as np\n",
    "import pandas as pd\n",
    "import datetime\n",
    "import matplotlib.pyplot as plt\n",
    "import seaborn as sns\n",
    "import json\n",
    "#import requests as re\n",
    "\n",
    "%matplotlib inline"
   ]
  },
  {
   "cell_type": "code",
   "execution_count": 4,
   "metadata": {},
   "outputs": [],
   "source": [
    "maryland = pd.read_csv(\"marylanddf_clean.csv\", low_memory = False)"
   ]
  },
  {
   "cell_type": "code",
   "execution_count": 5,
   "metadata": {},
   "outputs": [
    {
     "data": {
      "text/html": [
       "<div>\n",
       "<style scoped>\n",
       "    .dataframe tbody tr th:only-of-type {\n",
       "        vertical-align: middle;\n",
       "    }\n",
       "\n",
       "    .dataframe tbody tr th {\n",
       "        vertical-align: top;\n",
       "    }\n",
       "\n",
       "    .dataframe thead th {\n",
       "        text-align: right;\n",
       "    }\n",
       "</style>\n",
       "<table border=\"1\" class=\"dataframe\">\n",
       "  <thead>\n",
       "    <tr style=\"text-align: right;\">\n",
       "      <th></th>\n",
       "      <th>Unnamed: 0</th>\n",
       "      <th>YEAR</th>\n",
       "      <th>QUARTER</th>\n",
       "      <th>LIGHT_DESC</th>\n",
       "      <th>LIGHT_CODE</th>\n",
       "      <th>COUNTY_DESC</th>\n",
       "      <th>COUNTY_NO</th>\n",
       "      <th>MUNI_DESC</th>\n",
       "      <th>MUNI_CODE</th>\n",
       "      <th>JUNCTION_DESC</th>\n",
       "      <th>...</th>\n",
       "      <th>FEET_MILES_FLAG_DESC</th>\n",
       "      <th>FEET_MILES_FLAG</th>\n",
       "      <th>DISTANCE_DIR_FLAG</th>\n",
       "      <th>REFERENCE_NO</th>\n",
       "      <th>REFERENCE_TYPE_CODE</th>\n",
       "      <th>REFERENCE_SUFFIX</th>\n",
       "      <th>REFERENCE_ROAD_NAME</th>\n",
       "      <th>LATITUDE</th>\n",
       "      <th>LONGITUDE</th>\n",
       "      <th>LOCATION</th>\n",
       "    </tr>\n",
       "  </thead>\n",
       "  <tbody>\n",
       "    <tr>\n",
       "      <th>0</th>\n",
       "      <td>0</td>\n",
       "      <td>2020</td>\n",
       "      <td>Q2</td>\n",
       "      <td>Daylight</td>\n",
       "      <td>1.00</td>\n",
       "      <td>Baltimore</td>\n",
       "      <td>3.0</td>\n",
       "      <td>NaN</td>\n",
       "      <td>NaN</td>\n",
       "      <td>NaN</td>\n",
       "      <td>...</td>\n",
       "      <td>NaN</td>\n",
       "      <td>NaN</td>\n",
       "      <td>NaN</td>\n",
       "      <td>NaN</td>\n",
       "      <td>NaN</td>\n",
       "      <td>NaN</td>\n",
       "      <td>NaN</td>\n",
       "      <td>39.277263</td>\n",
       "      <td>-76.503693</td>\n",
       "      <td>POINT (-76.5036932 39.27726285)</td>\n",
       "    </tr>\n",
       "    <tr>\n",
       "      <th>1</th>\n",
       "      <td>1</td>\n",
       "      <td>2020</td>\n",
       "      <td>Q2</td>\n",
       "      <td>NaN</td>\n",
       "      <td>6.02</td>\n",
       "      <td>Baltimore City</td>\n",
       "      <td>24.0</td>\n",
       "      <td>NaN</td>\n",
       "      <td>NaN</td>\n",
       "      <td>Non Intersection</td>\n",
       "      <td>...</td>\n",
       "      <td>Miles</td>\n",
       "      <td>M</td>\n",
       "      <td>N</td>\n",
       "      <td>NaN</td>\n",
       "      <td>NaN</td>\n",
       "      <td>NaN</td>\n",
       "      <td>NORTH AVE</td>\n",
       "      <td>39.311025</td>\n",
       "      <td>-76.616429</td>\n",
       "      <td>POINT (-76.616429453205 39.311024794431)</td>\n",
       "    </tr>\n",
       "    <tr>\n",
       "      <th>2</th>\n",
       "      <td>2</td>\n",
       "      <td>2020</td>\n",
       "      <td>Q2</td>\n",
       "      <td>Daylight</td>\n",
       "      <td>1.00</td>\n",
       "      <td>Montgomery</td>\n",
       "      <td>15.0</td>\n",
       "      <td>NaN</td>\n",
       "      <td>NaN</td>\n",
       "      <td>NaN</td>\n",
       "      <td>...</td>\n",
       "      <td>NaN</td>\n",
       "      <td>NaN</td>\n",
       "      <td>NaN</td>\n",
       "      <td>NaN</td>\n",
       "      <td>NaN</td>\n",
       "      <td>NaN</td>\n",
       "      <td>NaN</td>\n",
       "      <td>39.140680</td>\n",
       "      <td>-77.193413</td>\n",
       "      <td>POINT (-77.193412729561 39.140680249069)</td>\n",
       "    </tr>\n",
       "    <tr>\n",
       "      <th>3</th>\n",
       "      <td>3</td>\n",
       "      <td>2017</td>\n",
       "      <td>Q2</td>\n",
       "      <td>Daylight</td>\n",
       "      <td>1.00</td>\n",
       "      <td>Baltimore City</td>\n",
       "      <td>24.0</td>\n",
       "      <td>NaN</td>\n",
       "      <td>NaN</td>\n",
       "      <td>NaN</td>\n",
       "      <td>...</td>\n",
       "      <td>NaN</td>\n",
       "      <td>NaN</td>\n",
       "      <td>NaN</td>\n",
       "      <td>NaN</td>\n",
       "      <td>NaN</td>\n",
       "      <td>NaN</td>\n",
       "      <td>NaN</td>\n",
       "      <td>39.282928</td>\n",
       "      <td>-76.635215</td>\n",
       "      <td>POINT (-76.6352150952347 39.2829284750108)</td>\n",
       "    </tr>\n",
       "    <tr>\n",
       "      <th>4</th>\n",
       "      <td>4</td>\n",
       "      <td>2020</td>\n",
       "      <td>Q2</td>\n",
       "      <td>Daylight</td>\n",
       "      <td>1.00</td>\n",
       "      <td>Cecil</td>\n",
       "      <td>7.0</td>\n",
       "      <td>NaN</td>\n",
       "      <td>NaN</td>\n",
       "      <td>NaN</td>\n",
       "      <td>...</td>\n",
       "      <td>NaN</td>\n",
       "      <td>NaN</td>\n",
       "      <td>NaN</td>\n",
       "      <td>NaN</td>\n",
       "      <td>NaN</td>\n",
       "      <td>NaN</td>\n",
       "      <td>NaN</td>\n",
       "      <td>39.611028</td>\n",
       "      <td>-75.951314</td>\n",
       "      <td>POINT (-75.951314 39.611027833333)</td>\n",
       "    </tr>\n",
       "  </tbody>\n",
       "</table>\n",
       "<p>5 rows × 57 columns</p>\n",
       "</div>"
      ],
      "text/plain": [
       "   Unnamed: 0  YEAR QUARTER LIGHT_DESC  LIGHT_CODE     COUNTY_DESC  COUNTY_NO  \\\n",
       "0           0  2020      Q2   Daylight        1.00       Baltimore        3.0   \n",
       "1           1  2020      Q2        NaN        6.02  Baltimore City       24.0   \n",
       "2           2  2020      Q2   Daylight        1.00      Montgomery       15.0   \n",
       "3           3  2017      Q2   Daylight        1.00  Baltimore City       24.0   \n",
       "4           4  2020      Q2   Daylight        1.00           Cecil        7.0   \n",
       "\n",
       "   MUNI_DESC  MUNI_CODE     JUNCTION_DESC  ...  FEET_MILES_FLAG_DESC  \\\n",
       "0        NaN        NaN               NaN  ...                   NaN   \n",
       "1        NaN        NaN  Non Intersection  ...                 Miles   \n",
       "2        NaN        NaN               NaN  ...                   NaN   \n",
       "3        NaN        NaN               NaN  ...                   NaN   \n",
       "4        NaN        NaN               NaN  ...                   NaN   \n",
       "\n",
       "  FEET_MILES_FLAG  DISTANCE_DIR_FLAG REFERENCE_NO  REFERENCE_TYPE_CODE  \\\n",
       "0             NaN                NaN          NaN                  NaN   \n",
       "1               M                  N          NaN                  NaN   \n",
       "2             NaN                NaN          NaN                  NaN   \n",
       "3             NaN                NaN          NaN                  NaN   \n",
       "4             NaN                NaN          NaN                  NaN   \n",
       "\n",
       "  REFERENCE_SUFFIX  REFERENCE_ROAD_NAME   LATITUDE  LONGITUDE  \\\n",
       "0              NaN                  NaN  39.277263 -76.503693   \n",
       "1              NaN            NORTH AVE  39.311025 -76.616429   \n",
       "2              NaN                  NaN  39.140680 -77.193413   \n",
       "3              NaN                  NaN  39.282928 -76.635215   \n",
       "4              NaN                  NaN  39.611028 -75.951314   \n",
       "\n",
       "                                     LOCATION  \n",
       "0             POINT (-76.5036932 39.27726285)  \n",
       "1    POINT (-76.616429453205 39.311024794431)  \n",
       "2    POINT (-77.193412729561 39.140680249069)  \n",
       "3  POINT (-76.6352150952347 39.2829284750108)  \n",
       "4          POINT (-75.951314 39.611027833333)  \n",
       "\n",
       "[5 rows x 57 columns]"
      ]
     },
     "execution_count": 5,
     "metadata": {},
     "output_type": "execute_result"
    }
   ],
   "source": [
    "maryland.head()"
   ]
  },
  {
   "cell_type": "code",
   "execution_count": 6,
   "metadata": {},
   "outputs": [
    {
     "name": "stdout",
     "output_type": "stream",
     "text": [
      "<class 'pandas.core.frame.DataFrame'>\n",
      "RangeIndex: 665555 entries, 0 to 665554\n",
      "Data columns (total 57 columns):\n",
      " #   Column                 Non-Null Count   Dtype  \n",
      "---  ------                 --------------   -----  \n",
      " 0   Unnamed: 0             665555 non-null  int64  \n",
      " 1   YEAR                   665555 non-null  int64  \n",
      " 2   QUARTER                665555 non-null  object \n",
      " 3   LIGHT_DESC             642520 non-null  object \n",
      " 4   LIGHT_CODE             665555 non-null  float64\n",
      " 5   COUNTY_DESC            665551 non-null  object \n",
      " 6   COUNTY_NO              665551 non-null  float64\n",
      " 7   MUNI_DESC              0 non-null       float64\n",
      " 8   MUNI_CODE              490165 non-null  float64\n",
      " 9   JUNCTION_DESC          577189 non-null  object \n",
      " 10  JUNCTION_CODE          598197 non-null  float64\n",
      " 11  COLLISION_TYPE_DESC    665555 non-null  object \n",
      " 12  COLLISION_TYPE_CODE    665555 non-null  int64  \n",
      " 13  SURF_COND_DESC         596327 non-null  object \n",
      " 14  SURF_COND_CODE         598197 non-null  float64\n",
      " 15  LANE_DESC              504723 non-null  object \n",
      " 16  LANE_CODE              504731 non-null  float64\n",
      " 17  RD_COND_DESC           598197 non-null  object \n",
      " 18  RD_COND_CODE           598197 non-null  float64\n",
      " 19  RD_DIV_DESC            594543 non-null  object \n",
      " 20  RD_DIV_CODE            598197 non-null  float64\n",
      " 21  FIX_OBJ_DESC           630198 non-null  object \n",
      " 22  FIX_OBJ_CODE           665555 non-null  float64\n",
      " 23  REPORT_NO              665555 non-null  object \n",
      " 24  REPORT_TYPE            554822 non-null  object \n",
      " 25  WEATHER_DESC           401881 non-null  object \n",
      " 26  WEATHER_CODE           665555 non-null  float64\n",
      " 27  ACC_DATE               665555 non-null  int64  \n",
      " 28  ACC_TIME               665555 non-null  object \n",
      " 29  LOC_CODE               311686 non-null  object \n",
      " 30  SIGNAL_FLAG_DESC       665555 non-null  object \n",
      " 31  SIGNAL_FLAG            665555 non-null  object \n",
      " 32  C_M_ZONE_FLAG          665555 non-null  object \n",
      " 33  AGENCY_CODE            665555 non-null  object \n",
      " 34  AREA_CODE              665555 non-null  object \n",
      " 35  HARM_EVENT_DESC1       70096 non-null   object \n",
      " 36  HARM_EVENT_CODE1       665555 non-null  float64\n",
      " 37  HARM_EVENT_DESC2       665555 non-null  object \n",
      " 38  HARM_EVENT_CODE2       665555 non-null  float64\n",
      " 39  RTE_NO                 532863 non-null  float64\n",
      " 40  ROUTE_TYPE_CODE        534624 non-null  object \n",
      " 41  RTE_SUFFIX             13533 non-null   object \n",
      " 42  LOG_MILE               594700 non-null  float64\n",
      " 43  LOGMILE_DIR_FLAG_DESC  537725 non-null  object \n",
      " 44  LOGMILE_DIR_FLAG       537733 non-null  object \n",
      " 45  MAINROAD_NAME          598190 non-null  object \n",
      " 46  DISTANCE               579661 non-null  float64\n",
      " 47  FEET_MILES_FLAG_DESC   110938 non-null  object \n",
      " 48  FEET_MILES_FLAG        598196 non-null  object \n",
      " 49  DISTANCE_DIR_FLAG      594819 non-null  object \n",
      " 50  REFERENCE_NO           525664 non-null  float64\n",
      " 51  REFERENCE_TYPE_CODE    534876 non-null  object \n",
      " 52  REFERENCE_SUFFIX       14315 non-null   object \n",
      " 53  REFERENCE_ROAD_NAME    597721 non-null  object \n",
      " 54  LATITUDE               665555 non-null  float64\n",
      " 55  LONGITUDE              665555 non-null  float64\n",
      " 56  LOCATION               665555 non-null  object \n",
      "dtypes: float64(19), int64(4), object(34)\n",
      "memory usage: 289.4+ MB\n"
     ]
    }
   ],
   "source": [
    "maryland.info()"
   ]
  },
  {
   "cell_type": "code",
   "execution_count": 7,
   "metadata": {},
   "outputs": [
    {
     "data": {
      "text/html": [
       "<div>\n",
       "<style scoped>\n",
       "    .dataframe tbody tr th:only-of-type {\n",
       "        vertical-align: middle;\n",
       "    }\n",
       "\n",
       "    .dataframe tbody tr th {\n",
       "        vertical-align: top;\n",
       "    }\n",
       "\n",
       "    .dataframe thead th {\n",
       "        text-align: right;\n",
       "    }\n",
       "</style>\n",
       "<table border=\"1\" class=\"dataframe\">\n",
       "  <thead>\n",
       "    <tr style=\"text-align: right;\">\n",
       "      <th></th>\n",
       "      <th>Unnamed: 0</th>\n",
       "      <th>YEAR</th>\n",
       "      <th>LIGHT_CODE</th>\n",
       "      <th>COUNTY_NO</th>\n",
       "      <th>MUNI_DESC</th>\n",
       "      <th>MUNI_CODE</th>\n",
       "      <th>JUNCTION_CODE</th>\n",
       "      <th>COLLISION_TYPE_CODE</th>\n",
       "      <th>SURF_COND_CODE</th>\n",
       "      <th>LANE_CODE</th>\n",
       "      <th>...</th>\n",
       "      <th>WEATHER_CODE</th>\n",
       "      <th>ACC_DATE</th>\n",
       "      <th>HARM_EVENT_CODE1</th>\n",
       "      <th>HARM_EVENT_CODE2</th>\n",
       "      <th>RTE_NO</th>\n",
       "      <th>LOG_MILE</th>\n",
       "      <th>DISTANCE</th>\n",
       "      <th>REFERENCE_NO</th>\n",
       "      <th>LATITUDE</th>\n",
       "      <th>LONGITUDE</th>\n",
       "    </tr>\n",
       "  </thead>\n",
       "  <tbody>\n",
       "    <tr>\n",
       "      <th>count</th>\n",
       "      <td>665555.000000</td>\n",
       "      <td>665555.000000</td>\n",
       "      <td>665555.000000</td>\n",
       "      <td>665551.000000</td>\n",
       "      <td>0.0</td>\n",
       "      <td>490165.000000</td>\n",
       "      <td>598197.000000</td>\n",
       "      <td>665555.000000</td>\n",
       "      <td>598197.000000</td>\n",
       "      <td>504731.000000</td>\n",
       "      <td>...</td>\n",
       "      <td>665555.000000</td>\n",
       "      <td>6.655550e+05</td>\n",
       "      <td>665555.000000</td>\n",
       "      <td>665555.000000</td>\n",
       "      <td>532863.000000</td>\n",
       "      <td>594700.000000</td>\n",
       "      <td>579661.000000</td>\n",
       "      <td>525664.000000</td>\n",
       "      <td>665555.000000</td>\n",
       "      <td>665555.000000</td>\n",
       "    </tr>\n",
       "    <tr>\n",
       "      <th>mean</th>\n",
       "      <td>332777.000000</td>\n",
       "      <td>2017.429922</td>\n",
       "      <td>3.996784</td>\n",
       "      <td>12.802138</td>\n",
       "      <td>NaN</td>\n",
       "      <td>109.223621</td>\n",
       "      <td>2.659336</td>\n",
       "      <td>21.197332</td>\n",
       "      <td>2.681054</td>\n",
       "      <td>1.483862</td>\n",
       "      <td>...</td>\n",
       "      <td>6.275458</td>\n",
       "      <td>2.017498e+07</td>\n",
       "      <td>3.931861</td>\n",
       "      <td>2.135590</td>\n",
       "      <td>972.831996</td>\n",
       "      <td>4.811965</td>\n",
       "      <td>66.611606</td>\n",
       "      <td>1287.337172</td>\n",
       "      <td>39.146989</td>\n",
       "      <td>-76.744990</td>\n",
       "    </tr>\n",
       "    <tr>\n",
       "      <th>std</th>\n",
       "      <td>192129.323543</td>\n",
       "      <td>1.669810</td>\n",
       "      <td>13.710754</td>\n",
       "      <td>7.890507</td>\n",
       "      <td>NaN</td>\n",
       "      <td>296.811599</td>\n",
       "      <td>9.974512</td>\n",
       "      <td>29.842747</td>\n",
       "      <td>9.303266</td>\n",
       "      <td>0.803901</td>\n",
       "      <td>...</td>\n",
       "      <td>10.375600</td>\n",
       "      <td>1.669977e+04</td>\n",
       "      <td>8.559274</td>\n",
       "      <td>7.605476</td>\n",
       "      <td>1631.052868</td>\n",
       "      <td>7.172188</td>\n",
       "      <td>144.807532</td>\n",
       "      <td>1923.735560</td>\n",
       "      <td>0.309653</td>\n",
       "      <td>0.466552</td>\n",
       "    </tr>\n",
       "    <tr>\n",
       "      <th>min</th>\n",
       "      <td>0.000000</td>\n",
       "      <td>2015.000000</td>\n",
       "      <td>0.000000</td>\n",
       "      <td>1.000000</td>\n",
       "      <td>NaN</td>\n",
       "      <td>0.000000</td>\n",
       "      <td>0.000000</td>\n",
       "      <td>0.000000</td>\n",
       "      <td>0.000000</td>\n",
       "      <td>1.000000</td>\n",
       "      <td>...</td>\n",
       "      <td>0.000000</td>\n",
       "      <td>2.015010e+07</td>\n",
       "      <td>0.000000</td>\n",
       "      <td>0.000000</td>\n",
       "      <td>0.000000</td>\n",
       "      <td>0.000000</td>\n",
       "      <td>0.000000</td>\n",
       "      <td>0.000000</td>\n",
       "      <td>37.000000</td>\n",
       "      <td>-79.996100</td>\n",
       "    </tr>\n",
       "    <tr>\n",
       "      <th>25%</th>\n",
       "      <td>166388.500000</td>\n",
       "      <td>2016.000000</td>\n",
       "      <td>1.000000</td>\n",
       "      <td>3.000000</td>\n",
       "      <td>NaN</td>\n",
       "      <td>0.000000</td>\n",
       "      <td>1.000000</td>\n",
       "      <td>3.000000</td>\n",
       "      <td>2.000000</td>\n",
       "      <td>1.000000</td>\n",
       "      <td>...</td>\n",
       "      <td>6.010000</td>\n",
       "      <td>2.016063e+07</td>\n",
       "      <td>1.000000</td>\n",
       "      <td>0.000000</td>\n",
       "      <td>90.000000</td>\n",
       "      <td>0.250000</td>\n",
       "      <td>0.000000</td>\n",
       "      <td>62.000000</td>\n",
       "      <td>38.984103</td>\n",
       "      <td>-76.940814</td>\n",
       "    </tr>\n",
       "    <tr>\n",
       "      <th>50%</th>\n",
       "      <td>332777.000000</td>\n",
       "      <td>2017.000000</td>\n",
       "      <td>1.000000</td>\n",
       "      <td>15.000000</td>\n",
       "      <td>NaN</td>\n",
       "      <td>0.000000</td>\n",
       "      <td>1.000000</td>\n",
       "      <td>11.000000</td>\n",
       "      <td>2.000000</td>\n",
       "      <td>1.000000</td>\n",
       "      <td>...</td>\n",
       "      <td>6.010000</td>\n",
       "      <td>2.017120e+07</td>\n",
       "      <td>1.000000</td>\n",
       "      <td>0.000000</td>\n",
       "      <td>260.000000</td>\n",
       "      <td>1.670000</td>\n",
       "      <td>0.500000</td>\n",
       "      <td>360.000000</td>\n",
       "      <td>39.230493</td>\n",
       "      <td>-76.706645</td>\n",
       "    </tr>\n",
       "    <tr>\n",
       "      <th>75%</th>\n",
       "      <td>499165.500000</td>\n",
       "      <td>2019.000000</td>\n",
       "      <td>3.000000</td>\n",
       "      <td>18.000000</td>\n",
       "      <td>NaN</td>\n",
       "      <td>0.000000</td>\n",
       "      <td>2.000000</td>\n",
       "      <td>17.000000</td>\n",
       "      <td>2.000000</td>\n",
       "      <td>2.000000</td>\n",
       "      <td>...</td>\n",
       "      <td>6.010000</td>\n",
       "      <td>2.019052e+07</td>\n",
       "      <td>3.000000</td>\n",
       "      <td>1.000000</td>\n",
       "      <td>935.500000</td>\n",
       "      <td>6.450000</td>\n",
       "      <td>50.000000</td>\n",
       "      <td>1675.000000</td>\n",
       "      <td>39.346335</td>\n",
       "      <td>-76.575476</td>\n",
       "    </tr>\n",
       "    <tr>\n",
       "      <th>max</th>\n",
       "      <td>665554.000000</td>\n",
       "      <td>2020.000000</td>\n",
       "      <td>99.000000</td>\n",
       "      <td>24.000000</td>\n",
       "      <td>NaN</td>\n",
       "      <td>999.000000</td>\n",
       "      <td>99.000000</td>\n",
       "      <td>99.000000</td>\n",
       "      <td>99.000000</td>\n",
       "      <td>18.000000</td>\n",
       "      <td>...</td>\n",
       "      <td>99.000000</td>\n",
       "      <td>2.020123e+07</td>\n",
       "      <td>99.000000</td>\n",
       "      <td>99.000000</td>\n",
       "      <td>9914.000000</td>\n",
       "      <td>558.000000</td>\n",
       "      <td>1000.000000</td>\n",
       "      <td>9914.000000</td>\n",
       "      <td>39.994802</td>\n",
       "      <td>-75.000000</td>\n",
       "    </tr>\n",
       "  </tbody>\n",
       "</table>\n",
       "<p>8 rows × 23 columns</p>\n",
       "</div>"
      ],
      "text/plain": [
       "          Unnamed: 0           YEAR     LIGHT_CODE      COUNTY_NO  MUNI_DESC  \\\n",
       "count  665555.000000  665555.000000  665555.000000  665551.000000        0.0   \n",
       "mean   332777.000000    2017.429922       3.996784      12.802138        NaN   \n",
       "std    192129.323543       1.669810      13.710754       7.890507        NaN   \n",
       "min         0.000000    2015.000000       0.000000       1.000000        NaN   \n",
       "25%    166388.500000    2016.000000       1.000000       3.000000        NaN   \n",
       "50%    332777.000000    2017.000000       1.000000      15.000000        NaN   \n",
       "75%    499165.500000    2019.000000       3.000000      18.000000        NaN   \n",
       "max    665554.000000    2020.000000      99.000000      24.000000        NaN   \n",
       "\n",
       "           MUNI_CODE  JUNCTION_CODE  COLLISION_TYPE_CODE  SURF_COND_CODE  \\\n",
       "count  490165.000000  598197.000000        665555.000000   598197.000000   \n",
       "mean      109.223621       2.659336            21.197332        2.681054   \n",
       "std       296.811599       9.974512            29.842747        9.303266   \n",
       "min         0.000000       0.000000             0.000000        0.000000   \n",
       "25%         0.000000       1.000000             3.000000        2.000000   \n",
       "50%         0.000000       1.000000            11.000000        2.000000   \n",
       "75%         0.000000       2.000000            17.000000        2.000000   \n",
       "max       999.000000      99.000000            99.000000       99.000000   \n",
       "\n",
       "           LANE_CODE  ...   WEATHER_CODE      ACC_DATE  HARM_EVENT_CODE1  \\\n",
       "count  504731.000000  ...  665555.000000  6.655550e+05     665555.000000   \n",
       "mean        1.483862  ...       6.275458  2.017498e+07          3.931861   \n",
       "std         0.803901  ...      10.375600  1.669977e+04          8.559274   \n",
       "min         1.000000  ...       0.000000  2.015010e+07          0.000000   \n",
       "25%         1.000000  ...       6.010000  2.016063e+07          1.000000   \n",
       "50%         1.000000  ...       6.010000  2.017120e+07          1.000000   \n",
       "75%         2.000000  ...       6.010000  2.019052e+07          3.000000   \n",
       "max        18.000000  ...      99.000000  2.020123e+07         99.000000   \n",
       "\n",
       "       HARM_EVENT_CODE2         RTE_NO       LOG_MILE       DISTANCE  \\\n",
       "count     665555.000000  532863.000000  594700.000000  579661.000000   \n",
       "mean           2.135590     972.831996       4.811965      66.611606   \n",
       "std            7.605476    1631.052868       7.172188     144.807532   \n",
       "min            0.000000       0.000000       0.000000       0.000000   \n",
       "25%            0.000000      90.000000       0.250000       0.000000   \n",
       "50%            0.000000     260.000000       1.670000       0.500000   \n",
       "75%            1.000000     935.500000       6.450000      50.000000   \n",
       "max           99.000000    9914.000000     558.000000    1000.000000   \n",
       "\n",
       "        REFERENCE_NO       LATITUDE      LONGITUDE  \n",
       "count  525664.000000  665555.000000  665555.000000  \n",
       "mean     1287.337172      39.146989     -76.744990  \n",
       "std      1923.735560       0.309653       0.466552  \n",
       "min         0.000000      37.000000     -79.996100  \n",
       "25%        62.000000      38.984103     -76.940814  \n",
       "50%       360.000000      39.230493     -76.706645  \n",
       "75%      1675.000000      39.346335     -76.575476  \n",
       "max      9914.000000      39.994802     -75.000000  \n",
       "\n",
       "[8 rows x 23 columns]"
      ]
     },
     "execution_count": 7,
     "metadata": {},
     "output_type": "execute_result"
    }
   ],
   "source": [
    "maryland.describe()"
   ]
  },
  {
   "cell_type": "markdown",
   "metadata": {},
   "source": [
    "What we need to know from the Maryland data is where the accidents occurred (ideally we'd like to compare Montgomery County with Prince George's and Frederick Counties), what kind of fatalities or injuries were involved, and when did the accidents take place. We know from the description above that the earliest year was 2015 and the most recent is 2020.\n",
    "\n",
    "These are coded by numbers, so we'll have to go back to the Maryland data site and establish the key to the code. The site has a dictionary for this set, and related sets, including the persons data, which includes injury information. The next step is to download that."
   ]
  },
  {
   "cell_type": "code",
   "execution_count": 8,
   "metadata": {},
   "outputs": [
    {
     "data": {
      "text/html": [
       "<div>\n",
       "<style scoped>\n",
       "    .dataframe tbody tr th:only-of-type {\n",
       "        vertical-align: middle;\n",
       "    }\n",
       "\n",
       "    .dataframe tbody tr th {\n",
       "        vertical-align: top;\n",
       "    }\n",
       "\n",
       "    .dataframe thead th {\n",
       "        text-align: right;\n",
       "    }\n",
       "</style>\n",
       "<table border=\"1\" class=\"dataframe\">\n",
       "  <thead>\n",
       "    <tr style=\"text-align: right;\">\n",
       "      <th></th>\n",
       "      <th>SEX_DESC</th>\n",
       "      <th>SEX_CODE</th>\n",
       "      <th>CONDITION_DESC</th>\n",
       "      <th>CONDITION_CODE</th>\n",
       "      <th>INJ_SEVER_DESC</th>\n",
       "      <th>INJ_SEVER_CODE</th>\n",
       "      <th>REPORT_NO</th>\n",
       "      <th>OCC_SEAT_POS_DESC</th>\n",
       "      <th>OCC_SEAT_POS_CODE</th>\n",
       "      <th>PED_VISIBLE_DESC</th>\n",
       "      <th>...</th>\n",
       "      <th>PERSON_ID</th>\n",
       "      <th>LICENSE_STATE_CODE</th>\n",
       "      <th>CLASS</th>\n",
       "      <th>CDL_FLAG_DESC</th>\n",
       "      <th>CDL_FLAG</th>\n",
       "      <th>VEHICLE_ID</th>\n",
       "      <th>EMS_UNIT_LABEL</th>\n",
       "      <th>AIRBAG_DEPLOYED</th>\n",
       "      <th>YEAR</th>\n",
       "      <th>Quarter</th>\n",
       "    </tr>\n",
       "  </thead>\n",
       "  <tbody>\n",
       "    <tr>\n",
       "      <th>0</th>\n",
       "      <td>Female</td>\n",
       "      <td>F</td>\n",
       "      <td>Apparently Normal</td>\n",
       "      <td>1.0</td>\n",
       "      <td>No Injury</td>\n",
       "      <td>1</td>\n",
       "      <td>AE59920005</td>\n",
       "      <td>NaN</td>\n",
       "      <td>NaN</td>\n",
       "      <td>NaN</td>\n",
       "      <td>...</td>\n",
       "      <td>53cfb29a-b39b-4af2-85df-cf88d7215e79</td>\n",
       "      <td>MD</td>\n",
       "      <td>C</td>\n",
       "      <td>False</td>\n",
       "      <td>False</td>\n",
       "      <td>eacd0575-64e1-44f9-bd53-16449620c109</td>\n",
       "      <td>NaN</td>\n",
       "      <td>0.0</td>\n",
       "      <td>2017</td>\n",
       "      <td>Q2</td>\n",
       "    </tr>\n",
       "    <tr>\n",
       "      <th>1</th>\n",
       "      <td>Male</td>\n",
       "      <td>M</td>\n",
       "      <td>NaN</td>\n",
       "      <td>NaN</td>\n",
       "      <td>Non-incapacitating Injury</td>\n",
       "      <td>2</td>\n",
       "      <td>DA40650004</td>\n",
       "      <td>Right Front Seat</td>\n",
       "      <td>3.0</td>\n",
       "      <td>NaN</td>\n",
       "      <td>...</td>\n",
       "      <td>cb90b978-e091-4422-9ead-684355d3f4a8</td>\n",
       "      <td>NaN</td>\n",
       "      <td>NaN</td>\n",
       "      <td>NaN</td>\n",
       "      <td>NaN</td>\n",
       "      <td>ac456b44-041f-4a85-bedd-1a75fd5ff81a</td>\n",
       "      <td>A</td>\n",
       "      <td>1.0</td>\n",
       "      <td>2017</td>\n",
       "      <td>Q2</td>\n",
       "    </tr>\n",
       "    <tr>\n",
       "      <th>2</th>\n",
       "      <td>Female</td>\n",
       "      <td>F</td>\n",
       "      <td>NaN</td>\n",
       "      <td>NaN</td>\n",
       "      <td>Possible Incapacitating Injury</td>\n",
       "      <td>3</td>\n",
       "      <td>ZU7729000P</td>\n",
       "      <td>Center Rear Seat</td>\n",
       "      <td>5.0</td>\n",
       "      <td>NaN</td>\n",
       "      <td>...</td>\n",
       "      <td>c56e2fdd-fa91-4d49-bae9-aa1e9b51efbd</td>\n",
       "      <td>NaN</td>\n",
       "      <td>NaN</td>\n",
       "      <td>NaN</td>\n",
       "      <td>NaN</td>\n",
       "      <td>1b1906ca-09cb-4018-9273-9f215cb5d5d3</td>\n",
       "      <td>A</td>\n",
       "      <td>1.0</td>\n",
       "      <td>2016</td>\n",
       "      <td>Q2</td>\n",
       "    </tr>\n",
       "    <tr>\n",
       "      <th>3</th>\n",
       "      <td>Male</td>\n",
       "      <td>M</td>\n",
       "      <td>NaN</td>\n",
       "      <td>NaN</td>\n",
       "      <td>No Injury</td>\n",
       "      <td>1</td>\n",
       "      <td>CT8278002X</td>\n",
       "      <td>Right Rear Seat</td>\n",
       "      <td>6.0</td>\n",
       "      <td>NaN</td>\n",
       "      <td>...</td>\n",
       "      <td>aa15e7f7-e40e-4fdb-aedb-a966c71c7bc8</td>\n",
       "      <td>NaN</td>\n",
       "      <td>NaN</td>\n",
       "      <td>NaN</td>\n",
       "      <td>NaN</td>\n",
       "      <td>1cd6afef-9669-41a2-acd2-dee9af76f2c4</td>\n",
       "      <td>NaN</td>\n",
       "      <td>1.0</td>\n",
       "      <td>2018</td>\n",
       "      <td>Q3</td>\n",
       "    </tr>\n",
       "    <tr>\n",
       "      <th>4</th>\n",
       "      <td>Female</td>\n",
       "      <td>F</td>\n",
       "      <td>Apparently Normal</td>\n",
       "      <td>1.0</td>\n",
       "      <td>No Injury</td>\n",
       "      <td>1</td>\n",
       "      <td>DA3660000B</td>\n",
       "      <td>NaN</td>\n",
       "      <td>NaN</td>\n",
       "      <td>NaN</td>\n",
       "      <td>...</td>\n",
       "      <td>80375a09-f4bb-4d11-88c6-c399bafcc693</td>\n",
       "      <td>DC</td>\n",
       "      <td>NaN</td>\n",
       "      <td>False</td>\n",
       "      <td>False</td>\n",
       "      <td>b5e6a3b9-7e40-4d2d-98e9-ed32dee9a90c</td>\n",
       "      <td>NaN</td>\n",
       "      <td>NaN</td>\n",
       "      <td>2015</td>\n",
       "      <td>Q2</td>\n",
       "    </tr>\n",
       "  </tbody>\n",
       "</table>\n",
       "<p>5 rows × 48 columns</p>\n",
       "</div>"
      ],
      "text/plain": [
       "  SEX_DESC SEX_CODE     CONDITION_DESC  CONDITION_CODE  \\\n",
       "0   Female        F  Apparently Normal             1.0   \n",
       "1     Male        M                NaN             NaN   \n",
       "2   Female        F                NaN             NaN   \n",
       "3     Male        M                NaN             NaN   \n",
       "4   Female        F  Apparently Normal             1.0   \n",
       "\n",
       "                   INJ_SEVER_DESC  INJ_SEVER_CODE   REPORT_NO  \\\n",
       "0                       No Injury               1  AE59920005   \n",
       "1       Non-incapacitating Injury               2  DA40650004   \n",
       "2  Possible Incapacitating Injury               3  ZU7729000P   \n",
       "3                       No Injury               1  CT8278002X   \n",
       "4                       No Injury               1  DA3660000B   \n",
       "\n",
       "  OCC_SEAT_POS_DESC  OCC_SEAT_POS_CODE PED_VISIBLE_DESC  ...  \\\n",
       "0               NaN                NaN              NaN  ...   \n",
       "1  Right Front Seat                3.0              NaN  ...   \n",
       "2  Center Rear Seat                5.0              NaN  ...   \n",
       "3   Right Rear Seat                6.0              NaN  ...   \n",
       "4               NaN                NaN              NaN  ...   \n",
       "\n",
       "                              PERSON_ID LICENSE_STATE_CODE  CLASS  \\\n",
       "0  53cfb29a-b39b-4af2-85df-cf88d7215e79                 MD      C   \n",
       "1  cb90b978-e091-4422-9ead-684355d3f4a8                NaN    NaN   \n",
       "2  c56e2fdd-fa91-4d49-bae9-aa1e9b51efbd                NaN    NaN   \n",
       "3  aa15e7f7-e40e-4fdb-aedb-a966c71c7bc8                NaN    NaN   \n",
       "4  80375a09-f4bb-4d11-88c6-c399bafcc693                 DC    NaN   \n",
       "\n",
       "  CDL_FLAG_DESC  CDL_FLAG                            VEHICLE_ID  \\\n",
       "0         False     False  eacd0575-64e1-44f9-bd53-16449620c109   \n",
       "1           NaN       NaN  ac456b44-041f-4a85-bedd-1a75fd5ff81a   \n",
       "2           NaN       NaN  1b1906ca-09cb-4018-9273-9f215cb5d5d3   \n",
       "3           NaN       NaN  1cd6afef-9669-41a2-acd2-dee9af76f2c4   \n",
       "4         False     False  b5e6a3b9-7e40-4d2d-98e9-ed32dee9a90c   \n",
       "\n",
       "  EMS_UNIT_LABEL  AIRBAG_DEPLOYED  YEAR Quarter  \n",
       "0            NaN              0.0  2017      Q2  \n",
       "1              A              1.0  2017      Q2  \n",
       "2              A              1.0  2016      Q2  \n",
       "3            NaN              1.0  2018      Q3  \n",
       "4            NaN              NaN  2015      Q2  \n",
       "\n",
       "[5 rows x 48 columns]"
      ]
     },
     "execution_count": 8,
     "metadata": {},
     "output_type": "execute_result"
    }
   ],
   "source": [
    "marylanddrivers = pd.read_csv(\"https://opendata.maryland.gov/api/views/py4c-dicf/rows.csv?accessType=DOWNLOAD\", low_memory = False)\n",
    "marylanddrivers.head()"
   ]
  },
  {
   "cell_type": "code",
   "execution_count": 9,
   "metadata": {},
   "outputs": [
    {
     "data": {
      "text/plain": [
       "Index(['SEX_DESC', 'SEX_CODE', 'CONDITION_DESC', 'CONDITION_CODE',\n",
       "       'INJ_SEVER_DESC', 'INJ_SEVER_CODE', 'REPORT_NO', 'OCC_SEAT_POS_DESC',\n",
       "       'OCC_SEAT_POS_CODE', 'PED_VISIBLE_DESC', 'PED_VISIBLE_CODE',\n",
       "       'PED_OBEY_DESC', 'PED_OBEY_CODE', 'PED_TYPE_DESC', 'PED_TYPE_CODE',\n",
       "       'PED_LOCATION_CODE', 'MOVEMENT_DESC', 'MOVEMENT_CODE',\n",
       "       'PERSON_TYPE_DESC', 'PERSON_TYPE', 'ALCOHOL_TEST_DESC',\n",
       "       'ALCOHOL_TEST_CODE', 'ALCOHOL_TESTTYPE_DESC', 'ALCOHOL_TESTTYPE_CODE',\n",
       "       'DRUG_TEST_DESC', 'DRUG_TEST_CODE', 'DRUG_TESTRESULT_DESC',\n",
       "       'DRUG_TESTRESULT_CODE', 'BAC_CODE', 'FAULT_FLAG_DESC', 'FAULT_FLAG',\n",
       "       'EQUIP_PROB_DESC', 'EQUIP_PROB_CODE', 'SAF_EQUIP_DESC',\n",
       "       'SAF_EQUIP_CODE', 'EJECT_DESC', 'EJECT_CODE', 'DATE_OF_BIRTH',\n",
       "       'PERSON_ID', 'LICENSE_STATE_CODE', 'CLASS', 'CDL_FLAG_DESC', 'CDL_FLAG',\n",
       "       'VEHICLE_ID', 'EMS_UNIT_LABEL', 'AIRBAG_DEPLOYED', 'YEAR', 'Quarter'],\n",
       "      dtype='object')"
      ]
     },
     "execution_count": 9,
     "metadata": {},
     "output_type": "execute_result"
    }
   ],
   "source": [
    "marylanddrivers.columns"
   ]
  },
  {
   "cell_type": "markdown",
   "metadata": {},
   "source": [
    "This dataset includes information on each passenger in the vehicle. Since I'm interested in the numbers of injuries and fatalities (not the number of fatal crashes), I can view this that way. To determine the county, though, I will have to combine this with the accidents one."
   ]
  },
  {
   "cell_type": "code",
   "execution_count": 10,
   "metadata": {},
   "outputs": [
    {
     "name": "stderr",
     "output_type": "stream",
     "text": [
      "/Users/maryglantz/opt/anaconda3/envs/py37/lib/python3.7/site-packages/IPython/core/interactiveshell.py:3166: DtypeWarning: Columns (36,48,94) have mixed types.Specify dtype option on import or set low_memory=False.\n",
      "  interactivity=interactivity, compiler=compiler, result=result)\n"
     ]
    },
    {
     "data": {
      "text/html": [
       "<div>\n",
       "<style scoped>\n",
       "    .dataframe tbody tr th:only-of-type {\n",
       "        vertical-align: middle;\n",
       "    }\n",
       "\n",
       "    .dataframe tbody tr th {\n",
       "        vertical-align: top;\n",
       "    }\n",
       "\n",
       "    .dataframe thead th {\n",
       "        text-align: right;\n",
       "    }\n",
       "</style>\n",
       "<table border=\"1\" class=\"dataframe\">\n",
       "  <thead>\n",
       "    <tr style=\"text-align: right;\">\n",
       "      <th></th>\n",
       "      <th>Unnamed: 0</th>\n",
       "      <th>Unnamed: 0.1</th>\n",
       "      <th>YEAR_x</th>\n",
       "      <th>QUARTER</th>\n",
       "      <th>LIGHT_DESC</th>\n",
       "      <th>LIGHT_CODE</th>\n",
       "      <th>COUNTY_DESC</th>\n",
       "      <th>COUNTY_NO</th>\n",
       "      <th>MUNI_DESC</th>\n",
       "      <th>MUNI_CODE</th>\n",
       "      <th>...</th>\n",
       "      <th>PERSON_ID</th>\n",
       "      <th>LICENSE_STATE_CODE</th>\n",
       "      <th>CLASS</th>\n",
       "      <th>CDL_FLAG_DESC</th>\n",
       "      <th>CDL_FLAG</th>\n",
       "      <th>VEHICLE_ID</th>\n",
       "      <th>EMS_UNIT_LABEL</th>\n",
       "      <th>AIRBAG_DEPLOYED</th>\n",
       "      <th>YEAR_y</th>\n",
       "      <th>Quarter</th>\n",
       "    </tr>\n",
       "  </thead>\n",
       "  <tbody>\n",
       "    <tr>\n",
       "      <th>0</th>\n",
       "      <td>0</td>\n",
       "      <td>0</td>\n",
       "      <td>2020</td>\n",
       "      <td>Q2</td>\n",
       "      <td>Daylight</td>\n",
       "      <td>1.00</td>\n",
       "      <td>Baltimore</td>\n",
       "      <td>3.0</td>\n",
       "      <td>NaN</td>\n",
       "      <td>NaN</td>\n",
       "      <td>...</td>\n",
       "      <td>53715bb2-0082-4089-9a9e-62eabfd94dc8</td>\n",
       "      <td>NaN</td>\n",
       "      <td>NaN</td>\n",
       "      <td>False</td>\n",
       "      <td>False</td>\n",
       "      <td>3c9e8766-8b2a-4774-b85c-c645f2eabba0</td>\n",
       "      <td>NaN</td>\n",
       "      <td>0.0</td>\n",
       "      <td>2020</td>\n",
       "      <td>Q2</td>\n",
       "    </tr>\n",
       "    <tr>\n",
       "      <th>1</th>\n",
       "      <td>1</td>\n",
       "      <td>1</td>\n",
       "      <td>2020</td>\n",
       "      <td>Q2</td>\n",
       "      <td>NaN</td>\n",
       "      <td>6.02</td>\n",
       "      <td>Baltimore City</td>\n",
       "      <td>24.0</td>\n",
       "      <td>NaN</td>\n",
       "      <td>NaN</td>\n",
       "      <td>...</td>\n",
       "      <td>2a107168-e876-4624-be53-b123f41cf3ae</td>\n",
       "      <td>MD</td>\n",
       "      <td>NaN</td>\n",
       "      <td>False</td>\n",
       "      <td>False</td>\n",
       "      <td>6e506abc-74ce-46a2-b48c-2e09cdb1c20f</td>\n",
       "      <td>B</td>\n",
       "      <td>1.0</td>\n",
       "      <td>2020</td>\n",
       "      <td>Q2</td>\n",
       "    </tr>\n",
       "    <tr>\n",
       "      <th>2</th>\n",
       "      <td>2</td>\n",
       "      <td>1</td>\n",
       "      <td>2020</td>\n",
       "      <td>Q2</td>\n",
       "      <td>NaN</td>\n",
       "      <td>6.02</td>\n",
       "      <td>Baltimore City</td>\n",
       "      <td>24.0</td>\n",
       "      <td>NaN</td>\n",
       "      <td>NaN</td>\n",
       "      <td>...</td>\n",
       "      <td>9fe87418-8ebe-4ebd-9bd0-b6b16c2555c4</td>\n",
       "      <td>NaN</td>\n",
       "      <td>NaN</td>\n",
       "      <td>False</td>\n",
       "      <td>False</td>\n",
       "      <td>dd5c5d0a-2a52-4473-a33e-a7441e238b37</td>\n",
       "      <td>NaN</td>\n",
       "      <td>1.0</td>\n",
       "      <td>2020</td>\n",
       "      <td>Q2</td>\n",
       "    </tr>\n",
       "    <tr>\n",
       "      <th>3</th>\n",
       "      <td>3</td>\n",
       "      <td>1</td>\n",
       "      <td>2020</td>\n",
       "      <td>Q2</td>\n",
       "      <td>NaN</td>\n",
       "      <td>6.02</td>\n",
       "      <td>Baltimore City</td>\n",
       "      <td>24.0</td>\n",
       "      <td>NaN</td>\n",
       "      <td>NaN</td>\n",
       "      <td>...</td>\n",
       "      <td>7c40af46-a448-4759-9c87-c029dc6f9ab4</td>\n",
       "      <td>MD</td>\n",
       "      <td>NaN</td>\n",
       "      <td>False</td>\n",
       "      <td>False</td>\n",
       "      <td>d8ade674-0336-4221-a2b0-f998ae7d4f36</td>\n",
       "      <td>NaN</td>\n",
       "      <td>1.0</td>\n",
       "      <td>2020</td>\n",
       "      <td>Q2</td>\n",
       "    </tr>\n",
       "    <tr>\n",
       "      <th>4</th>\n",
       "      <td>4</td>\n",
       "      <td>1</td>\n",
       "      <td>2020</td>\n",
       "      <td>Q2</td>\n",
       "      <td>NaN</td>\n",
       "      <td>6.02</td>\n",
       "      <td>Baltimore City</td>\n",
       "      <td>24.0</td>\n",
       "      <td>NaN</td>\n",
       "      <td>NaN</td>\n",
       "      <td>...</td>\n",
       "      <td>a488a97c-3b5c-426d-a282-00ac93517677</td>\n",
       "      <td>MD</td>\n",
       "      <td>NaN</td>\n",
       "      <td>False</td>\n",
       "      <td>False</td>\n",
       "      <td>2212f949-edeb-4183-9b28-681904096b0e</td>\n",
       "      <td>A</td>\n",
       "      <td>2.0</td>\n",
       "      <td>2020</td>\n",
       "      <td>Q2</td>\n",
       "    </tr>\n",
       "  </tbody>\n",
       "</table>\n",
       "<p>5 rows × 105 columns</p>\n",
       "</div>"
      ],
      "text/plain": [
       "   Unnamed: 0  Unnamed: 0.1  YEAR_x QUARTER LIGHT_DESC  LIGHT_CODE  \\\n",
       "0           0             0    2020      Q2   Daylight        1.00   \n",
       "1           1             1    2020      Q2        NaN        6.02   \n",
       "2           2             1    2020      Q2        NaN        6.02   \n",
       "3           3             1    2020      Q2        NaN        6.02   \n",
       "4           4             1    2020      Q2        NaN        6.02   \n",
       "\n",
       "      COUNTY_DESC  COUNTY_NO  MUNI_DESC  MUNI_CODE  ...  \\\n",
       "0       Baltimore        3.0        NaN        NaN  ...   \n",
       "1  Baltimore City       24.0        NaN        NaN  ...   \n",
       "2  Baltimore City       24.0        NaN        NaN  ...   \n",
       "3  Baltimore City       24.0        NaN        NaN  ...   \n",
       "4  Baltimore City       24.0        NaN        NaN  ...   \n",
       "\n",
       "                              PERSON_ID  LICENSE_STATE_CODE CLASS  \\\n",
       "0  53715bb2-0082-4089-9a9e-62eabfd94dc8                 NaN   NaN   \n",
       "1  2a107168-e876-4624-be53-b123f41cf3ae                  MD   NaN   \n",
       "2  9fe87418-8ebe-4ebd-9bd0-b6b16c2555c4                 NaN   NaN   \n",
       "3  7c40af46-a448-4759-9c87-c029dc6f9ab4                  MD   NaN   \n",
       "4  a488a97c-3b5c-426d-a282-00ac93517677                  MD   NaN   \n",
       "\n",
       "   CDL_FLAG_DESC CDL_FLAG                            VEHICLE_ID  \\\n",
       "0          False    False  3c9e8766-8b2a-4774-b85c-c645f2eabba0   \n",
       "1          False    False  6e506abc-74ce-46a2-b48c-2e09cdb1c20f   \n",
       "2          False    False  dd5c5d0a-2a52-4473-a33e-a7441e238b37   \n",
       "3          False    False  d8ade674-0336-4221-a2b0-f998ae7d4f36   \n",
       "4          False    False  2212f949-edeb-4183-9b28-681904096b0e   \n",
       "\n",
       "  EMS_UNIT_LABEL  AIRBAG_DEPLOYED YEAR_y  Quarter  \n",
       "0            NaN              0.0   2020       Q2  \n",
       "1              B              1.0   2020       Q2  \n",
       "2            NaN              1.0   2020       Q2  \n",
       "3            NaN              1.0   2020       Q2  \n",
       "4              A              2.0   2020       Q2  \n",
       "\n",
       "[5 rows x 105 columns]"
      ]
     },
     "execution_count": 10,
     "metadata": {},
     "output_type": "execute_result"
    }
   ],
   "source": [
    "#This command takes a long time to run, so once I save it as a csv, I'm just going to load the csv file\n",
    "#marylandCrashes = maryland.merge(marylanddrivers, on = 'REPORT_NO', how = 'inner')\n",
    "marylandCrashes = pd.read_csv(\"marylandCrashes.csv\")\n",
    "marylandCrashes.head()"
   ]
  },
  {
   "cell_type": "code",
   "execution_count": 11,
   "metadata": {},
   "outputs": [],
   "source": [
    "# I can comment this line out now as I've saved it already and am now using it to load the data above\n",
    "#marylandCrashes.to_csv(\"marylandCrashes.csv\")"
   ]
  },
  {
   "cell_type": "code",
   "execution_count": 12,
   "metadata": {},
   "outputs": [
    {
     "data": {
      "text/plain": [
       "array(['No Injury', 'Possible Incapacitating Injury',\n",
       "       'Non-incapacitating Injury', 'Incapacitating/Disabled Injury',\n",
       "       'Fatal Injury'], dtype=object)"
      ]
     },
     "execution_count": 12,
     "metadata": {},
     "output_type": "execute_result"
    }
   ],
   "source": [
    "marylandCrashes['INJ_SEVER_DESC'].unique()"
   ]
  },
  {
   "cell_type": "code",
   "execution_count": 13,
   "metadata": {},
   "outputs": [
    {
     "data": {
      "text/plain": [
       "<AxesSubplot:xlabel='YEAR_y,INJ_SEVER_DESC'>"
      ]
     },
     "execution_count": 13,
     "metadata": {},
     "output_type": "execute_result"
    },
    {
     "data": {
      "image/png": "[encoded data removed]",
      "text/plain": [
       "<Figure size 432x288 with 1 Axes>"
      ]
     },
     "metadata": {
      "needs_background": "light"
     },
     "output_type": "display_data"
    }
   ],
   "source": [
    "marylandCrashes.groupby([\"YEAR_y\", \"INJ_SEVER_DESC\" ]).size().plot(kind = 'bar')"
   ]
  },
  {
   "cell_type": "markdown",
   "metadata": {},
   "source": [
    "Montgomery County had an increase of 54% in fatal crashes between 2017 and 2020, I would like to see how that compares to Maryland as a whole."
   ]
  },
  {
   "cell_type": "code",
   "execution_count": 14,
   "metadata": {},
   "outputs": [
    {
     "data": {
      "text/plain": [
       "1246       Fatal Injury\n",
       "1276       Fatal Injury\n",
       "1483       Fatal Injury\n",
       "1617       Fatal Injury\n",
       "1944       Fatal Injury\n",
       "               ...     \n",
       "1492709    Fatal Injury\n",
       "1492970    Fatal Injury\n",
       "1493442    Fatal Injury\n",
       "1494941    Fatal Injury\n",
       "1496073    Fatal Injury\n",
       "Name: INJ_SEVER_DESC, Length: 2887, dtype: object"
      ]
     },
     "execution_count": 14,
     "metadata": {},
     "output_type": "execute_result"
    }
   ],
   "source": [
    "isFatal = marylanddrivers[\"INJ_SEVER_DESC\"] == 'Fatal Injury'\n",
    "fatalCrashes = marylanddrivers[isFatal]\n",
    "fatalCrashes['INJ_SEVER_DESC']"
   ]
  },
  {
   "cell_type": "code",
   "execution_count": 64,
   "metadata": {},
   "outputs": [
    {
     "data": {
      "text/plain": [
       "Text(0, 0.5, 'Number of Crashes')"
      ]
     },
     "execution_count": 64,
     "metadata": {},
     "output_type": "execute_result"
    },
    {
     "data": {
      "image/png": "[encoded data removed]",
      "text/plain": [
       "<Figure size 864x576 with 1 Axes>"
      ]
     },
     "metadata": {
      "needs_background": "light"
     },
     "output_type": "display_data"
    }
   ],
   "source": [
    "fatalCrashes.groupby('YEAR').size().plot(kind = 'bar', color = 'g')\n",
    "plt.title(\"Fatal Crashes in Maryland by Year\")\n",
    "plt.xlabel(\"Year\\n\\nSource: https://data.montgomerycountymd.gov/Public-Safety/Crash-Reporting-Incidents-Data/bhju-22kf\")\n",
    "\n",
    "\n",
    "plt.ylabel(\"Number of Crashes\")\n",
    "\n"
   ]
  },
  {
   "cell_type": "code",
   "execution_count": 16,
   "metadata": {},
   "outputs": [
    {
     "data": {
      "text/plain": [
       "YEAR\n",
       "2015    518\n",
       "2016    459\n",
       "2017    498\n",
       "2018    452\n",
       "2019    476\n",
       "2020    484\n",
       "dtype: int64"
      ]
     },
     "execution_count": 16,
     "metadata": {},
     "output_type": "execute_result"
    }
   ],
   "source": [
    "fatalCrashes.groupby(['YEAR']).size()"
   ]
  },
  {
   "cell_type": "markdown",
   "metadata": {},
   "source": [
    "Fatal crashes in Maryland as a whole decreased from 498 in 2017 to 484 in 2020, a **decrease** of almost 3%.  So Montgomery County's increase does not match the pattern state-wide.  \n",
    "\n",
    "The next logical step is to examine the rate of change (if any) in counties similar to Montgomery County:  Prince George's County and Frederick County.\n",
    "\n",
    "Prince George's County's code is 16, Frederick's is 10, and Montgomery's is 15 (so we can compare like to like and see how Montgomery County's data according to the state compares with the other two counties according to the state).\n",
    "\n",
    "Note:  the drivers' data does not contain county identifiers, and the crash data does not contain injury identifiers, so we need to use the merged dataset for this.  We will need the report_no, the year, the injury severity code, the county number and county names (for ease of viewing)"
   ]
  },
  {
   "cell_type": "code",
   "execution_count": 17,
   "metadata": {},
   "outputs": [],
   "source": [
    "# Separate data by county\n",
    "counties = [10, 16, 15]\n",
    "selectedCounties = marylandCrashes[marylandCrashes.COUNTY_NO.isin(counties)] "
   ]
  },
  {
   "cell_type": "code",
   "execution_count": 18,
   "metadata": {},
   "outputs": [
    {
     "data": {
      "text/html": [
       "<div>\n",
       "<style scoped>\n",
       "    .dataframe tbody tr th:only-of-type {\n",
       "        vertical-align: middle;\n",
       "    }\n",
       "\n",
       "    .dataframe tbody tr th {\n",
       "        vertical-align: top;\n",
       "    }\n",
       "\n",
       "    .dataframe thead th {\n",
       "        text-align: right;\n",
       "    }\n",
       "</style>\n",
       "<table border=\"1\" class=\"dataframe\">\n",
       "  <thead>\n",
       "    <tr style=\"text-align: right;\">\n",
       "      <th></th>\n",
       "      <th>Unnamed: 0</th>\n",
       "      <th>Unnamed: 0.1</th>\n",
       "      <th>YEAR_x</th>\n",
       "      <th>QUARTER</th>\n",
       "      <th>LIGHT_DESC</th>\n",
       "      <th>LIGHT_CODE</th>\n",
       "      <th>COUNTY_DESC</th>\n",
       "      <th>COUNTY_NO</th>\n",
       "      <th>MUNI_DESC</th>\n",
       "      <th>MUNI_CODE</th>\n",
       "      <th>...</th>\n",
       "      <th>PERSON_ID</th>\n",
       "      <th>LICENSE_STATE_CODE</th>\n",
       "      <th>CLASS</th>\n",
       "      <th>CDL_FLAG_DESC</th>\n",
       "      <th>CDL_FLAG</th>\n",
       "      <th>VEHICLE_ID</th>\n",
       "      <th>EMS_UNIT_LABEL</th>\n",
       "      <th>AIRBAG_DEPLOYED</th>\n",
       "      <th>YEAR_y</th>\n",
       "      <th>Quarter</th>\n",
       "    </tr>\n",
       "  </thead>\n",
       "  <tbody>\n",
       "    <tr>\n",
       "      <th>7</th>\n",
       "      <td>7</td>\n",
       "      <td>2</td>\n",
       "      <td>2020</td>\n",
       "      <td>Q2</td>\n",
       "      <td>Daylight</td>\n",
       "      <td>1.0</td>\n",
       "      <td>Montgomery</td>\n",
       "      <td>15.0</td>\n",
       "      <td>NaN</td>\n",
       "      <td>NaN</td>\n",
       "      <td>...</td>\n",
       "      <td>8ed26f24-7000-479b-9c46-1c121a413d7d</td>\n",
       "      <td>MD</td>\n",
       "      <td>C</td>\n",
       "      <td>NaN</td>\n",
       "      <td>NaN</td>\n",
       "      <td>NaN</td>\n",
       "      <td>NaN</td>\n",
       "      <td>NaN</td>\n",
       "      <td>2020</td>\n",
       "      <td>Q2</td>\n",
       "    </tr>\n",
       "    <tr>\n",
       "      <th>8</th>\n",
       "      <td>8</td>\n",
       "      <td>2</td>\n",
       "      <td>2020</td>\n",
       "      <td>Q2</td>\n",
       "      <td>Daylight</td>\n",
       "      <td>1.0</td>\n",
       "      <td>Montgomery</td>\n",
       "      <td>15.0</td>\n",
       "      <td>NaN</td>\n",
       "      <td>NaN</td>\n",
       "      <td>...</td>\n",
       "      <td>8481d29e-6cb7-4273-8b8c-3be0fd568757</td>\n",
       "      <td>MD</td>\n",
       "      <td>CM</td>\n",
       "      <td>False</td>\n",
       "      <td>False</td>\n",
       "      <td>dfd0574d-34a2-4dc5-aba6-18927b5a164d</td>\n",
       "      <td>NaN</td>\n",
       "      <td>1.0</td>\n",
       "      <td>2020</td>\n",
       "      <td>Q2</td>\n",
       "    </tr>\n",
       "    <tr>\n",
       "      <th>14</th>\n",
       "      <td>14</td>\n",
       "      <td>6</td>\n",
       "      <td>2020</td>\n",
       "      <td>Q2</td>\n",
       "      <td>Daylight</td>\n",
       "      <td>1.0</td>\n",
       "      <td>Frederick</td>\n",
       "      <td>10.0</td>\n",
       "      <td>NaN</td>\n",
       "      <td>NaN</td>\n",
       "      <td>...</td>\n",
       "      <td>13347ccd-dd05-428c-bcbb-24c450d260d6</td>\n",
       "      <td>NaN</td>\n",
       "      <td>NaN</td>\n",
       "      <td>False</td>\n",
       "      <td>False</td>\n",
       "      <td>8c9cc226-fa9e-46d3-a761-fd94ae048714</td>\n",
       "      <td>NaN</td>\n",
       "      <td>0.0</td>\n",
       "      <td>2020</td>\n",
       "      <td>Q2</td>\n",
       "    </tr>\n",
       "    <tr>\n",
       "      <th>15</th>\n",
       "      <td>15</td>\n",
       "      <td>7</td>\n",
       "      <td>2020</td>\n",
       "      <td>Q2</td>\n",
       "      <td>Daylight</td>\n",
       "      <td>1.0</td>\n",
       "      <td>Montgomery</td>\n",
       "      <td>15.0</td>\n",
       "      <td>NaN</td>\n",
       "      <td>NaN</td>\n",
       "      <td>...</td>\n",
       "      <td>dea573d1-c6f7-4ef3-a6a7-cf2ba4670853</td>\n",
       "      <td>MD</td>\n",
       "      <td>CDL</td>\n",
       "      <td>False</td>\n",
       "      <td>False</td>\n",
       "      <td>7ebc5c51-0470-4e52-9d5a-a0115f6280d2</td>\n",
       "      <td>NaN</td>\n",
       "      <td>1.0</td>\n",
       "      <td>2020</td>\n",
       "      <td>Q2</td>\n",
       "    </tr>\n",
       "    <tr>\n",
       "      <th>23</th>\n",
       "      <td>23</td>\n",
       "      <td>12</td>\n",
       "      <td>2017</td>\n",
       "      <td>Q4</td>\n",
       "      <td>Dark Lights On</td>\n",
       "      <td>3.0</td>\n",
       "      <td>Prince George's</td>\n",
       "      <td>16.0</td>\n",
       "      <td>NaN</td>\n",
       "      <td>NaN</td>\n",
       "      <td>...</td>\n",
       "      <td>8ca6fb04-6ee9-4f2d-abb8-7d7138e6efb5</td>\n",
       "      <td>MD</td>\n",
       "      <td>C</td>\n",
       "      <td>NaN</td>\n",
       "      <td>NaN</td>\n",
       "      <td>NaN</td>\n",
       "      <td>A</td>\n",
       "      <td>NaN</td>\n",
       "      <td>2017</td>\n",
       "      <td>Q4</td>\n",
       "    </tr>\n",
       "  </tbody>\n",
       "</table>\n",
       "<p>5 rows × 105 columns</p>\n",
       "</div>"
      ],
      "text/plain": [
       "    Unnamed: 0  Unnamed: 0.1  YEAR_x QUARTER      LIGHT_DESC  LIGHT_CODE  \\\n",
       "7            7             2    2020      Q2        Daylight         1.0   \n",
       "8            8             2    2020      Q2        Daylight         1.0   \n",
       "14          14             6    2020      Q2        Daylight         1.0   \n",
       "15          15             7    2020      Q2        Daylight         1.0   \n",
       "23          23            12    2017      Q4  Dark Lights On         3.0   \n",
       "\n",
       "        COUNTY_DESC  COUNTY_NO  MUNI_DESC  MUNI_CODE  ...  \\\n",
       "7        Montgomery       15.0        NaN        NaN  ...   \n",
       "8        Montgomery       15.0        NaN        NaN  ...   \n",
       "14        Frederick       10.0        NaN        NaN  ...   \n",
       "15       Montgomery       15.0        NaN        NaN  ...   \n",
       "23  Prince George's       16.0        NaN        NaN  ...   \n",
       "\n",
       "                               PERSON_ID  LICENSE_STATE_CODE CLASS  \\\n",
       "7   8ed26f24-7000-479b-9c46-1c121a413d7d                  MD     C   \n",
       "8   8481d29e-6cb7-4273-8b8c-3be0fd568757                  MD    CM   \n",
       "14  13347ccd-dd05-428c-bcbb-24c450d260d6                 NaN   NaN   \n",
       "15  dea573d1-c6f7-4ef3-a6a7-cf2ba4670853                  MD   CDL   \n",
       "23  8ca6fb04-6ee9-4f2d-abb8-7d7138e6efb5                  MD     C   \n",
       "\n",
       "    CDL_FLAG_DESC CDL_FLAG                            VEHICLE_ID  \\\n",
       "7             NaN      NaN                                   NaN   \n",
       "8           False    False  dfd0574d-34a2-4dc5-aba6-18927b5a164d   \n",
       "14          False    False  8c9cc226-fa9e-46d3-a761-fd94ae048714   \n",
       "15          False    False  7ebc5c51-0470-4e52-9d5a-a0115f6280d2   \n",
       "23            NaN      NaN                                   NaN   \n",
       "\n",
       "   EMS_UNIT_LABEL  AIRBAG_DEPLOYED YEAR_y  Quarter  \n",
       "7             NaN              NaN   2020       Q2  \n",
       "8             NaN              1.0   2020       Q2  \n",
       "14            NaN              0.0   2020       Q2  \n",
       "15            NaN              1.0   2020       Q2  \n",
       "23              A              NaN   2017       Q4  \n",
       "\n",
       "[5 rows x 105 columns]"
      ]
     },
     "execution_count": 18,
     "metadata": {},
     "output_type": "execute_result"
    }
   ],
   "source": [
    "selectedCounties.head()"
   ]
  },
  {
   "cell_type": "code",
   "execution_count": 19,
   "metadata": {},
   "outputs": [
    {
     "data": {
      "text/plain": [
       "2768       Fatal Injury\n",
       "3755       Fatal Injury\n",
       "4592       Fatal Injury\n",
       "6015       Fatal Injury\n",
       "6378       Fatal Injury\n",
       "               ...     \n",
       "1488306    Fatal Injury\n",
       "1489053    Fatal Injury\n",
       "1489269    Fatal Injury\n",
       "1489923    Fatal Injury\n",
       "1491702    Fatal Injury\n",
       "Name: INJ_SEVER_DESC, Length: 886, dtype: object"
      ]
     },
     "execution_count": 19,
     "metadata": {},
     "output_type": "execute_result"
    }
   ],
   "source": [
    "# Select only the fatal crashes from these counties\n",
    "isFatal2 = selectedCounties[\"INJ_SEVER_DESC\"] == 'Fatal Injury'\n",
    "fatalCrashes2 = selectedCounties[isFatal2]\n",
    "fatalCrashes2['INJ_SEVER_DESC']"
   ]
  },
  {
   "cell_type": "code",
   "execution_count": 20,
   "metadata": {},
   "outputs": [
    {
     "data": {
      "text/plain": [
       "YEAR_x  COUNTY_DESC    \n",
       "2015    Frederick           22\n",
       "        Montgomery          46\n",
       "        Prince George's     93\n",
       "2016    Frederick           14\n",
       "        Montgomery          39\n",
       "        Prince George's     70\n",
       "2017    Frederick           26\n",
       "        Montgomery          33\n",
       "        Prince George's     80\n",
       "2018    Frederick           17\n",
       "        Montgomery          31\n",
       "        Prince George's     91\n",
       "2019    Frederick           24\n",
       "        Montgomery          36\n",
       "        Prince George's    107\n",
       "2020    Frederick           21\n",
       "        Montgomery          38\n",
       "        Prince George's     98\n",
       "dtype: int64"
      ]
     },
     "execution_count": 20,
     "metadata": {},
     "output_type": "execute_result"
    }
   ],
   "source": [
    "fatalCrashes2.groupby(['YEAR_x', 'COUNTY_DESC']).size()"
   ]
  },
  {
   "cell_type": "code",
   "execution_count": 21,
   "metadata": {},
   "outputs": [
    {
     "data": {
      "text/plain": [
       "<AxesSubplot:xlabel='YEAR_x,COUNTY_DESC'>"
      ]
     },
     "execution_count": 21,
     "metadata": {},
     "output_type": "execute_result"
    },
    {
     "data": {
      "image/png": "[encoded data removed]",
      "text/plain": [
       "<Figure size 432x288 with 1 Axes>"
      ]
     },
     "metadata": {
      "needs_background": "light"
     },
     "output_type": "display_data"
    }
   ],
   "source": [
    "fatalCrashes2.groupby(['YEAR_x', 'COUNTY_DESC']).size().plot(kind='bar')\n"
   ]
  },
  {
   "cell_type": "code",
   "execution_count": 22,
   "metadata": {},
   "outputs": [
    {
     "data": {
      "text/plain": [
       "3755       Fatal Injury\n",
       "6015       Fatal Injury\n",
       "6378       Fatal Injury\n",
       "8009       Fatal Injury\n",
       "8343       Fatal Injury\n",
       "               ...     \n",
       "1486296    Fatal Injury\n",
       "1488306    Fatal Injury\n",
       "1489053    Fatal Injury\n",
       "1489269    Fatal Injury\n",
       "1489923    Fatal Injury\n",
       "Name: INJ_SEVER_DESC, Length: 539, dtype: object"
      ]
     },
     "execution_count": 22,
     "metadata": {},
     "output_type": "execute_result"
    }
   ],
   "source": [
    "isMoCo = marylandCrashes['COUNTY_NO']== 15\n",
    "moCoCrashes = marylandCrashes[isMoCo]\n",
    "isFatalMC = moCoCrashes[\"INJ_SEVER_DESC\"] == 'Fatal Injury'\n",
    "fatalCrashesMC = moCoCrashes[isFatalMC]\n",
    "fatalCrashesMC['INJ_SEVER_DESC']\n",
    "\n",
    "isFredCo = marylandCrashes['COUNTY_NO']== 10\n",
    "fredCoCrashes = marylandCrashes[isFredCo]\n",
    "isFatalFC = fredCoCrashes[\"INJ_SEVER_DESC\"] == 'Fatal Injury'\n",
    "fatalCrashesFC = fredCoCrashes[isFatalFC]\n",
    "fatalCrashesFC['INJ_SEVER_DESC']\n",
    "\n",
    "isPGCo =  marylandCrashes['COUNTY_NO']== 16\n",
    "pGCoCrashes =marylandCrashes[isPGCo]\n",
    "isFatalPG = pGCoCrashes[\"INJ_SEVER_DESC\"] == 'Fatal Injury'\n",
    "fatalCrashesPG = pGCoCrashes[isFatalPG]\n",
    "fatalCrashesPG['INJ_SEVER_DESC']"
   ]
  },
  {
   "cell_type": "code",
   "execution_count": null,
   "metadata": {},
   "outputs": [],
   "source": []
  },
  {
   "cell_type": "code",
   "execution_count": 60,
   "metadata": {},
   "outputs": [
    {
     "data": {
      "text/plain": [
       "Text(0.5, 0, 'Year\\n\\nSource: https://data.montgomerycountymd.gov/Public-Safety/Crash-Reporting-Incidents-Data/bhju-22kf')"
      ]
     },
     "execution_count": 60,
     "metadata": {},
     "output_type": "execute_result"
    },
    {
     "data": {
      "image/png": "[encoded data removed]",
      "text/plain": [
       "<Figure size 864x576 with 3 Axes>"
      ]
     },
     "metadata": {
      "needs_background": "light"
     },
     "output_type": "display_data"
    }
   ],
   "source": [
    "plt.rcParams[\"figure.figsize\"] = [12,8]\n",
    "\n",
    "fig, axes = plt.subplots(nrows=3, ncols = 1, sharex = True, sharey = True)\n",
    "\n",
    "\n",
    "axes[0].plot(fatalCrashesMC.groupby(\"YEAR_x\").size(), marker = 'o', color = 'blue')\n",
    "axes[0].set_title(\"Montgomery County Fatal Crashes\")\n",
    "\n",
    "axes[1].plot(fatalCrashesFC.groupby(\"YEAR_x\").size(), marker = 'o', color = 'green')\n",
    "axes[1].set_title(\"Frederick County Fatal Crashes\")\n",
    "\n",
    "axes[2].plot(fatalCrashesPG.groupby(\"YEAR_x\").size(), marker = 'o', color = 'magenta')\n",
    "axes[2].set_title(\"Prince George's County Fatal Crashes\")\n",
    "plt.xlabel(\"Year\\n\\nSource: https://data.montgomerycountymd.gov/Public-Safety/Crash-Reporting-Incidents-Data/bhju-22kf\")\n"
   ]
  },
  {
   "cell_type": "markdown",
   "metadata": {},
   "source": [
    "### Summary of Fatal Crash Trends in Montgomery, Frederick, and Prince George's Counties:"
   ]
  },
  {
   "cell_type": "code",
   "execution_count": 25,
   "metadata": {},
   "outputs": [
    {
     "data": {
      "text/plain": [
       "YEAR_x\n",
       "2015    46\n",
       "2016    39\n",
       "2017    33\n",
       "2018    31\n",
       "2019    36\n",
       "2020    38\n",
       "dtype: int64"
      ]
     },
     "execution_count": 25,
     "metadata": {},
     "output_type": "execute_result"
    }
   ],
   "source": [
    "fatalCrashesMC.groupby(\"YEAR_x\").size()"
   ]
  },
  {
   "cell_type": "code",
   "execution_count": 26,
   "metadata": {},
   "outputs": [
    {
     "data": {
      "text/plain": [
       "YEAR_x\n",
       "2015    22\n",
       "2016    14\n",
       "2017    26\n",
       "2018    17\n",
       "2019    24\n",
       "2020    21\n",
       "dtype: int64"
      ]
     },
     "execution_count": 26,
     "metadata": {},
     "output_type": "execute_result"
    }
   ],
   "source": [
    "fatalCrashesFC.groupby(\"YEAR_x\").size()"
   ]
  },
  {
   "cell_type": "code",
   "execution_count": 27,
   "metadata": {},
   "outputs": [
    {
     "data": {
      "text/plain": [
       "YEAR_x\n",
       "2015     93\n",
       "2016     70\n",
       "2017     80\n",
       "2018     91\n",
       "2019    107\n",
       "2020     98\n",
       "dtype: int64"
      ]
     },
     "execution_count": 27,
     "metadata": {},
     "output_type": "execute_result"
    }
   ],
   "source": [
    "fatalCrashesPG.groupby(\"YEAR_x\").size()"
   ]
  },
  {
   "cell_type": "markdown",
   "metadata": {},
   "source": [
    "From 2017 to 2020, according to the Maryland State data, fatalities in Montgomery County **increased** from 33 to 38, or approximately 15%.  In Frederick County, they **decreased** from 26 to 21, or approximately 19%.  In Prince George's County, they **increased** from 80 to 98 or approximately 18%"
   ]
  },
  {
   "cell_type": "markdown",
   "metadata": {},
   "source": [
    "## Examining Severe Injuries in the State"
   ]
  },
  {
   "cell_type": "code",
   "execution_count": 28,
   "metadata": {},
   "outputs": [
    {
     "data": {
      "text/plain": [
       "YEAR_x\n",
       "2015    2630\n",
       "2016    3084\n",
       "2017    3230\n",
       "2018    3122\n",
       "2019    2988\n",
       "2020    2618\n",
       "dtype: int64"
      ]
     },
     "execution_count": 28,
     "metadata": {},
     "output_type": "execute_result"
    }
   ],
   "source": [
    "isSevere = marylandCrashes['INJ_SEVER_DESC']== 'Incapacitating/Disabled Injury'\n",
    "severeCrashes = marylandCrashes[isSevere]\n",
    "severeCrashes.groupby('YEAR_x').size()"
   ]
  },
  {
   "cell_type": "markdown",
   "metadata": {},
   "source": [
    "In Maryland, serious injury crashes **declined** from 3230 in 2017 to 2618 in 2020, or about 19%."
   ]
  },
  {
   "cell_type": "markdown",
   "metadata": {},
   "source": [
    "### Serious Injury Crashes in Maryland"
   ]
  },
  {
   "cell_type": "code",
   "execution_count": 63,
   "metadata": {},
   "outputs": [
    {
     "data": {
      "text/plain": [
       "Text(0, 0.5, 'Number of Crashes')"
      ]
     },
     "execution_count": 63,
     "metadata": {},
     "output_type": "execute_result"
    },
    {
     "data": {
      "image/png": "[encoded data removed]",
      "text/plain": [
       "<Figure size 864x576 with 1 Axes>"
      ]
     },
     "metadata": {
      "needs_background": "light"
     },
     "output_type": "display_data"
    }
   ],
   "source": [
    "\n",
    "severeCrashes.groupby('YEAR_x').size().plot(kind = 'bar', color = 'b')\n",
    "plt.title(\"Serious Injury Crashes in Maryland by Year\")\n",
    "plt.xlabel(\"Year\\n\\nSource: https://data.montgomerycountymd.gov/Public-Safety/Crash-Reporting-Incidents-Data/bhju-22kf\")\n",
    "\n",
    "\n",
    "plt.ylabel(\"Number of Crashes\")\n"
   ]
  },
  {
   "cell_type": "markdown",
   "metadata": {},
   "source": [
    "### Serious Injury Crashes in Montgomery, Frederick and Prince George's Counties"
   ]
  },
  {
   "cell_type": "code",
   "execution_count": 30,
   "metadata": {},
   "outputs": [],
   "source": [
    "isSeriousMC = moCoCrashes[\"INJ_SEVER_DESC\"] == 'Incapacitating/Disabled Injury'\n",
    "seriousCrashesMC = moCoCrashes[isSeriousMC]\n",
    "\n",
    "\n",
    "isSeriousFC = fredCoCrashes[\"INJ_SEVER_DESC\"] == 'Incapacitating/Disabled Injury'\n",
    "seriousCrashesFC = fredCoCrashes[isSeriousFC]\n",
    "\n",
    "\n",
    "isSeriousPG = pGCoCrashes[\"INJ_SEVER_DESC\"] == 'Incapacitating/Disabled Injury'\n",
    "seriousCrashesPG = pGCoCrashes[isSeriousPG]\n"
   ]
  },
  {
   "cell_type": "code",
   "execution_count": 61,
   "metadata": {},
   "outputs": [
    {
     "data": {
      "text/plain": [
       "Text(0.5, 0, 'Year\\n\\nSource: https://data.montgomerycountymd.gov/Public-Safety/Crash-Reporting-Incidents-Data/bhju-22kf')"
      ]
     },
     "execution_count": 61,
     "metadata": {},
     "output_type": "execute_result"
    },
    {
     "data": {
      "image/png": "[encoded data removed]",
      "text/plain": [
       "<Figure size 864x576 with 3 Axes>"
      ]
     },
     "metadata": {
      "needs_background": "light"
     },
     "output_type": "display_data"
    }
   ],
   "source": [
    "plt.rcParams[\"figure.figsize\"] = [12,8]\n",
    "\n",
    "fig, axs = plt.subplots(nrows=3, ncols = 1, sharex = True, sharey = True)\n",
    "\n",
    "axs[0].plot(seriousCrashesMC.groupby(\"YEAR_x\").size(), marker = 'o', color = 'blue')\n",
    "axs[0].set_title(\"Montgomery County Serious Injury Crashes\")\n",
    "\n",
    "axs[1].plot(seriousCrashesFC.groupby(\"YEAR_x\").size(), marker = 'o', color = 'green')\n",
    "axs[1].set_title(\"Frederick County Serious Injury Crashes\")\n",
    "\n",
    "axs[2].plot(seriousCrashesPG.groupby(\"YEAR_x\").size(), marker = 'o', color = 'magenta')\n",
    "axs[2].set_title(\"Prince George's County Serious Injury Crashes\")\n",
    "plt.xlabel(\"Year\\n\\nSource: https://data.montgomerycountymd.gov/Public-Safety/Crash-Reporting-Incidents-Data/bhju-22kf\")\n",
    "\n",
    "\n"
   ]
  },
  {
   "cell_type": "code",
   "execution_count": 32,
   "metadata": {},
   "outputs": [
    {
     "data": {
      "text/plain": [
       "YEAR_x\n",
       "2015    341\n",
       "2016    334\n",
       "2017    324\n",
       "2018    312\n",
       "2019    313\n",
       "2020    217\n",
       "dtype: int64"
      ]
     },
     "execution_count": 32,
     "metadata": {},
     "output_type": "execute_result"
    }
   ],
   "source": [
    "seriousCrashesMC.groupby(\"YEAR_x\").size()"
   ]
  },
  {
   "cell_type": "code",
   "execution_count": 33,
   "metadata": {},
   "outputs": [
    {
     "data": {
      "text/plain": [
       "YEAR_x\n",
       "2015     69\n",
       "2016     69\n",
       "2017     87\n",
       "2018    104\n",
       "2019    102\n",
       "2020    109\n",
       "dtype: int64"
      ]
     },
     "execution_count": 33,
     "metadata": {},
     "output_type": "execute_result"
    }
   ],
   "source": [
    "seriousCrashesFC.groupby(\"YEAR_x\").size()"
   ]
  },
  {
   "cell_type": "code",
   "execution_count": 34,
   "metadata": {
    "scrolled": true
   },
   "outputs": [
    {
     "data": {
      "text/plain": [
       "YEAR_x\n",
       "2015    455\n",
       "2016    565\n",
       "2017    554\n",
       "2018    567\n",
       "2019    514\n",
       "2020    333\n",
       "dtype: int64"
      ]
     },
     "execution_count": 34,
     "metadata": {},
     "output_type": "execute_result"
    }
   ],
   "source": [
    "seriousCrashesPG.groupby(\"YEAR_x\").size()"
   ]
  },
  {
   "cell_type": "markdown",
   "metadata": {},
   "source": [
    "From 2017 to 2020 in Montgomery County, serious injury crashes decreased from 324 to 217, or 33%.  In Frederick County, they increased from 87 to 109, or 20%.  In Prince George's County, they decreased from 554 to 333, or "
   ]
  },
  {
   "cell_type": "markdown",
   "metadata": {},
   "source": [
    "### Establish a population baseline for the counties in order to compare the **rate** of crashes"
   ]
  },
  {
   "cell_type": "code",
   "execution_count": 37,
   "metadata": {},
   "outputs": [
    {
     "name": "stdout",
     "output_type": "stream",
     "text": [
      "Collecting requests\n",
      "  Using cached requests-2.25.1-py2.py3-none-any.whl (61 kB)\n",
      "Requirement already satisfied: certifi>=2017.4.17 in /Users/maryglantz/opt/anaconda3/envs/py37/lib/python3.7/site-packages (from requests) (2020.12.5)\n",
      "Collecting urllib3<1.27,>=1.21.1\n",
      "  Using cached urllib3-1.26.4-py2.py3-none-any.whl (153 kB)\n",
      "Collecting idna<3,>=2.5\n",
      "  Using cached idna-2.10-py2.py3-none-any.whl (58 kB)\n",
      "Requirement already satisfied: chardet<5,>=3.0.2 in /Users/maryglantz/opt/anaconda3/envs/py37/lib/python3.7/site-packages (from requests) (4.0.0)\n",
      "Installing collected packages: urllib3, idna, requests\n",
      "  Attempting uninstall: idna\n",
      "    Found existing installation: idna 3.1\n",
      "    Uninstalling idna-3.1:\n",
      "      Successfully uninstalled idna-3.1\n",
      "Successfully installed idna-2.10 requests-2.25.1 urllib3-1.26.4\n"
     ]
    }
   ],
   "source": [
    "# Get ACS census data for three counties in Maryland (state 24)\n",
    "!pip install requests\n",
    "import requests as re\n",
    "\n",
    "census_pop = re.get('https://api.census.gov/data/2019/acs/acs1/?get=NAME,B01001_001E,B01002_001E,C22001_001E,B25064_001E'\\\n",
    "               '&for=county:031,021,033&in=state:24').json()"
   ]
  },
  {
   "cell_type": "code",
   "execution_count": 38,
   "metadata": {},
   "outputs": [],
   "source": [
    "# Put in dataframe\n",
    "census_pop = pd.DataFrame(census_pop)\n",
    "census_pop.rename(columns=census_pop.iloc[0], inplace=True)\n",
    "census_pop = census_pop.iloc[1:].rename(columns = {'B01001_001E': 'Population',\n",
    "                                     'B01002_001E': 'Median Age',\n",
    "                                     'C22001_001E': 'Household Poverty',\n",
    "                                     'B25064_001E': 'Median Gross Rent'})\n"
   ]
  },
  {
   "cell_type": "code",
   "execution_count": 39,
   "metadata": {},
   "outputs": [
    {
     "data": {
      "text/html": [
       "<div>\n",
       "<style scoped>\n",
       "    .dataframe tbody tr th:only-of-type {\n",
       "        vertical-align: middle;\n",
       "    }\n",
       "\n",
       "    .dataframe tbody tr th {\n",
       "        vertical-align: top;\n",
       "    }\n",
       "\n",
       "    .dataframe thead th {\n",
       "        text-align: right;\n",
       "    }\n",
       "</style>\n",
       "<table border=\"1\" class=\"dataframe\">\n",
       "  <thead>\n",
       "    <tr style=\"text-align: right;\">\n",
       "      <th></th>\n",
       "      <th>NAME</th>\n",
       "      <th>Population</th>\n",
       "      <th>Median Age</th>\n",
       "      <th>Household Poverty</th>\n",
       "      <th>Median Gross Rent</th>\n",
       "      <th>state</th>\n",
       "      <th>county</th>\n",
       "    </tr>\n",
       "  </thead>\n",
       "  <tbody>\n",
       "    <tr>\n",
       "      <th>1</th>\n",
       "      <td>Prince George's County, Maryland</td>\n",
       "      <td>909327</td>\n",
       "      <td>37.8</td>\n",
       "      <td>316361</td>\n",
       "      <td>1469</td>\n",
       "      <td>24</td>\n",
       "      <td>033</td>\n",
       "    </tr>\n",
       "    <tr>\n",
       "      <th>2</th>\n",
       "      <td>Frederick County, Maryland</td>\n",
       "      <td>259547</td>\n",
       "      <td>38.7</td>\n",
       "      <td>93768</td>\n",
       "      <td>1425</td>\n",
       "      <td>24</td>\n",
       "      <td>021</td>\n",
       "    </tr>\n",
       "    <tr>\n",
       "      <th>3</th>\n",
       "      <td>Montgomery County, Maryland</td>\n",
       "      <td>1050688</td>\n",
       "      <td>39.7</td>\n",
       "      <td>368897</td>\n",
       "      <td>1788</td>\n",
       "      <td>24</td>\n",
       "      <td>031</td>\n",
       "    </tr>\n",
       "  </tbody>\n",
       "</table>\n",
       "</div>"
      ],
      "text/plain": [
       "                               NAME Population Median Age Household Poverty  \\\n",
       "1  Prince George's County, Maryland     909327       37.8            316361   \n",
       "2        Frederick County, Maryland     259547       38.7             93768   \n",
       "3       Montgomery County, Maryland    1050688       39.7            368897   \n",
       "\n",
       "  Median Gross Rent state county  \n",
       "1              1469    24    033  \n",
       "2              1425    24    021  \n",
       "3              1788    24    031  "
      ]
     },
     "execution_count": 39,
     "metadata": {},
     "output_type": "execute_result"
    }
   ],
   "source": [
    "census_pop"
   ]
  },
  {
   "cell_type": "code",
   "execution_count": 40,
   "metadata": {},
   "outputs": [],
   "source": [
    "popMoCo = census_pop.loc[3, 'Population']\n",
    "popFredCo = census_pop.loc[2, 'Population']\n",
    "popPGCo = census_pop.loc[1, 'Population']"
   ]
  },
  {
   "cell_type": "code",
   "execution_count": 41,
   "metadata": {},
   "outputs": [
    {
     "data": {
      "text/plain": [
       "0.00029790004263872814"
      ]
     },
     "execution_count": 41,
     "metadata": {},
     "output_type": "execute_result"
    }
   ],
   "source": [
    "# Calculate number of fatal and serious injury crashes per population in 2019\n",
    "scMC = seriousCrashesMC['YEAR_x'] == 2019\n",
    "scMC.sum()/int(popMoCo)"
   ]
  },
  {
   "cell_type": "code",
   "execution_count": 42,
   "metadata": {},
   "outputs": [
    {
     "data": {
      "text/plain": [
       "0.00039299240599968406"
      ]
     },
     "execution_count": 42,
     "metadata": {},
     "output_type": "execute_result"
    }
   ],
   "source": [
    "scFC = seriousCrashesFC['YEAR_x'] == 2019\n",
    "scFC.sum()/int(popFredCo)"
   ]
  },
  {
   "cell_type": "code",
   "execution_count": 43,
   "metadata": {},
   "outputs": [
    {
     "data": {
      "text/plain": [
       "0.0005652532037429879"
      ]
     },
     "execution_count": 43,
     "metadata": {},
     "output_type": "execute_result"
    }
   ],
   "source": [
    "scPGC = seriousCrashesPG[\"YEAR_x\"] == 2019\n",
    "scPGC.sum()/int(popPGCo)"
   ]
  },
  {
   "cell_type": "code",
   "execution_count": 44,
   "metadata": {},
   "outputs": [
    {
     "data": {
      "text/plain": [
       "3.4263263690077356e-05"
      ]
     },
     "execution_count": 44,
     "metadata": {},
     "output_type": "execute_result"
    }
   ],
   "source": [
    "fcMC = fatalCrashesMC['YEAR_x'] == 2019\n",
    "fcMC.sum()/int(popMoCo)"
   ]
  },
  {
   "cell_type": "code",
   "execution_count": 45,
   "metadata": {},
   "outputs": [
    {
     "data": {
      "text/plain": [
       "9.246880141169037e-05"
      ]
     },
     "execution_count": 45,
     "metadata": {},
     "output_type": "execute_result"
    }
   ],
   "source": [
    "fcFC = fatalCrashesFC['YEAR_x'] == 2019\n",
    "fcFC.sum()/int(popFredCo)"
   ]
  },
  {
   "cell_type": "code",
   "execution_count": 46,
   "metadata": {},
   "outputs": [
    {
     "data": {
      "text/plain": [
       "0.00011766944124610839"
      ]
     },
     "execution_count": 46,
     "metadata": {},
     "output_type": "execute_result"
    }
   ],
   "source": [
    "fcPGC = fatalCrashesPG['YEAR_x'] == 2019\n",
    "fcPGC.sum()/int(popPGCo)"
   ]
  },
  {
   "cell_type": "markdown",
   "metadata": {},
   "source": [
    "Calculating the **rate** of serious and fatal crashes in Montgomery, Frederick, and Prince George's Counties in 2019, it's apparent that PG county has the most serious and fatal accidents per capita.  Montgomery County actually did better than both the other counties.  "
   ]
  },
  {
   "cell_type": "code",
   "execution_count": 47,
   "metadata": {},
   "outputs": [],
   "source": [
    "census_pop2018 = re.get('https://api.census.gov/data/2018/acs/acs1/?get=NAME,B01001_001E,B01002_001E,C22001_001E,B25064_001E'\\\n",
    "               '&for=county:031,021,033&in=state:24').json()"
   ]
  },
  {
   "cell_type": "code",
   "execution_count": 48,
   "metadata": {},
   "outputs": [],
   "source": [
    "# Put in dataframe\n",
    "census_pop2018 = pd.DataFrame(census_pop2018)\n",
    "census_pop2018.rename(columns=census_pop2018.iloc[0], inplace=True)\n",
    "census_pop2018 = census_pop2018.iloc[1:].rename(columns = {'B01001_001E': 'Population',\n",
    "                                     'B01002_001E': 'Median Age',\n",
    "                                     'C22001_001E': 'Household Poverty',\n",
    "                                     'B25064_001E': 'Median Gross Rent'})"
   ]
  },
  {
   "cell_type": "code",
   "execution_count": 49,
   "metadata": {},
   "outputs": [
    {
     "data": {
      "text/html": [
       "<div>\n",
       "<style scoped>\n",
       "    .dataframe tbody tr th:only-of-type {\n",
       "        vertical-align: middle;\n",
       "    }\n",
       "\n",
       "    .dataframe tbody tr th {\n",
       "        vertical-align: top;\n",
       "    }\n",
       "\n",
       "    .dataframe thead th {\n",
       "        text-align: right;\n",
       "    }\n",
       "</style>\n",
       "<table border=\"1\" class=\"dataframe\">\n",
       "  <thead>\n",
       "    <tr style=\"text-align: right;\">\n",
       "      <th></th>\n",
       "      <th>NAME</th>\n",
       "      <th>Population</th>\n",
       "      <th>Median Age</th>\n",
       "      <th>Household Poverty</th>\n",
       "      <th>Median Gross Rent</th>\n",
       "      <th>state</th>\n",
       "      <th>county</th>\n",
       "    </tr>\n",
       "  </thead>\n",
       "  <tbody>\n",
       "    <tr>\n",
       "      <th>1</th>\n",
       "      <td>Prince George's County, Maryland</td>\n",
       "      <td>909308</td>\n",
       "      <td>37.4</td>\n",
       "      <td>315759</td>\n",
       "      <td>1459</td>\n",
       "      <td>24</td>\n",
       "      <td>033</td>\n",
       "    </tr>\n",
       "    <tr>\n",
       "      <th>2</th>\n",
       "      <td>Montgomery County, Maryland</td>\n",
       "      <td>1052567</td>\n",
       "      <td>39.2</td>\n",
       "      <td>368334</td>\n",
       "      <td>1746</td>\n",
       "      <td>24</td>\n",
       "      <td>031</td>\n",
       "    </tr>\n",
       "    <tr>\n",
       "      <th>3</th>\n",
       "      <td>Frederick County, Maryland</td>\n",
       "      <td>255648</td>\n",
       "      <td>39.1</td>\n",
       "      <td>95903</td>\n",
       "      <td>1443</td>\n",
       "      <td>24</td>\n",
       "      <td>021</td>\n",
       "    </tr>\n",
       "  </tbody>\n",
       "</table>\n",
       "</div>"
      ],
      "text/plain": [
       "                               NAME Population Median Age Household Poverty  \\\n",
       "1  Prince George's County, Maryland     909308       37.4            315759   \n",
       "2       Montgomery County, Maryland    1052567       39.2            368334   \n",
       "3        Frederick County, Maryland     255648       39.1             95903   \n",
       "\n",
       "  Median Gross Rent state county  \n",
       "1              1459    24    033  \n",
       "2              1746    24    031  \n",
       "3              1443    24    021  "
      ]
     },
     "execution_count": 49,
     "metadata": {},
     "output_type": "execute_result"
    }
   ],
   "source": [
    "census_pop2018"
   ]
  },
  {
   "cell_type": "code",
   "execution_count": 50,
   "metadata": {},
   "outputs": [],
   "source": [
    "census_pop2017 = re.get('https://api.census.gov/data/2017/acs/acs1/?get=NAME,B01001_001E,B01002_001E,C22001_001E,B25064_001E'\\\n",
    "               '&for=county:031,021,033&in=state:24').json()"
   ]
  },
  {
   "cell_type": "code",
   "execution_count": 51,
   "metadata": {},
   "outputs": [],
   "source": [
    "# Put in dataframe\n",
    "census_pop2017 = pd.DataFrame(census_pop2017)\n",
    "census_pop2017.rename(columns=census_pop2017.iloc[0], inplace=True)\n",
    "census_pop2017 = census_pop2017.iloc[1:].rename(columns = {'B01001_001E': 'Population',\n",
    "                                     'B01002_001E': 'Median Age',\n",
    "                                     'C22001_001E': 'Household Poverty',\n",
    "                                     'B25064_001E': 'Median Gross Rent'})"
   ]
  },
  {
   "cell_type": "code",
   "execution_count": 52,
   "metadata": {},
   "outputs": [
    {
     "data": {
      "text/html": [
       "<div>\n",
       "<style scoped>\n",
       "    .dataframe tbody tr th:only-of-type {\n",
       "        vertical-align: middle;\n",
       "    }\n",
       "\n",
       "    .dataframe tbody tr th {\n",
       "        vertical-align: top;\n",
       "    }\n",
       "\n",
       "    .dataframe thead th {\n",
       "        text-align: right;\n",
       "    }\n",
       "</style>\n",
       "<table border=\"1\" class=\"dataframe\">\n",
       "  <thead>\n",
       "    <tr style=\"text-align: right;\">\n",
       "      <th></th>\n",
       "      <th>NAME</th>\n",
       "      <th>Population</th>\n",
       "      <th>Median Age</th>\n",
       "      <th>Household Poverty</th>\n",
       "      <th>Median Gross Rent</th>\n",
       "      <th>state</th>\n",
       "      <th>county</th>\n",
       "    </tr>\n",
       "  </thead>\n",
       "  <tbody>\n",
       "    <tr>\n",
       "      <th>1</th>\n",
       "      <td>Frederick County, Maryland</td>\n",
       "      <td>252022</td>\n",
       "      <td>39.2</td>\n",
       "      <td>92329</td>\n",
       "      <td>1372</td>\n",
       "      <td>24</td>\n",
       "      <td>021</td>\n",
       "    </tr>\n",
       "    <tr>\n",
       "      <th>2</th>\n",
       "      <td>Montgomery County, Maryland</td>\n",
       "      <td>1058810</td>\n",
       "      <td>39.0</td>\n",
       "      <td>373219</td>\n",
       "      <td>1708</td>\n",
       "      <td>24</td>\n",
       "      <td>031</td>\n",
       "    </tr>\n",
       "    <tr>\n",
       "      <th>3</th>\n",
       "      <td>Prince George's County, Maryland</td>\n",
       "      <td>912756</td>\n",
       "      <td>37.2</td>\n",
       "      <td>310730</td>\n",
       "      <td>1424</td>\n",
       "      <td>24</td>\n",
       "      <td>033</td>\n",
       "    </tr>\n",
       "  </tbody>\n",
       "</table>\n",
       "</div>"
      ],
      "text/plain": [
       "                               NAME Population Median Age Household Poverty  \\\n",
       "1        Frederick County, Maryland     252022       39.2             92329   \n",
       "2       Montgomery County, Maryland    1058810       39.0            373219   \n",
       "3  Prince George's County, Maryland     912756       37.2            310730   \n",
       "\n",
       "  Median Gross Rent state county  \n",
       "1              1372    24    021  \n",
       "2              1708    24    031  \n",
       "3              1424    24    033  "
      ]
     },
     "execution_count": 52,
     "metadata": {},
     "output_type": "execute_result"
    }
   ],
   "source": [
    "census_pop2017"
   ]
  },
  {
   "cell_type": "code",
   "execution_count": 53,
   "metadata": {},
   "outputs": [],
   "source": [
    "census_pop2016 = re.get('https://api.census.gov/data/2016/acs/acs1/?get=NAME,B01001_001E,B01002_001E,C22001_001E,B25064_001E'\\\n",
    "               '&for=county:031,021,033&in=state:24').json()"
   ]
  },
  {
   "cell_type": "code",
   "execution_count": 54,
   "metadata": {},
   "outputs": [],
   "source": [
    "# Put in dataframe\n",
    "census_pop2016 = pd.DataFrame(census_pop2016)\n",
    "census_pop2016.rename(columns=census_pop2016.iloc[0], inplace=True)\n",
    "census_pop2016 = census_pop2016.iloc[1:].rename(columns = {'B01001_001E': 'Population',\n",
    "                                     'B01002_001E': 'Median Age',\n",
    "                                     'C22001_001E': 'Household Poverty',\n",
    "                                     'B25064_001E': 'Median Gross Rent'})"
   ]
  },
  {
   "cell_type": "code",
   "execution_count": 55,
   "metadata": {},
   "outputs": [
    {
     "data": {
      "text/html": [
       "<div>\n",
       "<style scoped>\n",
       "    .dataframe tbody tr th:only-of-type {\n",
       "        vertical-align: middle;\n",
       "    }\n",
       "\n",
       "    .dataframe tbody tr th {\n",
       "        vertical-align: top;\n",
       "    }\n",
       "\n",
       "    .dataframe thead th {\n",
       "        text-align: right;\n",
       "    }\n",
       "</style>\n",
       "<table border=\"1\" class=\"dataframe\">\n",
       "  <thead>\n",
       "    <tr style=\"text-align: right;\">\n",
       "      <th></th>\n",
       "      <th>NAME</th>\n",
       "      <th>Population</th>\n",
       "      <th>Median Age</th>\n",
       "      <th>Household Poverty</th>\n",
       "      <th>Median Gross Rent</th>\n",
       "      <th>state</th>\n",
       "      <th>county</th>\n",
       "    </tr>\n",
       "  </thead>\n",
       "  <tbody>\n",
       "    <tr>\n",
       "      <th>1</th>\n",
       "      <td>Frederick County, Maryland</td>\n",
       "      <td>247591</td>\n",
       "      <td>39.3</td>\n",
       "      <td>89800</td>\n",
       "      <td>1331</td>\n",
       "      <td>24</td>\n",
       "      <td>021</td>\n",
       "    </tr>\n",
       "    <tr>\n",
       "      <th>2</th>\n",
       "      <td>Montgomery County, Maryland</td>\n",
       "      <td>1043863</td>\n",
       "      <td>39.0</td>\n",
       "      <td>373346</td>\n",
       "      <td>1662</td>\n",
       "      <td>24</td>\n",
       "      <td>031</td>\n",
       "    </tr>\n",
       "    <tr>\n",
       "      <th>3</th>\n",
       "      <td>Prince George's County, Maryland</td>\n",
       "      <td>908049</td>\n",
       "      <td>36.7</td>\n",
       "      <td>307816</td>\n",
       "      <td>1387</td>\n",
       "      <td>24</td>\n",
       "      <td>033</td>\n",
       "    </tr>\n",
       "  </tbody>\n",
       "</table>\n",
       "</div>"
      ],
      "text/plain": [
       "                               NAME Population Median Age Household Poverty  \\\n",
       "1        Frederick County, Maryland     247591       39.3             89800   \n",
       "2       Montgomery County, Maryland    1043863       39.0            373346   \n",
       "3  Prince George's County, Maryland     908049       36.7            307816   \n",
       "\n",
       "  Median Gross Rent state county  \n",
       "1              1331    24    021  \n",
       "2              1662    24    031  \n",
       "3              1387    24    033  "
      ]
     },
     "execution_count": 55,
     "metadata": {},
     "output_type": "execute_result"
    }
   ],
   "source": [
    "census_pop2016"
   ]
  },
  {
   "cell_type": "code",
   "execution_count": 56,
   "metadata": {},
   "outputs": [],
   "source": [
    "census_pop2015 = re.get('https://api.census.gov/data/2015/acs/acs1/?get=NAME,B01001_001E,B01002_001E,C22001_001E,B25064_001E'\\\n",
    "               '&for=county:031,021,033&in=state:24').json()"
   ]
  },
  {
   "cell_type": "code",
   "execution_count": 57,
   "metadata": {},
   "outputs": [],
   "source": [
    "# Put in dataframe\n",
    "census_pop2015 = pd.DataFrame(census_pop2015)\n",
    "census_pop2015.rename(columns=census_pop2015.iloc[0], inplace=True)\n",
    "census_pop2015 = census_pop2015.iloc[1:].rename(columns = {'B01001_001E': 'Population',\n",
    "                                     'B01002_001E': 'Median Age',\n",
    "                                     'C22001_001E': 'Household Poverty',\n",
    "                                     'B25064_001E': 'Median Gross Rent'})"
   ]
  },
  {
   "cell_type": "code",
   "execution_count": 58,
   "metadata": {},
   "outputs": [
    {
     "data": {
      "text/html": [
       "<div>\n",
       "<style scoped>\n",
       "    .dataframe tbody tr th:only-of-type {\n",
       "        vertical-align: middle;\n",
       "    }\n",
       "\n",
       "    .dataframe tbody tr th {\n",
       "        vertical-align: top;\n",
       "    }\n",
       "\n",
       "    .dataframe thead th {\n",
       "        text-align: right;\n",
       "    }\n",
       "</style>\n",
       "<table border=\"1\" class=\"dataframe\">\n",
       "  <thead>\n",
       "    <tr style=\"text-align: right;\">\n",
       "      <th></th>\n",
       "      <th>NAME</th>\n",
       "      <th>Population</th>\n",
       "      <th>Median Age</th>\n",
       "      <th>Household Poverty</th>\n",
       "      <th>Median Gross Rent</th>\n",
       "      <th>state</th>\n",
       "      <th>county</th>\n",
       "    </tr>\n",
       "  </thead>\n",
       "  <tbody>\n",
       "    <tr>\n",
       "      <th>1</th>\n",
       "      <td>Frederick County, Maryland</td>\n",
       "      <td>245322</td>\n",
       "      <td>39.3</td>\n",
       "      <td>89947</td>\n",
       "      <td>1350</td>\n",
       "      <td>24</td>\n",
       "      <td>021</td>\n",
       "    </tr>\n",
       "    <tr>\n",
       "      <th>2</th>\n",
       "      <td>Montgomery County, Maryland</td>\n",
       "      <td>1040116</td>\n",
       "      <td>38.9</td>\n",
       "      <td>371458</td>\n",
       "      <td>1656</td>\n",
       "      <td>24</td>\n",
       "      <td>031</td>\n",
       "    </tr>\n",
       "    <tr>\n",
       "      <th>3</th>\n",
       "      <td>Prince George's County, Maryland</td>\n",
       "      <td>909535</td>\n",
       "      <td>36.2</td>\n",
       "      <td>304539</td>\n",
       "      <td>1378</td>\n",
       "      <td>24</td>\n",
       "      <td>033</td>\n",
       "    </tr>\n",
       "  </tbody>\n",
       "</table>\n",
       "</div>"
      ],
      "text/plain": [
       "                               NAME Population Median Age Household Poverty  \\\n",
       "1        Frederick County, Maryland     245322       39.3             89947   \n",
       "2       Montgomery County, Maryland    1040116       38.9            371458   \n",
       "3  Prince George's County, Maryland     909535       36.2            304539   \n",
       "\n",
       "  Median Gross Rent state county  \n",
       "1              1350    24    021  \n",
       "2              1656    24    031  \n",
       "3              1378    24    033  "
      ]
     },
     "execution_count": 58,
     "metadata": {},
     "output_type": "execute_result"
    }
   ],
   "source": [
    "census_pop2015"
   ]
  },
  {
   "cell_type": "code",
   "execution_count": null,
   "metadata": {
    "scrolled": true
   },
   "outputs": [],
   "source": []
  },
  {
   "cell_type": "code",
   "execution_count": null,
   "metadata": {},
   "outputs": [],
   "source": []
  }
 ],
 "metadata": {
  "kernelspec": {
   "display_name": "Python 3",
   "language": "python",
   "name": "python3"
  },
  "language_info": {
   "codemirror_mode": {
    "name": "ipython",
    "version": 3
   },
   "file_extension": ".py",
   "mimetype": "text/x-python",
   "name": "python",
   "nbconvert_exporter": "python",
   "pygments_lexer": "ipython3",
   "version": "3.7.10"
  }
 },
 "nbformat": 4,
 "nbformat_minor": 4
}
