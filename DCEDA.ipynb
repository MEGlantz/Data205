{
 "cells": [
  {
   "cell_type": "markdown",
   "metadata": {},
   "source": [
    "# EDA for Washington, DC Data"
   ]
  },
  {
   "cell_type": "code",
   "execution_count": 2,
   "metadata": {},
   "outputs": [],
   "source": [
    "import numpy as np\n",
    "import pandas as pd\n",
    "import datetime\n",
    "import matplotlib.pyplot as plt\n",
    "import matplotlib as mpl\n",
    "%matplotlib inline"
   ]
  },
  {
   "cell_type": "code",
   "execution_count": 3,
   "metadata": {},
   "outputs": [],
   "source": [
    "dcdata = pd.read_csv(\"crashesDCdf_clean.csv\", low_memory = False)"
   ]
  },
  {
   "cell_type": "code",
   "execution_count": 4,
   "metadata": {},
   "outputs": [
    {
     "name": "stdout",
     "output_type": "stream",
     "text": [
      "<class 'pandas.core.frame.DataFrame'>\n",
      "RangeIndex: 246150 entries, 0 to 246149\n",
      "Data columns (total 61 columns):\n",
      " #   Column                      Non-Null Count   Dtype  \n",
      "---  ------                      --------------   -----  \n",
      " 0   Unnamed: 0                  246150 non-null  int64  \n",
      " 1   X                           246150 non-null  float64\n",
      " 2   Y                           246150 non-null  float64\n",
      " 3   OBJECTID                    246150 non-null  int64  \n",
      " 4   CRIMEID                     246150 non-null  int64  \n",
      " 5   CCN                         246150 non-null  object \n",
      " 6   REPORTDATE                  246150 non-null  object \n",
      " 7   ROUTEID                     246150 non-null  object \n",
      " 8   MEASURE                     246150 non-null  float64\n",
      " 9   OFFSET                      246150 non-null  float64\n",
      " 10  STREETSEGID                 208314 non-null  float64\n",
      " 11  ROADWAYSEGID                208314 non-null  float64\n",
      " 12  FROMDATE                    246150 non-null  object \n",
      " 13  TODATE                      246150 non-null  object \n",
      " 14  MARID                       246150 non-null  int64  \n",
      " 15  ADDRESS                     246069 non-null  object \n",
      " 16  LATITUDE                    246140 non-null  float64\n",
      " 17  LONGITUDE                   246140 non-null  float64\n",
      " 18  XCOORD                      246150 non-null  float64\n",
      " 19  YCOORD                      246150 non-null  float64\n",
      " 20  WARD                        246148 non-null  object \n",
      " 21  EVENTID                     246150 non-null  object \n",
      " 22  MAR_ADDRESS                 234571 non-null  object \n",
      " 23  MAR_SCORE                   246150 non-null  float64\n",
      " 24  MAJORINJURIES_BICYCLIST     246150 non-null  int64  \n",
      " 25  MINORINJURIES_BICYCLIST     246150 non-null  int64  \n",
      " 26  UNKNOWNINJURIES_BICYCLIST   246150 non-null  int64  \n",
      " 27  FATAL_BICYCLIST             246150 non-null  int64  \n",
      " 28  MAJORINJURIES_DRIVER        246150 non-null  int64  \n",
      " 29  MINORINJURIES_DRIVER        246150 non-null  int64  \n",
      " 30  UNKNOWNINJURIES_DRIVER      246150 non-null  int64  \n",
      " 31  FATAL_DRIVER                246150 non-null  int64  \n",
      " 32  MAJORINJURIES_PEDESTRIAN    246150 non-null  int64  \n",
      " 33  MINORINJURIES_PEDESTRIAN    246150 non-null  int64  \n",
      " 34  UNKNOWNINJURIES_PEDESTRIAN  246150 non-null  int64  \n",
      " 35  FATAL_PEDESTRIAN            246150 non-null  int64  \n",
      " 36  TOTAL_VEHICLES              246150 non-null  int64  \n",
      " 37  TOTAL_BICYCLES              246150 non-null  int64  \n",
      " 38  TOTAL_PEDESTRIANS           246150 non-null  int64  \n",
      " 39  PEDESTRIANSIMPAIRED         246150 non-null  int64  \n",
      " 40  BICYCLISTSIMPAIRED          246150 non-null  int64  \n",
      " 41  DRIVERSIMPAIRED             246150 non-null  int64  \n",
      " 42  TOTAL_TAXIS                 246150 non-null  int64  \n",
      " 43  TOTAL_GOVERNMENT            246150 non-null  int64  \n",
      " 44  SPEEDING_INVOLVED           246150 non-null  int64  \n",
      " 45  NEARESTINTROUTEID           246150 non-null  object \n",
      " 46  NEARESTINTSTREETNAME        246150 non-null  object \n",
      " 47  OFFINTERSECTION             246150 non-null  float64\n",
      " 48  INTAPPROACHDIRECTION        246150 non-null  object \n",
      " 49  LOCATIONERROR               9572 non-null    object \n",
      " 50  LASTUPDATEDATE              246150 non-null  object \n",
      " 51  MPDLATITUDE                 179105 non-null  float64\n",
      " 52  MPDLONGITUDE                179105 non-null  float64\n",
      " 53  MPDGEOX                     125610 non-null  float64\n",
      " 54  MPDGEOY                     125610 non-null  float64\n",
      " 55  BLOCKKEY                    246150 non-null  object \n",
      " 56  SUBBLOCKKEY                 246150 non-null  object \n",
      " 57  FATALPASSENGER              246150 non-null  int64  \n",
      " 58  MAJORINJURIESPASSENGER      246150 non-null  int64  \n",
      " 59  MINORINJURIESPASSENGER      246150 non-null  int64  \n",
      " 60  UNKNOWNINJURIESPASSENGER    246150 non-null  int64  \n",
      "dtypes: float64(16), int64(29), object(16)\n",
      "memory usage: 114.6+ MB\n"
     ]
    }
   ],
   "source": [
    "dcdata.info()"
   ]
  },
  {
   "cell_type": "code",
   "execution_count": 5,
   "metadata": {},
   "outputs": [
    {
     "data": {
      "text/plain": [
       "array([0, 1, 2])"
      ]
     },
     "execution_count": 5,
     "metadata": {},
     "output_type": "execute_result"
    }
   ],
   "source": [
    "dcdata['FATAL_DRIVER'].unique()"
   ]
  },
  {
   "cell_type": "code",
   "execution_count": 6,
   "metadata": {},
   "outputs": [],
   "source": [
    "# This is a companion data set to dcdata, linked by \"CRIMEID\"\n",
    "\n",
    "dcdetaildata = pd.read_csv(\"https://opendata.arcgis.com/datasets/70248b73c20f46b0a5ee895fc91d6222_25.csv\", low_memory = False)"
   ]
  },
  {
   "cell_type": "code",
   "execution_count": 7,
   "metadata": {},
   "outputs": [],
   "source": [
    "dcCrashes = dcdata.merge(dcdetaildata, on = \"CRIMEID\", how = 'outer')"
   ]
  },
  {
   "cell_type": "code",
   "execution_count": 8,
   "metadata": {},
   "outputs": [
    {
     "name": "stdout",
     "output_type": "stream",
     "text": [
      "<class 'pandas.core.frame.DataFrame'>\n",
      "Int64Index: 598209 entries, 0 to 598208\n",
      "Data columns (total 75 columns):\n",
      " #   Column                      Non-Null Count   Dtype  \n",
      "---  ------                      --------------   -----  \n",
      " 0   Unnamed: 0                  597502 non-null  float64\n",
      " 1   X                           597502 non-null  float64\n",
      " 2   Y                           597502 non-null  float64\n",
      " 3   OBJECTID_x                  597502 non-null  float64\n",
      " 4   CRIMEID                     598209 non-null  int64  \n",
      " 5   CCN_x                       597502 non-null  object \n",
      " 6   REPORTDATE                  597502 non-null  object \n",
      " 7   ROUTEID                     597502 non-null  object \n",
      " 8   MEASURE                     597502 non-null  float64\n",
      " 9   OFFSET                      597502 non-null  float64\n",
      " 10  STREETSEGID                 511703 non-null  float64\n",
      " 11  ROADWAYSEGID                511703 non-null  float64\n",
      " 12  FROMDATE                    597502 non-null  object \n",
      " 13  TODATE                      597502 non-null  object \n",
      " 14  MARID                       597502 non-null  float64\n",
      " 15  ADDRESS                     597310 non-null  object \n",
      " 16  LATITUDE                    597471 non-null  float64\n",
      " 17  LONGITUDE                   597471 non-null  float64\n",
      " 18  XCOORD                      597502 non-null  float64\n",
      " 19  YCOORD                      597502 non-null  float64\n",
      " 20  WARD                        597498 non-null  object \n",
      " 21  EVENTID                     597502 non-null  object \n",
      " 22  MAR_ADDRESS                 568736 non-null  object \n",
      " 23  MAR_SCORE                   597502 non-null  float64\n",
      " 24  MAJORINJURIES_BICYCLIST     597502 non-null  float64\n",
      " 25  MINORINJURIES_BICYCLIST     597502 non-null  float64\n",
      " 26  UNKNOWNINJURIES_BICYCLIST   597502 non-null  float64\n",
      " 27  FATAL_BICYCLIST             597502 non-null  float64\n",
      " 28  MAJORINJURIES_DRIVER        597502 non-null  float64\n",
      " 29  MINORINJURIES_DRIVER        597502 non-null  float64\n",
      " 30  UNKNOWNINJURIES_DRIVER      597502 non-null  float64\n",
      " 31  FATAL_DRIVER                597502 non-null  float64\n",
      " 32  MAJORINJURIES_PEDESTRIAN    597502 non-null  float64\n",
      " 33  MINORINJURIES_PEDESTRIAN    597502 non-null  float64\n",
      " 34  UNKNOWNINJURIES_PEDESTRIAN  597502 non-null  float64\n",
      " 35  FATAL_PEDESTRIAN            597502 non-null  float64\n",
      " 36  TOTAL_VEHICLES              597502 non-null  float64\n",
      " 37  TOTAL_BICYCLES              597502 non-null  float64\n",
      " 38  TOTAL_PEDESTRIANS           597502 non-null  float64\n",
      " 39  PEDESTRIANSIMPAIRED         597502 non-null  float64\n",
      " 40  BICYCLISTSIMPAIRED          597502 non-null  float64\n",
      " 41  DRIVERSIMPAIRED             597502 non-null  float64\n",
      " 42  TOTAL_TAXIS                 597502 non-null  float64\n",
      " 43  TOTAL_GOVERNMENT            597502 non-null  float64\n",
      " 44  SPEEDING_INVOLVED           597502 non-null  float64\n",
      " 45  NEARESTINTROUTEID           597502 non-null  object \n",
      " 46  NEARESTINTSTREETNAME        597502 non-null  object \n",
      " 47  OFFINTERSECTION             597502 non-null  float64\n",
      " 48  INTAPPROACHDIRECTION        597502 non-null  object \n",
      " 49  LOCATIONERROR               22837 non-null   object \n",
      " 50  LASTUPDATEDATE              597502 non-null  object \n",
      " 51  MPDLATITUDE                 426570 non-null  float64\n",
      " 52  MPDLONGITUDE                426570 non-null  float64\n",
      " 53  MPDGEOX                     289690 non-null  float64\n",
      " 54  MPDGEOY                     289690 non-null  float64\n",
      " 55  BLOCKKEY                    597502 non-null  object \n",
      " 56  SUBBLOCKKEY                 597502 non-null  object \n",
      " 57  FATALPASSENGER              597502 non-null  float64\n",
      " 58  MAJORINJURIESPASSENGER      597502 non-null  float64\n",
      " 59  MINORINJURIESPASSENGER      597502 non-null  float64\n",
      " 60  UNKNOWNINJURIESPASSENGER    597502 non-null  float64\n",
      " 61  OBJECTID_y                  596381 non-null  float64\n",
      " 62  CCN_y                       596381 non-null  object \n",
      " 63  PERSONID                    596381 non-null  float64\n",
      " 64  PERSONTYPE                  596381 non-null  object \n",
      " 65  AGE                         426744 non-null  float64\n",
      " 66  FATAL                       596381 non-null  object \n",
      " 67  MAJORINJURY                 596381 non-null  object \n",
      " 68  MINORINJURY                 596381 non-null  object \n",
      " 69  VEHICLEID                   596381 non-null  object \n",
      " 70  INVEHICLETYPE               596381 non-null  object \n",
      " 71  TICKETISSUED                596381 non-null  object \n",
      " 72  LICENSEPLATESTATE           596381 non-null  object \n",
      " 73  IMPAIRED                    596381 non-null  object \n",
      " 74  SPEEDING                    596381 non-null  object \n",
      "dtypes: float64(47), int64(1), object(27)\n",
      "memory usage: 346.9+ MB\n"
     ]
    }
   ],
   "source": [
    "dcCrashes.info()"
   ]
  },
  {
   "cell_type": "code",
   "execution_count": 9,
   "metadata": {},
   "outputs": [
    {
     "data": {
      "text/plain": [
       "0    2021/03/10 02:41:05+00\n",
       "1    2021/03/10 02:41:05+00\n",
       "2    2021/03/10 02:57:24+00\n",
       "3    2021/03/10 02:57:24+00\n",
       "4    2021/03/10 03:23:07+00\n",
       "Name: REPORTDATE, dtype: object"
      ]
     },
     "execution_count": 9,
     "metadata": {},
     "output_type": "execute_result"
    }
   ],
   "source": [
    "# Check the format for the report dates\n",
    "\n",
    "dcCrashes['REPORTDATE'].head()"
   ]
  },
  {
   "cell_type": "code",
   "execution_count": 10,
   "metadata": {},
   "outputs": [
    {
     "name": "stderr",
     "output_type": "stream",
     "text": [
      "/Users/maryglantz/opt/anaconda3/envs/MCData205/lib/python3.7/site-packages/pandas/core/arrays/datetimes.py:1104: UserWarning: Converting to PeriodArray/Index representation will drop timezone information.\n",
      "  UserWarning,\n"
     ]
    }
   ],
   "source": [
    "# Change to date-time format, then separate years and years-months for comparison\n",
    "\n",
    "dcCrashes['REPORTDATE'] = pd.to_datetime(dcCrashes['REPORTDATE'])\n",
    "dcCrashes['YEAR'] = pd.DatetimeIndex(dcCrashes['REPORTDATE']).year.astype('Int64')\n",
    "dcCrashes['MONTH_YEAR'] = pd.to_datetime(dcCrashes['REPORTDATE']).dt.to_period('M')"
   ]
  },
  {
   "cell_type": "code",
   "execution_count": 11,
   "metadata": {},
   "outputs": [
    {
     "data": {
      "text/plain": [
       "0    2021\n",
       "1    2021\n",
       "2    2021\n",
       "3    2021\n",
       "4    2021\n",
       "Name: YEAR, dtype: object"
      ]
     },
     "execution_count": 11,
     "metadata": {},
     "output_type": "execute_result"
    }
   ],
   "source": [
    "dcCrashes['YEAR'].head()"
   ]
  },
  {
   "cell_type": "code",
   "execution_count": 61,
   "metadata": {},
   "outputs": [
    {
     "data": {
      "text/plain": [
       "array([2021., 2020., 2014., 2015., 2013., 2017., 2011., 2010., 2012.,\n",
       "       2016., 2009., 2018., 2019., 1970., 2008., 2005., 1993., 2000.,\n",
       "       2002., 2006., 2007., 1996., 2004., 2001., 1997., 1992., 1989.,\n",
       "       1998., 1994., 1990., 2003., 1999., 1991., 1975., 1995., 2025.,\n",
       "         nan])"
      ]
     },
     "execution_count": 61,
     "metadata": {},
     "output_type": "execute_result"
    }
   ],
   "source": [
    "dcCrashes['YEAR'].unique()"
   ]
  },
  {
   "cell_type": "markdown",
   "metadata": {},
   "source": [
    "2025 has not happened yet, so I will delete that entry."
   ]
  },
  {
   "cell_type": "code",
   "execution_count": 64,
   "metadata": {},
   "outputs": [
    {
     "data": {
      "text/plain": [
       "Int64Index([543191, 543192], dtype='int64')"
      ]
     },
     "execution_count": 64,
     "metadata": {},
     "output_type": "execute_result"
    }
   ],
   "source": [
    "index2025 = dcCrashes[dcCrashes['YEAR'] == 2025].index\n",
    "index2025"
   ]
  },
  {
   "cell_type": "code",
   "execution_count": 65,
   "metadata": {},
   "outputs": [],
   "source": [
    "dcCrashes.drop(index2025, inplace = True)"
   ]
  },
  {
   "cell_type": "code",
   "execution_count": 66,
   "metadata": {},
   "outputs": [
    {
     "name": "stdout",
     "output_type": "stream",
     "text": [
      "<class 'pandas.core.frame.DataFrame'>\n",
      "Int64Index: 598103 entries, 0 to 598104\n",
      "Data columns (total 77 columns):\n",
      " #   Column                      Non-Null Count   Dtype              \n",
      "---  ------                      --------------   -----              \n",
      " 0   Unnamed: 0                  597500 non-null  float64            \n",
      " 1   X                           597500 non-null  float64            \n",
      " 2   Y                           597500 non-null  float64            \n",
      " 3   OBJECTID_x                  597500 non-null  float64            \n",
      " 4   CRIMEID                     598103 non-null  int64              \n",
      " 5   CCN_x                       597500 non-null  object             \n",
      " 6   REPORTDATE                  597500 non-null  datetime64[ns, UTC]\n",
      " 7   ROUTEID                     597500 non-null  object             \n",
      " 8   MEASURE                     597500 non-null  float64            \n",
      " 9   OFFSET                      597500 non-null  float64            \n",
      " 10  STREETSEGID                 511701 non-null  float64            \n",
      " 11  ROADWAYSEGID                511701 non-null  float64            \n",
      " 12  FROMDATE                    597500 non-null  object             \n",
      " 13  TODATE                      597500 non-null  object             \n",
      " 14  MARID                       597500 non-null  float64            \n",
      " 15  ADDRESS                     597308 non-null  object             \n",
      " 16  LATITUDE                    597469 non-null  float64            \n",
      " 17  LONGITUDE                   597469 non-null  float64            \n",
      " 18  XCOORD                      597500 non-null  float64            \n",
      " 19  YCOORD                      597500 non-null  float64            \n",
      " 20  WARD                        597496 non-null  object             \n",
      " 21  EVENTID                     597500 non-null  object             \n",
      " 22  MAR_ADDRESS                 568734 non-null  object             \n",
      " 23  MAR_SCORE                   597500 non-null  float64            \n",
      " 24  MAJORINJURIES_BICYCLIST     597500 non-null  float64            \n",
      " 25  MINORINJURIES_BICYCLIST     597500 non-null  float64            \n",
      " 26  UNKNOWNINJURIES_BICYCLIST   597500 non-null  float64            \n",
      " 27  FATAL_BICYCLIST             597500 non-null  float64            \n",
      " 28  MAJORINJURIES_DRIVER        597500 non-null  float64            \n",
      " 29  MINORINJURIES_DRIVER        597500 non-null  float64            \n",
      " 30  UNKNOWNINJURIES_DRIVER      597500 non-null  float64            \n",
      " 31  FATAL_DRIVER                597500 non-null  float64            \n",
      " 32  MAJORINJURIES_PEDESTRIAN    597500 non-null  float64            \n",
      " 33  MINORINJURIES_PEDESTRIAN    597500 non-null  float64            \n",
      " 34  UNKNOWNINJURIES_PEDESTRIAN  597500 non-null  float64            \n",
      " 35  FATAL_PEDESTRIAN            597500 non-null  float64            \n",
      " 36  TOTAL_VEHICLES              597500 non-null  float64            \n",
      " 37  TOTAL_BICYCLES              597500 non-null  float64            \n",
      " 38  TOTAL_PEDESTRIANS           597500 non-null  float64            \n",
      " 39  PEDESTRIANSIMPAIRED         597500 non-null  float64            \n",
      " 40  BICYCLISTSIMPAIRED          597500 non-null  float64            \n",
      " 41  DRIVERSIMPAIRED             597500 non-null  float64            \n",
      " 42  TOTAL_TAXIS                 597500 non-null  float64            \n",
      " 43  TOTAL_GOVERNMENT            597500 non-null  float64            \n",
      " 44  SPEEDING_INVOLVED           597500 non-null  float64            \n",
      " 45  NEARESTINTROUTEID           597500 non-null  object             \n",
      " 46  NEARESTINTSTREETNAME        597500 non-null  object             \n",
      " 47  OFFINTERSECTION             597500 non-null  float64            \n",
      " 48  INTAPPROACHDIRECTION        597500 non-null  object             \n",
      " 49  LOCATIONERROR               22837 non-null   object             \n",
      " 50  LASTUPDATEDATE              597500 non-null  object             \n",
      " 51  MPDLATITUDE                 426570 non-null  float64            \n",
      " 52  MPDLONGITUDE                426570 non-null  float64            \n",
      " 53  MPDGEOX                     289690 non-null  float64            \n",
      " 54  MPDGEOY                     289690 non-null  float64            \n",
      " 55  BLOCKKEY                    597500 non-null  object             \n",
      " 56  SUBBLOCKKEY                 597500 non-null  object             \n",
      " 57  FATALPASSENGER              597500 non-null  float64            \n",
      " 58  MAJORINJURIESPASSENGER      597500 non-null  float64            \n",
      " 59  MINORINJURIESPASSENGER      597500 non-null  float64            \n",
      " 60  UNKNOWNINJURIESPASSENGER    597500 non-null  float64            \n",
      " 61  OBJECTID_y                  596275 non-null  float64            \n",
      " 62  CCN_y                       596275 non-null  object             \n",
      " 63  PERSONID                    596275 non-null  float64            \n",
      " 64  PERSONTYPE                  596275 non-null  object             \n",
      " 65  AGE                         426639 non-null  float64            \n",
      " 66  FATAL                       596275 non-null  object             \n",
      " 67  MAJORINJURY                 596275 non-null  object             \n",
      " 68  MINORINJURY                 596275 non-null  object             \n",
      " 69  VEHICLEID                   596275 non-null  object             \n",
      " 70  INVEHICLETYPE               596275 non-null  object             \n",
      " 71  TICKETISSUED                596275 non-null  object             \n",
      " 72  LICENSEPLATESTATE           596275 non-null  object             \n",
      " 73  IMPAIRED                    596275 non-null  object             \n",
      " 74  SPEEDING                    596275 non-null  object             \n",
      " 75  YEAR                        597500 non-null  float64            \n",
      " 76  MONTH_YEAR                  597500 non-null  period[M]          \n",
      "dtypes: datetime64[ns, UTC](1), float64(48), int64(1), object(26), period[M](1)\n",
      "memory usage: 355.9+ MB\n"
     ]
    }
   ],
   "source": [
    "dcCrashes.info()"
   ]
  },
  {
   "cell_type": "markdown",
   "metadata": {},
   "source": [
    "## Fatal Crashes in DC"
   ]
  },
  {
   "cell_type": "code",
   "execution_count": 67,
   "metadata": {},
   "outputs": [
    {
     "data": {
      "text/plain": [
       "array(['N', nan, 'Y'], dtype=object)"
      ]
     },
     "execution_count": 67,
     "metadata": {},
     "output_type": "execute_result"
    }
   ],
   "source": [
    "dcCrashes['FATAL'].unique()"
   ]
  },
  {
   "cell_type": "code",
   "execution_count": 68,
   "metadata": {},
   "outputs": [
    {
     "data": {
      "text/plain": [
       "1828"
      ]
     },
     "execution_count": 68,
     "metadata": {},
     "output_type": "execute_result"
    }
   ],
   "source": [
    "# How many of my entries are na for Fatalities?\n",
    "dcCrashes['FATAL'].isna().sum()"
   ]
  },
  {
   "cell_type": "code",
   "execution_count": 13,
   "metadata": {},
   "outputs": [
    {
     "data": {
      "text/plain": [
       "3632      Y\n",
       "6325      Y\n",
       "8062      Y\n",
       "10104     Y\n",
       "11333     Y\n",
       "         ..\n",
       "587906    Y\n",
       "592080    Y\n",
       "592689    Y\n",
       "596271    Y\n",
       "597637    Y\n",
       "Name: FATAL, Length: 417, dtype: object"
      ]
     },
     "execution_count": 13,
     "metadata": {},
     "output_type": "execute_result"
    }
   ],
   "source": [
    "# Since I'm just counting fatalities, 1828 of about 60000 should be fine.  \n",
    "isfatal = dcCrashes['FATAL'] == 'Y'\n",
    "fatalCrashes = dcCrashes[isfatal]\n",
    "fatalCrashes['FATAL']"
   ]
  },
  {
   "cell_type": "code",
   "execution_count": 14,
   "metadata": {},
   "outputs": [
    {
     "data": {
      "text/plain": [
       "YEAR\n",
       "1970     2\n",
       "2008    11\n",
       "2009    25\n",
       "2010    21\n",
       "2011    22\n",
       "2012    24\n",
       "2013    44\n",
       "2014    53\n",
       "2015    49\n",
       "2016    36\n",
       "2017    34\n",
       "2018    32\n",
       "2019    27\n",
       "2020    32\n",
       "2021     4\n",
       "dtype: int64"
      ]
     },
     "execution_count": 14,
     "metadata": {},
     "output_type": "execute_result"
    }
   ],
   "source": [
    "fatalCrashes.groupby(['YEAR']).size()"
   ]
  },
  {
   "cell_type": "markdown",
   "metadata": {},
   "source": [
    "#### Fatal Crashes in DC **declined** from 34 in 2017 to 32 in 2020, or by 5%.  "
   ]
  },
  {
   "cell_type": "code",
   "execution_count": 15,
   "metadata": {},
   "outputs": [
    {
     "data": {
      "text/plain": [
       "<AxesSubplot:title={'center':'Fatal Crashes in Washington, DC by Year'}, xlabel='YEAR', ylabel='Number of Fatal Accidents'>"
      ]
     },
     "execution_count": 15,
     "metadata": {},
     "output_type": "execute_result"
    },
    {
     "data": {
      "image/png": "[encoded data removed]",
      "text/plain": [
       "<Figure size 432x288 with 1 Axes>"
      ]
     },
     "metadata": {},
     "output_type": "display_data"
    }
   ],
   "source": [
    "plt.title(\"Fatal Crashes in Washington, DC by Year\")\n",
    "plt.xlabel(\"Year\")\n",
    "plt.ylabel(\"Number of Fatal Accidents\")\n",
    "plt.style.use('seaborn-darkgrid')\n",
    "\n",
    "fatalCrashes.groupby(['YEAR']).size().plot(kind = 'bar')\n"
   ]
  },
  {
   "cell_type": "markdown",
   "metadata": {},
   "source": [
    "The visualization shows, however, that despite the overall decline from 2017, 2020 did uptick from 2019.  \n",
    "\n",
    "Let's categorize the data by type of fatality, and see if it varies."
   ]
  },
  {
   "cell_type": "code",
   "execution_count": 72,
   "metadata": {},
   "outputs": [
    {
     "data": {
      "text/plain": [
       "array([ 0.,  1.,  2., nan])"
      ]
     },
     "execution_count": 72,
     "metadata": {},
     "output_type": "execute_result"
    }
   ],
   "source": [
    "fatalCrashes[\"FATAL_PEDESTRIAN\"].unique()"
   ]
  },
  {
   "cell_type": "code",
   "execution_count": 73,
   "metadata": {},
   "outputs": [
    {
     "data": {
      "text/plain": [
       "array([ 1.,  0.,  2., nan])"
      ]
     },
     "execution_count": 73,
     "metadata": {},
     "output_type": "execute_result"
    }
   ],
   "source": [
    "fatalCrashes[\"FATAL_DRIVER\"].unique()"
   ]
  },
  {
   "cell_type": "code",
   "execution_count": 74,
   "metadata": {},
   "outputs": [
    {
     "data": {
      "text/plain": [
       "array([ 0.,  1., nan])"
      ]
     },
     "execution_count": 74,
     "metadata": {},
     "output_type": "execute_result"
    }
   ],
   "source": [
    "fatalCrashes[\"FATAL_BICYCLIST\"].unique()"
   ]
  },
  {
   "cell_type": "markdown",
   "metadata": {},
   "source": [
    "This data lists the number of fatalities of each type per each incident.  "
   ]
  },
  {
   "cell_type": "code",
   "execution_count": 140,
   "metadata": {},
   "outputs": [
    {
     "data": {
      "image/png": "[encoded data removed]",
      "text/plain": [
       "<Figure size 432x288 with 1 Axes>"
      ]
     },
     "metadata": {},
     "output_type": "display_data"
    }
   ],
   "source": [
    "fatalPeds = fatalCrashes[\"FATAL_PEDESTRIAN\"] != 0\n",
    "fatalPedsCrash = fatalCrashes[fatalPeds]\n",
    "fatalPedsCrash.groupby(['YEAR']).size().plot(kind = 'bar')\n",
    "plt.style.use('seaborn-darkgrid')"
   ]
  },
  {
   "cell_type": "code",
   "execution_count": 141,
   "metadata": {},
   "outputs": [
    {
     "data": {
      "image/png": "[encoded data removed]",
      "text/plain": [
       "<Figure size 432x288 with 1 Axes>"
      ]
     },
     "metadata": {},
     "output_type": "display_data"
    }
   ],
   "source": [
    "fatalBikes = fatalCrashes[\"FATAL_BICYCLIST\"] != 0\n",
    "fatalBikesCrash = fatalCrashes[fatalBikes]\n",
    "fatalBikesCrash.groupby(['YEAR']).size().plot(kind = 'bar')\n",
    "plt.style.use('seaborn-darkgrid')"
   ]
  },
  {
   "cell_type": "code",
   "execution_count": 136,
   "metadata": {},
   "outputs": [
    {
     "data": {
      "image/png": "[encoded data removed]",
      "text/plain": [
       "<Figure size 432x288 with 1 Axes>"
      ]
     },
     "metadata": {},
     "output_type": "display_data"
    }
   ],
   "source": [
    "fatalCars = fatalCrashes[\"FATAL_DRIVER\"] != 0\n",
    "fatalCarsCrash = fatalCrashes[fatalCars]\n",
    "fatalCarsCrash.groupby(['YEAR']).size().plot(kind = 'bar')\n",
    "plt.style.use('fivethirtyeight')"
   ]
  },
  {
   "cell_type": "markdown",
   "metadata": {},
   "source": [
    "This is a little surprising.  I suspected that with the pandemic, more people were walking and biking, and, thus, those numbers would have increased.  Paradoxically, the fatalities to people inside the vehicle actually increased.  Perhaps this was due to a decrease in traffic, resulting in less traffic, but more severe crashes.\n",
    "\n",
    "Sadly, DC does not have traffic volume data for 2020 available yet (the most recent is 2018)."
   ]
  },
  {
   "cell_type": "code",
   "execution_count": 16,
   "metadata": {},
   "outputs": [
    {
     "data": {
      "text/plain": [
       "array(['N', nan, 'Y'], dtype=object)"
      ]
     },
     "execution_count": 16,
     "metadata": {},
     "output_type": "execute_result"
    }
   ],
   "source": [
    "# Do the same thing for major injuries\n",
    "dcCrashes['MAJORINJURY'].unique()"
   ]
  },
  {
   "cell_type": "code",
   "execution_count": 17,
   "metadata": {},
   "outputs": [
    {
     "data": {
      "text/plain": [
       "1828"
      ]
     },
     "execution_count": 17,
     "metadata": {},
     "output_type": "execute_result"
    }
   ],
   "source": [
    "dcCrashes['MAJORINJURY'].isna().sum()"
   ]
  },
  {
   "cell_type": "code",
   "execution_count": 18,
   "metadata": {},
   "outputs": [
    {
     "data": {
      "text/plain": [
       "287       Y\n",
       "596       Y\n",
       "601       Y\n",
       "603       Y\n",
       "606       Y\n",
       "         ..\n",
       "596880    Y\n",
       "597196    Y\n",
       "597299    Y\n",
       "597432    Y\n",
       "597514    Y\n",
       "Name: MAJORINJURY, Length: 21373, dtype: object"
      ]
     },
     "execution_count": 18,
     "metadata": {},
     "output_type": "execute_result"
    }
   ],
   "source": [
    "# Since I'm just counting fatalities, 1828 of about 60000 should be fine.  \n",
    "isMajor = dcCrashes['MAJORINJURY'] == 'Y'\n",
    "majorCrashes = dcCrashes[isMajor]\n",
    "majorCrashes['MAJORINJURY']"
   ]
  },
  {
   "cell_type": "code",
   "execution_count": 19,
   "metadata": {},
   "outputs": [
    {
     "data": {
      "text/plain": [
       "YEAR\n",
       "1970     168\n",
       "2000      25\n",
       "2008     369\n",
       "2009    2694\n",
       "2010    2106\n",
       "2011    3106\n",
       "2012    2914\n",
       "2013    3039\n",
       "2014    3109\n",
       "2015    1551\n",
       "2016     505\n",
       "2017     471\n",
       "2018     433\n",
       "2019     445\n",
       "2020     373\n",
       "2021      64\n",
       "dtype: int64"
      ]
     },
     "execution_count": 19,
     "metadata": {},
     "output_type": "execute_result"
    }
   ],
   "source": [
    "majorCrashes.groupby(['YEAR']).size()"
   ]
  },
  {
   "cell_type": "markdown",
   "metadata": {},
   "source": [
    "#### Major injuries in DC **declined** from 471 in 2017 to 373 in 2020, or about 21%"
   ]
  },
  {
   "cell_type": "code",
   "execution_count": 20,
   "metadata": {},
   "outputs": [
    {
     "data": {
      "image/png": "[encoded data removed]",
      "text/plain": [
       "<Figure size 432x288 with 1 Axes>"
      ]
     },
     "metadata": {},
     "output_type": "display_data"
    }
   ],
   "source": [
    "plt.title(\"Major Injury Crashes in Washington, DC by Year\")\n",
    "plt.xlabel(\"Year\")\n",
    "plt.ylabel(\"Number of Major Injury Accidents\")\n",
    "\n",
    "majorCrashes.groupby(['YEAR']).size().plot(kind = 'bar')\n",
    "plt.style.use('fivethirtyeight')\n"
   ]
  },
  {
   "cell_type": "markdown",
   "metadata": {},
   "source": [
    "While I'm comparing DC's rates with Montgomery County's from 2017 to 2020, it is interesting to note that DC began implementation of VisionZero in 2015."
   ]
  },
  {
   "cell_type": "code",
   "execution_count": 22,
   "metadata": {},
   "outputs": [
    {
     "name": "stderr",
     "output_type": "stream",
     "text": [
      "/Users/maryglantz/opt/anaconda3/envs/MCData205/lib/python3.7/site-packages/ipykernel_launcher.py:3: UserWarning: Boolean Series key will be reindexed to match DataFrame index.\n",
      "  This is separate from the ipykernel package so we can avoid doing imports until\n",
      "/Users/maryglantz/opt/anaconda3/envs/MCData205/lib/python3.7/site-packages/ipykernel_launcher.py:6: UserWarning: Boolean Series key will be reindexed to match DataFrame index.\n",
      "  \n"
     ]
    },
    {
     "data": {
      "text/plain": [
       "3632      Y\n",
       "6325      Y\n",
       "13049     Y\n",
       "14109     Y\n",
       "25268     Y\n",
       "         ..\n",
       "580676    Y\n",
       "581627    Y\n",
       "592080    Y\n",
       "592689    Y\n",
       "596271    Y\n",
       "Name: FATAL, Length: 214, dtype: object"
      ]
     },
     "execution_count": 22,
     "metadata": {},
     "output_type": "execute_result"
    }
   ],
   "source": [
    "since2015 = dcCrashes['YEAR']>=2015 \n",
    "since2015Crashes = dcCrashes[since2015]\n",
    "newMajorCrashes = since2015Crashes[isMajor]\n",
    "newMajorCrashes['MAJORINJURY']\n",
    "\n",
    "newFatalCrashes = since2015Crashes[isfatal]\n",
    "newFatalCrashes['FATAL']\n",
    "\n"
   ]
  },
  {
   "cell_type": "code",
   "execution_count": 23,
   "metadata": {},
   "outputs": [
    {
     "data": {
      "image/png": "[encoded data removed]",
      "text/plain": [
       "<Figure size 640x480 with 2 Axes>"
      ]
     },
     "metadata": {},
     "output_type": "display_data"
    }
   ],
   "source": [
    "fig = plt.figure()\n",
    "plt.style.use('default')\n",
    "plt.tight_layout()\n",
    "\n",
    "ax1 = fig.add_subplot(1,2,1)\n",
    "ax2 = fig.add_subplot(1,2,2)\n",
    "\n",
    "plt.title(\"Crashes in Washington, DC\")\n",
    "ax1.plot(newMajorCrashes.groupby(['YEAR']).size(), label = \"Major Injuries\", color = 'red', marker = 'o')\n",
    "ax1.plot(newFatalCrashes.groupby(['YEAR']).size(), label = \"Fatal Crashes\", color = 'blue', marker = 'o')\n",
    "ax1.set_title(\"Crashes in Washington, DC\")\n",
    "\n",
    "\n",
    "ax1.legend()\n",
    "ax1.grid(axis='x', color='0.95')\n",
    "\n",
    "ax2.plot(since2015Crashes.groupby(['YEAR']).size(), label = \"Total Crashes\", color = 'purple', marker = 'o')\n",
    "\n",
    "ax2.legend()\n",
    "ax2.set_title(\"Crashes in Washington, DC\")\n",
    "ax2.grid(axis='x', color='0.95')\n",
    "\n"
   ]
  },
  {
   "cell_type": "code",
   "execution_count": null,
   "metadata": {},
   "outputs": [],
   "source": []
  }
 ],
 "metadata": {
  "kernelspec": {
   "display_name": "Python 3",
   "language": "python",
   "name": "python3"
  },
  "language_info": {
   "codemirror_mode": {
    "name": "ipython",
    "version": 3
   },
   "file_extension": ".py",
   "mimetype": "text/x-python",
   "name": "python",
   "nbconvert_exporter": "python",
   "pygments_lexer": "ipython3",
   "version": "3.7.7"
  }
 },
 "nbformat": 4,
 "nbformat_minor": 4
}
