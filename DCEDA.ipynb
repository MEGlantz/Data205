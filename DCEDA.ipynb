{
 "cells": [
  {
   "cell_type": "markdown",
   "metadata": {},
   "source": [
    "# EDA for Washington, DC Data"
   ]
  },
  {
   "cell_type": "code",
   "execution_count": 1,
   "metadata": {},
   "outputs": [],
   "source": [
    "import numpy as np\n",
    "import pandas as pd\n",
    "import datetime\n",
    "import matplotlib.pyplot as plt\n",
    "%matplotlib inline"
   ]
  },
  {
   "cell_type": "code",
   "execution_count": 2,
   "metadata": {},
   "outputs": [],
   "source": [
    "dcdata = pd.read_csv(\"crashesDCdf_clean.csv\", low_memory = False)"
   ]
  },
  {
   "cell_type": "code",
   "execution_count": 3,
   "metadata": {},
   "outputs": [
    {
     "name": "stdout",
     "output_type": "stream",
     "text": [
      "<class 'pandas.core.frame.DataFrame'>\n",
      "RangeIndex: 246150 entries, 0 to 246149\n",
      "Data columns (total 61 columns):\n",
      " #   Column                      Non-Null Count   Dtype  \n",
      "---  ------                      --------------   -----  \n",
      " 0   Unnamed: 0                  246150 non-null  int64  \n",
      " 1   X                           246150 non-null  float64\n",
      " 2   Y                           246150 non-null  float64\n",
      " 3   OBJECTID                    246150 non-null  int64  \n",
      " 4   CRIMEID                     246150 non-null  int64  \n",
      " 5   CCN                         246150 non-null  object \n",
      " 6   REPORTDATE                  246150 non-null  object \n",
      " 7   ROUTEID                     246150 non-null  object \n",
      " 8   MEASURE                     246150 non-null  float64\n",
      " 9   OFFSET                      246150 non-null  float64\n",
      " 10  STREETSEGID                 208314 non-null  float64\n",
      " 11  ROADWAYSEGID                208314 non-null  float64\n",
      " 12  FROMDATE                    246150 non-null  object \n",
      " 13  TODATE                      246150 non-null  object \n",
      " 14  MARID                       246150 non-null  int64  \n",
      " 15  ADDRESS                     246069 non-null  object \n",
      " 16  LATITUDE                    246140 non-null  float64\n",
      " 17  LONGITUDE                   246140 non-null  float64\n",
      " 18  XCOORD                      246150 non-null  float64\n",
      " 19  YCOORD                      246150 non-null  float64\n",
      " 20  WARD                        246148 non-null  object \n",
      " 21  EVENTID                     246150 non-null  object \n",
      " 22  MAR_ADDRESS                 234571 non-null  object \n",
      " 23  MAR_SCORE                   246150 non-null  float64\n",
      " 24  MAJORINJURIES_BICYCLIST     246150 non-null  int64  \n",
      " 25  MINORINJURIES_BICYCLIST     246150 non-null  int64  \n",
      " 26  UNKNOWNINJURIES_BICYCLIST   246150 non-null  int64  \n",
      " 27  FATAL_BICYCLIST             246150 non-null  int64  \n",
      " 28  MAJORINJURIES_DRIVER        246150 non-null  int64  \n",
      " 29  MINORINJURIES_DRIVER        246150 non-null  int64  \n",
      " 30  UNKNOWNINJURIES_DRIVER      246150 non-null  int64  \n",
      " 31  FATAL_DRIVER                246150 non-null  int64  \n",
      " 32  MAJORINJURIES_PEDESTRIAN    246150 non-null  int64  \n",
      " 33  MINORINJURIES_PEDESTRIAN    246150 non-null  int64  \n",
      " 34  UNKNOWNINJURIES_PEDESTRIAN  246150 non-null  int64  \n",
      " 35  FATAL_PEDESTRIAN            246150 non-null  int64  \n",
      " 36  TOTAL_VEHICLES              246150 non-null  int64  \n",
      " 37  TOTAL_BICYCLES              246150 non-null  int64  \n",
      " 38  TOTAL_PEDESTRIANS           246150 non-null  int64  \n",
      " 39  PEDESTRIANSIMPAIRED         246150 non-null  int64  \n",
      " 40  BICYCLISTSIMPAIRED          246150 non-null  int64  \n",
      " 41  DRIVERSIMPAIRED             246150 non-null  int64  \n",
      " 42  TOTAL_TAXIS                 246150 non-null  int64  \n",
      " 43  TOTAL_GOVERNMENT            246150 non-null  int64  \n",
      " 44  SPEEDING_INVOLVED           246150 non-null  int64  \n",
      " 45  NEARESTINTROUTEID           246150 non-null  object \n",
      " 46  NEARESTINTSTREETNAME        246150 non-null  object \n",
      " 47  OFFINTERSECTION             246150 non-null  float64\n",
      " 48  INTAPPROACHDIRECTION        246150 non-null  object \n",
      " 49  LOCATIONERROR               9572 non-null    object \n",
      " 50  LASTUPDATEDATE              246150 non-null  object \n",
      " 51  MPDLATITUDE                 179105 non-null  float64\n",
      " 52  MPDLONGITUDE                179105 non-null  float64\n",
      " 53  MPDGEOX                     125610 non-null  float64\n",
      " 54  MPDGEOY                     125610 non-null  float64\n",
      " 55  BLOCKKEY                    246150 non-null  object \n",
      " 56  SUBBLOCKKEY                 246150 non-null  object \n",
      " 57  FATALPASSENGER              246150 non-null  int64  \n",
      " 58  MAJORINJURIESPASSENGER      246150 non-null  int64  \n",
      " 59  MINORINJURIESPASSENGER      246150 non-null  int64  \n",
      " 60  UNKNOWNINJURIESPASSENGER    246150 non-null  int64  \n",
      "dtypes: float64(16), int64(29), object(16)\n",
      "memory usage: 114.6+ MB\n"
     ]
    }
   ],
   "source": [
    "dcdata.info()"
   ]
  },
  {
   "cell_type": "code",
   "execution_count": 4,
   "metadata": {},
   "outputs": [
    {
     "data": {
      "text/plain": [
       "array([0, 1, 2])"
      ]
     },
     "execution_count": 4,
     "metadata": {},
     "output_type": "execute_result"
    }
   ],
   "source": [
    "dcdata['FATAL_DRIVER'].unique()"
   ]
  },
  {
   "cell_type": "code",
   "execution_count": 5,
   "metadata": {},
   "outputs": [],
   "source": [
    "# This is a companion data set to dcdata, linked by \"CRIMEID\"\n",
    "\n",
    "dcdetaildata = pd.read_csv(\"https://opendata.arcgis.com/datasets/70248b73c20f46b0a5ee895fc91d6222_25.csv\", low_memory = False)"
   ]
  },
  {
   "cell_type": "code",
   "execution_count": 6,
   "metadata": {},
   "outputs": [],
   "source": [
    "dcCrashes = dcdata.merge(dcdetaildata, on = \"CRIMEID\", how = 'outer')"
   ]
  },
  {
   "cell_type": "code",
   "execution_count": 7,
   "metadata": {},
   "outputs": [
    {
     "name": "stdout",
     "output_type": "stream",
     "text": [
      "<class 'pandas.core.frame.DataFrame'>\n",
      "Int64Index: 597962 entries, 0 to 597961\n",
      "Data columns (total 75 columns):\n",
      " #   Column                      Non-Null Count   Dtype  \n",
      "---  ------                      --------------   -----  \n",
      " 0   Unnamed: 0                  597502 non-null  float64\n",
      " 1   X                           597502 non-null  float64\n",
      " 2   Y                           597502 non-null  float64\n",
      " 3   OBJECTID_x                  597502 non-null  float64\n",
      " 4   CRIMEID                     597962 non-null  int64  \n",
      " 5   CCN_x                       597502 non-null  object \n",
      " 6   REPORTDATE                  597502 non-null  object \n",
      " 7   ROUTEID                     597502 non-null  object \n",
      " 8   MEASURE                     597502 non-null  float64\n",
      " 9   OFFSET                      597502 non-null  float64\n",
      " 10  STREETSEGID                 511703 non-null  float64\n",
      " 11  ROADWAYSEGID                511703 non-null  float64\n",
      " 12  FROMDATE                    597502 non-null  object \n",
      " 13  TODATE                      597502 non-null  object \n",
      " 14  MARID                       597502 non-null  float64\n",
      " 15  ADDRESS                     597310 non-null  object \n",
      " 16  LATITUDE                    597471 non-null  float64\n",
      " 17  LONGITUDE                   597471 non-null  float64\n",
      " 18  XCOORD                      597502 non-null  float64\n",
      " 19  YCOORD                      597502 non-null  float64\n",
      " 20  WARD                        597498 non-null  object \n",
      " 21  EVENTID                     597502 non-null  object \n",
      " 22  MAR_ADDRESS                 568736 non-null  object \n",
      " 23  MAR_SCORE                   597502 non-null  float64\n",
      " 24  MAJORINJURIES_BICYCLIST     597502 non-null  float64\n",
      " 25  MINORINJURIES_BICYCLIST     597502 non-null  float64\n",
      " 26  UNKNOWNINJURIES_BICYCLIST   597502 non-null  float64\n",
      " 27  FATAL_BICYCLIST             597502 non-null  float64\n",
      " 28  MAJORINJURIES_DRIVER        597502 non-null  float64\n",
      " 29  MINORINJURIES_DRIVER        597502 non-null  float64\n",
      " 30  UNKNOWNINJURIES_DRIVER      597502 non-null  float64\n",
      " 31  FATAL_DRIVER                597502 non-null  float64\n",
      " 32  MAJORINJURIES_PEDESTRIAN    597502 non-null  float64\n",
      " 33  MINORINJURIES_PEDESTRIAN    597502 non-null  float64\n",
      " 34  UNKNOWNINJURIES_PEDESTRIAN  597502 non-null  float64\n",
      " 35  FATAL_PEDESTRIAN            597502 non-null  float64\n",
      " 36  TOTAL_VEHICLES              597502 non-null  float64\n",
      " 37  TOTAL_BICYCLES              597502 non-null  float64\n",
      " 38  TOTAL_PEDESTRIANS           597502 non-null  float64\n",
      " 39  PEDESTRIANSIMPAIRED         597502 non-null  float64\n",
      " 40  BICYCLISTSIMPAIRED          597502 non-null  float64\n",
      " 41  DRIVERSIMPAIRED             597502 non-null  float64\n",
      " 42  TOTAL_TAXIS                 597502 non-null  float64\n",
      " 43  TOTAL_GOVERNMENT            597502 non-null  float64\n",
      " 44  SPEEDING_INVOLVED           597502 non-null  float64\n",
      " 45  NEARESTINTROUTEID           597502 non-null  object \n",
      " 46  NEARESTINTSTREETNAME        597502 non-null  object \n",
      " 47  OFFINTERSECTION             597502 non-null  float64\n",
      " 48  INTAPPROACHDIRECTION        597502 non-null  object \n",
      " 49  LOCATIONERROR               22837 non-null   object \n",
      " 50  LASTUPDATEDATE              597502 non-null  object \n",
      " 51  MPDLATITUDE                 426570 non-null  float64\n",
      " 52  MPDLONGITUDE                426570 non-null  float64\n",
      " 53  MPDGEOX                     289690 non-null  float64\n",
      " 54  MPDGEOY                     289690 non-null  float64\n",
      " 55  BLOCKKEY                    597502 non-null  object \n",
      " 56  SUBBLOCKKEY                 597502 non-null  object \n",
      " 57  FATALPASSENGER              597502 non-null  float64\n",
      " 58  MAJORINJURIESPASSENGER      597502 non-null  float64\n",
      " 59  MINORINJURIESPASSENGER      597502 non-null  float64\n",
      " 60  UNKNOWNINJURIESPASSENGER    597502 non-null  float64\n",
      " 61  OBJECTID_y                  596134 non-null  float64\n",
      " 62  CCN_y                       596134 non-null  object \n",
      " 63  PERSONID                    596134 non-null  float64\n",
      " 64  PERSONTYPE                  596134 non-null  object \n",
      " 65  AGE                         426497 non-null  float64\n",
      " 66  FATAL                       596134 non-null  object \n",
      " 67  MAJORINJURY                 596134 non-null  object \n",
      " 68  MINORINJURY                 596134 non-null  object \n",
      " 69  VEHICLEID                   596134 non-null  object \n",
      " 70  INVEHICLETYPE               596134 non-null  object \n",
      " 71  TICKETISSUED                596134 non-null  object \n",
      " 72  LICENSEPLATESTATE           596134 non-null  object \n",
      " 73  IMPAIRED                    596134 non-null  object \n",
      " 74  SPEEDING                    596134 non-null  object \n",
      "dtypes: float64(47), int64(1), object(27)\n",
      "memory usage: 346.7+ MB\n"
     ]
    }
   ],
   "source": [
    "dcCrashes.info()"
   ]
  },
  {
   "cell_type": "code",
   "execution_count": 9,
   "metadata": {},
   "outputs": [
    {
     "data": {
      "text/plain": [
       "0    2021/03/10 02:41:05+00\n",
       "1    2021/03/10 02:41:05+00\n",
       "2    2021/03/10 02:57:24+00\n",
       "3    2021/03/10 02:57:24+00\n",
       "4    2021/03/10 03:23:07+00\n",
       "Name: REPORTDATE, dtype: object"
      ]
     },
     "execution_count": 9,
     "metadata": {},
     "output_type": "execute_result"
    }
   ],
   "source": [
    "# Check the format for the report dates\n",
    "\n",
    "dcCrashes['REPORTDATE'].head()"
   ]
  },
  {
   "cell_type": "code",
   "execution_count": 11,
   "metadata": {},
   "outputs": [
    {
     "name": "stderr",
     "output_type": "stream",
     "text": [
      "/Users/maryglantz/opt/anaconda3/lib/python3.8/site-packages/pandas/core/arrays/datetimes.py:1101: UserWarning: Converting to PeriodArray/Index representation will drop timezone information.\n",
      "  warnings.warn(\n"
     ]
    }
   ],
   "source": [
    "# Change to date-time format, then separate years and years-months for comparison\n",
    "\n",
    "dcCrashes['REPORTDATE'] = pd.to_datetime(dcCrashes['REPORTDATE'])\n",
    "dcCrashes['YEAR'] = pd.DatetimeIndex(dcCrashes['REPORTDATE']).year\n",
    "dcCrashes['MONTH_YEAR'] = pd.to_datetime(dcCrashes['REPORTDATE']).dt.to_period('M')"
   ]
  },
  {
   "cell_type": "code",
   "execution_count": 33,
   "metadata": {},
   "outputs": [
    {
     "data": {
      "text/plain": [
       "0    2021.0\n",
       "1    2021.0\n",
       "2    2021.0\n",
       "3    2021.0\n",
       "4    2021.0\n",
       "Name: YEAR, dtype: float64"
      ]
     },
     "execution_count": 33,
     "metadata": {},
     "output_type": "execute_result"
    }
   ],
   "source": [
    "dcCrashes['YEAR'].head()"
   ]
  },
  {
   "cell_type": "code",
   "execution_count": 12,
   "metadata": {},
   "outputs": [
    {
     "name": "stdout",
     "output_type": "stream",
     "text": [
      "<class 'pandas.core.frame.DataFrame'>\n",
      "Int64Index: 597962 entries, 0 to 597961\n",
      "Data columns (total 77 columns):\n",
      " #   Column                      Non-Null Count   Dtype              \n",
      "---  ------                      --------------   -----              \n",
      " 0   Unnamed: 0                  597502 non-null  float64            \n",
      " 1   X                           597502 non-null  float64            \n",
      " 2   Y                           597502 non-null  float64            \n",
      " 3   OBJECTID_x                  597502 non-null  float64            \n",
      " 4   CRIMEID                     597962 non-null  int64              \n",
      " 5   CCN_x                       597502 non-null  object             \n",
      " 6   REPORTDATE                  597502 non-null  datetime64[ns, UTC]\n",
      " 7   ROUTEID                     597502 non-null  object             \n",
      " 8   MEASURE                     597502 non-null  float64            \n",
      " 9   OFFSET                      597502 non-null  float64            \n",
      " 10  STREETSEGID                 511703 non-null  float64            \n",
      " 11  ROADWAYSEGID                511703 non-null  float64            \n",
      " 12  FROMDATE                    597502 non-null  object             \n",
      " 13  TODATE                      597502 non-null  object             \n",
      " 14  MARID                       597502 non-null  float64            \n",
      " 15  ADDRESS                     597310 non-null  object             \n",
      " 16  LATITUDE                    597471 non-null  float64            \n",
      " 17  LONGITUDE                   597471 non-null  float64            \n",
      " 18  XCOORD                      597502 non-null  float64            \n",
      " 19  YCOORD                      597502 non-null  float64            \n",
      " 20  WARD                        597498 non-null  object             \n",
      " 21  EVENTID                     597502 non-null  object             \n",
      " 22  MAR_ADDRESS                 568736 non-null  object             \n",
      " 23  MAR_SCORE                   597502 non-null  float64            \n",
      " 24  MAJORINJURIES_BICYCLIST     597502 non-null  float64            \n",
      " 25  MINORINJURIES_BICYCLIST     597502 non-null  float64            \n",
      " 26  UNKNOWNINJURIES_BICYCLIST   597502 non-null  float64            \n",
      " 27  FATAL_BICYCLIST             597502 non-null  float64            \n",
      " 28  MAJORINJURIES_DRIVER        597502 non-null  float64            \n",
      " 29  MINORINJURIES_DRIVER        597502 non-null  float64            \n",
      " 30  UNKNOWNINJURIES_DRIVER      597502 non-null  float64            \n",
      " 31  FATAL_DRIVER                597502 non-null  float64            \n",
      " 32  MAJORINJURIES_PEDESTRIAN    597502 non-null  float64            \n",
      " 33  MINORINJURIES_PEDESTRIAN    597502 non-null  float64            \n",
      " 34  UNKNOWNINJURIES_PEDESTRIAN  597502 non-null  float64            \n",
      " 35  FATAL_PEDESTRIAN            597502 non-null  float64            \n",
      " 36  TOTAL_VEHICLES              597502 non-null  float64            \n",
      " 37  TOTAL_BICYCLES              597502 non-null  float64            \n",
      " 38  TOTAL_PEDESTRIANS           597502 non-null  float64            \n",
      " 39  PEDESTRIANSIMPAIRED         597502 non-null  float64            \n",
      " 40  BICYCLISTSIMPAIRED          597502 non-null  float64            \n",
      " 41  DRIVERSIMPAIRED             597502 non-null  float64            \n",
      " 42  TOTAL_TAXIS                 597502 non-null  float64            \n",
      " 43  TOTAL_GOVERNMENT            597502 non-null  float64            \n",
      " 44  SPEEDING_INVOLVED           597502 non-null  float64            \n",
      " 45  NEARESTINTROUTEID           597502 non-null  object             \n",
      " 46  NEARESTINTSTREETNAME        597502 non-null  object             \n",
      " 47  OFFINTERSECTION             597502 non-null  float64            \n",
      " 48  INTAPPROACHDIRECTION        597502 non-null  object             \n",
      " 49  LOCATIONERROR               22837 non-null   object             \n",
      " 50  LASTUPDATEDATE              597502 non-null  object             \n",
      " 51  MPDLATITUDE                 426570 non-null  float64            \n",
      " 52  MPDLONGITUDE                426570 non-null  float64            \n",
      " 53  MPDGEOX                     289690 non-null  float64            \n",
      " 54  MPDGEOY                     289690 non-null  float64            \n",
      " 55  BLOCKKEY                    597502 non-null  object             \n",
      " 56  SUBBLOCKKEY                 597502 non-null  object             \n",
      " 57  FATALPASSENGER              597502 non-null  float64            \n",
      " 58  MAJORINJURIESPASSENGER      597502 non-null  float64            \n",
      " 59  MINORINJURIESPASSENGER      597502 non-null  float64            \n",
      " 60  UNKNOWNINJURIESPASSENGER    597502 non-null  float64            \n",
      " 61  OBJECTID_y                  596134 non-null  float64            \n",
      " 62  CCN_y                       596134 non-null  object             \n",
      " 63  PERSONID                    596134 non-null  float64            \n",
      " 64  PERSONTYPE                  596134 non-null  object             \n",
      " 65  AGE                         426497 non-null  float64            \n",
      " 66  FATAL                       596134 non-null  object             \n",
      " 67  MAJORINJURY                 596134 non-null  object             \n",
      " 68  MINORINJURY                 596134 non-null  object             \n",
      " 69  VEHICLEID                   596134 non-null  object             \n",
      " 70  INVEHICLETYPE               596134 non-null  object             \n",
      " 71  TICKETISSUED                596134 non-null  object             \n",
      " 72  LICENSEPLATESTATE           596134 non-null  object             \n",
      " 73  IMPAIRED                    596134 non-null  object             \n",
      " 74  SPEEDING                    596134 non-null  object             \n",
      " 75  YEAR                        597502 non-null  float64            \n",
      " 76  MONTH_YEAR                  597502 non-null  period[M]          \n",
      "dtypes: datetime64[ns, UTC](1), float64(48), int64(1), object(26), period[M](1)\n",
      "memory usage: 355.8+ MB\n"
     ]
    }
   ],
   "source": [
    "dcCrashes.info()"
   ]
  },
  {
   "cell_type": "markdown",
   "metadata": {},
   "source": [
    "## Fatal Crashes in DC"
   ]
  },
  {
   "cell_type": "code",
   "execution_count": 23,
   "metadata": {},
   "outputs": [
    {
     "data": {
      "text/plain": [
       "array(['N', nan, 'Y'], dtype=object)"
      ]
     },
     "execution_count": 23,
     "metadata": {},
     "output_type": "execute_result"
    }
   ],
   "source": [
    "dcCrashes['FATAL'].unique()"
   ]
  },
  {
   "cell_type": "code",
   "execution_count": 27,
   "metadata": {},
   "outputs": [
    {
     "data": {
      "text/plain": [
       "1828"
      ]
     },
     "execution_count": 27,
     "metadata": {},
     "output_type": "execute_result"
    }
   ],
   "source": [
    "# How many of my entries are na for Fatalities?\n",
    "dcCrashes['FATAL'].isna().sum()"
   ]
  },
  {
   "cell_type": "code",
   "execution_count": 30,
   "metadata": {},
   "outputs": [
    {
     "data": {
      "text/plain": [
       "3632      Y\n",
       "6325      Y\n",
       "8062      Y\n",
       "10104     Y\n",
       "11333     Y\n",
       "         ..\n",
       "583040    Y\n",
       "587906    Y\n",
       "592080    Y\n",
       "592689    Y\n",
       "596271    Y\n",
       "Name: FATAL, Length: 416, dtype: object"
      ]
     },
     "execution_count": 30,
     "metadata": {},
     "output_type": "execute_result"
    }
   ],
   "source": [
    "# Since I'm just counting fatalities, 1828 of about 60000 should be fine.  \n",
    "isfatal = dcCrashes['FATAL'] == 'Y'\n",
    "fatalCrashes = dcCrashes[isfatal]\n",
    "fatalCrashes['FATAL']"
   ]
  },
  {
   "cell_type": "code",
   "execution_count": 31,
   "metadata": {},
   "outputs": [
    {
     "data": {
      "text/plain": [
       "YEAR\n",
       "1970.0     2\n",
       "2008.0    11\n",
       "2009.0    25\n",
       "2010.0    21\n",
       "2011.0    22\n",
       "2012.0    24\n",
       "2013.0    44\n",
       "2014.0    53\n",
       "2015.0    49\n",
       "2016.0    36\n",
       "2017.0    34\n",
       "2018.0    32\n",
       "2019.0    27\n",
       "2020.0    32\n",
       "2021.0     4\n",
       "dtype: int64"
      ]
     },
     "execution_count": 31,
     "metadata": {},
     "output_type": "execute_result"
    }
   ],
   "source": [
    "fatalCrashes.groupby(['YEAR']).size()"
   ]
  },
  {
   "cell_type": "markdown",
   "metadata": {},
   "source": [
    "#### Fatal Crashes in DC **declined** from 34 in 2017 to 32 in 2020, or by 5%.  "
   ]
  },
  {
   "cell_type": "code",
   "execution_count": 40,
   "metadata": {},
   "outputs": [
    {
     "data": {
      "text/plain": [
       "<matplotlib.axes._subplots.AxesSubplot at 0x7fdd328520a0>"
      ]
     },
     "execution_count": 40,
     "metadata": {},
     "output_type": "execute_result"
    },
    {
     "data": {
      "image/png": "[encoded data removed]",
      "text/plain": [
       "<Figure size 432x288 with 1 Axes>"
      ]
     },
     "metadata": {
      "needs_background": "light"
     },
     "output_type": "display_data"
    }
   ],
   "source": [
    "plt.title(\"Fatal Crashes in Washington, DC by Year\")\n",
    "plt.xlabel(\"Year\")\n",
    "plt.ylabel(\"Number of Fatal Accidents\")\n",
    "\n",
    "fatalCrashes.groupby(['YEAR']).size().plot(kind = 'bar')\n"
   ]
  },
  {
   "cell_type": "markdown",
   "metadata": {},
   "source": [
    "The visualization shows, however, that despite the overall decline from 2017, 2020 did uptick from 2019.  \n",
    "\n",
    "Let's categorize the data by type of fatality, and see if it varies."
   ]
  },
  {
   "cell_type": "code",
   "execution_count": 36,
   "metadata": {},
   "outputs": [
    {
     "data": {
      "text/plain": [
       "array([0., 1., 2.])"
      ]
     },
     "execution_count": 36,
     "metadata": {},
     "output_type": "execute_result"
    }
   ],
   "source": [
    "fatalCrashes[\"FATAL_PEDESTRIAN\"].unique()"
   ]
  },
  {
   "cell_type": "code",
   "execution_count": 38,
   "metadata": {},
   "outputs": [
    {
     "data": {
      "text/plain": [
       "array([1., 0., 2.])"
      ]
     },
     "execution_count": 38,
     "metadata": {},
     "output_type": "execute_result"
    }
   ],
   "source": [
    "fatalCrashes[\"FATAL_DRIVER\"].unique()"
   ]
  },
  {
   "cell_type": "code",
   "execution_count": 39,
   "metadata": {},
   "outputs": [
    {
     "data": {
      "text/plain": [
       "array([0., 1.])"
      ]
     },
     "execution_count": 39,
     "metadata": {},
     "output_type": "execute_result"
    }
   ],
   "source": [
    "fatalCrashes[\"FATAL_BICYCLIST\"].unique()"
   ]
  },
  {
   "cell_type": "markdown",
   "metadata": {},
   "source": [
    "This data lists the number of fatalities of each type per each incident.  "
   ]
  },
  {
   "cell_type": "code",
   "execution_count": 45,
   "metadata": {},
   "outputs": [
    {
     "data": {
      "text/plain": [
       "<matplotlib.axes._subplots.AxesSubplot at 0x7fdd327b99a0>"
      ]
     },
     "execution_count": 45,
     "metadata": {},
     "output_type": "execute_result"
    },
    {
     "data": {
      "image/png": "[encoded data removed]",
      "text/plain": [
       "<Figure size 432x288 with 1 Axes>"
      ]
     },
     "metadata": {
      "needs_background": "light"
     },
     "output_type": "display_data"
    }
   ],
   "source": [
    "fatalPeds = fatalCrashes[\"FATAL_PEDESTRIAN\"] != 0\n",
    "fatalPedsCrash = fatalCrashes[fatalPeds]\n",
    "fatalPedsCrash.groupby(['YEAR']).size().plot(kind = 'bar')"
   ]
  },
  {
   "cell_type": "code",
   "execution_count": 46,
   "metadata": {},
   "outputs": [
    {
     "data": {
      "text/plain": [
       "<matplotlib.axes._subplots.AxesSubplot at 0x7fdd32a780a0>"
      ]
     },
     "execution_count": 46,
     "metadata": {},
     "output_type": "execute_result"
    },
    {
     "data": {
      "image/png": "[encoded data removed]",
      "text/plain": [
       "<Figure size 432x288 with 1 Axes>"
      ]
     },
     "metadata": {
      "needs_background": "light"
     },
     "output_type": "display_data"
    }
   ],
   "source": [
    "fatalBikes = fatalCrashes[\"FATAL_BICYCLIST\"] != 0\n",
    "fatalBikesCrash = fatalCrashes[fatalBikes]\n",
    "fatalBikesCrash.groupby(['YEAR']).size().plot(kind = 'bar')"
   ]
  },
  {
   "cell_type": "code",
   "execution_count": 47,
   "metadata": {},
   "outputs": [
    {
     "data": {
      "text/plain": [
       "<matplotlib.axes._subplots.AxesSubplot at 0x7fdd32b568e0>"
      ]
     },
     "execution_count": 47,
     "metadata": {},
     "output_type": "execute_result"
    },
    {
     "data": {
      "image/png": "[encoded data removed]",
      "text/plain": [
       "<Figure size 432x288 with 1 Axes>"
      ]
     },
     "metadata": {
      "needs_background": "light"
     },
     "output_type": "display_data"
    }
   ],
   "source": [
    "fatalCars = fatalCrashes[\"FATAL_DRIVER\"] != 0\n",
    "fatalCarsCrash = fatalCrashes[fatalCars]\n",
    "fatalCarsCrash.groupby(['YEAR']).size().plot(kind = 'bar')"
   ]
  },
  {
   "cell_type": "markdown",
   "metadata": {},
   "source": [
    "This is a little surprising.  I suspected that with the pandemic, more people were walking and biking, and, thus, those numbers would have increased.  Paradoxically, the fatalities to people inside the vehicle actually increased.  Perhaps this was due to a decrease in traffic, resulting in less traffic, but more severe crashes.\n",
    "\n",
    "Sadly, DC does not have traffic volume data for 2020 available yet (the most recent is 2018)."
   ]
  },
  {
   "cell_type": "code",
   "execution_count": null,
   "metadata": {},
   "outputs": [],
   "source": []
  }
 ],
 "metadata": {
  "kernelspec": {
   "display_name": "Python 3",
   "language": "python",
   "name": "python3"
  },
  "language_info": {
   "codemirror_mode": {
    "name": "ipython",
    "version": 3
   },
   "file_extension": ".py",
   "mimetype": "text/x-python",
   "name": "python",
   "nbconvert_exporter": "python",
   "pygments_lexer": "ipython3",
   "version": "3.8.3"
  }
 },
 "nbformat": 4,
 "nbformat_minor": 4
}
