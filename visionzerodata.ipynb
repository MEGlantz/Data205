{
 "cells": [
  {
   "cell_type": "markdown",
   "metadata": {},
   "source": [
    "# Data Ingestion & Wrangling -- Montgomery County Vision Zero Traffic Progress\n",
    "Data 205 - Spring 2021  \n",
    "Mary Glantz"
   ]
  },
  {
   "cell_type": "markdown",
   "metadata": {},
   "source": [
    "#### Import the libraries needed to import and wrangle the data"
   ]
  },
  {
   "cell_type": "code",
   "execution_count": 1,
   "metadata": {},
   "outputs": [],
   "source": [
    "import json\n",
    "import numpy as np\n",
    "import pandas as pd\n",
    "import requests\n"
   ]
  },
  {
   "cell_type": "markdown",
   "metadata": {},
   "source": [
    "\n",
    "#### Import data from three Montgomery county datasets (driver info, collision info, and non-motorist collision info) into dataframes.\n"
   ]
  },
  {
   "cell_type": "code",
   "execution_count": 2,
   "metadata": {},
   "outputs": [],
   "source": [
    "# Set column names for consistency\n",
    "\n",
    "col_names_driverdf = ['report_number', 'local_case_number', 'agency_name', 'acrs_report_type', 'crash_date_time', 'route_type',\n",
    "                     'road_name', 'cross_street_type', 'cross_street_name', 'off_road_description', 'municipality', 'related_non_motorist',\n",
    "                     'collision_type', 'weather', 'surface_condition', 'light', 'traffic_control', 'driver_substance_abuse', 'non_motorist_substance_abuse',\n",
    "                     'person_id', 'driver_at_fault', 'injury_severity', 'circumstance', 'driver_distracted_by', 'drivers_license_state', \n",
    "                     'vehicle_id', 'vehicle_damage_extent', 'vehicle_first_impact_location', 'vehicle_second_impact_location', 'vehicle_body_type', \n",
    "                     'vehicle_movement', 'vehicle_continuing_dir', 'vehicle_going_dir', 'speed_limit', 'driverless_vehicle', 'parked_vehicle',\n",
    "                     'vehicle_year', 'vehicle_make', 'vehicle_model', 'equipment_problems', 'latitude', 'longitude', 'location']"
   ]
  },
  {
   "cell_type": "code",
   "execution_count": 3,
   "metadata": {
    "scrolled": true
   },
   "outputs": [
    {
     "name": "stdout",
     "output_type": "stream",
     "text": [
      "<class 'pandas.core.frame.DataFrame'>\n",
      "RangeIndex: 121919 entries, 0 to 121918\n",
      "Data columns (total 43 columns):\n",
      " #   Column                          Non-Null Count   Dtype  \n",
      "---  ------                          --------------   -----  \n",
      " 0   report_number                   121919 non-null  object \n",
      " 1   local_case_number               121919 non-null  object \n",
      " 2   agency_name                     121919 non-null  object \n",
      " 3   acrs_report_type                121919 non-null  object \n",
      " 4   crash_date_time                 121919 non-null  object \n",
      " 5   route_type                      110115 non-null  object \n",
      " 6   road_name                       110715 non-null  object \n",
      " 7   cross_street_type               110101 non-null  object \n",
      " 8   cross_street_name               110710 non-null  object \n",
      " 9   off_road_description            11203 non-null   object \n",
      " 10  municipality                    13348 non-null   object \n",
      " 11  related_non_motorist            3796 non-null    object \n",
      " 12  collision_type                  121511 non-null  object \n",
      " 13  weather                         112274 non-null  object \n",
      " 14  surface_condition               107556 non-null  object \n",
      " 15  light                           120902 non-null  object \n",
      " 16  traffic_control                 102727 non-null  object \n",
      " 17  driver_substance_abuse          99708 non-null   object \n",
      " 18  non_motorist_substance_abuse    3015 non-null    object \n",
      " 19  person_id                       121919 non-null  object \n",
      " 20  driver_at_fault                 121919 non-null  object \n",
      " 21  injury_severity                 121919 non-null  object \n",
      " 22  circumstance                    23635 non-null   object \n",
      " 23  driver_distracted_by            121919 non-null  object \n",
      " 24  drivers_license_state           115938 non-null  object \n",
      " 25  vehicle_id                      121919 non-null  object \n",
      " 26  vehicle_damage_extent           121701 non-null  object \n",
      " 27  vehicle_first_impact_location   121763 non-null  object \n",
      " 28  vehicle_second_impact_location  121663 non-null  object \n",
      " 29  vehicle_body_type               120146 non-null  object \n",
      " 30  vehicle_movement                121671 non-null  object \n",
      " 31  vehicle_continuing_dir          120110 non-null  object \n",
      " 32  vehicle_going_dir               120110 non-null  object \n",
      " 33  speed_limit                     121919 non-null  int64  \n",
      " 34  driverless_vehicle              121919 non-null  object \n",
      " 35  parked_vehicle                  121919 non-null  object \n",
      " 36  vehicle_year                    121919 non-null  int64  \n",
      " 37  vehicle_make                    121898 non-null  object \n",
      " 38  vehicle_model                   121866 non-null  object \n",
      " 39  equipment_problems              95341 non-null   object \n",
      " 40  latitude                        121919 non-null  float64\n",
      " 41  longitude                       121919 non-null  float64\n",
      " 42  location                        121919 non-null  object \n",
      "dtypes: float64(2), int64(2), object(39)\n",
      "memory usage: 40.0+ MB\n"
     ]
    }
   ],
   "source": [
    "driverdf = pd.read_csv(\"https://data.montgomerycountymd.gov/api/views/mmzv-x632/rows.csv?accessType=DOWNLOAD\", low_memory = False, \n",
    "                      names = col_names_driverdf, skiprows = 1, header = None)\n",
    "\n",
    "driverdf.info()"
   ]
  },
  {
   "cell_type": "code",
   "execution_count": 4,
   "metadata": {},
   "outputs": [
    {
     "data": {
      "text/html": [
       "<div>\n",
       "<style scoped>\n",
       "    .dataframe tbody tr th:only-of-type {\n",
       "        vertical-align: middle;\n",
       "    }\n",
       "\n",
       "    .dataframe tbody tr th {\n",
       "        vertical-align: top;\n",
       "    }\n",
       "\n",
       "    .dataframe thead th {\n",
       "        text-align: right;\n",
       "    }\n",
       "</style>\n",
       "<table border=\"1\" class=\"dataframe\">\n",
       "  <thead>\n",
       "    <tr style=\"text-align: right;\">\n",
       "      <th></th>\n",
       "      <th>report_number</th>\n",
       "      <th>local_case_number</th>\n",
       "      <th>agency_name</th>\n",
       "      <th>acrs_report_type</th>\n",
       "      <th>crash_date_time</th>\n",
       "      <th>route_type</th>\n",
       "      <th>road_name</th>\n",
       "      <th>cross_street_type</th>\n",
       "      <th>cross_street_name</th>\n",
       "      <th>off_road_description</th>\n",
       "      <th>...</th>\n",
       "      <th>speed_limit</th>\n",
       "      <th>driverless_vehicle</th>\n",
       "      <th>parked_vehicle</th>\n",
       "      <th>vehicle_year</th>\n",
       "      <th>vehicle_make</th>\n",
       "      <th>vehicle_model</th>\n",
       "      <th>equipment_problems</th>\n",
       "      <th>latitude</th>\n",
       "      <th>longitude</th>\n",
       "      <th>location</th>\n",
       "    </tr>\n",
       "  </thead>\n",
       "  <tbody>\n",
       "    <tr>\n",
       "      <th>0</th>\n",
       "      <td>DD5620004G</td>\n",
       "      <td>190046109</td>\n",
       "      <td>Rockville Police Departme</td>\n",
       "      <td>Property Damage Crash</td>\n",
       "      <td>09/26/2019 07:20:00 AM</td>\n",
       "      <td>NaN</td>\n",
       "      <td>NaN</td>\n",
       "      <td>NaN</td>\n",
       "      <td>NaN</td>\n",
       "      <td>PARKING LOT</td>\n",
       "      <td>...</td>\n",
       "      <td>15</td>\n",
       "      <td>No</td>\n",
       "      <td>No</td>\n",
       "      <td>2017</td>\n",
       "      <td>THOMAS</td>\n",
       "      <td>BUS</td>\n",
       "      <td>NO MISUSE</td>\n",
       "      <td>39.103518</td>\n",
       "      <td>-77.157669</td>\n",
       "      <td>(39.10351817, -77.15766933)</td>\n",
       "    </tr>\n",
       "    <tr>\n",
       "      <th>1</th>\n",
       "      <td>MCP29620057</td>\n",
       "      <td>200023865</td>\n",
       "      <td>Montgomery County Police</td>\n",
       "      <td>Property Damage Crash</td>\n",
       "      <td>06/18/2020 02:00:00 AM</td>\n",
       "      <td>County</td>\n",
       "      <td>DAIRYMAID DR</td>\n",
       "      <td>County</td>\n",
       "      <td>METZ DR</td>\n",
       "      <td>NaN</td>\n",
       "      <td>...</td>\n",
       "      <td>35</td>\n",
       "      <td>No</td>\n",
       "      <td>No</td>\n",
       "      <td>2020</td>\n",
       "      <td>UNK</td>\n",
       "      <td>UNK</td>\n",
       "      <td>UNKNOWN</td>\n",
       "      <td>39.154847</td>\n",
       "      <td>-77.271245</td>\n",
       "      <td>(39.15484667, -77.271245)</td>\n",
       "    </tr>\n",
       "    <tr>\n",
       "      <th>2</th>\n",
       "      <td>MCP3050004K</td>\n",
       "      <td>200016465</td>\n",
       "      <td>Montgomery County Police</td>\n",
       "      <td>Property Damage Crash</td>\n",
       "      <td>04/19/2020 03:39:00 PM</td>\n",
       "      <td>County</td>\n",
       "      <td>RUSSETT RD</td>\n",
       "      <td>County</td>\n",
       "      <td>ARCTIC AVE</td>\n",
       "      <td>NaN</td>\n",
       "      <td>...</td>\n",
       "      <td>25</td>\n",
       "      <td>No</td>\n",
       "      <td>No</td>\n",
       "      <td>2004</td>\n",
       "      <td>DODGE</td>\n",
       "      <td>GRAND CARAVAN</td>\n",
       "      <td>NO MISUSE</td>\n",
       "      <td>39.080062</td>\n",
       "      <td>-77.097845</td>\n",
       "      <td>(39.08006167, -77.097845)</td>\n",
       "    </tr>\n",
       "    <tr>\n",
       "      <th>3</th>\n",
       "      <td>MCP2641001J</td>\n",
       "      <td>200016526</td>\n",
       "      <td>Montgomery County Police</td>\n",
       "      <td>Injury Crash</td>\n",
       "      <td>04/20/2020 09:15:00 AM</td>\n",
       "      <td>County</td>\n",
       "      <td>ARCHDALE RD</td>\n",
       "      <td>County</td>\n",
       "      <td>GUNNERS BRANCH RD</td>\n",
       "      <td>NaN</td>\n",
       "      <td>...</td>\n",
       "      <td>25</td>\n",
       "      <td>No</td>\n",
       "      <td>No</td>\n",
       "      <td>2006</td>\n",
       "      <td>HONDA</td>\n",
       "      <td>CR-V</td>\n",
       "      <td>UNKNOWN</td>\n",
       "      <td>39.175230</td>\n",
       "      <td>-77.241090</td>\n",
       "      <td>(39.17523, -77.24109)</td>\n",
       "    </tr>\n",
       "    <tr>\n",
       "      <th>4</th>\n",
       "      <td>MCP27100039</td>\n",
       "      <td>200016305</td>\n",
       "      <td>Montgomery County Police</td>\n",
       "      <td>Property Damage Crash</td>\n",
       "      <td>04/17/2020 05:00:00 PM</td>\n",
       "      <td>Municipality</td>\n",
       "      <td>E DIAMOND AVE</td>\n",
       "      <td>Municipality</td>\n",
       "      <td>S SUMMIT AVE</td>\n",
       "      <td>NaN</td>\n",
       "      <td>...</td>\n",
       "      <td>25</td>\n",
       "      <td>No</td>\n",
       "      <td>No</td>\n",
       "      <td>2011</td>\n",
       "      <td>TOYOTA</td>\n",
       "      <td>4S</td>\n",
       "      <td>NaN</td>\n",
       "      <td>39.140555</td>\n",
       "      <td>-77.193347</td>\n",
       "      <td>(39.140555, -77.19334667)</td>\n",
       "    </tr>\n",
       "  </tbody>\n",
       "</table>\n",
       "<p>5 rows × 43 columns</p>\n",
       "</div>"
      ],
      "text/plain": [
       "  report_number local_case_number                agency_name  \\\n",
       "0    DD5620004G         190046109  Rockville Police Departme   \n",
       "1   MCP29620057         200023865   Montgomery County Police   \n",
       "2   MCP3050004K         200016465   Montgomery County Police   \n",
       "3   MCP2641001J         200016526   Montgomery County Police   \n",
       "4   MCP27100039         200016305   Montgomery County Police   \n",
       "\n",
       "        acrs_report_type         crash_date_time    route_type      road_name  \\\n",
       "0  Property Damage Crash  09/26/2019 07:20:00 AM           NaN            NaN   \n",
       "1  Property Damage Crash  06/18/2020 02:00:00 AM        County   DAIRYMAID DR   \n",
       "2  Property Damage Crash  04/19/2020 03:39:00 PM        County     RUSSETT RD   \n",
       "3           Injury Crash  04/20/2020 09:15:00 AM        County    ARCHDALE RD   \n",
       "4  Property Damage Crash  04/17/2020 05:00:00 PM  Municipality  E DIAMOND AVE   \n",
       "\n",
       "  cross_street_type  cross_street_name off_road_description  ... speed_limit  \\\n",
       "0               NaN                NaN          PARKING LOT  ...          15   \n",
       "1            County            METZ DR                  NaN  ...          35   \n",
       "2            County         ARCTIC AVE                  NaN  ...          25   \n",
       "3            County  GUNNERS BRANCH RD                  NaN  ...          25   \n",
       "4      Municipality       S SUMMIT AVE                  NaN  ...          25   \n",
       "\n",
       "  driverless_vehicle parked_vehicle vehicle_year vehicle_make  vehicle_model  \\\n",
       "0                 No             No         2017       THOMAS            BUS   \n",
       "1                 No             No         2020          UNK            UNK   \n",
       "2                 No             No         2004        DODGE  GRAND CARAVAN   \n",
       "3                 No             No         2006        HONDA           CR-V   \n",
       "4                 No             No         2011       TOYOTA             4S   \n",
       "\n",
       "  equipment_problems   latitude  longitude                     location  \n",
       "0          NO MISUSE  39.103518 -77.157669  (39.10351817, -77.15766933)  \n",
       "1            UNKNOWN  39.154847 -77.271245    (39.15484667, -77.271245)  \n",
       "2          NO MISUSE  39.080062 -77.097845    (39.08006167, -77.097845)  \n",
       "3            UNKNOWN  39.175230 -77.241090        (39.17523, -77.24109)  \n",
       "4                NaN  39.140555 -77.193347    (39.140555, -77.19334667)  \n",
       "\n",
       "[5 rows x 43 columns]"
      ]
     },
     "execution_count": 4,
     "metadata": {},
     "output_type": "execute_result"
    }
   ],
   "source": [
    "driverdf.head()"
   ]
  },
  {
   "cell_type": "code",
   "execution_count": 5,
   "metadata": {},
   "outputs": [],
   "source": [
    "# Set column names for consistency\n",
    "\n",
    "col_names_incidentsdf = ['report_number', 'local_case_number', 'agency_name', 'acrs_report_type', 'crash_date_time', 'hit_run','route_type',\n",
    "                     'mile_point', 'mile_point_direction', 'lane_direction', 'lane_number', 'lane_type', 'number_of_lanes', 'direction', 'distance',\n",
    "                     'distance_unit', 'road_grade', 'nontraffic', 'road_name', 'cross_street_type', 'cross_street_name', 'off_road_description', 'municipality', 'related_non_motorist',\n",
    "                     'at_fault', 'collision_type', 'weather', 'surface_condition', 'light', 'traffic_control', 'driver_substance_abuse', 'non_motorist_substance_abuse',\n",
    "                     'first_harmful_event', 'second_harmful_event', 'fixed_object_struck','junction', 'intersection_type', 'intersection_area', \n",
    "                     'road_alignment', 'road_condition', 'road_division', 'latitude', 'longitude', 'location']"
   ]
  },
  {
   "cell_type": "code",
   "execution_count": 6,
   "metadata": {},
   "outputs": [
    {
     "name": "stdout",
     "output_type": "stream",
     "text": [
      "<class 'pandas.core.frame.DataFrame'>\n",
      "RangeIndex: 68767 entries, 0 to 68766\n",
      "Data columns (total 44 columns):\n",
      " #   Column                        Non-Null Count  Dtype  \n",
      "---  ------                        --------------  -----  \n",
      " 0   report_number                 68767 non-null  object \n",
      " 1   local_case_number             68767 non-null  object \n",
      " 2   agency_name                   68767 non-null  object \n",
      " 3   acrs_report_type              68767 non-null  object \n",
      " 4   crash_date_time               68767 non-null  object \n",
      " 5   hit_run                       68765 non-null  object \n",
      " 6   route_type                    59646 non-null  object \n",
      " 7   mile_point                    60029 non-null  float64\n",
      " 8   mile_point_direction          59660 non-null  object \n",
      " 9   lane_direction                60040 non-null  object \n",
      " 10  lane_number                   68767 non-null  int64  \n",
      " 11  lane_type                     6671 non-null   object \n",
      " 12  number_of_lanes               68767 non-null  int64  \n",
      " 13  direction                     60029 non-null  object \n",
      " 14  distance                      61894 non-null  float64\n",
      " 15  distance_unit                 60039 non-null  object \n",
      " 16  road_grade                    59563 non-null  object \n",
      " 17  nontraffic                    68767 non-null  object \n",
      " 18  road_name                     60039 non-null  object \n",
      " 19  cross_street_type             59635 non-null  object \n",
      " 20  cross_street_name             60034 non-null  object \n",
      " 21  off_road_description          8727 non-null   object \n",
      " 22  municipality                  7294 non-null   object \n",
      " 23  related_non_motorist          3754 non-null   object \n",
      " 24  at_fault                      68767 non-null  object \n",
      " 25  collision_type                68416 non-null  object \n",
      " 26  weather                       62980 non-null  object \n",
      " 27  surface_condition             58299 non-null  object \n",
      " 28  light                         68197 non-null  object \n",
      " 29  traffic_control               56433 non-null  object \n",
      " 30  driver_substance_abuse        57778 non-null  object \n",
      " 31  non_motorist_substance_abuse  2988 non-null   object \n",
      " 32  first_harmful_event           68379 non-null  object \n",
      " 33  second_harmful_event          17193 non-null  object \n",
      " 34  fixed_object_struck           14384 non-null  object \n",
      " 35  junction                      50521 non-null  object \n",
      " 36  intersection_type             33739 non-null  object \n",
      " 37  intersection_area             19262 non-null  object \n",
      " 38  road_alignment                59731 non-null  object \n",
      " 39  road_condition                57462 non-null  object \n",
      " 40  road_division                 59146 non-null  object \n",
      " 41  latitude                      68767 non-null  float64\n",
      " 42  longitude                     68767 non-null  float64\n",
      " 43  location                      68767 non-null  object \n",
      "dtypes: float64(4), int64(2), object(38)\n",
      "memory usage: 23.1+ MB\n"
     ]
    },
    {
     "data": {
      "text/html": [
       "<div>\n",
       "<style scoped>\n",
       "    .dataframe tbody tr th:only-of-type {\n",
       "        vertical-align: middle;\n",
       "    }\n",
       "\n",
       "    .dataframe tbody tr th {\n",
       "        vertical-align: top;\n",
       "    }\n",
       "\n",
       "    .dataframe thead th {\n",
       "        text-align: right;\n",
       "    }\n",
       "</style>\n",
       "<table border=\"1\" class=\"dataframe\">\n",
       "  <thead>\n",
       "    <tr style=\"text-align: right;\">\n",
       "      <th></th>\n",
       "      <th>report_number</th>\n",
       "      <th>local_case_number</th>\n",
       "      <th>agency_name</th>\n",
       "      <th>acrs_report_type</th>\n",
       "      <th>crash_date_time</th>\n",
       "      <th>hit_run</th>\n",
       "      <th>route_type</th>\n",
       "      <th>mile_point</th>\n",
       "      <th>mile_point_direction</th>\n",
       "      <th>lane_direction</th>\n",
       "      <th>...</th>\n",
       "      <th>fixed_object_struck</th>\n",
       "      <th>junction</th>\n",
       "      <th>intersection_type</th>\n",
       "      <th>intersection_area</th>\n",
       "      <th>road_alignment</th>\n",
       "      <th>road_condition</th>\n",
       "      <th>road_division</th>\n",
       "      <th>latitude</th>\n",
       "      <th>longitude</th>\n",
       "      <th>location</th>\n",
       "    </tr>\n",
       "  </thead>\n",
       "  <tbody>\n",
       "    <tr>\n",
       "      <th>0</th>\n",
       "      <td>MCP3048005T</td>\n",
       "      <td>190046316</td>\n",
       "      <td>Montgomery County Police</td>\n",
       "      <td>Property Damage Crash</td>\n",
       "      <td>09/27/2019 09:38:00 AM</td>\n",
       "      <td>No</td>\n",
       "      <td>NaN</td>\n",
       "      <td>NaN</td>\n",
       "      <td>NaN</td>\n",
       "      <td>NaN</td>\n",
       "      <td>...</td>\n",
       "      <td>BUILDING</td>\n",
       "      <td>NaN</td>\n",
       "      <td>NaN</td>\n",
       "      <td>NaN</td>\n",
       "      <td>NaN</td>\n",
       "      <td>NaN</td>\n",
       "      <td>NaN</td>\n",
       "      <td>39.026700</td>\n",
       "      <td>-77.136785</td>\n",
       "      <td>(39.0267, -77.136785)</td>\n",
       "    </tr>\n",
       "    <tr>\n",
       "      <th>1</th>\n",
       "      <td>EJ78460055</td>\n",
       "      <td>200017938</td>\n",
       "      <td>Gaithersburg Police Depar</td>\n",
       "      <td>Property Damage Crash</td>\n",
       "      <td>05/02/2020 02:16:00 PM</td>\n",
       "      <td>Yes</td>\n",
       "      <td>NaN</td>\n",
       "      <td>NaN</td>\n",
       "      <td>NaN</td>\n",
       "      <td>NaN</td>\n",
       "      <td>...</td>\n",
       "      <td>NaN</td>\n",
       "      <td>NaN</td>\n",
       "      <td>NaN</td>\n",
       "      <td>NaN</td>\n",
       "      <td>NaN</td>\n",
       "      <td>NaN</td>\n",
       "      <td>NaN</td>\n",
       "      <td>39.147956</td>\n",
       "      <td>-77.229616</td>\n",
       "      <td>(39.14795617, -77.2296164)</td>\n",
       "    </tr>\n",
       "    <tr>\n",
       "      <th>2</th>\n",
       "      <td>MCP3245000H</td>\n",
       "      <td>200036179</td>\n",
       "      <td>Montgomery County Police</td>\n",
       "      <td>Injury Crash</td>\n",
       "      <td>09/15/2020 03:33:00 PM</td>\n",
       "      <td>No</td>\n",
       "      <td>NaN</td>\n",
       "      <td>NaN</td>\n",
       "      <td>NaN</td>\n",
       "      <td>NaN</td>\n",
       "      <td>...</td>\n",
       "      <td>NaN</td>\n",
       "      <td>NaN</td>\n",
       "      <td>NaN</td>\n",
       "      <td>NaN</td>\n",
       "      <td>NaN</td>\n",
       "      <td>NaN</td>\n",
       "      <td>NaN</td>\n",
       "      <td>39.188862</td>\n",
       "      <td>-77.202455</td>\n",
       "      <td>(39.18886167, -77.202455)</td>\n",
       "    </tr>\n",
       "    <tr>\n",
       "      <th>3</th>\n",
       "      <td>HA23890011</td>\n",
       "      <td>20002466</td>\n",
       "      <td>Maryland-National Capital</td>\n",
       "      <td>Property Damage Crash</td>\n",
       "      <td>10/14/2020 08:40:00 AM</td>\n",
       "      <td>No</td>\n",
       "      <td>NaN</td>\n",
       "      <td>NaN</td>\n",
       "      <td>NaN</td>\n",
       "      <td>NaN</td>\n",
       "      <td>...</td>\n",
       "      <td>NaN</td>\n",
       "      <td>NaN</td>\n",
       "      <td>NaN</td>\n",
       "      <td>NaN</td>\n",
       "      <td>NaN</td>\n",
       "      <td>NaN</td>\n",
       "      <td>NaN</td>\n",
       "      <td>39.158697</td>\n",
       "      <td>-77.146791</td>\n",
       "      <td>(39.15869731, -77.14679055)</td>\n",
       "    </tr>\n",
       "    <tr>\n",
       "      <th>4</th>\n",
       "      <td>MCP3090003Z</td>\n",
       "      <td>200010527</td>\n",
       "      <td>Montgomery County Police</td>\n",
       "      <td>Property Damage Crash</td>\n",
       "      <td>03/03/2020 09:19:00 AM</td>\n",
       "      <td>No</td>\n",
       "      <td>NaN</td>\n",
       "      <td>NaN</td>\n",
       "      <td>NaN</td>\n",
       "      <td>NaN</td>\n",
       "      <td>...</td>\n",
       "      <td>OTHER</td>\n",
       "      <td>NaN</td>\n",
       "      <td>NaN</td>\n",
       "      <td>NaN</td>\n",
       "      <td>NaN</td>\n",
       "      <td>NaN</td>\n",
       "      <td>NaN</td>\n",
       "      <td>39.129216</td>\n",
       "      <td>-77.167342</td>\n",
       "      <td>(39.1292155, -77.16734233)</td>\n",
       "    </tr>\n",
       "  </tbody>\n",
       "</table>\n",
       "<p>5 rows × 44 columns</p>\n",
       "</div>"
      ],
      "text/plain": [
       "  report_number local_case_number                agency_name  \\\n",
       "0   MCP3048005T         190046316   Montgomery County Police   \n",
       "1    EJ78460055         200017938  Gaithersburg Police Depar   \n",
       "2   MCP3245000H         200036179   Montgomery County Police   \n",
       "3    HA23890011          20002466  Maryland-National Capital   \n",
       "4   MCP3090003Z         200010527   Montgomery County Police   \n",
       "\n",
       "        acrs_report_type         crash_date_time hit_run route_type  \\\n",
       "0  Property Damage Crash  09/27/2019 09:38:00 AM      No        NaN   \n",
       "1  Property Damage Crash  05/02/2020 02:16:00 PM     Yes        NaN   \n",
       "2           Injury Crash  09/15/2020 03:33:00 PM      No        NaN   \n",
       "3  Property Damage Crash  10/14/2020 08:40:00 AM      No        NaN   \n",
       "4  Property Damage Crash  03/03/2020 09:19:00 AM      No        NaN   \n",
       "\n",
       "   mile_point mile_point_direction lane_direction  ...  fixed_object_struck  \\\n",
       "0         NaN                  NaN            NaN  ...             BUILDING   \n",
       "1         NaN                  NaN            NaN  ...                  NaN   \n",
       "2         NaN                  NaN            NaN  ...                  NaN   \n",
       "3         NaN                  NaN            NaN  ...                  NaN   \n",
       "4         NaN                  NaN            NaN  ...                OTHER   \n",
       "\n",
       "  junction  intersection_type intersection_area  road_alignment  \\\n",
       "0      NaN                NaN               NaN             NaN   \n",
       "1      NaN                NaN               NaN             NaN   \n",
       "2      NaN                NaN               NaN             NaN   \n",
       "3      NaN                NaN               NaN             NaN   \n",
       "4      NaN                NaN               NaN             NaN   \n",
       "\n",
       "  road_condition road_division   latitude  longitude  \\\n",
       "0            NaN           NaN  39.026700 -77.136785   \n",
       "1            NaN           NaN  39.147956 -77.229616   \n",
       "2            NaN           NaN  39.188862 -77.202455   \n",
       "3            NaN           NaN  39.158697 -77.146791   \n",
       "4            NaN           NaN  39.129216 -77.167342   \n",
       "\n",
       "                      location  \n",
       "0        (39.0267, -77.136785)  \n",
       "1   (39.14795617, -77.2296164)  \n",
       "2    (39.18886167, -77.202455)  \n",
       "3  (39.15869731, -77.14679055)  \n",
       "4   (39.1292155, -77.16734233)  \n",
       "\n",
       "[5 rows x 44 columns]"
      ]
     },
     "execution_count": 6,
     "metadata": {},
     "output_type": "execute_result"
    }
   ],
   "source": [
    "incidentsdf = pd.read_csv(\"https://data.montgomerycountymd.gov/api/views/bhju-22kf/rows.csv?accessType=DOWNLOAD\", low_memory = False, names = col_names_incidentsdf, skiprows = 1, header = None)\n",
    "\n",
    "incidentsdf.info()\n",
    "\n",
    "incidentsdf.head()"
   ]
  },
  {
   "cell_type": "code",
   "execution_count": 7,
   "metadata": {},
   "outputs": [],
   "source": [
    "# Set column names for consistency\n",
    "\n",
    "col_names_nonmotoristdf = ['report_number', 'local_case_number', 'agency_name', 'acrs_report_type', 'crash_date_time', 'route_type',\n",
    "                     'road_name', 'cross_street_type', 'cross_street_name', 'off_road_description', 'municipality', 'related_non_motorist',\n",
    "                     'collision_type', 'weather', 'surface_condition', 'light', 'traffic_control', 'driver_substance_abuse', 'non_motorist_substance_abuse',\n",
    "                     'person_id', 'pedestrian_type', 'pedestrian_movement', 'pedestrian_actions', 'pedestrian_location', 'pedestrian_obeyed_traffic_signal', \n",
    "                     'pedestrian_visibility','at_fault', 'injury_severity', 'safety_equipment', 'latitude', 'longitude', 'location']"
   ]
  },
  {
   "cell_type": "code",
   "execution_count": 8,
   "metadata": {},
   "outputs": [
    {
     "name": "stdout",
     "output_type": "stream",
     "text": [
      "<class 'pandas.core.frame.DataFrame'>\n",
      "RangeIndex: 3936 entries, 0 to 3935\n",
      "Data columns (total 32 columns):\n",
      " #   Column                            Non-Null Count  Dtype  \n",
      "---  ------                            --------------  -----  \n",
      " 0   report_number                     3936 non-null   object \n",
      " 1   local_case_number                 3936 non-null   int64  \n",
      " 2   agency_name                       3936 non-null   object \n",
      " 3   acrs_report_type                  3936 non-null   object \n",
      " 4   crash_date_time                   3936 non-null   object \n",
      " 5   route_type                        3014 non-null   object \n",
      " 6   road_name                         3062 non-null   object \n",
      " 7   cross_street_type                 3014 non-null   object \n",
      " 8   cross_street_name                 3061 non-null   object \n",
      " 9   off_road_description              874 non-null    object \n",
      " 10  municipality                      434 non-null    object \n",
      " 11  related_non_motorist              3936 non-null   object \n",
      " 12  collision_type                    3808 non-null   object \n",
      " 13  weather                           3578 non-null   object \n",
      " 14  surface_condition                 2948 non-null   object \n",
      " 15  light                             3902 non-null   object \n",
      " 16  traffic_control                   3330 non-null   object \n",
      " 17  driver_substance_abuse            3211 non-null   object \n",
      " 18  non_motorist_substance_abuse      3117 non-null   object \n",
      " 19  person_id                         3936 non-null   object \n",
      " 20  pedestrian_type                   3936 non-null   object \n",
      " 21  pedestrian_movement               3830 non-null   object \n",
      " 22  pedestrian_actions                3724 non-null   object \n",
      " 23  pedestrian_location               3824 non-null   object \n",
      " 24  pedestrian_obeyed_traffic_signal  2760 non-null   object \n",
      " 25  pedestrian_visibility             3568 non-null   object \n",
      " 26  at_fault                          3649 non-null   object \n",
      " 27  injury_severity                   3936 non-null   object \n",
      " 28  safety_equipment                  2537 non-null   object \n",
      " 29  latitude                          3936 non-null   float64\n",
      " 30  longitude                         3936 non-null   float64\n",
      " 31  location                          3936 non-null   object \n",
      "dtypes: float64(2), int64(1), object(29)\n",
      "memory usage: 984.1+ KB\n"
     ]
    },
    {
     "data": {
      "text/html": [
       "<div>\n",
       "<style scoped>\n",
       "    .dataframe tbody tr th:only-of-type {\n",
       "        vertical-align: middle;\n",
       "    }\n",
       "\n",
       "    .dataframe tbody tr th {\n",
       "        vertical-align: top;\n",
       "    }\n",
       "\n",
       "    .dataframe thead th {\n",
       "        text-align: right;\n",
       "    }\n",
       "</style>\n",
       "<table border=\"1\" class=\"dataframe\">\n",
       "  <thead>\n",
       "    <tr style=\"text-align: right;\">\n",
       "      <th></th>\n",
       "      <th>report_number</th>\n",
       "      <th>local_case_number</th>\n",
       "      <th>agency_name</th>\n",
       "      <th>acrs_report_type</th>\n",
       "      <th>crash_date_time</th>\n",
       "      <th>route_type</th>\n",
       "      <th>road_name</th>\n",
       "      <th>cross_street_type</th>\n",
       "      <th>cross_street_name</th>\n",
       "      <th>off_road_description</th>\n",
       "      <th>...</th>\n",
       "      <th>pedestrian_actions</th>\n",
       "      <th>pedestrian_location</th>\n",
       "      <th>pedestrian_obeyed_traffic_signal</th>\n",
       "      <th>pedestrian_visibility</th>\n",
       "      <th>at_fault</th>\n",
       "      <th>injury_severity</th>\n",
       "      <th>safety_equipment</th>\n",
       "      <th>latitude</th>\n",
       "      <th>longitude</th>\n",
       "      <th>location</th>\n",
       "    </tr>\n",
       "  </thead>\n",
       "  <tbody>\n",
       "    <tr>\n",
       "      <th>0</th>\n",
       "      <td>MCP23480052</td>\n",
       "      <td>190024574</td>\n",
       "      <td>Montgomery County Police</td>\n",
       "      <td>Injury Crash</td>\n",
       "      <td>05/23/2019 05:30:00 PM</td>\n",
       "      <td>Maryland (State)</td>\n",
       "      <td>GEORGIA AVE</td>\n",
       "      <td>Maryland (State)</td>\n",
       "      <td>UNIVERSITY BLVD W</td>\n",
       "      <td>NaN</td>\n",
       "      <td>...</td>\n",
       "      <td>NO IMPROPER ACTIONS</td>\n",
       "      <td>ON ROADWAY AT CROSSWALK</td>\n",
       "      <td>OBEYED PED. SIGNAL</td>\n",
       "      <td>LIGHT CLOTHING</td>\n",
       "      <td>No</td>\n",
       "      <td>SUSPECTED SERIOUS INJURY</td>\n",
       "      <td>NaN</td>\n",
       "      <td>39.041653</td>\n",
       "      <td>-77.051877</td>\n",
       "      <td>(39.04165333, -77.05187667)</td>\n",
       "    </tr>\n",
       "    <tr>\n",
       "      <th>1</th>\n",
       "      <td>MCP20160048</td>\n",
       "      <td>190026280</td>\n",
       "      <td>Montgomery County Police</td>\n",
       "      <td>Injury Crash</td>\n",
       "      <td>06/02/2019 12:19:00 PM</td>\n",
       "      <td>Maryland (State)</td>\n",
       "      <td>ROCKVILLE PIKE</td>\n",
       "      <td>Municipality</td>\n",
       "      <td>ROLLINS AVE</td>\n",
       "      <td>NaN</td>\n",
       "      <td>...</td>\n",
       "      <td>NO IMPROPER ACTIONS</td>\n",
       "      <td>SIDEWALK</td>\n",
       "      <td>NaN</td>\n",
       "      <td>LIGHT CLOTHING</td>\n",
       "      <td>No</td>\n",
       "      <td>SUSPECTED MINOR INJURY</td>\n",
       "      <td>NONE</td>\n",
       "      <td>38.953000</td>\n",
       "      <td>-77.338000</td>\n",
       "      <td>(38.953, -77.338)</td>\n",
       "    </tr>\n",
       "    <tr>\n",
       "      <th>2</th>\n",
       "      <td>MCP3171000V</td>\n",
       "      <td>190026764</td>\n",
       "      <td>Montgomery County Police</td>\n",
       "      <td>Injury Crash</td>\n",
       "      <td>06/04/2019 09:02:00 PM</td>\n",
       "      <td>NaN</td>\n",
       "      <td>NaN</td>\n",
       "      <td>NaN</td>\n",
       "      <td>NaN</td>\n",
       "      <td>HOME DEPOT PARKING LOT\\n 21010 FREDERICK RD GE...</td>\n",
       "      <td>...</td>\n",
       "      <td>NO IMPROPER ACTIONS</td>\n",
       "      <td>AT INTERSECTION BUT NO CROSSWALK</td>\n",
       "      <td>NO PED. SIGNAL</td>\n",
       "      <td>NaN</td>\n",
       "      <td>No</td>\n",
       "      <td>POSSIBLE INJURY</td>\n",
       "      <td>NaN</td>\n",
       "      <td>39.201165</td>\n",
       "      <td>-77.248343</td>\n",
       "      <td>(39.201165, -77.24834333)</td>\n",
       "    </tr>\n",
       "    <tr>\n",
       "      <th>3</th>\n",
       "      <td>MCP3000002N</td>\n",
       "      <td>190026219</td>\n",
       "      <td>Montgomery County Police</td>\n",
       "      <td>Injury Crash</td>\n",
       "      <td>06/01/2019 10:27:00 PM</td>\n",
       "      <td>County</td>\n",
       "      <td>MIDDLEBROOK RD</td>\n",
       "      <td>County</td>\n",
       "      <td>WARING STATION RD</td>\n",
       "      <td>NaN</td>\n",
       "      <td>...</td>\n",
       "      <td>OTHER</td>\n",
       "      <td>AT INTERSECTION MARKED CROSSWALK</td>\n",
       "      <td>OBEYED PED. SIGNAL</td>\n",
       "      <td>DARK CLOTHING</td>\n",
       "      <td>No</td>\n",
       "      <td>SUSPECTED MINOR INJURY</td>\n",
       "      <td>NaN</td>\n",
       "      <td>39.175252</td>\n",
       "      <td>-77.253611</td>\n",
       "      <td>(39.17525182, -77.25361113)</td>\n",
       "    </tr>\n",
       "    <tr>\n",
       "      <th>4</th>\n",
       "      <td>EJ7876000N</td>\n",
       "      <td>190026354</td>\n",
       "      <td>Gaithersburg Police Depar</td>\n",
       "      <td>Injury Crash</td>\n",
       "      <td>06/02/2019 10:10:00 PM</td>\n",
       "      <td>Maryland (State)</td>\n",
       "      <td>MONTGOMERY VILLAGE AVE</td>\n",
       "      <td>Unknown</td>\n",
       "      <td>SPUR TO LOST KNIFE RD</td>\n",
       "      <td>NaN</td>\n",
       "      <td>...</td>\n",
       "      <td>OTHER</td>\n",
       "      <td>ON ROADWAY AT CROSSWALK</td>\n",
       "      <td>DISOBEYED PED. SIGNAL</td>\n",
       "      <td>DARK CLOTHING</td>\n",
       "      <td>Yes</td>\n",
       "      <td>SUSPECTED MINOR INJURY</td>\n",
       "      <td>NONE</td>\n",
       "      <td>39.157775</td>\n",
       "      <td>-77.204002</td>\n",
       "      <td>(39.157775, -77.20400167)</td>\n",
       "    </tr>\n",
       "  </tbody>\n",
       "</table>\n",
       "<p>5 rows × 32 columns</p>\n",
       "</div>"
      ],
      "text/plain": [
       "  report_number  local_case_number                agency_name  \\\n",
       "0   MCP23480052          190024574   Montgomery County Police   \n",
       "1   MCP20160048          190026280   Montgomery County Police   \n",
       "2   MCP3171000V          190026764   Montgomery County Police   \n",
       "3   MCP3000002N          190026219   Montgomery County Police   \n",
       "4    EJ7876000N          190026354  Gaithersburg Police Depar   \n",
       "\n",
       "  acrs_report_type         crash_date_time        route_type  \\\n",
       "0     Injury Crash  05/23/2019 05:30:00 PM  Maryland (State)   \n",
       "1     Injury Crash  06/02/2019 12:19:00 PM  Maryland (State)   \n",
       "2     Injury Crash  06/04/2019 09:02:00 PM               NaN   \n",
       "3     Injury Crash  06/01/2019 10:27:00 PM            County   \n",
       "4     Injury Crash  06/02/2019 10:10:00 PM  Maryland (State)   \n",
       "\n",
       "                road_name cross_street_type      cross_street_name  \\\n",
       "0             GEORGIA AVE  Maryland (State)      UNIVERSITY BLVD W   \n",
       "1          ROCKVILLE PIKE      Municipality            ROLLINS AVE   \n",
       "2                     NaN               NaN                    NaN   \n",
       "3          MIDDLEBROOK RD            County      WARING STATION RD   \n",
       "4  MONTGOMERY VILLAGE AVE           Unknown  SPUR TO LOST KNIFE RD   \n",
       "\n",
       "                                off_road_description  ...  \\\n",
       "0                                                NaN  ...   \n",
       "1                                                NaN  ...   \n",
       "2  HOME DEPOT PARKING LOT\\n 21010 FREDERICK RD GE...  ...   \n",
       "3                                                NaN  ...   \n",
       "4                                                NaN  ...   \n",
       "\n",
       "    pedestrian_actions               pedestrian_location  \\\n",
       "0  NO IMPROPER ACTIONS           ON ROADWAY AT CROSSWALK   \n",
       "1  NO IMPROPER ACTIONS                          SIDEWALK   \n",
       "2  NO IMPROPER ACTIONS  AT INTERSECTION BUT NO CROSSWALK   \n",
       "3                OTHER  AT INTERSECTION MARKED CROSSWALK   \n",
       "4                OTHER           ON ROADWAY AT CROSSWALK   \n",
       "\n",
       "  pedestrian_obeyed_traffic_signal pedestrian_visibility at_fault  \\\n",
       "0               OBEYED PED. SIGNAL        LIGHT CLOTHING       No   \n",
       "1                              NaN        LIGHT CLOTHING       No   \n",
       "2                   NO PED. SIGNAL                   NaN       No   \n",
       "3               OBEYED PED. SIGNAL         DARK CLOTHING       No   \n",
       "4            DISOBEYED PED. SIGNAL         DARK CLOTHING      Yes   \n",
       "\n",
       "            injury_severity safety_equipment   latitude  longitude  \\\n",
       "0  SUSPECTED SERIOUS INJURY              NaN  39.041653 -77.051877   \n",
       "1    SUSPECTED MINOR INJURY             NONE  38.953000 -77.338000   \n",
       "2           POSSIBLE INJURY              NaN  39.201165 -77.248343   \n",
       "3    SUSPECTED MINOR INJURY              NaN  39.175252 -77.253611   \n",
       "4    SUSPECTED MINOR INJURY             NONE  39.157775 -77.204002   \n",
       "\n",
       "                      location  \n",
       "0  (39.04165333, -77.05187667)  \n",
       "1            (38.953, -77.338)  \n",
       "2    (39.201165, -77.24834333)  \n",
       "3  (39.17525182, -77.25361113)  \n",
       "4    (39.157775, -77.20400167)  \n",
       "\n",
       "[5 rows x 32 columns]"
      ]
     },
     "execution_count": 8,
     "metadata": {},
     "output_type": "execute_result"
    }
   ],
   "source": [
    "nonmotoristdf = pd.read_csv(\"https://data.montgomerycountymd.gov/api/views/n7fk-dce5/rows.csv?accessType=DOWNLOAD\", low_memory = False, names = col_names_nonmotoristdf,  skiprows = 1, header = None, index_col = False)\n",
    "nonmotoristdf.head()\n",
    "nonmotoristdf.info()\n",
    "nonmotoristdf.head()"
   ]
  },
  {
   "cell_type": "code",
   "execution_count": 9,
   "metadata": {},
   "outputs": [
    {
     "data": {
      "text/html": [
       "<div>\n",
       "<style scoped>\n",
       "    .dataframe tbody tr th:only-of-type {\n",
       "        vertical-align: middle;\n",
       "    }\n",
       "\n",
       "    .dataframe tbody tr th {\n",
       "        vertical-align: top;\n",
       "    }\n",
       "\n",
       "    .dataframe thead th {\n",
       "        text-align: right;\n",
       "    }\n",
       "</style>\n",
       "<table border=\"1\" class=\"dataframe\">\n",
       "  <thead>\n",
       "    <tr style=\"text-align: right;\">\n",
       "      <th></th>\n",
       "      <th>YEAR</th>\n",
       "      <th>QUARTER</th>\n",
       "      <th>LIGHT_DESC</th>\n",
       "      <th>LIGHT_CODE</th>\n",
       "      <th>COUNTY_DESC</th>\n",
       "      <th>COUNTY_NO</th>\n",
       "      <th>MUNI_DESC</th>\n",
       "      <th>MUNI_CODE</th>\n",
       "      <th>JUNCTION_DESC</th>\n",
       "      <th>JUNCTION_CODE</th>\n",
       "      <th>...</th>\n",
       "      <th>FEET_MILES_FLAG_DESC</th>\n",
       "      <th>FEET_MILES_FLAG</th>\n",
       "      <th>DISTANCE_DIR_FLAG</th>\n",
       "      <th>REFERENCE_NO</th>\n",
       "      <th>REFERENCE_TYPE_CODE</th>\n",
       "      <th>REFERENCE_SUFFIX</th>\n",
       "      <th>REFERENCE_ROAD_NAME</th>\n",
       "      <th>LATITUDE</th>\n",
       "      <th>LONGITUDE</th>\n",
       "      <th>LOCATION</th>\n",
       "    </tr>\n",
       "  </thead>\n",
       "  <tbody>\n",
       "    <tr>\n",
       "      <th>0</th>\n",
       "      <td>2020</td>\n",
       "      <td>Q2</td>\n",
       "      <td>Daylight</td>\n",
       "      <td>1.00</td>\n",
       "      <td>Baltimore</td>\n",
       "      <td>3.0</td>\n",
       "      <td>NaN</td>\n",
       "      <td>NaN</td>\n",
       "      <td>NaN</td>\n",
       "      <td>NaN</td>\n",
       "      <td>...</td>\n",
       "      <td>NaN</td>\n",
       "      <td>NaN</td>\n",
       "      <td>NaN</td>\n",
       "      <td>NaN</td>\n",
       "      <td>NaN</td>\n",
       "      <td>NaN</td>\n",
       "      <td>NaN</td>\n",
       "      <td>39.277263</td>\n",
       "      <td>-76.503693</td>\n",
       "      <td>POINT (-76.5036932 39.27726285)</td>\n",
       "    </tr>\n",
       "    <tr>\n",
       "      <th>1</th>\n",
       "      <td>2020</td>\n",
       "      <td>Q2</td>\n",
       "      <td>NaN</td>\n",
       "      <td>6.02</td>\n",
       "      <td>Baltimore City</td>\n",
       "      <td>24.0</td>\n",
       "      <td>NaN</td>\n",
       "      <td>NaN</td>\n",
       "      <td>Non Intersection</td>\n",
       "      <td>1.0</td>\n",
       "      <td>...</td>\n",
       "      <td>Miles</td>\n",
       "      <td>M</td>\n",
       "      <td>N</td>\n",
       "      <td>NaN</td>\n",
       "      <td>NaN</td>\n",
       "      <td>NaN</td>\n",
       "      <td>NORTH AVE</td>\n",
       "      <td>39.311025</td>\n",
       "      <td>-76.616429</td>\n",
       "      <td>POINT (-76.616429453205 39.311024794431)</td>\n",
       "    </tr>\n",
       "    <tr>\n",
       "      <th>2</th>\n",
       "      <td>2020</td>\n",
       "      <td>Q2</td>\n",
       "      <td>Daylight</td>\n",
       "      <td>1.00</td>\n",
       "      <td>Montgomery</td>\n",
       "      <td>15.0</td>\n",
       "      <td>NaN</td>\n",
       "      <td>NaN</td>\n",
       "      <td>NaN</td>\n",
       "      <td>NaN</td>\n",
       "      <td>...</td>\n",
       "      <td>NaN</td>\n",
       "      <td>NaN</td>\n",
       "      <td>NaN</td>\n",
       "      <td>NaN</td>\n",
       "      <td>NaN</td>\n",
       "      <td>NaN</td>\n",
       "      <td>NaN</td>\n",
       "      <td>39.140680</td>\n",
       "      <td>-77.193413</td>\n",
       "      <td>POINT (-77.193412729561 39.140680249069)</td>\n",
       "    </tr>\n",
       "    <tr>\n",
       "      <th>3</th>\n",
       "      <td>2017</td>\n",
       "      <td>Q2</td>\n",
       "      <td>Daylight</td>\n",
       "      <td>1.00</td>\n",
       "      <td>Baltimore City</td>\n",
       "      <td>24.0</td>\n",
       "      <td>NaN</td>\n",
       "      <td>NaN</td>\n",
       "      <td>NaN</td>\n",
       "      <td>NaN</td>\n",
       "      <td>...</td>\n",
       "      <td>NaN</td>\n",
       "      <td>NaN</td>\n",
       "      <td>NaN</td>\n",
       "      <td>NaN</td>\n",
       "      <td>NaN</td>\n",
       "      <td>NaN</td>\n",
       "      <td>NaN</td>\n",
       "      <td>39.282928</td>\n",
       "      <td>-76.635215</td>\n",
       "      <td>POINT (-76.6352150952347 39.2829284750108)</td>\n",
       "    </tr>\n",
       "    <tr>\n",
       "      <th>4</th>\n",
       "      <td>2020</td>\n",
       "      <td>Q2</td>\n",
       "      <td>Daylight</td>\n",
       "      <td>1.00</td>\n",
       "      <td>Cecil</td>\n",
       "      <td>7.0</td>\n",
       "      <td>NaN</td>\n",
       "      <td>NaN</td>\n",
       "      <td>NaN</td>\n",
       "      <td>NaN</td>\n",
       "      <td>...</td>\n",
       "      <td>NaN</td>\n",
       "      <td>NaN</td>\n",
       "      <td>NaN</td>\n",
       "      <td>NaN</td>\n",
       "      <td>NaN</td>\n",
       "      <td>NaN</td>\n",
       "      <td>NaN</td>\n",
       "      <td>39.611028</td>\n",
       "      <td>-75.951314</td>\n",
       "      <td>POINT (-75.951314 39.611027833333)</td>\n",
       "    </tr>\n",
       "  </tbody>\n",
       "</table>\n",
       "<p>5 rows × 56 columns</p>\n",
       "</div>"
      ],
      "text/plain": [
       "   YEAR QUARTER LIGHT_DESC  LIGHT_CODE     COUNTY_DESC  COUNTY_NO  MUNI_DESC  \\\n",
       "0  2020      Q2   Daylight        1.00       Baltimore        3.0        NaN   \n",
       "1  2020      Q2        NaN        6.02  Baltimore City       24.0        NaN   \n",
       "2  2020      Q2   Daylight        1.00      Montgomery       15.0        NaN   \n",
       "3  2017      Q2   Daylight        1.00  Baltimore City       24.0        NaN   \n",
       "4  2020      Q2   Daylight        1.00           Cecil        7.0        NaN   \n",
       "\n",
       "   MUNI_CODE     JUNCTION_DESC  JUNCTION_CODE  ... FEET_MILES_FLAG_DESC  \\\n",
       "0        NaN               NaN            NaN  ...                  NaN   \n",
       "1        NaN  Non Intersection            1.0  ...                Miles   \n",
       "2        NaN               NaN            NaN  ...                  NaN   \n",
       "3        NaN               NaN            NaN  ...                  NaN   \n",
       "4        NaN               NaN            NaN  ...                  NaN   \n",
       "\n",
       "   FEET_MILES_FLAG DISTANCE_DIR_FLAG  REFERENCE_NO REFERENCE_TYPE_CODE  \\\n",
       "0              NaN               NaN           NaN                 NaN   \n",
       "1                M                 N           NaN                 NaN   \n",
       "2              NaN               NaN           NaN                 NaN   \n",
       "3              NaN               NaN           NaN                 NaN   \n",
       "4              NaN               NaN           NaN                 NaN   \n",
       "\n",
       "   REFERENCE_SUFFIX REFERENCE_ROAD_NAME   LATITUDE  LONGITUDE  \\\n",
       "0               NaN                 NaN  39.277263 -76.503693   \n",
       "1               NaN           NORTH AVE  39.311025 -76.616429   \n",
       "2               NaN                 NaN  39.140680 -77.193413   \n",
       "3               NaN                 NaN  39.282928 -76.635215   \n",
       "4               NaN                 NaN  39.611028 -75.951314   \n",
       "\n",
       "                                     LOCATION  \n",
       "0             POINT (-76.5036932 39.27726285)  \n",
       "1    POINT (-76.616429453205 39.311024794431)  \n",
       "2    POINT (-77.193412729561 39.140680249069)  \n",
       "3  POINT (-76.6352150952347 39.2829284750108)  \n",
       "4          POINT (-75.951314 39.611027833333)  \n",
       "\n",
       "[5 rows x 56 columns]"
      ]
     },
     "execution_count": 9,
     "metadata": {},
     "output_type": "execute_result"
    }
   ],
   "source": [
    "marylanddf = pd.read_csv(\"https://opendata.maryland.gov/api/views/65du-s3qu/rows.csv?accessType=DOWNLOAD\", low_memory = False)\n",
    "marylanddf.head()"
   ]
  },
  {
   "cell_type": "code",
   "execution_count": 10,
   "metadata": {},
   "outputs": [
    {
     "name": "stdout",
     "output_type": "stream",
     "text": [
      "<class 'pandas.core.frame.DataFrame'>\n",
      "RangeIndex: 246150 entries, 0 to 246149\n",
      "Data columns (total 60 columns):\n",
      " #   Column                      Non-Null Count   Dtype  \n",
      "---  ------                      --------------   -----  \n",
      " 0   X                           246150 non-null  float64\n",
      " 1   Y                           246150 non-null  float64\n",
      " 2   OBJECTID                    246150 non-null  int64  \n",
      " 3   CRIMEID                     246150 non-null  int64  \n",
      " 4   CCN                         246150 non-null  object \n",
      " 5   REPORTDATE                  246150 non-null  object \n",
      " 6   ROUTEID                     246150 non-null  object \n",
      " 7   MEASURE                     246150 non-null  float64\n",
      " 8   OFFSET                      246150 non-null  float64\n",
      " 9   STREETSEGID                 208314 non-null  float64\n",
      " 10  ROADWAYSEGID                208314 non-null  float64\n",
      " 11  FROMDATE                    246150 non-null  object \n",
      " 12  TODATE                      246150 non-null  object \n",
      " 13  MARID                       246150 non-null  int64  \n",
      " 14  ADDRESS                     246069 non-null  object \n",
      " 15  LATITUDE                    246140 non-null  float64\n",
      " 16  LONGITUDE                   246140 non-null  float64\n",
      " 17  XCOORD                      246150 non-null  float64\n",
      " 18  YCOORD                      246150 non-null  float64\n",
      " 19  WARD                        246148 non-null  object \n",
      " 20  EVENTID                     246150 non-null  object \n",
      " 21  MAR_ADDRESS                 234571 non-null  object \n",
      " 22  MAR_SCORE                   246150 non-null  float64\n",
      " 23  MAJORINJURIES_BICYCLIST     246150 non-null  int64  \n",
      " 24  MINORINJURIES_BICYCLIST     246150 non-null  int64  \n",
      " 25  UNKNOWNINJURIES_BICYCLIST   246150 non-null  int64  \n",
      " 26  FATAL_BICYCLIST             246150 non-null  int64  \n",
      " 27  MAJORINJURIES_DRIVER        246150 non-null  int64  \n",
      " 28  MINORINJURIES_DRIVER        246150 non-null  int64  \n",
      " 29  UNKNOWNINJURIES_DRIVER      246150 non-null  int64  \n",
      " 30  FATAL_DRIVER                246150 non-null  int64  \n",
      " 31  MAJORINJURIES_PEDESTRIAN    246150 non-null  int64  \n",
      " 32  MINORINJURIES_PEDESTRIAN    246150 non-null  int64  \n",
      " 33  UNKNOWNINJURIES_PEDESTRIAN  246150 non-null  int64  \n",
      " 34  FATAL_PEDESTRIAN            246150 non-null  int64  \n",
      " 35  TOTAL_VEHICLES              246150 non-null  int64  \n",
      " 36  TOTAL_BICYCLES              246150 non-null  int64  \n",
      " 37  TOTAL_PEDESTRIANS           246150 non-null  int64  \n",
      " 38  PEDESTRIANSIMPAIRED         246150 non-null  int64  \n",
      " 39  BICYCLISTSIMPAIRED          246150 non-null  int64  \n",
      " 40  DRIVERSIMPAIRED             246150 non-null  int64  \n",
      " 41  TOTAL_TAXIS                 246150 non-null  int64  \n",
      " 42  TOTAL_GOVERNMENT            246150 non-null  int64  \n",
      " 43  SPEEDING_INVOLVED           246150 non-null  int64  \n",
      " 44  NEARESTINTROUTEID           246150 non-null  object \n",
      " 45  NEARESTINTSTREETNAME        246150 non-null  object \n",
      " 46  OFFINTERSECTION             246150 non-null  float64\n",
      " 47  INTAPPROACHDIRECTION        246150 non-null  object \n",
      " 48  LOCATIONERROR               9572 non-null    object \n",
      " 49  LASTUPDATEDATE              246150 non-null  object \n",
      " 50  MPDLATITUDE                 179105 non-null  float64\n",
      " 51  MPDLONGITUDE                179105 non-null  float64\n",
      " 52  MPDGEOX                     125610 non-null  float64\n",
      " 53  MPDGEOY                     125610 non-null  float64\n",
      " 54  BLOCKKEY                    246150 non-null  object \n",
      " 55  SUBBLOCKKEY                 246150 non-null  object \n",
      " 56  FATALPASSENGER              246150 non-null  int64  \n",
      " 57  MAJORINJURIESPASSENGER      246150 non-null  int64  \n",
      " 58  MINORINJURIESPASSENGER      246150 non-null  int64  \n",
      " 59  UNKNOWNINJURIESPASSENGER    246150 non-null  int64  \n",
      "dtypes: float64(16), int64(28), object(16)\n",
      "memory usage: 112.7+ MB\n"
     ]
    },
    {
     "data": {
      "text/html": [
       "<div>\n",
       "<style scoped>\n",
       "    .dataframe tbody tr th:only-of-type {\n",
       "        vertical-align: middle;\n",
       "    }\n",
       "\n",
       "    .dataframe tbody tr th {\n",
       "        vertical-align: top;\n",
       "    }\n",
       "\n",
       "    .dataframe thead th {\n",
       "        text-align: right;\n",
       "    }\n",
       "</style>\n",
       "<table border=\"1\" class=\"dataframe\">\n",
       "  <thead>\n",
       "    <tr style=\"text-align: right;\">\n",
       "      <th></th>\n",
       "      <th>X</th>\n",
       "      <th>Y</th>\n",
       "      <th>OBJECTID</th>\n",
       "      <th>CRIMEID</th>\n",
       "      <th>CCN</th>\n",
       "      <th>REPORTDATE</th>\n",
       "      <th>ROUTEID</th>\n",
       "      <th>MEASURE</th>\n",
       "      <th>OFFSET</th>\n",
       "      <th>STREETSEGID</th>\n",
       "      <th>...</th>\n",
       "      <th>MPDLATITUDE</th>\n",
       "      <th>MPDLONGITUDE</th>\n",
       "      <th>MPDGEOX</th>\n",
       "      <th>MPDGEOY</th>\n",
       "      <th>BLOCKKEY</th>\n",
       "      <th>SUBBLOCKKEY</th>\n",
       "      <th>FATALPASSENGER</th>\n",
       "      <th>MAJORINJURIESPASSENGER</th>\n",
       "      <th>MINORINJURIESPASSENGER</th>\n",
       "      <th>UNKNOWNINJURIESPASSENGER</th>\n",
       "    </tr>\n",
       "  </thead>\n",
       "  <tbody>\n",
       "    <tr>\n",
       "      <th>0</th>\n",
       "      <td>-77.006951</td>\n",
       "      <td>38.918116</td>\n",
       "      <td>196643590</td>\n",
       "      <td>28706951</td>\n",
       "      <td>21030453</td>\n",
       "      <td>2021/03/10 02:41:05+00</td>\n",
       "      <td>0</td>\n",
       "      <td>0.0</td>\n",
       "      <td>0.03</td>\n",
       "      <td>NaN</td>\n",
       "      <td>...</td>\n",
       "      <td>38.918108</td>\n",
       "      <td>-77.006948</td>\n",
       "      <td>399397.42</td>\n",
       "      <td>138915.43</td>\n",
       "      <td>07a29377cde1b2f67f7f1a5a965d0061</td>\n",
       "      <td>8506a607f11e09cd25cfa1ae7b88794e</td>\n",
       "      <td>0</td>\n",
       "      <td>0</td>\n",
       "      <td>0</td>\n",
       "      <td>0</td>\n",
       "    </tr>\n",
       "    <tr>\n",
       "      <th>1</th>\n",
       "      <td>-76.958994</td>\n",
       "      <td>38.861884</td>\n",
       "      <td>196643591</td>\n",
       "      <td>28706963</td>\n",
       "      <td>21030393</td>\n",
       "      <td>2021/03/10 02:57:24+00</td>\n",
       "      <td>0</td>\n",
       "      <td>0.0</td>\n",
       "      <td>9.05</td>\n",
       "      <td>NaN</td>\n",
       "      <td>...</td>\n",
       "      <td>38.861887</td>\n",
       "      <td>-76.958888</td>\n",
       "      <td>403514.94</td>\n",
       "      <td>132765.83</td>\n",
       "      <td>ab55d6e159798aed740401182f3c13df</td>\n",
       "      <td>4fcf5db17d7664ee7d3a46821ce40eac</td>\n",
       "      <td>0</td>\n",
       "      <td>0</td>\n",
       "      <td>0</td>\n",
       "      <td>0</td>\n",
       "    </tr>\n",
       "    <tr>\n",
       "      <th>2</th>\n",
       "      <td>-76.959820</td>\n",
       "      <td>38.866301</td>\n",
       "      <td>196643592</td>\n",
       "      <td>28706971</td>\n",
       "      <td>21030427</td>\n",
       "      <td>2021/03/10 03:23:07+00</td>\n",
       "      <td>0</td>\n",
       "      <td>0.0</td>\n",
       "      <td>5.81</td>\n",
       "      <td>NaN</td>\n",
       "      <td>...</td>\n",
       "      <td>38.866286</td>\n",
       "      <td>-76.959884</td>\n",
       "      <td>403505.80</td>\n",
       "      <td>133242.59</td>\n",
       "      <td>dee80528d92cfc0c4dda9f3e54c52e90</td>\n",
       "      <td>dee80528d92cfc0c4dda9f3e54c52e90</td>\n",
       "      <td>0</td>\n",
       "      <td>0</td>\n",
       "      <td>2</td>\n",
       "      <td>0</td>\n",
       "    </tr>\n",
       "    <tr>\n",
       "      <th>3</th>\n",
       "      <td>-76.950678</td>\n",
       "      <td>38.888687</td>\n",
       "      <td>196643593</td>\n",
       "      <td>28706992</td>\n",
       "      <td>21030392</td>\n",
       "      <td>2021/03/10 04:11:48+00</td>\n",
       "      <td>0</td>\n",
       "      <td>0.0</td>\n",
       "      <td>19.24</td>\n",
       "      <td>NaN</td>\n",
       "      <td>...</td>\n",
       "      <td>38.888816</td>\n",
       "      <td>-76.950812</td>\n",
       "      <td>404235.48</td>\n",
       "      <td>135672.00</td>\n",
       "      <td>a3e5f13770b6585ef17a27609b6ff214</td>\n",
       "      <td>c217cd384f2c0a25fd43923f3bc51064</td>\n",
       "      <td>0</td>\n",
       "      <td>0</td>\n",
       "      <td>0</td>\n",
       "      <td>0</td>\n",
       "    </tr>\n",
       "    <tr>\n",
       "      <th>4</th>\n",
       "      <td>-76.954054</td>\n",
       "      <td>38.895986</td>\n",
       "      <td>196643594</td>\n",
       "      <td>28706994</td>\n",
       "      <td>21030376</td>\n",
       "      <td>2021/03/10 04:05:27+00</td>\n",
       "      <td>0</td>\n",
       "      <td>0.0</td>\n",
       "      <td>16.57</td>\n",
       "      <td>NaN</td>\n",
       "      <td>...</td>\n",
       "      <td>38.895832</td>\n",
       "      <td>-76.954091</td>\n",
       "      <td>404151.99</td>\n",
       "      <td>136570.94</td>\n",
       "      <td>910e58e4349e828dd7d2f1d069d2c19e</td>\n",
       "      <td>910e58e4349e828dd7d2f1d069d2c19e</td>\n",
       "      <td>0</td>\n",
       "      <td>0</td>\n",
       "      <td>0</td>\n",
       "      <td>0</td>\n",
       "    </tr>\n",
       "  </tbody>\n",
       "</table>\n",
       "<p>5 rows × 60 columns</p>\n",
       "</div>"
      ],
      "text/plain": [
       "           X          Y   OBJECTID   CRIMEID       CCN  \\\n",
       "0 -77.006951  38.918116  196643590  28706951  21030453   \n",
       "1 -76.958994  38.861884  196643591  28706963  21030393   \n",
       "2 -76.959820  38.866301  196643592  28706971  21030427   \n",
       "3 -76.950678  38.888687  196643593  28706992  21030392   \n",
       "4 -76.954054  38.895986  196643594  28706994  21030376   \n",
       "\n",
       "               REPORTDATE ROUTEID  MEASURE  OFFSET  STREETSEGID  ...  \\\n",
       "0  2021/03/10 02:41:05+00       0      0.0    0.03          NaN  ...   \n",
       "1  2021/03/10 02:57:24+00       0      0.0    9.05          NaN  ...   \n",
       "2  2021/03/10 03:23:07+00       0      0.0    5.81          NaN  ...   \n",
       "3  2021/03/10 04:11:48+00       0      0.0   19.24          NaN  ...   \n",
       "4  2021/03/10 04:05:27+00       0      0.0   16.57          NaN  ...   \n",
       "\n",
       "   MPDLATITUDE MPDLONGITUDE    MPDGEOX    MPDGEOY  \\\n",
       "0    38.918108   -77.006948  399397.42  138915.43   \n",
       "1    38.861887   -76.958888  403514.94  132765.83   \n",
       "2    38.866286   -76.959884  403505.80  133242.59   \n",
       "3    38.888816   -76.950812  404235.48  135672.00   \n",
       "4    38.895832   -76.954091  404151.99  136570.94   \n",
       "\n",
       "                           BLOCKKEY                       SUBBLOCKKEY  \\\n",
       "0  07a29377cde1b2f67f7f1a5a965d0061  8506a607f11e09cd25cfa1ae7b88794e   \n",
       "1  ab55d6e159798aed740401182f3c13df  4fcf5db17d7664ee7d3a46821ce40eac   \n",
       "2  dee80528d92cfc0c4dda9f3e54c52e90  dee80528d92cfc0c4dda9f3e54c52e90   \n",
       "3  a3e5f13770b6585ef17a27609b6ff214  c217cd384f2c0a25fd43923f3bc51064   \n",
       "4  910e58e4349e828dd7d2f1d069d2c19e  910e58e4349e828dd7d2f1d069d2c19e   \n",
       "\n",
       "   FATALPASSENGER  MAJORINJURIESPASSENGER  MINORINJURIESPASSENGER  \\\n",
       "0               0                       0                       0   \n",
       "1               0                       0                       0   \n",
       "2               0                       0                       2   \n",
       "3               0                       0                       0   \n",
       "4               0                       0                       0   \n",
       "\n",
       "  UNKNOWNINJURIESPASSENGER  \n",
       "0                        0  \n",
       "1                        0  \n",
       "2                        0  \n",
       "3                        0  \n",
       "4                        0  \n",
       "\n",
       "[5 rows x 60 columns]"
      ]
     },
     "execution_count": 10,
     "metadata": {},
     "output_type": "execute_result"
    }
   ],
   "source": [
    "crashesDCdf = pd.read_csv(\"https://opendata.arcgis.com/datasets/70392a096a8e431381f1f692aaa06afd_24.csv\", low_memory = False)\n",
    "crashesDCdf.info()\n",
    "crashesDCdf.head()"
   ]
  },
  {
   "cell_type": "markdown",
   "metadata": {},
   "source": [
    "\n",
    "#### Begin cleaning driver info dataframe  \n",
    "First, examine the information about the dataframe.\n"
   ]
  },
  {
   "cell_type": "code",
   "execution_count": 11,
   "metadata": {},
   "outputs": [
    {
     "data": {
      "text/plain": [
       "(121919, 43)"
      ]
     },
     "execution_count": 11,
     "metadata": {},
     "output_type": "execute_result"
    }
   ],
   "source": [
    "driverdf.shape"
   ]
  },
  {
   "cell_type": "code",
   "execution_count": 12,
   "metadata": {},
   "outputs": [
    {
     "data": {
      "text/plain": [
       "Index(['report_number', 'local_case_number', 'agency_name', 'acrs_report_type',\n",
       "       'crash_date_time', 'route_type', 'road_name', 'cross_street_type',\n",
       "       'cross_street_name', 'off_road_description', 'municipality',\n",
       "       'related_non_motorist', 'collision_type', 'weather',\n",
       "       'surface_condition', 'light', 'traffic_control',\n",
       "       'driver_substance_abuse', 'non_motorist_substance_abuse', 'person_id',\n",
       "       'driver_at_fault', 'injury_severity', 'circumstance',\n",
       "       'driver_distracted_by', 'drivers_license_state', 'vehicle_id',\n",
       "       'vehicle_damage_extent', 'vehicle_first_impact_location',\n",
       "       'vehicle_second_impact_location', 'vehicle_body_type',\n",
       "       'vehicle_movement', 'vehicle_continuing_dir', 'vehicle_going_dir',\n",
       "       'speed_limit', 'driverless_vehicle', 'parked_vehicle', 'vehicle_year',\n",
       "       'vehicle_make', 'vehicle_model', 'equipment_problems', 'latitude',\n",
       "       'longitude', 'location'],\n",
       "      dtype='object')"
      ]
     },
     "execution_count": 12,
     "metadata": {},
     "output_type": "execute_result"
    }
   ],
   "source": [
    "driverdf.columns"
   ]
  },
  {
   "cell_type": "code",
   "execution_count": 13,
   "metadata": {},
   "outputs": [
    {
     "data": {
      "text/html": [
       "<div>\n",
       "<style scoped>\n",
       "    .dataframe tbody tr th:only-of-type {\n",
       "        vertical-align: middle;\n",
       "    }\n",
       "\n",
       "    .dataframe tbody tr th {\n",
       "        vertical-align: top;\n",
       "    }\n",
       "\n",
       "    .dataframe thead th {\n",
       "        text-align: right;\n",
       "    }\n",
       "</style>\n",
       "<table border=\"1\" class=\"dataframe\">\n",
       "  <thead>\n",
       "    <tr style=\"text-align: right;\">\n",
       "      <th></th>\n",
       "      <th>report_number</th>\n",
       "      <th>local_case_number</th>\n",
       "      <th>agency_name</th>\n",
       "      <th>acrs_report_type</th>\n",
       "      <th>crash_date_time</th>\n",
       "      <th>route_type</th>\n",
       "      <th>road_name</th>\n",
       "      <th>cross_street_type</th>\n",
       "      <th>cross_street_name</th>\n",
       "      <th>off_road_description</th>\n",
       "      <th>...</th>\n",
       "      <th>speed_limit</th>\n",
       "      <th>driverless_vehicle</th>\n",
       "      <th>parked_vehicle</th>\n",
       "      <th>vehicle_year</th>\n",
       "      <th>vehicle_make</th>\n",
       "      <th>vehicle_model</th>\n",
       "      <th>equipment_problems</th>\n",
       "      <th>latitude</th>\n",
       "      <th>longitude</th>\n",
       "      <th>location</th>\n",
       "    </tr>\n",
       "  </thead>\n",
       "  <tbody>\n",
       "    <tr>\n",
       "      <th>0</th>\n",
       "      <td>DD5620004G</td>\n",
       "      <td>190046109</td>\n",
       "      <td>Rockville Police Departme</td>\n",
       "      <td>Property Damage Crash</td>\n",
       "      <td>09/26/2019 07:20:00 AM</td>\n",
       "      <td>NaN</td>\n",
       "      <td>NaN</td>\n",
       "      <td>NaN</td>\n",
       "      <td>NaN</td>\n",
       "      <td>PARKING LOT</td>\n",
       "      <td>...</td>\n",
       "      <td>15</td>\n",
       "      <td>No</td>\n",
       "      <td>No</td>\n",
       "      <td>2017</td>\n",
       "      <td>THOMAS</td>\n",
       "      <td>BUS</td>\n",
       "      <td>NO MISUSE</td>\n",
       "      <td>39.103518</td>\n",
       "      <td>-77.157669</td>\n",
       "      <td>(39.10351817, -77.15766933)</td>\n",
       "    </tr>\n",
       "    <tr>\n",
       "      <th>1</th>\n",
       "      <td>MCP29620057</td>\n",
       "      <td>200023865</td>\n",
       "      <td>Montgomery County Police</td>\n",
       "      <td>Property Damage Crash</td>\n",
       "      <td>06/18/2020 02:00:00 AM</td>\n",
       "      <td>County</td>\n",
       "      <td>DAIRYMAID DR</td>\n",
       "      <td>County</td>\n",
       "      <td>METZ DR</td>\n",
       "      <td>NaN</td>\n",
       "      <td>...</td>\n",
       "      <td>35</td>\n",
       "      <td>No</td>\n",
       "      <td>No</td>\n",
       "      <td>2020</td>\n",
       "      <td>UNK</td>\n",
       "      <td>UNK</td>\n",
       "      <td>UNKNOWN</td>\n",
       "      <td>39.154847</td>\n",
       "      <td>-77.271245</td>\n",
       "      <td>(39.15484667, -77.271245)</td>\n",
       "    </tr>\n",
       "    <tr>\n",
       "      <th>2</th>\n",
       "      <td>MCP3050004K</td>\n",
       "      <td>200016465</td>\n",
       "      <td>Montgomery County Police</td>\n",
       "      <td>Property Damage Crash</td>\n",
       "      <td>04/19/2020 03:39:00 PM</td>\n",
       "      <td>County</td>\n",
       "      <td>RUSSETT RD</td>\n",
       "      <td>County</td>\n",
       "      <td>ARCTIC AVE</td>\n",
       "      <td>NaN</td>\n",
       "      <td>...</td>\n",
       "      <td>25</td>\n",
       "      <td>No</td>\n",
       "      <td>No</td>\n",
       "      <td>2004</td>\n",
       "      <td>DODGE</td>\n",
       "      <td>GRAND CARAVAN</td>\n",
       "      <td>NO MISUSE</td>\n",
       "      <td>39.080062</td>\n",
       "      <td>-77.097845</td>\n",
       "      <td>(39.08006167, -77.097845)</td>\n",
       "    </tr>\n",
       "    <tr>\n",
       "      <th>3</th>\n",
       "      <td>MCP2641001J</td>\n",
       "      <td>200016526</td>\n",
       "      <td>Montgomery County Police</td>\n",
       "      <td>Injury Crash</td>\n",
       "      <td>04/20/2020 09:15:00 AM</td>\n",
       "      <td>County</td>\n",
       "      <td>ARCHDALE RD</td>\n",
       "      <td>County</td>\n",
       "      <td>GUNNERS BRANCH RD</td>\n",
       "      <td>NaN</td>\n",
       "      <td>...</td>\n",
       "      <td>25</td>\n",
       "      <td>No</td>\n",
       "      <td>No</td>\n",
       "      <td>2006</td>\n",
       "      <td>HONDA</td>\n",
       "      <td>CR-V</td>\n",
       "      <td>UNKNOWN</td>\n",
       "      <td>39.175230</td>\n",
       "      <td>-77.241090</td>\n",
       "      <td>(39.17523, -77.24109)</td>\n",
       "    </tr>\n",
       "    <tr>\n",
       "      <th>4</th>\n",
       "      <td>MCP27100039</td>\n",
       "      <td>200016305</td>\n",
       "      <td>Montgomery County Police</td>\n",
       "      <td>Property Damage Crash</td>\n",
       "      <td>04/17/2020 05:00:00 PM</td>\n",
       "      <td>Municipality</td>\n",
       "      <td>E DIAMOND AVE</td>\n",
       "      <td>Municipality</td>\n",
       "      <td>S SUMMIT AVE</td>\n",
       "      <td>NaN</td>\n",
       "      <td>...</td>\n",
       "      <td>25</td>\n",
       "      <td>No</td>\n",
       "      <td>No</td>\n",
       "      <td>2011</td>\n",
       "      <td>TOYOTA</td>\n",
       "      <td>4S</td>\n",
       "      <td>NaN</td>\n",
       "      <td>39.140555</td>\n",
       "      <td>-77.193347</td>\n",
       "      <td>(39.140555, -77.19334667)</td>\n",
       "    </tr>\n",
       "  </tbody>\n",
       "</table>\n",
       "<p>5 rows × 43 columns</p>\n",
       "</div>"
      ],
      "text/plain": [
       "  report_number local_case_number                agency_name  \\\n",
       "0    DD5620004G         190046109  Rockville Police Departme   \n",
       "1   MCP29620057         200023865   Montgomery County Police   \n",
       "2   MCP3050004K         200016465   Montgomery County Police   \n",
       "3   MCP2641001J         200016526   Montgomery County Police   \n",
       "4   MCP27100039         200016305   Montgomery County Police   \n",
       "\n",
       "        acrs_report_type         crash_date_time    route_type      road_name  \\\n",
       "0  Property Damage Crash  09/26/2019 07:20:00 AM           NaN            NaN   \n",
       "1  Property Damage Crash  06/18/2020 02:00:00 AM        County   DAIRYMAID DR   \n",
       "2  Property Damage Crash  04/19/2020 03:39:00 PM        County     RUSSETT RD   \n",
       "3           Injury Crash  04/20/2020 09:15:00 AM        County    ARCHDALE RD   \n",
       "4  Property Damage Crash  04/17/2020 05:00:00 PM  Municipality  E DIAMOND AVE   \n",
       "\n",
       "  cross_street_type  cross_street_name off_road_description  ... speed_limit  \\\n",
       "0               NaN                NaN          PARKING LOT  ...          15   \n",
       "1            County            METZ DR                  NaN  ...          35   \n",
       "2            County         ARCTIC AVE                  NaN  ...          25   \n",
       "3            County  GUNNERS BRANCH RD                  NaN  ...          25   \n",
       "4      Municipality       S SUMMIT AVE                  NaN  ...          25   \n",
       "\n",
       "  driverless_vehicle parked_vehicle vehicle_year vehicle_make  vehicle_model  \\\n",
       "0                 No             No         2017       THOMAS            BUS   \n",
       "1                 No             No         2020          UNK            UNK   \n",
       "2                 No             No         2004        DODGE  GRAND CARAVAN   \n",
       "3                 No             No         2006        HONDA           CR-V   \n",
       "4                 No             No         2011       TOYOTA             4S   \n",
       "\n",
       "  equipment_problems   latitude  longitude                     location  \n",
       "0          NO MISUSE  39.103518 -77.157669  (39.10351817, -77.15766933)  \n",
       "1            UNKNOWN  39.154847 -77.271245    (39.15484667, -77.271245)  \n",
       "2          NO MISUSE  39.080062 -77.097845    (39.08006167, -77.097845)  \n",
       "3            UNKNOWN  39.175230 -77.241090        (39.17523, -77.24109)  \n",
       "4                NaN  39.140555 -77.193347    (39.140555, -77.19334667)  \n",
       "\n",
       "[5 rows x 43 columns]"
      ]
     },
     "execution_count": 13,
     "metadata": {},
     "output_type": "execute_result"
    }
   ],
   "source": [
    "driverdf.head()"
   ]
  },
  {
   "cell_type": "markdown",
   "metadata": {},
   "source": [
    "The number of nun-null entries indicates whether or not all 1000 entries are non-null.  In several columns, there are fewer than 1000 non-null entries, which means there should be nulls.  The next step is to check for consistent missing value notation."
   ]
  },
  {
   "cell_type": "code",
   "execution_count": 14,
   "metadata": {},
   "outputs": [],
   "source": [
    "driverdf = driverdf.drop(driverdf.index[0])"
   ]
  },
  {
   "cell_type": "markdown",
   "metadata": {},
   "source": [
    "#### Convert date-time objects to datetime format"
   ]
  },
  {
   "cell_type": "code",
   "execution_count": 15,
   "metadata": {},
   "outputs": [
    {
     "name": "stdout",
     "output_type": "stream",
     "text": [
      "<class 'pandas.core.frame.DataFrame'>\n",
      "Int64Index: 121918 entries, 1 to 121918\n",
      "Data columns (total 43 columns):\n",
      " #   Column                          Non-Null Count   Dtype         \n",
      "---  ------                          --------------   -----         \n",
      " 0   report_number                   121918 non-null  object        \n",
      " 1   local_case_number               121918 non-null  object        \n",
      " 2   agency_name                     121918 non-null  object        \n",
      " 3   acrs_report_type                121918 non-null  object        \n",
      " 4   crash_date_time                 121918 non-null  datetime64[ns]\n",
      " 5   route_type                      110115 non-null  object        \n",
      " 6   road_name                       110715 non-null  object        \n",
      " 7   cross_street_type               110101 non-null  object        \n",
      " 8   cross_street_name               110710 non-null  object        \n",
      " 9   off_road_description            11202 non-null   object        \n",
      " 10  municipality                    13348 non-null   object        \n",
      " 11  related_non_motorist            3796 non-null    object        \n",
      " 12  collision_type                  121510 non-null  object        \n",
      " 13  weather                         112273 non-null  object        \n",
      " 14  surface_condition               107556 non-null  object        \n",
      " 15  light                           120901 non-null  object        \n",
      " 16  traffic_control                 102727 non-null  object        \n",
      " 17  driver_substance_abuse          99707 non-null   object        \n",
      " 18  non_motorist_substance_abuse    3015 non-null    object        \n",
      " 19  person_id                       121918 non-null  object        \n",
      " 20  driver_at_fault                 121918 non-null  object        \n",
      " 21  injury_severity                 121918 non-null  object        \n",
      " 22  circumstance                    23635 non-null   object        \n",
      " 23  driver_distracted_by            121918 non-null  object        \n",
      " 24  drivers_license_state           115937 non-null  object        \n",
      " 25  vehicle_id                      121918 non-null  object        \n",
      " 26  vehicle_damage_extent           121700 non-null  object        \n",
      " 27  vehicle_first_impact_location   121762 non-null  object        \n",
      " 28  vehicle_second_impact_location  121662 non-null  object        \n",
      " 29  vehicle_body_type               120145 non-null  object        \n",
      " 30  vehicle_movement                121670 non-null  object        \n",
      " 31  vehicle_continuing_dir          120109 non-null  object        \n",
      " 32  vehicle_going_dir               120109 non-null  object        \n",
      " 33  speed_limit                     121918 non-null  int64         \n",
      " 34  driverless_vehicle              121918 non-null  object        \n",
      " 35  parked_vehicle                  121918 non-null  object        \n",
      " 36  vehicle_year                    121918 non-null  int64         \n",
      " 37  vehicle_make                    121897 non-null  object        \n",
      " 38  vehicle_model                   121865 non-null  object        \n",
      " 39  equipment_problems              95340 non-null   object        \n",
      " 40  latitude                        121918 non-null  float64       \n",
      " 41  longitude                       121918 non-null  float64       \n",
      " 42  location                        121918 non-null  object        \n",
      "dtypes: datetime64[ns](1), float64(2), int64(2), object(38)\n",
      "memory usage: 40.9+ MB\n"
     ]
    }
   ],
   "source": [
    "driverdf['crash_date_time'] = pd.to_datetime(driverdf['crash_date_time'])\n",
    "driverdf.info()"
   ]
  },
  {
   "cell_type": "markdown",
   "metadata": {},
   "source": [
    "#### Check for consistency of variables within columns\n",
    "I'm not going to check road names because of the expected massive variability within those categories."
   ]
  },
  {
   "cell_type": "code",
   "execution_count": 16,
   "metadata": {},
   "outputs": [
    {
     "data": {
      "text/plain": [
       "68316"
      ]
     },
     "execution_count": 16,
     "metadata": {},
     "output_type": "execute_result"
    }
   ],
   "source": [
    "reports = driverdf.report_number\n",
    "#reports_unique = reports.unique()\n",
    "reports.nunique()"
   ]
  },
  {
   "cell_type": "markdown",
   "metadata": {},
   "source": [
    "## This is very interesting, because it indicates that of the 1000 entries, there are only 595 unique reports.  I will check that by using \"duplicated\" to see how many duplicate entries there are."
   ]
  },
  {
   "cell_type": "code",
   "execution_count": 17,
   "metadata": {},
   "outputs": [
    {
     "data": {
      "text/html": [
       "<div>\n",
       "<style scoped>\n",
       "    .dataframe tbody tr th:only-of-type {\n",
       "        vertical-align: middle;\n",
       "    }\n",
       "\n",
       "    .dataframe tbody tr th {\n",
       "        vertical-align: top;\n",
       "    }\n",
       "\n",
       "    .dataframe thead th {\n",
       "        text-align: right;\n",
       "    }\n",
       "</style>\n",
       "<table border=\"1\" class=\"dataframe\">\n",
       "  <thead>\n",
       "    <tr style=\"text-align: right;\">\n",
       "      <th></th>\n",
       "      <th>report_number</th>\n",
       "      <th>local_case_number</th>\n",
       "      <th>agency_name</th>\n",
       "      <th>acrs_report_type</th>\n",
       "      <th>crash_date_time</th>\n",
       "      <th>route_type</th>\n",
       "      <th>road_name</th>\n",
       "      <th>cross_street_type</th>\n",
       "      <th>cross_street_name</th>\n",
       "      <th>off_road_description</th>\n",
       "      <th>...</th>\n",
       "      <th>speed_limit</th>\n",
       "      <th>driverless_vehicle</th>\n",
       "      <th>parked_vehicle</th>\n",
       "      <th>vehicle_year</th>\n",
       "      <th>vehicle_make</th>\n",
       "      <th>vehicle_model</th>\n",
       "      <th>equipment_problems</th>\n",
       "      <th>latitude</th>\n",
       "      <th>longitude</th>\n",
       "      <th>location</th>\n",
       "    </tr>\n",
       "  </thead>\n",
       "  <tbody>\n",
       "    <tr>\n",
       "      <th>13</th>\n",
       "      <td>DD5636001X</td>\n",
       "      <td>200016597</td>\n",
       "      <td>Rockville Police Departme</td>\n",
       "      <td>Injury Crash</td>\n",
       "      <td>2020-04-20 20:42:00</td>\n",
       "      <td>Maryland (State)</td>\n",
       "      <td>HUNGERFORD DR</td>\n",
       "      <td>Municipality</td>\n",
       "      <td>MANNAKEE ST</td>\n",
       "      <td>NaN</td>\n",
       "      <td>...</td>\n",
       "      <td>35</td>\n",
       "      <td>No</td>\n",
       "      <td>No</td>\n",
       "      <td>2003</td>\n",
       "      <td>TOYOTA</td>\n",
       "      <td>SEQUOIA</td>\n",
       "      <td>NaN</td>\n",
       "      <td>39.095436</td>\n",
       "      <td>-77.153178</td>\n",
       "      <td>(39.09543625, -77.15317829)</td>\n",
       "    </tr>\n",
       "    <tr>\n",
       "      <th>27</th>\n",
       "      <td>MCP1202004H</td>\n",
       "      <td>200015998</td>\n",
       "      <td>Montgomery County Police</td>\n",
       "      <td>Injury Crash</td>\n",
       "      <td>2020-04-14 13:12:00</td>\n",
       "      <td>County</td>\n",
       "      <td>KIRKWOOD DR</td>\n",
       "      <td>County</td>\n",
       "      <td>PARKSTON RD</td>\n",
       "      <td>NaN</td>\n",
       "      <td>...</td>\n",
       "      <td>25</td>\n",
       "      <td>No</td>\n",
       "      <td>No</td>\n",
       "      <td>2014</td>\n",
       "      <td>MERCEDES</td>\n",
       "      <td>ML 350</td>\n",
       "      <td>NO MISUSE</td>\n",
       "      <td>38.966700</td>\n",
       "      <td>-77.111410</td>\n",
       "      <td>(38.9667, -77.11141)</td>\n",
       "    </tr>\n",
       "    <tr>\n",
       "      <th>43</th>\n",
       "      <td>MCP2039005B</td>\n",
       "      <td>190022383</td>\n",
       "      <td>Montgomery County Police</td>\n",
       "      <td>Injury Crash</td>\n",
       "      <td>2019-05-12 14:00:00</td>\n",
       "      <td>Maryland (State)</td>\n",
       "      <td>GEORGIA AVE</td>\n",
       "      <td>Unknown</td>\n",
       "      <td>ENT TO BUSINESS</td>\n",
       "      <td>NaN</td>\n",
       "      <td>...</td>\n",
       "      <td>35</td>\n",
       "      <td>No</td>\n",
       "      <td>No</td>\n",
       "      <td>2016</td>\n",
       "      <td>FORD</td>\n",
       "      <td>F150</td>\n",
       "      <td>NO MISUSE</td>\n",
       "      <td>39.085042</td>\n",
       "      <td>-77.079187</td>\n",
       "      <td>(39.08504167, -77.07918667)</td>\n",
       "    </tr>\n",
       "    <tr>\n",
       "      <th>44</th>\n",
       "      <td>MCP2954006X</td>\n",
       "      <td>190026082</td>\n",
       "      <td>Montgomery County Police</td>\n",
       "      <td>Injury Crash</td>\n",
       "      <td>2019-05-31 23:00:00</td>\n",
       "      <td>County</td>\n",
       "      <td>CARROLL AVE</td>\n",
       "      <td>County</td>\n",
       "      <td>11TH AVE</td>\n",
       "      <td>NaN</td>\n",
       "      <td>...</td>\n",
       "      <td>30</td>\n",
       "      <td>No</td>\n",
       "      <td>No</td>\n",
       "      <td>2013</td>\n",
       "      <td>TOYOTA</td>\n",
       "      <td>4S</td>\n",
       "      <td>UNKNOWN</td>\n",
       "      <td>38.996742</td>\n",
       "      <td>-76.992012</td>\n",
       "      <td>(38.99674167, -76.99201167)</td>\n",
       "    </tr>\n",
       "    <tr>\n",
       "      <th>51</th>\n",
       "      <td>MCP2939003S</td>\n",
       "      <td>190026164</td>\n",
       "      <td>Montgomery County Police</td>\n",
       "      <td>Injury Crash</td>\n",
       "      <td>2019-06-01 15:43:00</td>\n",
       "      <td>County</td>\n",
       "      <td>GUNNERS BRANCH RD</td>\n",
       "      <td>Maryland (State)</td>\n",
       "      <td>FREDERICK RD</td>\n",
       "      <td>NaN</td>\n",
       "      <td>...</td>\n",
       "      <td>30</td>\n",
       "      <td>No</td>\n",
       "      <td>No</td>\n",
       "      <td>2013</td>\n",
       "      <td>FORD</td>\n",
       "      <td>4S</td>\n",
       "      <td>NO MISUSE</td>\n",
       "      <td>39.178070</td>\n",
       "      <td>-77.239852</td>\n",
       "      <td>(39.17807, -77.23985167)</td>\n",
       "    </tr>\n",
       "    <tr>\n",
       "      <th>...</th>\n",
       "      <td>...</td>\n",
       "      <td>...</td>\n",
       "      <td>...</td>\n",
       "      <td>...</td>\n",
       "      <td>...</td>\n",
       "      <td>...</td>\n",
       "      <td>...</td>\n",
       "      <td>...</td>\n",
       "      <td>...</td>\n",
       "      <td>...</td>\n",
       "      <td>...</td>\n",
       "      <td>...</td>\n",
       "      <td>...</td>\n",
       "      <td>...</td>\n",
       "      <td>...</td>\n",
       "      <td>...</td>\n",
       "      <td>...</td>\n",
       "      <td>...</td>\n",
       "      <td>...</td>\n",
       "      <td>...</td>\n",
       "      <td>...</td>\n",
       "    </tr>\n",
       "    <tr>\n",
       "      <th>121913</th>\n",
       "      <td>MCP2844004V</td>\n",
       "      <td>210009464</td>\n",
       "      <td>Montgomery County Police</td>\n",
       "      <td>Injury Crash</td>\n",
       "      <td>2021-03-13 13:15:00</td>\n",
       "      <td>Maryland (State)</td>\n",
       "      <td>GEORGIA AVE</td>\n",
       "      <td>County</td>\n",
       "      <td>LINDELL ST</td>\n",
       "      <td>NaN</td>\n",
       "      <td>...</td>\n",
       "      <td>35</td>\n",
       "      <td>No</td>\n",
       "      <td>No</td>\n",
       "      <td>2015</td>\n",
       "      <td>FORD</td>\n",
       "      <td>FUSION</td>\n",
       "      <td>NO MISUSE</td>\n",
       "      <td>39.054468</td>\n",
       "      <td>-77.050570</td>\n",
       "      <td>(39.0544675, -77.0505705)</td>\n",
       "    </tr>\n",
       "    <tr>\n",
       "      <th>121914</th>\n",
       "      <td>MCP27670092</td>\n",
       "      <td>210010665</td>\n",
       "      <td>Montgomery County Police</td>\n",
       "      <td>Property Damage Crash</td>\n",
       "      <td>2021-03-21 19:27:00</td>\n",
       "      <td>County</td>\n",
       "      <td>RANDOLPH RD</td>\n",
       "      <td>Maryland (State)</td>\n",
       "      <td>GEORGIA AVE</td>\n",
       "      <td>NaN</td>\n",
       "      <td>...</td>\n",
       "      <td>35</td>\n",
       "      <td>No</td>\n",
       "      <td>No</td>\n",
       "      <td>2015</td>\n",
       "      <td>HONDA</td>\n",
       "      <td>CIVIC</td>\n",
       "      <td>NaN</td>\n",
       "      <td>39.065943</td>\n",
       "      <td>-77.042433</td>\n",
       "      <td>(39.06594333, -77.04243333)</td>\n",
       "    </tr>\n",
       "    <tr>\n",
       "      <th>121916</th>\n",
       "      <td>MCP2047003Z</td>\n",
       "      <td>210010334</td>\n",
       "      <td>Montgomery County Police</td>\n",
       "      <td>Injury Crash</td>\n",
       "      <td>2021-03-19 14:37:00</td>\n",
       "      <td>Maryland (State)</td>\n",
       "      <td>FREDERICK RD</td>\n",
       "      <td>Municipality</td>\n",
       "      <td>RIDGEMONT AVE</td>\n",
       "      <td>NaN</td>\n",
       "      <td>...</td>\n",
       "      <td>40</td>\n",
       "      <td>No</td>\n",
       "      <td>No</td>\n",
       "      <td>2011</td>\n",
       "      <td>HONDA</td>\n",
       "      <td>ACCORD</td>\n",
       "      <td>NO MISUSE</td>\n",
       "      <td>39.119072</td>\n",
       "      <td>-77.171948</td>\n",
       "      <td>(39.11907167, -77.17194833)</td>\n",
       "    </tr>\n",
       "    <tr>\n",
       "      <th>121917</th>\n",
       "      <td>MCP3212002F</td>\n",
       "      <td>210010036</td>\n",
       "      <td>Montgomery County Police</td>\n",
       "      <td>Property Damage Crash</td>\n",
       "      <td>2021-03-17 16:32:00</td>\n",
       "      <td>Maryland (State)</td>\n",
       "      <td>GEORGIA AVE</td>\n",
       "      <td>County</td>\n",
       "      <td>MEDICAL PARK DR</td>\n",
       "      <td>NaN</td>\n",
       "      <td>...</td>\n",
       "      <td>35</td>\n",
       "      <td>No</td>\n",
       "      <td>No</td>\n",
       "      <td>2016</td>\n",
       "      <td>FORD</td>\n",
       "      <td>EXPLORER</td>\n",
       "      <td>NO MISUSE</td>\n",
       "      <td>39.024135</td>\n",
       "      <td>-77.045585</td>\n",
       "      <td>(39.0241355, -77.04558533)</td>\n",
       "    </tr>\n",
       "    <tr>\n",
       "      <th>121918</th>\n",
       "      <td>MCP3069004R</td>\n",
       "      <td>210010746</td>\n",
       "      <td>Montgomery County Police</td>\n",
       "      <td>Property Damage Crash</td>\n",
       "      <td>2021-03-22 13:10:00</td>\n",
       "      <td>Maryland (State)</td>\n",
       "      <td>EAST WEST HWY</td>\n",
       "      <td>Maryland (State)</td>\n",
       "      <td>CONNECTICUT AVE</td>\n",
       "      <td>NaN</td>\n",
       "      <td>...</td>\n",
       "      <td>35</td>\n",
       "      <td>No</td>\n",
       "      <td>No</td>\n",
       "      <td>2009</td>\n",
       "      <td>GILL</td>\n",
       "      <td>BUS</td>\n",
       "      <td>NO MISUSE</td>\n",
       "      <td>38.987595</td>\n",
       "      <td>-77.077245</td>\n",
       "      <td>(38.987595, -77.077245)</td>\n",
       "    </tr>\n",
       "  </tbody>\n",
       "</table>\n",
       "<p>53602 rows × 43 columns</p>\n",
       "</div>"
      ],
      "text/plain": [
       "       report_number local_case_number                agency_name  \\\n",
       "13        DD5636001X         200016597  Rockville Police Departme   \n",
       "27       MCP1202004H         200015998   Montgomery County Police   \n",
       "43       MCP2039005B         190022383   Montgomery County Police   \n",
       "44       MCP2954006X         190026082   Montgomery County Police   \n",
       "51       MCP2939003S         190026164   Montgomery County Police   \n",
       "...              ...               ...                        ...   \n",
       "121913   MCP2844004V         210009464   Montgomery County Police   \n",
       "121914   MCP27670092         210010665   Montgomery County Police   \n",
       "121916   MCP2047003Z         210010334   Montgomery County Police   \n",
       "121917   MCP3212002F         210010036   Montgomery County Police   \n",
       "121918   MCP3069004R         210010746   Montgomery County Police   \n",
       "\n",
       "             acrs_report_type     crash_date_time        route_type  \\\n",
       "13               Injury Crash 2020-04-20 20:42:00  Maryland (State)   \n",
       "27               Injury Crash 2020-04-14 13:12:00            County   \n",
       "43               Injury Crash 2019-05-12 14:00:00  Maryland (State)   \n",
       "44               Injury Crash 2019-05-31 23:00:00            County   \n",
       "51               Injury Crash 2019-06-01 15:43:00            County   \n",
       "...                       ...                 ...               ...   \n",
       "121913           Injury Crash 2021-03-13 13:15:00  Maryland (State)   \n",
       "121914  Property Damage Crash 2021-03-21 19:27:00            County   \n",
       "121916           Injury Crash 2021-03-19 14:37:00  Maryland (State)   \n",
       "121917  Property Damage Crash 2021-03-17 16:32:00  Maryland (State)   \n",
       "121918  Property Damage Crash 2021-03-22 13:10:00  Maryland (State)   \n",
       "\n",
       "                road_name cross_street_type cross_street_name  \\\n",
       "13          HUNGERFORD DR      Municipality       MANNAKEE ST   \n",
       "27            KIRKWOOD DR            County       PARKSTON RD   \n",
       "43            GEORGIA AVE           Unknown   ENT TO BUSINESS   \n",
       "44            CARROLL AVE            County          11TH AVE   \n",
       "51      GUNNERS BRANCH RD  Maryland (State)      FREDERICK RD   \n",
       "...                   ...               ...               ...   \n",
       "121913        GEORGIA AVE            County        LINDELL ST   \n",
       "121914        RANDOLPH RD  Maryland (State)       GEORGIA AVE   \n",
       "121916       FREDERICK RD      Municipality     RIDGEMONT AVE   \n",
       "121917        GEORGIA AVE            County   MEDICAL PARK DR   \n",
       "121918      EAST WEST HWY  Maryland (State)   CONNECTICUT AVE   \n",
       "\n",
       "       off_road_description  ... speed_limit driverless_vehicle  \\\n",
       "13                      NaN  ...          35                 No   \n",
       "27                      NaN  ...          25                 No   \n",
       "43                      NaN  ...          35                 No   \n",
       "44                      NaN  ...          30                 No   \n",
       "51                      NaN  ...          30                 No   \n",
       "...                     ...  ...         ...                ...   \n",
       "121913                  NaN  ...          35                 No   \n",
       "121914                  NaN  ...          35                 No   \n",
       "121916                  NaN  ...          40                 No   \n",
       "121917                  NaN  ...          35                 No   \n",
       "121918                  NaN  ...          35                 No   \n",
       "\n",
       "       parked_vehicle vehicle_year vehicle_make vehicle_model  \\\n",
       "13                 No         2003       TOYOTA       SEQUOIA   \n",
       "27                 No         2014     MERCEDES        ML 350   \n",
       "43                 No         2016         FORD          F150   \n",
       "44                 No         2013       TOYOTA            4S   \n",
       "51                 No         2013         FORD            4S   \n",
       "...               ...          ...          ...           ...   \n",
       "121913             No         2015         FORD        FUSION   \n",
       "121914             No         2015        HONDA         CIVIC   \n",
       "121916             No         2011        HONDA        ACCORD   \n",
       "121917             No         2016         FORD      EXPLORER   \n",
       "121918             No         2009         GILL           BUS   \n",
       "\n",
       "       equipment_problems   latitude  longitude                     location  \n",
       "13                    NaN  39.095436 -77.153178  (39.09543625, -77.15317829)  \n",
       "27              NO MISUSE  38.966700 -77.111410         (38.9667, -77.11141)  \n",
       "43              NO MISUSE  39.085042 -77.079187  (39.08504167, -77.07918667)  \n",
       "44                UNKNOWN  38.996742 -76.992012  (38.99674167, -76.99201167)  \n",
       "51              NO MISUSE  39.178070 -77.239852     (39.17807, -77.23985167)  \n",
       "...                   ...        ...        ...                          ...  \n",
       "121913          NO MISUSE  39.054468 -77.050570    (39.0544675, -77.0505705)  \n",
       "121914                NaN  39.065943 -77.042433  (39.06594333, -77.04243333)  \n",
       "121916          NO MISUSE  39.119072 -77.171948  (39.11907167, -77.17194833)  \n",
       "121917          NO MISUSE  39.024135 -77.045585   (39.0241355, -77.04558533)  \n",
       "121918          NO MISUSE  38.987595 -77.077245      (38.987595, -77.077245)  \n",
       "\n",
       "[53602 rows x 43 columns]"
      ]
     },
     "execution_count": 17,
     "metadata": {},
     "output_type": "execute_result"
    }
   ],
   "source": [
    "duplicateRowsDF = driverdf[driverdf.duplicated('report_number')]\n",
    "duplicateRowsDF"
   ]
  },
  {
   "cell_type": "markdown",
   "metadata": {},
   "source": [
    "So approximately half of my entries are duplicates.  I will need to figure out what I want to do about that.  I will probably look at the duplicates and see what the differences between the entries are, and then delete or merge the rows as appropriate.\n",
    "\n"
   ]
  },
  {
   "cell_type": "code",
   "execution_count": 18,
   "metadata": {},
   "outputs": [
    {
     "data": {
      "text/plain": [
       "68232"
      ]
     },
     "execution_count": 18,
     "metadata": {},
     "output_type": "execute_result"
    }
   ],
   "source": [
    "cases = driverdf.local_case_number\n",
    "#cases_unique = cases.unique()\n",
    "cases.nunique()"
   ]
  },
  {
   "cell_type": "code",
   "execution_count": 19,
   "metadata": {},
   "outputs": [
    {
     "data": {
      "text/html": [
       "<div>\n",
       "<style scoped>\n",
       "    .dataframe tbody tr th:only-of-type {\n",
       "        vertical-align: middle;\n",
       "    }\n",
       "\n",
       "    .dataframe tbody tr th {\n",
       "        vertical-align: top;\n",
       "    }\n",
       "\n",
       "    .dataframe thead th {\n",
       "        text-align: right;\n",
       "    }\n",
       "</style>\n",
       "<table border=\"1\" class=\"dataframe\">\n",
       "  <thead>\n",
       "    <tr style=\"text-align: right;\">\n",
       "      <th></th>\n",
       "      <th>report_number</th>\n",
       "      <th>local_case_number</th>\n",
       "      <th>agency_name</th>\n",
       "      <th>acrs_report_type</th>\n",
       "      <th>crash_date_time</th>\n",
       "      <th>route_type</th>\n",
       "      <th>road_name</th>\n",
       "      <th>cross_street_type</th>\n",
       "      <th>cross_street_name</th>\n",
       "      <th>off_road_description</th>\n",
       "      <th>...</th>\n",
       "      <th>speed_limit</th>\n",
       "      <th>driverless_vehicle</th>\n",
       "      <th>parked_vehicle</th>\n",
       "      <th>vehicle_year</th>\n",
       "      <th>vehicle_make</th>\n",
       "      <th>vehicle_model</th>\n",
       "      <th>equipment_problems</th>\n",
       "      <th>latitude</th>\n",
       "      <th>longitude</th>\n",
       "      <th>location</th>\n",
       "    </tr>\n",
       "  </thead>\n",
       "  <tbody>\n",
       "    <tr>\n",
       "      <th>13</th>\n",
       "      <td>DD5636001X</td>\n",
       "      <td>200016597</td>\n",
       "      <td>Rockville Police Departme</td>\n",
       "      <td>Injury Crash</td>\n",
       "      <td>2020-04-20 20:42:00</td>\n",
       "      <td>Maryland (State)</td>\n",
       "      <td>HUNGERFORD DR</td>\n",
       "      <td>Municipality</td>\n",
       "      <td>MANNAKEE ST</td>\n",
       "      <td>NaN</td>\n",
       "      <td>...</td>\n",
       "      <td>35</td>\n",
       "      <td>No</td>\n",
       "      <td>No</td>\n",
       "      <td>2003</td>\n",
       "      <td>TOYOTA</td>\n",
       "      <td>SEQUOIA</td>\n",
       "      <td>NaN</td>\n",
       "      <td>39.095436</td>\n",
       "      <td>-77.153178</td>\n",
       "      <td>(39.09543625, -77.15317829)</td>\n",
       "    </tr>\n",
       "    <tr>\n",
       "      <th>27</th>\n",
       "      <td>MCP1202004H</td>\n",
       "      <td>200015998</td>\n",
       "      <td>Montgomery County Police</td>\n",
       "      <td>Injury Crash</td>\n",
       "      <td>2020-04-14 13:12:00</td>\n",
       "      <td>County</td>\n",
       "      <td>KIRKWOOD DR</td>\n",
       "      <td>County</td>\n",
       "      <td>PARKSTON RD</td>\n",
       "      <td>NaN</td>\n",
       "      <td>...</td>\n",
       "      <td>25</td>\n",
       "      <td>No</td>\n",
       "      <td>No</td>\n",
       "      <td>2014</td>\n",
       "      <td>MERCEDES</td>\n",
       "      <td>ML 350</td>\n",
       "      <td>NO MISUSE</td>\n",
       "      <td>38.966700</td>\n",
       "      <td>-77.111410</td>\n",
       "      <td>(38.9667, -77.11141)</td>\n",
       "    </tr>\n",
       "    <tr>\n",
       "      <th>43</th>\n",
       "      <td>MCP2039005B</td>\n",
       "      <td>190022383</td>\n",
       "      <td>Montgomery County Police</td>\n",
       "      <td>Injury Crash</td>\n",
       "      <td>2019-05-12 14:00:00</td>\n",
       "      <td>Maryland (State)</td>\n",
       "      <td>GEORGIA AVE</td>\n",
       "      <td>Unknown</td>\n",
       "      <td>ENT TO BUSINESS</td>\n",
       "      <td>NaN</td>\n",
       "      <td>...</td>\n",
       "      <td>35</td>\n",
       "      <td>No</td>\n",
       "      <td>No</td>\n",
       "      <td>2016</td>\n",
       "      <td>FORD</td>\n",
       "      <td>F150</td>\n",
       "      <td>NO MISUSE</td>\n",
       "      <td>39.085042</td>\n",
       "      <td>-77.079187</td>\n",
       "      <td>(39.08504167, -77.07918667)</td>\n",
       "    </tr>\n",
       "    <tr>\n",
       "      <th>44</th>\n",
       "      <td>MCP2954006X</td>\n",
       "      <td>190026082</td>\n",
       "      <td>Montgomery County Police</td>\n",
       "      <td>Injury Crash</td>\n",
       "      <td>2019-05-31 23:00:00</td>\n",
       "      <td>County</td>\n",
       "      <td>CARROLL AVE</td>\n",
       "      <td>County</td>\n",
       "      <td>11TH AVE</td>\n",
       "      <td>NaN</td>\n",
       "      <td>...</td>\n",
       "      <td>30</td>\n",
       "      <td>No</td>\n",
       "      <td>No</td>\n",
       "      <td>2013</td>\n",
       "      <td>TOYOTA</td>\n",
       "      <td>4S</td>\n",
       "      <td>UNKNOWN</td>\n",
       "      <td>38.996742</td>\n",
       "      <td>-76.992012</td>\n",
       "      <td>(38.99674167, -76.99201167)</td>\n",
       "    </tr>\n",
       "    <tr>\n",
       "      <th>51</th>\n",
       "      <td>MCP2939003S</td>\n",
       "      <td>190026164</td>\n",
       "      <td>Montgomery County Police</td>\n",
       "      <td>Injury Crash</td>\n",
       "      <td>2019-06-01 15:43:00</td>\n",
       "      <td>County</td>\n",
       "      <td>GUNNERS BRANCH RD</td>\n",
       "      <td>Maryland (State)</td>\n",
       "      <td>FREDERICK RD</td>\n",
       "      <td>NaN</td>\n",
       "      <td>...</td>\n",
       "      <td>30</td>\n",
       "      <td>No</td>\n",
       "      <td>No</td>\n",
       "      <td>2013</td>\n",
       "      <td>FORD</td>\n",
       "      <td>4S</td>\n",
       "      <td>NO MISUSE</td>\n",
       "      <td>39.178070</td>\n",
       "      <td>-77.239852</td>\n",
       "      <td>(39.17807, -77.23985167)</td>\n",
       "    </tr>\n",
       "    <tr>\n",
       "      <th>...</th>\n",
       "      <td>...</td>\n",
       "      <td>...</td>\n",
       "      <td>...</td>\n",
       "      <td>...</td>\n",
       "      <td>...</td>\n",
       "      <td>...</td>\n",
       "      <td>...</td>\n",
       "      <td>...</td>\n",
       "      <td>...</td>\n",
       "      <td>...</td>\n",
       "      <td>...</td>\n",
       "      <td>...</td>\n",
       "      <td>...</td>\n",
       "      <td>...</td>\n",
       "      <td>...</td>\n",
       "      <td>...</td>\n",
       "      <td>...</td>\n",
       "      <td>...</td>\n",
       "      <td>...</td>\n",
       "      <td>...</td>\n",
       "      <td>...</td>\n",
       "    </tr>\n",
       "    <tr>\n",
       "      <th>121913</th>\n",
       "      <td>MCP2844004V</td>\n",
       "      <td>210009464</td>\n",
       "      <td>Montgomery County Police</td>\n",
       "      <td>Injury Crash</td>\n",
       "      <td>2021-03-13 13:15:00</td>\n",
       "      <td>Maryland (State)</td>\n",
       "      <td>GEORGIA AVE</td>\n",
       "      <td>County</td>\n",
       "      <td>LINDELL ST</td>\n",
       "      <td>NaN</td>\n",
       "      <td>...</td>\n",
       "      <td>35</td>\n",
       "      <td>No</td>\n",
       "      <td>No</td>\n",
       "      <td>2015</td>\n",
       "      <td>FORD</td>\n",
       "      <td>FUSION</td>\n",
       "      <td>NO MISUSE</td>\n",
       "      <td>39.054468</td>\n",
       "      <td>-77.050570</td>\n",
       "      <td>(39.0544675, -77.0505705)</td>\n",
       "    </tr>\n",
       "    <tr>\n",
       "      <th>121914</th>\n",
       "      <td>MCP27670092</td>\n",
       "      <td>210010665</td>\n",
       "      <td>Montgomery County Police</td>\n",
       "      <td>Property Damage Crash</td>\n",
       "      <td>2021-03-21 19:27:00</td>\n",
       "      <td>County</td>\n",
       "      <td>RANDOLPH RD</td>\n",
       "      <td>Maryland (State)</td>\n",
       "      <td>GEORGIA AVE</td>\n",
       "      <td>NaN</td>\n",
       "      <td>...</td>\n",
       "      <td>35</td>\n",
       "      <td>No</td>\n",
       "      <td>No</td>\n",
       "      <td>2015</td>\n",
       "      <td>HONDA</td>\n",
       "      <td>CIVIC</td>\n",
       "      <td>NaN</td>\n",
       "      <td>39.065943</td>\n",
       "      <td>-77.042433</td>\n",
       "      <td>(39.06594333, -77.04243333)</td>\n",
       "    </tr>\n",
       "    <tr>\n",
       "      <th>121916</th>\n",
       "      <td>MCP2047003Z</td>\n",
       "      <td>210010334</td>\n",
       "      <td>Montgomery County Police</td>\n",
       "      <td>Injury Crash</td>\n",
       "      <td>2021-03-19 14:37:00</td>\n",
       "      <td>Maryland (State)</td>\n",
       "      <td>FREDERICK RD</td>\n",
       "      <td>Municipality</td>\n",
       "      <td>RIDGEMONT AVE</td>\n",
       "      <td>NaN</td>\n",
       "      <td>...</td>\n",
       "      <td>40</td>\n",
       "      <td>No</td>\n",
       "      <td>No</td>\n",
       "      <td>2011</td>\n",
       "      <td>HONDA</td>\n",
       "      <td>ACCORD</td>\n",
       "      <td>NO MISUSE</td>\n",
       "      <td>39.119072</td>\n",
       "      <td>-77.171948</td>\n",
       "      <td>(39.11907167, -77.17194833)</td>\n",
       "    </tr>\n",
       "    <tr>\n",
       "      <th>121917</th>\n",
       "      <td>MCP3212002F</td>\n",
       "      <td>210010036</td>\n",
       "      <td>Montgomery County Police</td>\n",
       "      <td>Property Damage Crash</td>\n",
       "      <td>2021-03-17 16:32:00</td>\n",
       "      <td>Maryland (State)</td>\n",
       "      <td>GEORGIA AVE</td>\n",
       "      <td>County</td>\n",
       "      <td>MEDICAL PARK DR</td>\n",
       "      <td>NaN</td>\n",
       "      <td>...</td>\n",
       "      <td>35</td>\n",
       "      <td>No</td>\n",
       "      <td>No</td>\n",
       "      <td>2016</td>\n",
       "      <td>FORD</td>\n",
       "      <td>EXPLORER</td>\n",
       "      <td>NO MISUSE</td>\n",
       "      <td>39.024135</td>\n",
       "      <td>-77.045585</td>\n",
       "      <td>(39.0241355, -77.04558533)</td>\n",
       "    </tr>\n",
       "    <tr>\n",
       "      <th>121918</th>\n",
       "      <td>MCP3069004R</td>\n",
       "      <td>210010746</td>\n",
       "      <td>Montgomery County Police</td>\n",
       "      <td>Property Damage Crash</td>\n",
       "      <td>2021-03-22 13:10:00</td>\n",
       "      <td>Maryland (State)</td>\n",
       "      <td>EAST WEST HWY</td>\n",
       "      <td>Maryland (State)</td>\n",
       "      <td>CONNECTICUT AVE</td>\n",
       "      <td>NaN</td>\n",
       "      <td>...</td>\n",
       "      <td>35</td>\n",
       "      <td>No</td>\n",
       "      <td>No</td>\n",
       "      <td>2009</td>\n",
       "      <td>GILL</td>\n",
       "      <td>BUS</td>\n",
       "      <td>NO MISUSE</td>\n",
       "      <td>38.987595</td>\n",
       "      <td>-77.077245</td>\n",
       "      <td>(38.987595, -77.077245)</td>\n",
       "    </tr>\n",
       "  </tbody>\n",
       "</table>\n",
       "<p>53686 rows × 43 columns</p>\n",
       "</div>"
      ],
      "text/plain": [
       "       report_number local_case_number                agency_name  \\\n",
       "13        DD5636001X         200016597  Rockville Police Departme   \n",
       "27       MCP1202004H         200015998   Montgomery County Police   \n",
       "43       MCP2039005B         190022383   Montgomery County Police   \n",
       "44       MCP2954006X         190026082   Montgomery County Police   \n",
       "51       MCP2939003S         190026164   Montgomery County Police   \n",
       "...              ...               ...                        ...   \n",
       "121913   MCP2844004V         210009464   Montgomery County Police   \n",
       "121914   MCP27670092         210010665   Montgomery County Police   \n",
       "121916   MCP2047003Z         210010334   Montgomery County Police   \n",
       "121917   MCP3212002F         210010036   Montgomery County Police   \n",
       "121918   MCP3069004R         210010746   Montgomery County Police   \n",
       "\n",
       "             acrs_report_type     crash_date_time        route_type  \\\n",
       "13               Injury Crash 2020-04-20 20:42:00  Maryland (State)   \n",
       "27               Injury Crash 2020-04-14 13:12:00            County   \n",
       "43               Injury Crash 2019-05-12 14:00:00  Maryland (State)   \n",
       "44               Injury Crash 2019-05-31 23:00:00            County   \n",
       "51               Injury Crash 2019-06-01 15:43:00            County   \n",
       "...                       ...                 ...               ...   \n",
       "121913           Injury Crash 2021-03-13 13:15:00  Maryland (State)   \n",
       "121914  Property Damage Crash 2021-03-21 19:27:00            County   \n",
       "121916           Injury Crash 2021-03-19 14:37:00  Maryland (State)   \n",
       "121917  Property Damage Crash 2021-03-17 16:32:00  Maryland (State)   \n",
       "121918  Property Damage Crash 2021-03-22 13:10:00  Maryland (State)   \n",
       "\n",
       "                road_name cross_street_type cross_street_name  \\\n",
       "13          HUNGERFORD DR      Municipality       MANNAKEE ST   \n",
       "27            KIRKWOOD DR            County       PARKSTON RD   \n",
       "43            GEORGIA AVE           Unknown   ENT TO BUSINESS   \n",
       "44            CARROLL AVE            County          11TH AVE   \n",
       "51      GUNNERS BRANCH RD  Maryland (State)      FREDERICK RD   \n",
       "...                   ...               ...               ...   \n",
       "121913        GEORGIA AVE            County        LINDELL ST   \n",
       "121914        RANDOLPH RD  Maryland (State)       GEORGIA AVE   \n",
       "121916       FREDERICK RD      Municipality     RIDGEMONT AVE   \n",
       "121917        GEORGIA AVE            County   MEDICAL PARK DR   \n",
       "121918      EAST WEST HWY  Maryland (State)   CONNECTICUT AVE   \n",
       "\n",
       "       off_road_description  ... speed_limit driverless_vehicle  \\\n",
       "13                      NaN  ...          35                 No   \n",
       "27                      NaN  ...          25                 No   \n",
       "43                      NaN  ...          35                 No   \n",
       "44                      NaN  ...          30                 No   \n",
       "51                      NaN  ...          30                 No   \n",
       "...                     ...  ...         ...                ...   \n",
       "121913                  NaN  ...          35                 No   \n",
       "121914                  NaN  ...          35                 No   \n",
       "121916                  NaN  ...          40                 No   \n",
       "121917                  NaN  ...          35                 No   \n",
       "121918                  NaN  ...          35                 No   \n",
       "\n",
       "       parked_vehicle vehicle_year vehicle_make vehicle_model  \\\n",
       "13                 No         2003       TOYOTA       SEQUOIA   \n",
       "27                 No         2014     MERCEDES        ML 350   \n",
       "43                 No         2016         FORD          F150   \n",
       "44                 No         2013       TOYOTA            4S   \n",
       "51                 No         2013         FORD            4S   \n",
       "...               ...          ...          ...           ...   \n",
       "121913             No         2015         FORD        FUSION   \n",
       "121914             No         2015        HONDA         CIVIC   \n",
       "121916             No         2011        HONDA        ACCORD   \n",
       "121917             No         2016         FORD      EXPLORER   \n",
       "121918             No         2009         GILL           BUS   \n",
       "\n",
       "       equipment_problems   latitude  longitude                     location  \n",
       "13                    NaN  39.095436 -77.153178  (39.09543625, -77.15317829)  \n",
       "27              NO MISUSE  38.966700 -77.111410         (38.9667, -77.11141)  \n",
       "43              NO MISUSE  39.085042 -77.079187  (39.08504167, -77.07918667)  \n",
       "44                UNKNOWN  38.996742 -76.992012  (38.99674167, -76.99201167)  \n",
       "51              NO MISUSE  39.178070 -77.239852     (39.17807, -77.23985167)  \n",
       "...                   ...        ...        ...                          ...  \n",
       "121913          NO MISUSE  39.054468 -77.050570    (39.0544675, -77.0505705)  \n",
       "121914                NaN  39.065943 -77.042433  (39.06594333, -77.04243333)  \n",
       "121916          NO MISUSE  39.119072 -77.171948  (39.11907167, -77.17194833)  \n",
       "121917          NO MISUSE  39.024135 -77.045585   (39.0241355, -77.04558533)  \n",
       "121918          NO MISUSE  38.987595 -77.077245      (38.987595, -77.077245)  \n",
       "\n",
       "[53686 rows x 43 columns]"
      ]
     },
     "execution_count": 19,
     "metadata": {},
     "output_type": "execute_result"
    }
   ],
   "source": [
    "duplicateCasesDF = driverdf[driverdf.duplicated('local_case_number')]\n",
    "duplicateCasesDF"
   ]
  },
  {
   "cell_type": "markdown",
   "metadata": {},
   "source": [
    "I have the same situation with cases, so I assume they are the same---I'll double check by checking both columns."
   ]
  },
  {
   "cell_type": "code",
   "execution_count": 20,
   "metadata": {},
   "outputs": [
    {
     "data": {
      "text/html": [
       "<div>\n",
       "<style scoped>\n",
       "    .dataframe tbody tr th:only-of-type {\n",
       "        vertical-align: middle;\n",
       "    }\n",
       "\n",
       "    .dataframe tbody tr th {\n",
       "        vertical-align: top;\n",
       "    }\n",
       "\n",
       "    .dataframe thead th {\n",
       "        text-align: right;\n",
       "    }\n",
       "</style>\n",
       "<table border=\"1\" class=\"dataframe\">\n",
       "  <thead>\n",
       "    <tr style=\"text-align: right;\">\n",
       "      <th></th>\n",
       "      <th>report_number</th>\n",
       "      <th>local_case_number</th>\n",
       "      <th>agency_name</th>\n",
       "      <th>acrs_report_type</th>\n",
       "      <th>crash_date_time</th>\n",
       "      <th>route_type</th>\n",
       "      <th>road_name</th>\n",
       "      <th>cross_street_type</th>\n",
       "      <th>cross_street_name</th>\n",
       "      <th>off_road_description</th>\n",
       "      <th>...</th>\n",
       "      <th>speed_limit</th>\n",
       "      <th>driverless_vehicle</th>\n",
       "      <th>parked_vehicle</th>\n",
       "      <th>vehicle_year</th>\n",
       "      <th>vehicle_make</th>\n",
       "      <th>vehicle_model</th>\n",
       "      <th>equipment_problems</th>\n",
       "      <th>latitude</th>\n",
       "      <th>longitude</th>\n",
       "      <th>location</th>\n",
       "    </tr>\n",
       "  </thead>\n",
       "  <tbody>\n",
       "    <tr>\n",
       "      <th>119883</th>\n",
       "      <td>MCP2671002J</td>\n",
       "      <td>210002364</td>\n",
       "      <td>Montgomery County Police</td>\n",
       "      <td>Property Damage Crash</td>\n",
       "      <td>2021-01-19 15:18:00</td>\n",
       "      <td>County</td>\n",
       "      <td>FENTON ST</td>\n",
       "      <td>Maryland (State)</td>\n",
       "      <td>PHILADELPHIA AVE</td>\n",
       "      <td>NaN</td>\n",
       "      <td>...</td>\n",
       "      <td>35</td>\n",
       "      <td>No</td>\n",
       "      <td>No</td>\n",
       "      <td>2017</td>\n",
       "      <td>HYUNDAI</td>\n",
       "      <td>ELANTRA</td>\n",
       "      <td>NO MISUSE</td>\n",
       "      <td>38.98793</td>\n",
       "      <td>-77.023565</td>\n",
       "      <td>(38.98793019, -77.0235645)</td>\n",
       "    </tr>\n",
       "    <tr>\n",
       "      <th>119907</th>\n",
       "      <td>MCP2671002J</td>\n",
       "      <td>210002364</td>\n",
       "      <td>Montgomery County Police</td>\n",
       "      <td>Property Damage Crash</td>\n",
       "      <td>2021-01-19 15:18:00</td>\n",
       "      <td>County</td>\n",
       "      <td>FENTON ST</td>\n",
       "      <td>Maryland (State)</td>\n",
       "      <td>PHILADELPHIA AVE</td>\n",
       "      <td>NaN</td>\n",
       "      <td>...</td>\n",
       "      <td>35</td>\n",
       "      <td>No</td>\n",
       "      <td>No</td>\n",
       "      <td>2011</td>\n",
       "      <td>FORD</td>\n",
       "      <td>FUSION</td>\n",
       "      <td>NO MISUSE</td>\n",
       "      <td>38.98793</td>\n",
       "      <td>-77.023565</td>\n",
       "      <td>(38.98793019, -77.0235645)</td>\n",
       "    </tr>\n",
       "  </tbody>\n",
       "</table>\n",
       "<p>2 rows × 43 columns</p>\n",
       "</div>"
      ],
      "text/plain": [
       "       report_number local_case_number               agency_name  \\\n",
       "119883   MCP2671002J         210002364  Montgomery County Police   \n",
       "119907   MCP2671002J         210002364  Montgomery County Police   \n",
       "\n",
       "             acrs_report_type     crash_date_time route_type  road_name  \\\n",
       "119883  Property Damage Crash 2021-01-19 15:18:00     County  FENTON ST   \n",
       "119907  Property Damage Crash 2021-01-19 15:18:00     County  FENTON ST   \n",
       "\n",
       "       cross_street_type cross_street_name off_road_description  ...  \\\n",
       "119883  Maryland (State)  PHILADELPHIA AVE                  NaN  ...   \n",
       "119907  Maryland (State)  PHILADELPHIA AVE                  NaN  ...   \n",
       "\n",
       "       speed_limit driverless_vehicle parked_vehicle vehicle_year  \\\n",
       "119883          35                 No             No         2017   \n",
       "119907          35                 No             No         2011   \n",
       "\n",
       "       vehicle_make vehicle_model equipment_problems  latitude  longitude  \\\n",
       "119883      HYUNDAI       ELANTRA          NO MISUSE  38.98793 -77.023565   \n",
       "119907         FORD        FUSION          NO MISUSE  38.98793 -77.023565   \n",
       "\n",
       "                          location  \n",
       "119883  (38.98793019, -77.0235645)  \n",
       "119907  (38.98793019, -77.0235645)  \n",
       "\n",
       "[2 rows x 43 columns]"
      ]
     },
     "execution_count": 20,
     "metadata": {},
     "output_type": "execute_result"
    }
   ],
   "source": [
    "driverdf[driverdf['local_case_number']=='210002364']"
   ]
  },
  {
   "cell_type": "code",
   "execution_count": 21,
   "metadata": {},
   "outputs": [
    {
     "data": {
      "text/html": [
       "<div>\n",
       "<style scoped>\n",
       "    .dataframe tbody tr th:only-of-type {\n",
       "        vertical-align: middle;\n",
       "    }\n",
       "\n",
       "    .dataframe tbody tr th {\n",
       "        vertical-align: top;\n",
       "    }\n",
       "\n",
       "    .dataframe thead th {\n",
       "        text-align: right;\n",
       "    }\n",
       "</style>\n",
       "<table border=\"1\" class=\"dataframe\">\n",
       "  <thead>\n",
       "    <tr style=\"text-align: right;\">\n",
       "      <th></th>\n",
       "      <th>report_number</th>\n",
       "      <th>local_case_number</th>\n",
       "      <th>agency_name</th>\n",
       "      <th>acrs_report_type</th>\n",
       "      <th>crash_date_time</th>\n",
       "      <th>route_type</th>\n",
       "      <th>road_name</th>\n",
       "      <th>cross_street_type</th>\n",
       "      <th>cross_street_name</th>\n",
       "      <th>off_road_description</th>\n",
       "      <th>...</th>\n",
       "      <th>speed_limit</th>\n",
       "      <th>driverless_vehicle</th>\n",
       "      <th>parked_vehicle</th>\n",
       "      <th>vehicle_year</th>\n",
       "      <th>vehicle_make</th>\n",
       "      <th>vehicle_model</th>\n",
       "      <th>equipment_problems</th>\n",
       "      <th>latitude</th>\n",
       "      <th>longitude</th>\n",
       "      <th>location</th>\n",
       "    </tr>\n",
       "  </thead>\n",
       "  <tbody>\n",
       "    <tr>\n",
       "      <th>119714</th>\n",
       "      <td>MCP31740031</td>\n",
       "      <td>210002359</td>\n",
       "      <td>Montgomery County Police</td>\n",
       "      <td>Injury Crash</td>\n",
       "      <td>2021-01-19 15:28:00</td>\n",
       "      <td>County</td>\n",
       "      <td>WATKINS MILL RD</td>\n",
       "      <td>County</td>\n",
       "      <td>APPLE RIDGE RD</td>\n",
       "      <td>NaN</td>\n",
       "      <td>...</td>\n",
       "      <td>35</td>\n",
       "      <td>No</td>\n",
       "      <td>No</td>\n",
       "      <td>2010</td>\n",
       "      <td>TOYOTA</td>\n",
       "      <td>PRIUS</td>\n",
       "      <td>NO MISUSE</td>\n",
       "      <td>39.184198</td>\n",
       "      <td>-77.210893</td>\n",
       "      <td>(39.18419833, -77.21089333)</td>\n",
       "    </tr>\n",
       "    <tr>\n",
       "      <th>119760</th>\n",
       "      <td>MCP31740031</td>\n",
       "      <td>210002359</td>\n",
       "      <td>Montgomery County Police</td>\n",
       "      <td>Injury Crash</td>\n",
       "      <td>2021-01-19 15:28:00</td>\n",
       "      <td>County</td>\n",
       "      <td>WATKINS MILL RD</td>\n",
       "      <td>County</td>\n",
       "      <td>APPLE RIDGE RD</td>\n",
       "      <td>NaN</td>\n",
       "      <td>...</td>\n",
       "      <td>30</td>\n",
       "      <td>No</td>\n",
       "      <td>No</td>\n",
       "      <td>2018</td>\n",
       "      <td>CHEVY</td>\n",
       "      <td>CRUZ</td>\n",
       "      <td>NO MISUSE</td>\n",
       "      <td>39.184198</td>\n",
       "      <td>-77.210893</td>\n",
       "      <td>(39.18419833, -77.21089333)</td>\n",
       "    </tr>\n",
       "  </tbody>\n",
       "</table>\n",
       "<p>2 rows × 43 columns</p>\n",
       "</div>"
      ],
      "text/plain": [
       "       report_number local_case_number               agency_name  \\\n",
       "119714   MCP31740031         210002359  Montgomery County Police   \n",
       "119760   MCP31740031         210002359  Montgomery County Police   \n",
       "\n",
       "       acrs_report_type     crash_date_time route_type        road_name  \\\n",
       "119714     Injury Crash 2021-01-19 15:28:00     County  WATKINS MILL RD   \n",
       "119760     Injury Crash 2021-01-19 15:28:00     County  WATKINS MILL RD   \n",
       "\n",
       "       cross_street_type cross_street_name off_road_description  ...  \\\n",
       "119714            County    APPLE RIDGE RD                  NaN  ...   \n",
       "119760            County    APPLE RIDGE RD                  NaN  ...   \n",
       "\n",
       "       speed_limit driverless_vehicle parked_vehicle vehicle_year  \\\n",
       "119714          35                 No             No         2010   \n",
       "119760          30                 No             No         2018   \n",
       "\n",
       "       vehicle_make vehicle_model equipment_problems   latitude  longitude  \\\n",
       "119714       TOYOTA         PRIUS          NO MISUSE  39.184198 -77.210893   \n",
       "119760        CHEVY          CRUZ          NO MISUSE  39.184198 -77.210893   \n",
       "\n",
       "                           location  \n",
       "119714  (39.18419833, -77.21089333)  \n",
       "119760  (39.18419833, -77.21089333)  \n",
       "\n",
       "[2 rows x 43 columns]"
      ]
     },
     "execution_count": 21,
     "metadata": {},
     "output_type": "execute_result"
    }
   ],
   "source": [
    "driverdf[driverdf['local_case_number']=='210002359']"
   ]
  },
  {
   "cell_type": "markdown",
   "metadata": {},
   "source": [
    "In these test cases, it appears all of the information matches, and the records are duplicates.  I will remove all duplicates."
   ]
  },
  {
   "cell_type": "code",
   "execution_count": 22,
   "metadata": {},
   "outputs": [
    {
     "data": {
      "text/html": [
       "<div>\n",
       "<style scoped>\n",
       "    .dataframe tbody tr th:only-of-type {\n",
       "        vertical-align: middle;\n",
       "    }\n",
       "\n",
       "    .dataframe tbody tr th {\n",
       "        vertical-align: top;\n",
       "    }\n",
       "\n",
       "    .dataframe thead th {\n",
       "        text-align: right;\n",
       "    }\n",
       "</style>\n",
       "<table border=\"1\" class=\"dataframe\">\n",
       "  <thead>\n",
       "    <tr style=\"text-align: right;\">\n",
       "      <th></th>\n",
       "      <th>report_number</th>\n",
       "      <th>local_case_number</th>\n",
       "      <th>agency_name</th>\n",
       "      <th>acrs_report_type</th>\n",
       "      <th>crash_date_time</th>\n",
       "      <th>route_type</th>\n",
       "      <th>road_name</th>\n",
       "      <th>cross_street_type</th>\n",
       "      <th>cross_street_name</th>\n",
       "      <th>off_road_description</th>\n",
       "      <th>...</th>\n",
       "      <th>speed_limit</th>\n",
       "      <th>driverless_vehicle</th>\n",
       "      <th>parked_vehicle</th>\n",
       "      <th>vehicle_year</th>\n",
       "      <th>vehicle_make</th>\n",
       "      <th>vehicle_model</th>\n",
       "      <th>equipment_problems</th>\n",
       "      <th>latitude</th>\n",
       "      <th>longitude</th>\n",
       "      <th>location</th>\n",
       "    </tr>\n",
       "  </thead>\n",
       "  <tbody>\n",
       "    <tr>\n",
       "      <th>1</th>\n",
       "      <td>MCP29620057</td>\n",
       "      <td>200023865</td>\n",
       "      <td>Montgomery County Police</td>\n",
       "      <td>Property Damage Crash</td>\n",
       "      <td>2020-06-18 02:00:00</td>\n",
       "      <td>County</td>\n",
       "      <td>DAIRYMAID DR</td>\n",
       "      <td>County</td>\n",
       "      <td>METZ DR</td>\n",
       "      <td>NaN</td>\n",
       "      <td>...</td>\n",
       "      <td>35</td>\n",
       "      <td>No</td>\n",
       "      <td>No</td>\n",
       "      <td>2020</td>\n",
       "      <td>UNK</td>\n",
       "      <td>UNK</td>\n",
       "      <td>UNKNOWN</td>\n",
       "      <td>39.154847</td>\n",
       "      <td>-77.271245</td>\n",
       "      <td>(39.15484667, -77.271245)</td>\n",
       "    </tr>\n",
       "    <tr>\n",
       "      <th>2</th>\n",
       "      <td>MCP3050004K</td>\n",
       "      <td>200016465</td>\n",
       "      <td>Montgomery County Police</td>\n",
       "      <td>Property Damage Crash</td>\n",
       "      <td>2020-04-19 15:39:00</td>\n",
       "      <td>County</td>\n",
       "      <td>RUSSETT RD</td>\n",
       "      <td>County</td>\n",
       "      <td>ARCTIC AVE</td>\n",
       "      <td>NaN</td>\n",
       "      <td>...</td>\n",
       "      <td>25</td>\n",
       "      <td>No</td>\n",
       "      <td>No</td>\n",
       "      <td>2004</td>\n",
       "      <td>DODGE</td>\n",
       "      <td>GRAND CARAVAN</td>\n",
       "      <td>NO MISUSE</td>\n",
       "      <td>39.080062</td>\n",
       "      <td>-77.097845</td>\n",
       "      <td>(39.08006167, -77.097845)</td>\n",
       "    </tr>\n",
       "    <tr>\n",
       "      <th>3</th>\n",
       "      <td>MCP2641001J</td>\n",
       "      <td>200016526</td>\n",
       "      <td>Montgomery County Police</td>\n",
       "      <td>Injury Crash</td>\n",
       "      <td>2020-04-20 09:15:00</td>\n",
       "      <td>County</td>\n",
       "      <td>ARCHDALE RD</td>\n",
       "      <td>County</td>\n",
       "      <td>GUNNERS BRANCH RD</td>\n",
       "      <td>NaN</td>\n",
       "      <td>...</td>\n",
       "      <td>25</td>\n",
       "      <td>No</td>\n",
       "      <td>No</td>\n",
       "      <td>2006</td>\n",
       "      <td>HONDA</td>\n",
       "      <td>CR-V</td>\n",
       "      <td>UNKNOWN</td>\n",
       "      <td>39.175230</td>\n",
       "      <td>-77.241090</td>\n",
       "      <td>(39.17523, -77.24109)</td>\n",
       "    </tr>\n",
       "    <tr>\n",
       "      <th>6</th>\n",
       "      <td>MCP1119008K</td>\n",
       "      <td>200013792</td>\n",
       "      <td>Montgomery County Police</td>\n",
       "      <td>Property Damage Crash</td>\n",
       "      <td>2020-03-24 07:13:00</td>\n",
       "      <td>County</td>\n",
       "      <td>CASHELL RD</td>\n",
       "      <td>County</td>\n",
       "      <td>MUSIC GROVE CT</td>\n",
       "      <td>NaN</td>\n",
       "      <td>...</td>\n",
       "      <td>35</td>\n",
       "      <td>No</td>\n",
       "      <td>No</td>\n",
       "      <td>2017</td>\n",
       "      <td>FORD</td>\n",
       "      <td>EXPLORER</td>\n",
       "      <td>NO MISUSE</td>\n",
       "      <td>39.131327</td>\n",
       "      <td>-77.083237</td>\n",
       "      <td>(39.13132667, -77.08323667)</td>\n",
       "    </tr>\n",
       "    <tr>\n",
       "      <th>7</th>\n",
       "      <td>MCP3215000R</td>\n",
       "      <td>200016143</td>\n",
       "      <td>Montgomery County Police</td>\n",
       "      <td>Property Damage Crash</td>\n",
       "      <td>2020-04-16 00:08:00</td>\n",
       "      <td>County</td>\n",
       "      <td>FALLS RD</td>\n",
       "      <td>County</td>\n",
       "      <td>BRICKYARD RD</td>\n",
       "      <td>NaN</td>\n",
       "      <td>...</td>\n",
       "      <td>35</td>\n",
       "      <td>No</td>\n",
       "      <td>No</td>\n",
       "      <td>2014</td>\n",
       "      <td>DODGE</td>\n",
       "      <td>CHARGER</td>\n",
       "      <td>NO MISUSE</td>\n",
       "      <td>39.002137</td>\n",
       "      <td>-77.226225</td>\n",
       "      <td>(39.002137, -77.226225)</td>\n",
       "    </tr>\n",
       "    <tr>\n",
       "      <th>...</th>\n",
       "      <td>...</td>\n",
       "      <td>...</td>\n",
       "      <td>...</td>\n",
       "      <td>...</td>\n",
       "      <td>...</td>\n",
       "      <td>...</td>\n",
       "      <td>...</td>\n",
       "      <td>...</td>\n",
       "      <td>...</td>\n",
       "      <td>...</td>\n",
       "      <td>...</td>\n",
       "      <td>...</td>\n",
       "      <td>...</td>\n",
       "      <td>...</td>\n",
       "      <td>...</td>\n",
       "      <td>...</td>\n",
       "      <td>...</td>\n",
       "      <td>...</td>\n",
       "      <td>...</td>\n",
       "      <td>...</td>\n",
       "      <td>...</td>\n",
       "    </tr>\n",
       "    <tr>\n",
       "      <th>121914</th>\n",
       "      <td>MCP27670092</td>\n",
       "      <td>210010665</td>\n",
       "      <td>Montgomery County Police</td>\n",
       "      <td>Property Damage Crash</td>\n",
       "      <td>2021-03-21 19:27:00</td>\n",
       "      <td>County</td>\n",
       "      <td>RANDOLPH RD</td>\n",
       "      <td>Maryland (State)</td>\n",
       "      <td>GEORGIA AVE</td>\n",
       "      <td>NaN</td>\n",
       "      <td>...</td>\n",
       "      <td>35</td>\n",
       "      <td>No</td>\n",
       "      <td>No</td>\n",
       "      <td>2015</td>\n",
       "      <td>HONDA</td>\n",
       "      <td>CIVIC</td>\n",
       "      <td>NaN</td>\n",
       "      <td>39.065943</td>\n",
       "      <td>-77.042433</td>\n",
       "      <td>(39.06594333, -77.04243333)</td>\n",
       "    </tr>\n",
       "    <tr>\n",
       "      <th>121915</th>\n",
       "      <td>MCP271700TT</td>\n",
       "      <td>210009330</td>\n",
       "      <td>Montgomery County Police</td>\n",
       "      <td>Property Damage Crash</td>\n",
       "      <td>2021-03-12 14:45:00</td>\n",
       "      <td>County</td>\n",
       "      <td>WILLARD AVE</td>\n",
       "      <td>Municipality</td>\n",
       "      <td>THE HILLS PLAZA</td>\n",
       "      <td>NaN</td>\n",
       "      <td>...</td>\n",
       "      <td>25</td>\n",
       "      <td>No</td>\n",
       "      <td>No</td>\n",
       "      <td>0</td>\n",
       "      <td>UNKNOWN</td>\n",
       "      <td>UNKNOWN</td>\n",
       "      <td>UNKNOWN</td>\n",
       "      <td>38.961827</td>\n",
       "      <td>-77.088286</td>\n",
       "      <td>(38.96182667, -77.08828567)</td>\n",
       "    </tr>\n",
       "    <tr>\n",
       "      <th>121916</th>\n",
       "      <td>MCP2047003Z</td>\n",
       "      <td>210010334</td>\n",
       "      <td>Montgomery County Police</td>\n",
       "      <td>Injury Crash</td>\n",
       "      <td>2021-03-19 14:37:00</td>\n",
       "      <td>Maryland (State)</td>\n",
       "      <td>FREDERICK RD</td>\n",
       "      <td>Municipality</td>\n",
       "      <td>RIDGEMONT AVE</td>\n",
       "      <td>NaN</td>\n",
       "      <td>...</td>\n",
       "      <td>40</td>\n",
       "      <td>No</td>\n",
       "      <td>No</td>\n",
       "      <td>2011</td>\n",
       "      <td>HONDA</td>\n",
       "      <td>ACCORD</td>\n",
       "      <td>NO MISUSE</td>\n",
       "      <td>39.119072</td>\n",
       "      <td>-77.171948</td>\n",
       "      <td>(39.11907167, -77.17194833)</td>\n",
       "    </tr>\n",
       "    <tr>\n",
       "      <th>121917</th>\n",
       "      <td>MCP3212002F</td>\n",
       "      <td>210010036</td>\n",
       "      <td>Montgomery County Police</td>\n",
       "      <td>Property Damage Crash</td>\n",
       "      <td>2021-03-17 16:32:00</td>\n",
       "      <td>Maryland (State)</td>\n",
       "      <td>GEORGIA AVE</td>\n",
       "      <td>County</td>\n",
       "      <td>MEDICAL PARK DR</td>\n",
       "      <td>NaN</td>\n",
       "      <td>...</td>\n",
       "      <td>35</td>\n",
       "      <td>No</td>\n",
       "      <td>No</td>\n",
       "      <td>2016</td>\n",
       "      <td>FORD</td>\n",
       "      <td>EXPLORER</td>\n",
       "      <td>NO MISUSE</td>\n",
       "      <td>39.024135</td>\n",
       "      <td>-77.045585</td>\n",
       "      <td>(39.0241355, -77.04558533)</td>\n",
       "    </tr>\n",
       "    <tr>\n",
       "      <th>121918</th>\n",
       "      <td>MCP3069004R</td>\n",
       "      <td>210010746</td>\n",
       "      <td>Montgomery County Police</td>\n",
       "      <td>Property Damage Crash</td>\n",
       "      <td>2021-03-22 13:10:00</td>\n",
       "      <td>Maryland (State)</td>\n",
       "      <td>EAST WEST HWY</td>\n",
       "      <td>Maryland (State)</td>\n",
       "      <td>CONNECTICUT AVE</td>\n",
       "      <td>NaN</td>\n",
       "      <td>...</td>\n",
       "      <td>35</td>\n",
       "      <td>No</td>\n",
       "      <td>No</td>\n",
       "      <td>2009</td>\n",
       "      <td>GILL</td>\n",
       "      <td>BUS</td>\n",
       "      <td>NO MISUSE</td>\n",
       "      <td>38.987595</td>\n",
       "      <td>-77.077245</td>\n",
       "      <td>(38.987595, -77.077245)</td>\n",
       "    </tr>\n",
       "  </tbody>\n",
       "</table>\n",
       "<p>68316 rows × 43 columns</p>\n",
       "</div>"
      ],
      "text/plain": [
       "       report_number local_case_number               agency_name  \\\n",
       "1        MCP29620057         200023865  Montgomery County Police   \n",
       "2        MCP3050004K         200016465  Montgomery County Police   \n",
       "3        MCP2641001J         200016526  Montgomery County Police   \n",
       "6        MCP1119008K         200013792  Montgomery County Police   \n",
       "7        MCP3215000R         200016143  Montgomery County Police   \n",
       "...              ...               ...                       ...   \n",
       "121914   MCP27670092         210010665  Montgomery County Police   \n",
       "121915   MCP271700TT         210009330  Montgomery County Police   \n",
       "121916   MCP2047003Z         210010334  Montgomery County Police   \n",
       "121917   MCP3212002F         210010036  Montgomery County Police   \n",
       "121918   MCP3069004R         210010746  Montgomery County Police   \n",
       "\n",
       "             acrs_report_type     crash_date_time        route_type  \\\n",
       "1       Property Damage Crash 2020-06-18 02:00:00            County   \n",
       "2       Property Damage Crash 2020-04-19 15:39:00            County   \n",
       "3                Injury Crash 2020-04-20 09:15:00            County   \n",
       "6       Property Damage Crash 2020-03-24 07:13:00            County   \n",
       "7       Property Damage Crash 2020-04-16 00:08:00            County   \n",
       "...                       ...                 ...               ...   \n",
       "121914  Property Damage Crash 2021-03-21 19:27:00            County   \n",
       "121915  Property Damage Crash 2021-03-12 14:45:00            County   \n",
       "121916           Injury Crash 2021-03-19 14:37:00  Maryland (State)   \n",
       "121917  Property Damage Crash 2021-03-17 16:32:00  Maryland (State)   \n",
       "121918  Property Damage Crash 2021-03-22 13:10:00  Maryland (State)   \n",
       "\n",
       "            road_name cross_street_type  cross_street_name  \\\n",
       "1        DAIRYMAID DR            County            METZ DR   \n",
       "2          RUSSETT RD            County         ARCTIC AVE   \n",
       "3         ARCHDALE RD            County  GUNNERS BRANCH RD   \n",
       "6          CASHELL RD            County     MUSIC GROVE CT   \n",
       "7            FALLS RD            County       BRICKYARD RD   \n",
       "...               ...               ...                ...   \n",
       "121914    RANDOLPH RD  Maryland (State)        GEORGIA AVE   \n",
       "121915    WILLARD AVE      Municipality    THE HILLS PLAZA   \n",
       "121916   FREDERICK RD      Municipality      RIDGEMONT AVE   \n",
       "121917    GEORGIA AVE            County    MEDICAL PARK DR   \n",
       "121918  EAST WEST HWY  Maryland (State)    CONNECTICUT AVE   \n",
       "\n",
       "       off_road_description  ... speed_limit driverless_vehicle  \\\n",
       "1                       NaN  ...          35                 No   \n",
       "2                       NaN  ...          25                 No   \n",
       "3                       NaN  ...          25                 No   \n",
       "6                       NaN  ...          35                 No   \n",
       "7                       NaN  ...          35                 No   \n",
       "...                     ...  ...         ...                ...   \n",
       "121914                  NaN  ...          35                 No   \n",
       "121915                  NaN  ...          25                 No   \n",
       "121916                  NaN  ...          40                 No   \n",
       "121917                  NaN  ...          35                 No   \n",
       "121918                  NaN  ...          35                 No   \n",
       "\n",
       "       parked_vehicle vehicle_year vehicle_make  vehicle_model  \\\n",
       "1                  No         2020          UNK            UNK   \n",
       "2                  No         2004        DODGE  GRAND CARAVAN   \n",
       "3                  No         2006        HONDA           CR-V   \n",
       "6                  No         2017         FORD       EXPLORER   \n",
       "7                  No         2014        DODGE        CHARGER   \n",
       "...               ...          ...          ...            ...   \n",
       "121914             No         2015        HONDA          CIVIC   \n",
       "121915             No            0      UNKNOWN        UNKNOWN   \n",
       "121916             No         2011        HONDA         ACCORD   \n",
       "121917             No         2016         FORD       EXPLORER   \n",
       "121918             No         2009         GILL            BUS   \n",
       "\n",
       "       equipment_problems   latitude  longitude                     location  \n",
       "1                 UNKNOWN  39.154847 -77.271245    (39.15484667, -77.271245)  \n",
       "2               NO MISUSE  39.080062 -77.097845    (39.08006167, -77.097845)  \n",
       "3                 UNKNOWN  39.175230 -77.241090        (39.17523, -77.24109)  \n",
       "6               NO MISUSE  39.131327 -77.083237  (39.13132667, -77.08323667)  \n",
       "7               NO MISUSE  39.002137 -77.226225      (39.002137, -77.226225)  \n",
       "...                   ...        ...        ...                          ...  \n",
       "121914                NaN  39.065943 -77.042433  (39.06594333, -77.04243333)  \n",
       "121915            UNKNOWN  38.961827 -77.088286  (38.96182667, -77.08828567)  \n",
       "121916          NO MISUSE  39.119072 -77.171948  (39.11907167, -77.17194833)  \n",
       "121917          NO MISUSE  39.024135 -77.045585   (39.0241355, -77.04558533)  \n",
       "121918          NO MISUSE  38.987595 -77.077245      (38.987595, -77.077245)  \n",
       "\n",
       "[68316 rows x 43 columns]"
      ]
     },
     "execution_count": 22,
     "metadata": {},
     "output_type": "execute_result"
    }
   ],
   "source": [
    "driverdf.drop_duplicates(subset=['report_number', 'local_case_number'], keep='last')   # I'm keeping the last rather than the first just in case the last has more recent data."
   ]
  },
  {
   "cell_type": "markdown",
   "metadata": {},
   "source": [
    "Now I will clean up the remaining data.  First checking for entries that need to be merged/changed.  Anytime they use different terms for the same thing (N/A, unknown, etc.), I will replace with one consistent term."
   ]
  },
  {
   "cell_type": "code",
   "execution_count": 23,
   "metadata": {},
   "outputs": [
    {
     "data": {
      "text/plain": [
       "array(['Montgomery County Police', 'Rockville Police Departme',\n",
       "       'Takoma Park Police Depart', 'Gaithersburg Police Depar',\n",
       "       'Maryland-National Capital', 'MONTGOMERY', 'MCPARK', 'ROCKVILLE',\n",
       "       'TAKOMA', 'GAITHERSBURG'], dtype=object)"
      ]
     },
     "execution_count": 23,
     "metadata": {},
     "output_type": "execute_result"
    }
   ],
   "source": [
    "agency_name = driverdf.agency_name\n",
    "agency_uniques = agency_name.unique()\n",
    "agency_uniques"
   ]
  },
  {
   "cell_type": "markdown",
   "metadata": {},
   "source": [
    "This has all consistent terms, but I need to correct the typos caused by shortening the names."
   ]
  },
  {
   "cell_type": "code",
   "execution_count": 24,
   "metadata": {},
   "outputs": [
    {
     "data": {
      "text/plain": [
       "array(['Montgomery County Police', 'Rockville Police',\n",
       "       'Takoma Park Police', 'Gaithersburg Police',\n",
       "       'Maryland-National Capital Police', 'MONTGOMERY', 'MCPARK',\n",
       "       'ROCKVILLE', 'TAKOMA', 'GAITHERSBURG'], dtype=object)"
      ]
     },
     "execution_count": 24,
     "metadata": {},
     "output_type": "execute_result"
    }
   ],
   "source": [
    "# Using replace by dictionary to correct the names\n",
    "\n",
    "driverdf['agency_name'] = driverdf['agency_name'].replace({'Rockville Police Departme':'Rockville Police', 'Maryland-National Capital':'Maryland-National Capital Police', \n",
    "                                                     'Gaithersburg Police Depar':'Gaithersburg Police', 'Takoma Park Police Depart': 'Takoma Park Police'})\n",
    "agency_uniques = agency_name.unique()\n",
    "agency_uniques"
   ]
  },
  {
   "cell_type": "code",
   "execution_count": 25,
   "metadata": {},
   "outputs": [
    {
     "data": {
      "text/plain": [
       "array(['Property Damage Crash', 'Injury Crash', 'Fatal Crash'],\n",
       "      dtype=object)"
      ]
     },
     "execution_count": 25,
     "metadata": {},
     "output_type": "execute_result"
    }
   ],
   "source": [
    "acrs_report_type = driverdf.acrs_report_type\n",
    "acrs_uniques = acrs_report_type.unique()\n",
    "acrs_uniques"
   ]
  },
  {
   "cell_type": "code",
   "execution_count": 26,
   "metadata": {},
   "outputs": [
    {
     "data": {
      "text/plain": [
       "array(['County', 'Municipality', 'Maryland (State)', nan,\n",
       "       'Other Public Roadway', 'Interstate (State)', 'US (State)',\n",
       "       'Government', 'Ramp', 'Service Road', 'Unknown'], dtype=object)"
      ]
     },
     "execution_count": 26,
     "metadata": {},
     "output_type": "execute_result"
    }
   ],
   "source": [
    "route_type = driverdf.route_type\n",
    "route_uniques = route_type.unique()\n",
    "route_uniques"
   ]
  },
  {
   "cell_type": "markdown",
   "metadata": {},
   "source": [
    "There is only one type of unknown here (nan), so I will leave it."
   ]
  },
  {
   "cell_type": "code",
   "execution_count": 27,
   "metadata": {},
   "outputs": [
    {
     "data": {
      "text/plain": [
       "array(['County', 'Municipality', nan, 'Unknown', 'Other Public Roadway',\n",
       "       'Maryland (State)', 'Ramp', 'Government', 'Interstate (State)',\n",
       "       'US (State)', 'Service Road'], dtype=object)"
      ]
     },
     "execution_count": 27,
     "metadata": {},
     "output_type": "execute_result"
    }
   ],
   "source": [
    "cross_street_type = driverdf.cross_street_type\n",
    "cross_street_uniques = cross_street_type.unique()\n",
    "cross_street_uniques"
   ]
  },
  {
   "cell_type": "markdown",
   "metadata": {},
   "source": [
    "'Unknown' and 'nan' should be combined."
   ]
  },
  {
   "cell_type": "code",
   "execution_count": 28,
   "metadata": {},
   "outputs": [
    {
     "data": {
      "text/plain": [
       "array(['County', 'Municipality', 'Unknown', 'Other Public Roadway',\n",
       "       'Maryland (State)', 'Ramp', 'Government', 'Interstate (State)',\n",
       "       'US (State)', 'Service Road'], dtype=object)"
      ]
     },
     "execution_count": 28,
     "metadata": {},
     "output_type": "execute_result"
    }
   ],
   "source": [
    "driverdf[\"cross_street_type\"] = driverdf[\"cross_street_type\"].fillna('Unknown')\n",
    "cross_street_type = driverdf[\"cross_street_type\"]\n",
    "cross_street_uniques = cross_street_type.unique()\n",
    "cross_street_uniques"
   ]
  },
  {
   "cell_type": "code",
   "execution_count": 29,
   "metadata": {},
   "outputs": [
    {
     "data": {
      "text/plain": [
       "array([nan, 'GAITHERSBURG', 'ROCKVILLE', 'TAKOMA PARK', 'CHEVY CHASE #4',\n",
       "       'KENSINGTON', 'DRUMMOND', 'CHEVY CHASE VIEW', 'CHEVY CHASE #5',\n",
       "       'FRIENDSHIP HEIGHTS', 'CHEVY CHASE VILLAGE', 'CHEVY CHASE #3',\n",
       "       'BROOKEVILLE', 'WASHINGTON GROVE', 'POOLESVILLE', 'LAYTONSVILLE',\n",
       "       'SOMERSET', 'NORTH CHEVY CHASE', 'MATINS ADDITION', 'GARRETT PARK',\n",
       "       'GLEN ECHO'], dtype=object)"
      ]
     },
     "execution_count": 29,
     "metadata": {},
     "output_type": "execute_result"
    }
   ],
   "source": [
    "municipality = driverdf['municipality']\n",
    "municipality_uniques = municipality.unique()\n",
    "municipality_uniques"
   ]
  },
  {
   "cell_type": "markdown",
   "metadata": {},
   "source": [
    "'N/A' and 'nan' should be combined."
   ]
  },
  {
   "cell_type": "code",
   "execution_count": 31,
   "metadata": {},
   "outputs": [
    {
     "data": {
      "text/plain": [
       "array(['N/A', 'GAITHERSBURG', 'ROCKVILLE', 'TAKOMA PARK',\n",
       "       'CHEVY CHASE #4', 'KENSINGTON', 'DRUMMOND', 'CHEVY CHASE VIEW',\n",
       "       'CHEVY CHASE #5', 'FRIENDSHIP HEIGHTS', 'CHEVY CHASE VILLAGE',\n",
       "       'CHEVY CHASE #3', 'BROOKEVILLE', 'WASHINGTON GROVE', 'POOLESVILLE',\n",
       "       'LAYTONSVILLE', 'SOMERSET', 'NORTH CHEVY CHASE', 'MATINS ADDITION',\n",
       "       'GARRETT PARK', 'GLEN ECHO'], dtype=object)"
      ]
     },
     "execution_count": 31,
     "metadata": {},
     "output_type": "execute_result"
    }
   ],
   "source": [
    "driverdf['municipality'] = driverdf['municipality'].fillna('N/A')\n",
    "municipality = driverdf['municipality']\n",
    "municipality_uniques = municipality.unique()\n",
    "municipality_uniques"
   ]
  },
  {
   "cell_type": "code",
   "execution_count": 32,
   "metadata": {},
   "outputs": [
    {
     "data": {
      "text/plain": [
       "array(['OTHER', 'SAME DIR REAR END', 'SINGLE VEHICLE',\n",
       "       'SAME DIRECTION SIDESWIPE', 'STRAIGHT MOVEMENT ANGLE',\n",
       "       'SAME DIRECTION LEFT TURN', 'HEAD ON LEFT TURN',\n",
       "       'ANGLE MEETS LEFT TURN', 'SAME DIRECTION RIGHT TURN',\n",
       "       'SAME DIR REND LEFT TURN', 'SAME DIR REND RIGHT TURN',\n",
       "       'OPPOSITE DIRECTION SIDESWIPE', 'HEAD ON',\n",
       "       'OPPOSITE DIR BOTH LEFT TURN', 'ANGLE MEETS RIGHT TURN', 'UNKNOWN',\n",
       "       nan, 'ANGLE MEETS LEFT HEAD ON', 'SAME DIR BOTH LEFT TURN'],\n",
       "      dtype=object)"
      ]
     },
     "execution_count": 32,
     "metadata": {},
     "output_type": "execute_result"
    }
   ],
   "source": [
    "collision_type = driverdf.collision_type\n",
    "collision_type_uniques = collision_type.unique()\n",
    "collision_type_uniques"
   ]
  },
  {
   "cell_type": "code",
   "execution_count": 33,
   "metadata": {},
   "outputs": [
    {
     "data": {
      "text/plain": [
       "array(['OTHER', 'SAME DIR REAR END', 'SINGLE VEHICLE',\n",
       "       'SAME DIRECTION SIDESWIPE', 'STRAIGHT MOVEMENT ANGLE',\n",
       "       'SAME DIRECTION LEFT TURN', 'HEAD ON LEFT TURN',\n",
       "       'ANGLE MEETS LEFT TURN', 'SAME DIRECTION RIGHT TURN',\n",
       "       'SAME DIR REND LEFT TURN', 'SAME DIR REND RIGHT TURN',\n",
       "       'OPPOSITE DIRECTION SIDESWIPE', 'HEAD ON',\n",
       "       'OPPOSITE DIR BOTH LEFT TURN', 'ANGLE MEETS RIGHT TURN', 'UNKNOWN',\n",
       "       nan, 'ANGLE MEETS LEFT HEAD ON', 'SAME DIR BOTH LEFT TURN'],\n",
       "      dtype=object)"
      ]
     },
     "execution_count": 33,
     "metadata": {},
     "output_type": "execute_result"
    }
   ],
   "source": [
    "# Replace 'N/A' with 'UNKNOWN'\n",
    "driverdf['collision_type'] = driverdf['collision_type'].replace({'N/A': 'UNKNOWN'})\n",
    "collision_type = driverdf['collision_type']\n",
    "collision_type_uniques = collision_type.unique()\n",
    "collision_type_uniques\n"
   ]
  },
  {
   "cell_type": "code",
   "execution_count": 34,
   "metadata": {},
   "outputs": [
    {
     "data": {
      "text/plain": [
       "array(['CLOUDY', 'CLEAR', nan, 'RAINING', 'SNOW', 'UNKNOWN', 'OTHER',\n",
       "       'FOGGY', 'BLOWING SNOW', 'SLEET', 'WINTRY MIX', 'SEVERE WINDS',\n",
       "       'BLOWING SAND, SOIL, DIRT'], dtype=object)"
      ]
     },
     "execution_count": 34,
     "metadata": {},
     "output_type": "execute_result"
    }
   ],
   "source": [
    "weather = driverdf.weather\n",
    "weather_uniques = weather.unique()\n",
    "weather_uniques"
   ]
  },
  {
   "cell_type": "code",
   "execution_count": 35,
   "metadata": {},
   "outputs": [
    {
     "data": {
      "text/plain": [
       "array(['CLOUDY', 'CLEAR', nan, 'RAINING', 'SNOW', 'UNKNOWN', 'OTHER',\n",
       "       'FOGGY', 'BLOWING SNOW', 'SLEET', 'WINTRY MIX', 'SEVERE WINDS',\n",
       "       'BLOWING SAND, SOIL, DIRT'], dtype=object)"
      ]
     },
     "execution_count": 35,
     "metadata": {},
     "output_type": "execute_result"
    }
   ],
   "source": [
    "# Replace 'N/A' with 'UNKNOWN'  \n",
    "\n",
    "driverdf['weather'] = driverdf['weather'].replace({'N/A':'UNKNOWN'})\n",
    "weather = driverdf['weather']\n",
    "weather_uniques = weather.unique()\n",
    "weather_uniques\n"
   ]
  },
  {
   "cell_type": "code",
   "execution_count": 36,
   "metadata": {},
   "outputs": [
    {
     "data": {
      "text/plain": [
       "array(['DRY', nan, 'WET', 'MUD, DIRT, GRAVEL', 'UNKNOWN', 'SLUSH',\n",
       "       'OTHER', 'SNOW', 'ICE', 'WATER(STANDING/MOVING)', 'OIL', 'SAND'],\n",
       "      dtype=object)"
      ]
     },
     "execution_count": 36,
     "metadata": {},
     "output_type": "execute_result"
    }
   ],
   "source": [
    "surface_condition = driverdf.surface_condition\n",
    "surface_condition_uniques = surface_condition.unique()\n",
    "surface_condition_uniques"
   ]
  },
  {
   "cell_type": "markdown",
   "metadata": {},
   "source": [
    "I will combine \"nan\", \"N/A\", and \"UNKNOWN\", and replace nan with \"UNKNOWN\"."
   ]
  },
  {
   "cell_type": "code",
   "execution_count": 37,
   "metadata": {},
   "outputs": [
    {
     "data": {
      "text/plain": [
       "array(['DRY', 'UNKNOWN', 'WET', 'MUD, DIRT, GRAVEL', 'SLUSH', 'OTHER',\n",
       "       'SNOW', 'ICE', 'WATER(STANDING/MOVING)', 'OIL', 'SAND'],\n",
       "      dtype=object)"
      ]
     },
     "execution_count": 37,
     "metadata": {},
     "output_type": "execute_result"
    }
   ],
   "source": [
    "driverdf['surface_condition'] = driverdf['surface_condition'].replace({'N/A': 'UNKNOWN'})\n",
    "driverdf['surface_condition'] = driverdf['surface_condition'].fillna('UNKNOWN')\n",
    "surface_condition = driverdf['surface_condition']\n",
    "surface_condition_uniques = surface_condition.unique()\n",
    "surface_condition_uniques"
   ]
  },
  {
   "cell_type": "code",
   "execution_count": 38,
   "metadata": {},
   "outputs": [
    {
     "data": {
      "text/plain": [
       "array(['UNKNOWN', 'DAYLIGHT', 'DAWN', 'DARK LIGHTS ON',\n",
       "       'DARK -- UNKNOWN LIGHTING', 'DUSK', 'DARK NO LIGHTS', 'OTHER', nan],\n",
       "      dtype=object)"
      ]
     },
     "execution_count": 38,
     "metadata": {},
     "output_type": "execute_result"
    }
   ],
   "source": [
    "light = driverdf.light\n",
    "light_uniques = light.unique()\n",
    "light_uniques"
   ]
  },
  {
   "cell_type": "code",
   "execution_count": 39,
   "metadata": {},
   "outputs": [
    {
     "data": {
      "text/plain": [
       "array(['UNKNOWN', 'DAYLIGHT', 'DAWN', 'DARK LIGHTS ON',\n",
       "       'DARK -- UNKNOWN LIGHTING', 'DUSK', 'DARK NO LIGHTS', 'OTHER', nan],\n",
       "      dtype=object)"
      ]
     },
     "execution_count": 39,
     "metadata": {},
     "output_type": "execute_result"
    }
   ],
   "source": [
    "# Replace 'N/A' with 'UNKNOWN'\n",
    "driverdf['light'] = driverdf['light'].replace({'N/A':'UNKNOWN'})\n",
    "light = driverdf['light']\n",
    "light_uniques = light.unique()\n",
    "light_uniques"
   ]
  },
  {
   "cell_type": "code",
   "execution_count": 40,
   "metadata": {},
   "outputs": [
    {
     "data": {
      "text/plain": [
       "array([nan, 'NO CONTROLS', 'STOP SIGN', 'TRAFFIC SIGNAL',\n",
       "       'FLASHING TRAFFIC SIGNAL', 'PERSON', 'YIELD SIGN', 'WARNING SIGN',\n",
       "       'OTHER', 'RAILWAY CROSSING DEVICE', 'UNKNOWN',\n",
       "       'SCHOOL ZONE SIGN DEVICE'], dtype=object)"
      ]
     },
     "execution_count": 40,
     "metadata": {},
     "output_type": "execute_result"
    }
   ],
   "source": [
    "traffic_control = driverdf.traffic_control\n",
    "traf_ctrl_uniques = traffic_control.unique()\n",
    "traf_ctrl_uniques"
   ]
  },
  {
   "cell_type": "code",
   "execution_count": 41,
   "metadata": {},
   "outputs": [
    {
     "data": {
      "text/plain": [
       "array([nan, 'NO CONTROLS', 'STOP SIGN', 'TRAFFIC SIGNAL',\n",
       "       'FLASHING TRAFFIC SIGNAL', 'PERSON', 'YIELD SIGN', 'WARNING SIGN',\n",
       "       'OTHER', 'RAILWAY CROSSING DEVICE', 'UNKNOWN',\n",
       "       'SCHOOL ZONE SIGN DEVICE'], dtype=object)"
      ]
     },
     "execution_count": 41,
     "metadata": {},
     "output_type": "execute_result"
    }
   ],
   "source": [
    "# Replace 'N/A' with 'UNKNOWN'\n",
    "driverdf['traffic_control'] = driverdf['traffic_control'].replace({'N/A': 'UNKNOWN'})\n",
    "traffic_control = driverdf['traffic_control']\n",
    "traf_ctrl_uniques = traffic_control.unique()\n",
    "traf_ctrl_uniques"
   ]
  },
  {
   "cell_type": "code",
   "execution_count": 42,
   "metadata": {},
   "outputs": [
    {
     "data": {
      "text/plain": [
       "array(['UNKNOWN', 'ALCOHOL PRESENT', 'NONE DETECTED', nan,\n",
       "       'ALCOHOL CONTRIBUTED', 'ILLEGAL DRUG CONTRIBUTED',\n",
       "       'ILLEGAL DRUG PRESENT', 'COMBINATION CONTRIBUTED',\n",
       "       'MEDICATION CONTRIBUTED', 'MEDICATION PRESENT',\n",
       "       'COMBINED SUBSTANCE PRESENT', 'OTHER'], dtype=object)"
      ]
     },
     "execution_count": 42,
     "metadata": {},
     "output_type": "execute_result"
    }
   ],
   "source": [
    "substance_abuse = driverdf.driver_substance_abuse\n",
    "substance_uniques = substance_abuse.unique()\n",
    "substance_uniques\n"
   ]
  },
  {
   "cell_type": "code",
   "execution_count": 43,
   "metadata": {},
   "outputs": [
    {
     "data": {
      "text/plain": [
       "array(['UNKNOWN', 'ALCOHOL PRESENT', 'NONE DETECTED', nan,\n",
       "       'ALCOHOL CONTRIBUTED', 'ILLEGAL DRUG CONTRIBUTED',\n",
       "       'ILLEGAL DRUG PRESENT', 'COMBINATION CONTRIBUTED',\n",
       "       'MEDICATION CONTRIBUTED', 'MEDICATION PRESENT',\n",
       "       'COMBINED SUBSTANCE PRESENT', 'OTHER'], dtype=object)"
      ]
     },
     "execution_count": 43,
     "metadata": {},
     "output_type": "execute_result"
    }
   ],
   "source": [
    "# Replace \"N/A\" with \"UNKNOWN\"\n",
    "driverdf['driver_substance_abuse'] = driverdf['driver_substance_abuse'].replace({'N/A': 'UNKNOWN'})\n",
    "substance_abuse = driverdf['driver_substance_abuse']\n",
    "substance_uniques = substance_abuse.unique()\n",
    "substance_uniques"
   ]
  },
  {
   "cell_type": "code",
   "execution_count": 44,
   "metadata": {},
   "outputs": [
    {
     "data": {
      "text/plain": [
       "array(['Yes', 'No', 'Unknown'], dtype=object)"
      ]
     },
     "execution_count": 44,
     "metadata": {},
     "output_type": "execute_result"
    }
   ],
   "source": [
    "driver_at_fault = driverdf.driver_at_fault\n",
    "at_fault_uniques = driver_at_fault.unique()\n",
    "at_fault_uniques"
   ]
  },
  {
   "cell_type": "code",
   "execution_count": 45,
   "metadata": {},
   "outputs": [
    {
     "data": {
      "text/plain": [
       "array(['NO APPARENT INJURY', 'POSSIBLE INJURY', 'SUSPECTED MINOR INJURY',\n",
       "       'SUSPECTED SERIOUS INJURY', 'FATAL INJURY'], dtype=object)"
      ]
     },
     "execution_count": 45,
     "metadata": {},
     "output_type": "execute_result"
    }
   ],
   "source": [
    "injury_severity = driverdf.injury_severity\n",
    "injury_severity_uniques = injury_severity.unique()\n",
    "injury_severity_uniques"
   ]
  },
  {
   "cell_type": "code",
   "execution_count": 46,
   "metadata": {},
   "outputs": [
    {
     "data": {
      "text/plain": [
       "array([nan, 'ANIMAL, N/A', 'N/A, WET', 'RAIN, SNOW, WET',\n",
       "       'V WIPERS|W OTHER ENVIRONMENTAL, WET', 'N/A, RAIN, SNOW',\n",
       "       'BACKUP DUE TO REGULAR CONGESTION, N/A', 'N/A, RUTS, HOLES, BUMPS',\n",
       "       'N/A, PHYSICAL OBSTRUCTION(S)', 'ICY OR SNOW-COVERED, RAIN, SNOW',\n",
       "       'N/A, VISION OBSTRUCTION (INCL. BLINDED BY SUN)',\n",
       "       'BACKUP DUE TO NON-RECURRING INCIDENT, N/A',\n",
       "       'N/A, ROAD UNDER CONSTRUCTION/MAINTENANCE',\n",
       "       'RAIN, SNOW, SLEET, HAIL, FREEZ. RAIN, WET',\n",
       "       'N/A, V EXHAUST SYSTEM|R OTHER ROAD',\n",
       "       'SLEET, HAIL, FREEZ. RAIN, WET',\n",
       "       'BACKUP DUE TO REGULAR CONGESTION, RAIN, SNOW',\n",
       "       'N/A, RUTS, HOLES, BUMPS, V EXHAUST SYSTEM|R OTHER ROAD',\n",
       "       'BACKUP DUE TO PRIOR CRASH, BACKUP DUE TO REGULAR CONGESTION, N/A',\n",
       "       'DEBRIS OR OBSTRUCTION, N/A',\n",
       "       'N/A, V WIPERS|W OTHER ENVIRONMENTAL',\n",
       "       'RAIN, SNOW, V EXHAUST SYSTEM|R OTHER ROAD, WET',\n",
       "       'BACKUP DUE TO PRIOR CRASH, DEBRIS OR OBSTRUCTION, N/A',\n",
       "       'BACKUP DUE TO REGULAR CONGESTION, N/A, ROAD UNDER CONSTRUCTION/MAINTENANCE, RUTS, HOLES, BUMPS',\n",
       "       'BACKUP DUE TO REGULAR CONGESTION, N/A, ROAD UNDER CONSTRUCTION/MAINTENANCE',\n",
       "       'VISION OBSTRUCTION (INCL. BLINDED BY SUN), WET',\n",
       "       'ANIMAL, V EXHAUST SYSTEM|R OTHER ROAD',\n",
       "       'BACKUP DUE TO PRIOR CRASH, N/A',\n",
       "       'BACKUP DUE TO NON-RECURRING INCIDENT, N/A, NON-HIGHWAY WORK',\n",
       "       'N/A, NON-HIGHWAY WORK',\n",
       "       'N/A, ROAD UNDER CONSTRUCTION/MAINTENANCE, RUTS, HOLES, BUMPS',\n",
       "       'ICY OR SNOW-COVERED, N/A',\n",
       "       'DEBRIS OR OBSTRUCTION, RAIN, SNOW, V WIPERS|W OTHER ENVIRONMENTAL, WET',\n",
       "       'N/A, PHYSICAL OBSTRUCTION(S), ROAD UNDER CONSTRUCTION/MAINTENANCE, RUTS, HOLES, BUMPS',\n",
       "       'ANIMAL, BACKUP DUE TO NON-RECURRING INCIDENT',\n",
       "       'DEBRIS OR OBSTRUCTION, N/A, PHYSICAL OBSTRUCTION(S), ROAD UNDER CONSTRUCTION/MAINTENANCE, RUTS, HOLES, BUMPS',\n",
       "       'N/A, SLEET, HAIL, FREEZ. RAIN',\n",
       "       'ICY OR SNOW-COVERED, V WIPERS|W OTHER ENVIRONMENTAL',\n",
       "       'RAIN, SNOW, RUTS, HOLES, BUMPS, WET',\n",
       "       'PHYSICAL OBSTRUCTION(S), VISION OBSTRUCTION (INCL. BLINDED BY SUN)',\n",
       "       'BACKUP DUE TO REGULAR CONGESTION, SLEET, HAIL, FREEZ. RAIN, WET',\n",
       "       'SMOG, SMOKE, WET', 'N/A, WORN, TRAVEL-POLISHED SURFACE',\n",
       "       'SEVERE CROSSWINDS, WET', 'DEBRIS OR OBSTRUCTION, RAIN, SNOW',\n",
       "       'BACKUP DUE TO REGULAR CONGESTION, RAIN, SNOW, WET',\n",
       "       'N/A, V EXHAUST SYSTEM|R OTHER ROAD, WET', 'N/A, SMOG, SMOKE',\n",
       "       'RAIN, SNOW, V EXHAUST SYSTEM|R OTHER ROAD, V WIPERS|W OTHER ENVIRONMENTAL, WET',\n",
       "       'ICY OR SNOW-COVERED, SLEET, HAIL, FREEZ. RAIN',\n",
       "       'ICY OR SNOW-COVERED, RAIN, SNOW, WET',\n",
       "       'RAIN, SNOW, V EXHAUST SYSTEM|R OTHER ROAD',\n",
       "       'V WIPERS|W OTHER ENVIRONMENTAL, WET, WORN, TRAVEL-POLISHED SURFACE',\n",
       "       'BACKUP DUE TO NON-RECURRING INCIDENT, BACKUP DUE TO REGULAR CONGESTION, N/A',\n",
       "       'DEBRIS OR OBSTRUCTION, RAIN, SNOW, WET',\n",
       "       'N/A, V WIPERS|W OTHER ENVIRONMENTAL, VISION OBSTRUCTION (INCL. BLINDED BY SUN)',\n",
       "       'ANIMAL, WET', 'PHYSICAL OBSTRUCTION(S), RAIN, SNOW, WET',\n",
       "       'DEBRIS OR OBSTRUCTION, V EXHAUST SYSTEM|R OTHER ROAD, V WIPERS|W OTHER ENVIRONMENTAL, WET',\n",
       "       'DEBRIS OR OBSTRUCTION, V WIPERS|W OTHER ENVIRONMENTAL',\n",
       "       'SLEET, HAIL, FREEZ. RAIN, V EXHAUST SYSTEM|R OTHER ROAD, WET',\n",
       "       'N/A, SHOULDERS LOW, SOFT, HIGH, WET',\n",
       "       'DEBRIS OR OBSTRUCTION, N/A, WET',\n",
       "       'BACKUP DUE TO REGULAR CONGESTION, VISION OBSTRUCTION (INCL. BLINDED BY SUN)',\n",
       "       'N/A, WET, WORN, TRAVEL-POLISHED SURFACE',\n",
       "       'BACKUP DUE TO PRIOR CRASH, N/A, WET', 'ANIMAL, SMOG, SMOKE, WET',\n",
       "       'ANIMAL, RAIN, SNOW, WET', 'ANIMAL, ICY OR SNOW-COVERED',\n",
       "       'RAIN, SNOW, SMOG, SMOKE, WET',\n",
       "       'DEBRIS OR OBSTRUCTION, N/A, PHYSICAL OBSTRUCTION(S)',\n",
       "       'DEBRIS OR OBSTRUCTION, RAIN, SNOW, SEVERE CROSSWINDS, WET',\n",
       "       'DEBRIS OR OBSTRUCTION, RAIN, SNOW, WET, WORN, TRAVEL-POLISHED SURFACE',\n",
       "       'ICY OR SNOW-COVERED, RAIN, SNOW, SLEET, HAIL, FREEZ. RAIN, WET',\n",
       "       'ICY OR SNOW-COVERED, SLEET, HAIL, FREEZ. RAIN, WET',\n",
       "       'N/A, TRAFFIC CONTROL DEVICE INOPERATIVE',\n",
       "       'N/A, SEVERE CROSSWINDS',\n",
       "       'DEBRIS OR OBSTRUCTION, V WIPERS|W OTHER ENVIRONMENTAL, WET',\n",
       "       'DEBRIS OR OBSTRUCTION, SEVERE CROSSWINDS, V EXHAUST SYSTEM|R OTHER ROAD',\n",
       "       'DEBRIS OR OBSTRUCTION, VISION OBSTRUCTION (INCL. BLINDED BY SUN)',\n",
       "       'N/A, SHOULDERS LOW, SOFT, HIGH',\n",
       "       'BLOWING SAND, SOIL, DIRT, RAIN, SNOW, SEVERE CROSSWINDS, SLEET, HAIL, FREEZ. RAIN, WET',\n",
       "       'BACKUP DUE TO NON-RECURRING INCIDENT, ROAD UNDER CONSTRUCTION/MAINTENANCE, VISION OBSTRUCTION (INCL. BLINDED BY SUN)',\n",
       "       'BACKUP DUE TO PRIOR CRASH, N/A, PHYSICAL OBSTRUCTION(S)',\n",
       "       'BACKUP DUE TO REGULAR CONGESTION, RAIN, SNOW, V EXHAUST SYSTEM|R OTHER ROAD, WET',\n",
       "       'RAIN, SNOW, TRAFFIC CONTROL DEVICE INOPERATIVE, WET',\n",
       "       'N/A, V EXHAUST SYSTEM|R OTHER ROAD, WORN, TRAVEL-POLISHED SURFACE',\n",
       "       'ROAD UNDER CONSTRUCTION/MAINTENANCE, VISION OBSTRUCTION (INCL. BLINDED BY SUN)',\n",
       "       'ICY OR SNOW-COVERED, V WIPERS|W OTHER ENVIRONMENTAL, WET',\n",
       "       'ICY OR SNOW-COVERED, RAIN, SNOW, SLEET, HAIL, FREEZ. RAIN',\n",
       "       'RAIN, SNOW, VISION OBSTRUCTION (INCL. BLINDED BY SUN), WET',\n",
       "       'SLEET, HAIL, FREEZ. RAIN, VISION OBSTRUCTION (INCL. BLINDED BY SUN), WET',\n",
       "       'ICY OR SNOW-COVERED, N/A, WET', 'N/A, RUTS, HOLES, BUMPS, WET',\n",
       "       'SHOULDERS LOW, SOFT, HIGH, V WIPERS|W OTHER ENVIRONMENTAL, WET',\n",
       "       'RAIN, SNOW, TRAFFIC CONTROL DEVICE INOPERATIVE',\n",
       "       'ICY OR SNOW-COVERED, RAIN, SNOW, SEVERE CROSSWINDS, SLEET, HAIL, FREEZ. RAIN',\n",
       "       'ICY OR SNOW-COVERED, RAIN, SNOW, V WIPERS|W OTHER ENVIRONMENTAL',\n",
       "       'N/A, TRAFFIC CONTROL DEVICE INOPERATIVE, WET',\n",
       "       'N/A, RUTS, HOLES, BUMPS, SHOULDERS LOW, SOFT, HIGH',\n",
       "       'RAIN, SNOW, WORN, TRAVEL-POLISHED SURFACE',\n",
       "       'BACKUP DUE TO REGULAR CONGESTION, N/A, WET',\n",
       "       'ICY OR SNOW-COVERED, SEVERE CROSSWINDS',\n",
       "       'ANIMAL, PHYSICAL OBSTRUCTION(S)', 'BLOWING SAND, SOIL, DIRT, N/A',\n",
       "       'BLOWING SAND, SOIL, DIRT, V EXHAUST SYSTEM|R OTHER ROAD, V WIPERS|W OTHER ENVIRONMENTAL',\n",
       "       'RAIN, SNOW, SEVERE CROSSWINDS, WET',\n",
       "       'BACKUP DUE TO REGULAR CONGESTION, ICY OR SNOW-COVERED, V WIPERS|W OTHER ENVIRONMENTAL',\n",
       "       'ICY OR SNOW-COVERED, RAIN, SNOW, SEVERE CROSSWINDS',\n",
       "       'ICY OR SNOW-COVERED, RAIN, SNOW, VISION OBSTRUCTION (INCL. BLINDED BY SUN)',\n",
       "       'RAIN, SNOW, SHOULDERS LOW, SOFT, HIGH, VISION OBSTRUCTION (INCL. BLINDED BY SUN), WET',\n",
       "       'RAIN, SNOW, RUTS, HOLES, BUMPS',\n",
       "       'ICY OR SNOW-COVERED, RAIN, SNOW, SEVERE CROSSWINDS, VISION OBSTRUCTION (INCL. BLINDED BY SUN)',\n",
       "       'RAIN, SNOW, V WIPERS|W OTHER ENVIRONMENTAL, WET',\n",
       "       'ICY OR SNOW-COVERED, VISION OBSTRUCTION (INCL. BLINDED BY SUN)',\n",
       "       'BACKUP DUE TO NON-RECURRING INCIDENT, VISION OBSTRUCTION (INCL. BLINDED BY SUN)',\n",
       "       'N/A, ROAD UNDER CONSTRUCTION/MAINTENANCE, TRAFFIC CONTROL DEVICE INOPERATIVE',\n",
       "       'ICY OR SNOW-COVERED, SMOG, SMOKE',\n",
       "       'V EXHAUST SYSTEM|R OTHER ROAD, VISION OBSTRUCTION (INCL. BLINDED BY SUN)',\n",
       "       'BLOWING SAND, SOIL, DIRT, RAIN, SNOW, WET',\n",
       "       'RUTS, HOLES, BUMPS, VISION OBSTRUCTION (INCL. BLINDED BY SUN)',\n",
       "       'ICY OR SNOW-COVERED, RAIN, SNOW, V EXHAUST SYSTEM|R OTHER ROAD',\n",
       "       'SHOULDERS LOW, SOFT, HIGH, VISION OBSTRUCTION (INCL. BLINDED BY SUN)',\n",
       "       'SLEET, HAIL, FREEZ. RAIN',\n",
       "       'SLEET, HAIL, FREEZ. RAIN, SMOG, SMOKE, WET',\n",
       "       'RAIN, SNOW, WET, WORN, TRAVEL-POLISHED SURFACE',\n",
       "       'PHYSICAL OBSTRUCTION(S), V WIPERS|W OTHER ENVIRONMENTAL',\n",
       "       'DEBRIS OR OBSTRUCTION, ICY OR SNOW-COVERED, N/A',\n",
       "       'N/A, RAIN, SNOW, V WIPERS|W OTHER ENVIRONMENTAL',\n",
       "       'RAIN, SNOW, ROAD UNDER CONSTRUCTION/MAINTENANCE, RUTS, HOLES, BUMPS',\n",
       "       'ICY OR SNOW-COVERED, RAIN, SNOW, SMOG, SMOKE',\n",
       "       'DEBRIS OR OBSTRUCTION, ICY OR SNOW-COVERED, V WIPERS|W OTHER ENVIRONMENTAL',\n",
       "       'RAIN, SNOW', 'N/A, RAIN, SNOW, SMOG, SMOKE',\n",
       "       'ICY OR SNOW-COVERED, SEVERE CROSSWINDS, V WIPERS|W OTHER ENVIRONMENTAL',\n",
       "       'BACKUP DUE TO NON-RECURRING INCIDENT, N/A, WET',\n",
       "       'SEVERE CROSSWINDS, V EXHAUST SYSTEM|R OTHER ROAD',\n",
       "       'N/A, PHYSICAL OBSTRUCTION(S), ROAD UNDER CONSTRUCTION/MAINTENANCE',\n",
       "       'DEBRIS OR OBSTRUCTION, ICY OR SNOW-COVERED, PHYSICAL OBSTRUCTION(S), RAIN, SNOW',\n",
       "       'PHYSICAL OBSTRUCTION(S), V EXHAUST SYSTEM|R OTHER ROAD, VISION OBSTRUCTION (INCL. BLINDED BY SUN), WET',\n",
       "       'BACKUP DUE TO NON-RECURRING INCIDENT, N/A, ROAD UNDER CONSTRUCTION/MAINTENANCE',\n",
       "       'PHYSICAL OBSTRUCTION(S), RAIN, SNOW',\n",
       "       'DEBRIS OR OBSTRUCTION, N/A, ROAD UNDER CONSTRUCTION/MAINTENANCE',\n",
       "       'BACKUP DUE TO REGULAR CONGESTION, ICY OR SNOW-COVERED, N/A',\n",
       "       'DEBRIS OR OBSTRUCTION, N/A, RUTS, HOLES, BUMPS',\n",
       "       'RAIN, SNOW, SLEET, HAIL, FREEZ. RAIN, V WIPERS|W OTHER ENVIRONMENTAL, WET',\n",
       "       'DEBRIS OR OBSTRUCTION, ICY OR SNOW-COVERED, SLEET, HAIL, FREEZ. RAIN',\n",
       "       'N/A, PHYSICAL OBSTRUCTION(S), RUTS, HOLES, BUMPS',\n",
       "       'N/A, PHYSICAL OBSTRUCTION(S), WET',\n",
       "       'BLOWING SAND, SOIL, DIRT, ICY OR SNOW-COVERED, RAIN, SNOW, SEVERE CROSSWINDS',\n",
       "       'DEBRIS OR OBSTRUCTION, N/A, RUTS, HOLES, BUMPS, SHOULDERS LOW, SOFT, HIGH',\n",
       "       'NON-HIGHWAY WORK, RAIN, SNOW, VISION OBSTRUCTION (INCL. BLINDED BY SUN)',\n",
       "       'BACKUP DUE TO PRIOR CRASH, RAIN, SNOW, WET',\n",
       "       'DEBRIS OR OBSTRUCTION, SEVERE CROSSWINDS',\n",
       "       'N/A, RAIN, SNOW, VISION OBSTRUCTION (INCL. BLINDED BY SUN)',\n",
       "       'DEBRIS OR OBSTRUCTION, SLEET, HAIL, FREEZ. RAIN, V WIPERS|W OTHER ENVIRONMENTAL, WET',\n",
       "       'N/A, RAIN, SNOW, SLEET, HAIL, FREEZ. RAIN',\n",
       "       'SEVERE CROSSWINDS, TRAFFIC CONTROL DEVICE INOPERATIVE',\n",
       "       'ANIMAL, ICY OR SNOW-COVERED, RAIN, SNOW, RUTS, HOLES, BUMPS, WET',\n",
       "       'BACKUP DUE TO REGULAR CONGESTION, ICY OR SNOW-COVERED, RAIN, SNOW',\n",
       "       'BLOWING SAND, SOIL, DIRT, ICY OR SNOW-COVERED',\n",
       "       'N/A, ROAD UNDER CONSTRUCTION/MAINTENANCE, WET',\n",
       "       'RAIN, SNOW, ROAD UNDER CONSTRUCTION/MAINTENANCE, SEVERE CROSSWINDS',\n",
       "       'DEBRIS OR OBSTRUCTION, ICY OR SNOW-COVERED, RAIN, SNOW',\n",
       "       'ANIMAL, DEBRIS OR OBSTRUCTION',\n",
       "       'DEBRIS OR OBSTRUCTION, N/A, PHYSICAL OBSTRUCTION(S), RUTS, HOLES, BUMPS',\n",
       "       'ROAD UNDER CONSTRUCTION/MAINTENANCE, SEVERE CROSSWINDS',\n",
       "       'RAIN, SNOW, ROAD UNDER CONSTRUCTION/MAINTENANCE',\n",
       "       'RAIN, SNOW, SHOULDERS LOW, SOFT, HIGH',\n",
       "       'N/A, SHOULDERS LOW, SOFT, HIGH, V EXHAUST SYSTEM|R OTHER ROAD',\n",
       "       'BACKUP DUE TO NON-RECURRING INCIDENT, BACKUP DUE TO PRIOR CRASH, N/A',\n",
       "       'RAIN, SNOW, ROAD UNDER CONSTRUCTION/MAINTENANCE, WET',\n",
       "       'ICY OR SNOW-COVERED, N/A, RUTS, HOLES, BUMPS',\n",
       "       'DEBRIS OR OBSTRUCTION, RAIN, SNOW, SMOG, SMOKE, V WIPERS|W OTHER ENVIRONMENTAL, WET',\n",
       "       'RAIN, SNOW, ROAD UNDER CONSTRUCTION/MAINTENANCE, RUTS, HOLES, BUMPS, WET',\n",
       "       'DEBRIS OR OBSTRUCTION, SEVERE CROSSWINDS, WET',\n",
       "       'ROAD UNDER CONSTRUCTION/MAINTENANCE, V WIPERS|W OTHER ENVIRONMENTAL',\n",
       "       'V EXHAUST SYSTEM|R OTHER ROAD, V WIPERS|W OTHER ENVIRONMENTAL'],\n",
       "      dtype=object)"
      ]
     },
     "execution_count": 46,
     "metadata": {},
     "output_type": "execute_result"
    }
   ],
   "source": [
    "circumstance = driverdf.circumstance\n",
    "circumstance_uniques = circumstance.unique()\n",
    "circumstance_uniques"
   ]
  },
  {
   "cell_type": "code",
   "execution_count": 47,
   "metadata": {},
   "outputs": [
    {
     "data": {
      "text/plain": [
       "array(['UNKNOWN', 'NOT DISTRACTED', 'OTHER DISTRACTION',\n",
       "       'LOOKED BUT DID NOT SEE', 'INATTENTIVE OR LOST IN THOUGHT',\n",
       "       'DISTRACTED BY OUTSIDE PERSON OBJECT OR EVENT',\n",
       "       'EATING OR DRINKING', 'OTHER CELLULAR PHONE RELATED',\n",
       "       'OTHER ELECTRONIC DEVICE (NAVIGATIONAL PALM PILOT)',\n",
       "       'NO DRIVER PRESENT', 'BY OTHER OCCUPANTS',\n",
       "       'TALKING OR LISTENING TO CELLULAR PHONE', 'DIALING CELLULAR PHONE',\n",
       "       'ADJUSTING AUDIO AND OR CLIMATE CONTROLS',\n",
       "       'BY MOVING OBJECT IN VEHICLE',\n",
       "       'USING DEVICE OBJECT BROUGHT INTO VEHICLE',\n",
       "       'USING OTHER DEVICE CONTROLS INTEGRAL TO VEHICLE',\n",
       "       'TEXTING FROM A CELLULAR PHONE', 'SMOKING RELATED'], dtype=object)"
      ]
     },
     "execution_count": 47,
     "metadata": {},
     "output_type": "execute_result"
    }
   ],
   "source": [
    "driver_distracted_by = driverdf.driver_distracted_by\n",
    "driver_distracted_by_uniques = driver_distracted_by.unique()\n",
    "driver_distracted_by_uniques"
   ]
  },
  {
   "cell_type": "code",
   "execution_count": 48,
   "metadata": {},
   "outputs": [
    {
     "data": {
      "text/plain": [
       "array(['XX', 'MD', 'NE', nan, 'DC', 'VA', 'DE', 'MA', 'FL', 'TX', 'CO',\n",
       "       'IL', 'PA', 'NY', 'NC', 'MS', 'OH', 'AL', 'SC', 'GA', 'NJ', 'NH',\n",
       "       'MI', 'US', 'MB', 'IN', 'LA', 'TN', 'ME', 'WV', 'MN', 'WA', 'CA',\n",
       "       'CT', 'AR', 'NM', 'HI', 'MO', 'ND', 'AZ', 'ID', 'AK', 'KY', 'OK',\n",
       "       'OR', 'ON', 'WI', 'GU', 'UT', 'KS', 'VI', 'NL', 'RI', 'MH', 'AB',\n",
       "       'VT', 'NV', 'IA', 'MT', 'MP', 'IT', 'PR', 'WY', 'NB', 'QC', 'NS',\n",
       "       'SK', 'SD', 'NF', 'YT', 'FM', 'BC', 'AS', 'UM', 'NT'], dtype=object)"
      ]
     },
     "execution_count": 48,
     "metadata": {},
     "output_type": "execute_result"
    }
   ],
   "source": [
    "drivers_license_state = driverdf.drivers_license_state\n",
    "drivers_license_state_uniques = drivers_license_state.unique()\n",
    "drivers_license_state_uniques"
   ]
  },
  {
   "cell_type": "code",
   "execution_count": 49,
   "metadata": {},
   "outputs": [
    {
     "data": {
      "text/plain": [
       "array(['XX', 'MD', 'NE', 'DC', 'VA', 'DE', 'MA', 'FL', 'TX', 'CO', 'IL',\n",
       "       'PA', 'NY', 'NC', 'MS', 'OH', 'AL', 'SC', 'GA', 'NJ', 'NH', 'MI',\n",
       "       'US', 'MB', 'IN', 'LA', 'TN', 'ME', 'WV', 'MN', 'WA', 'CA', 'CT',\n",
       "       'AR', 'NM', 'HI', 'MO', 'ND', 'AZ', 'ID', 'AK', 'KY', 'OK', 'OR',\n",
       "       'ON', 'WI', 'GU', 'UT', 'KS', 'VI', 'NL', 'RI', 'MH', 'AB', 'VT',\n",
       "       'NV', 'IA', 'MT', 'MP', 'IT', 'PR', 'WY', 'NB', 'QC', 'NS', 'SK',\n",
       "       'SD', 'NF', 'YT', 'FM', 'BC', 'AS', 'UM', 'NT'], dtype=object)"
      ]
     },
     "execution_count": 49,
     "metadata": {},
     "output_type": "execute_result"
    }
   ],
   "source": [
    "# 'XX' appears to be the same as nan---I'll replace nan with 'XX'\n",
    "driverdf['drivers_license_state'] = driverdf['drivers_license_state'].fillna('XX')\n",
    "drivers_license_state = driverdf.drivers_license_state\n",
    "drivers_license_state_uniques = drivers_license_state.unique()\n",
    "drivers_license_state_uniques"
   ]
  },
  {
   "cell_type": "code",
   "execution_count": 50,
   "metadata": {},
   "outputs": [
    {
     "data": {
      "text/plain": [
       "array(['UNKNOWN', 'DISABLING', 'SUPERFICIAL', 'DESTROYED', 'FUNCTIONAL',\n",
       "       'NO DAMAGE', nan, 'OTHER'], dtype=object)"
      ]
     },
     "execution_count": 50,
     "metadata": {},
     "output_type": "execute_result"
    }
   ],
   "source": [
    "vehicle_damage_extent = driverdf.vehicle_damage_extent\n",
    "vehicle_damage_extent_uniques = vehicle_damage_extent.unique()\n",
    "vehicle_damage_extent_uniques"
   ]
  },
  {
   "cell_type": "code",
   "execution_count": 51,
   "metadata": {},
   "outputs": [
    {
     "data": {
      "text/plain": [
       "array(['UNKNOWN', 'DISABLING', 'SUPERFICIAL', 'DESTROYED', 'FUNCTIONAL',\n",
       "       'NO DAMAGE', nan, 'OTHER'], dtype=object)"
      ]
     },
     "execution_count": 51,
     "metadata": {},
     "output_type": "execute_result"
    }
   ],
   "source": [
    "driverdf['vehicle_damage_extent'] = driverdf['vehicle_damage_extent'].replace({'N/A':'UNKNOWN'})\n",
    "vehicle_damage_extent = driverdf.vehicle_damage_extent\n",
    "vehicle_damage_extent_uniques = vehicle_damage_extent.unique()\n",
    "vehicle_damage_extent_uniques"
   ]
  },
  {
   "cell_type": "code",
   "execution_count": 52,
   "metadata": {},
   "outputs": [
    {
     "data": {
      "text/plain": [
       "array(['UNKNOWN', 'TWELVE OCLOCK', 'ELEVEN OCLOCK', 'SIX OCLOCK',\n",
       "       'FIVE OCLOCK', 'ONE OCLOCK', 'TWO OCLOCK', 'FOUR OCLOCK',\n",
       "       'NINE OCLOCK', 'SEVEN OCLOCK', 'THREE OCLOCK', 'ROOF TOP',\n",
       "       'TEN OCLOCK', 'EIGHT OCLOCK', 'NON-COLLISION', 'UNDERSIDE', nan],\n",
       "      dtype=object)"
      ]
     },
     "execution_count": 52,
     "metadata": {},
     "output_type": "execute_result"
    }
   ],
   "source": [
    "vehicle_first_impact_location = driverdf.vehicle_first_impact_location\n",
    "vehicle_first_impact_location_uniques = vehicle_first_impact_location.unique()\n",
    "vehicle_first_impact_location_uniques"
   ]
  },
  {
   "cell_type": "code",
   "execution_count": 53,
   "metadata": {},
   "outputs": [
    {
     "data": {
      "text/plain": [
       "array(['UNKNOWN', 'FOUR OCLOCK', 'ELEVEN OCLOCK', 'SIX OCLOCK',\n",
       "       'TWELVE OCLOCK', 'ROOF TOP', 'FIVE OCLOCK', 'ONE OCLOCK',\n",
       "       'TWO OCLOCK', 'NINE OCLOCK', 'SEVEN OCLOCK', 'THREE OCLOCK',\n",
       "       'TEN OCLOCK', 'EIGHT OCLOCK', 'UNDERSIDE', 'NON-COLLISION', nan],\n",
       "      dtype=object)"
      ]
     },
     "execution_count": 53,
     "metadata": {},
     "output_type": "execute_result"
    }
   ],
   "source": [
    "vehicle_second_impact_location = driverdf.vehicle_second_impact_location\n",
    "vehicle_second_impact_location_uniques = vehicle_second_impact_location.unique()\n",
    "vehicle_second_impact_location_uniques"
   ]
  },
  {
   "cell_type": "code",
   "execution_count": 54,
   "metadata": {},
   "outputs": [
    {
     "data": {
      "text/plain": [
       "array(['UNKNOWN', 'VAN', 'PASSENGER CAR', 'POLICE VEHICLE/NON EMERGENCY',\n",
       "       'POLICE VEHICLE/EMERGENCY', '(SPORT) UTILITY VEHICLE', nan,\n",
       "       'TRANSIT BUS', 'SCHOOL BUS', 'MOTORCYCLE', 'OTHER', 'PICKUP TRUCK',\n",
       "       'CARGO VAN/LIGHT TRUCK 2 AXLES (OVER 10,000LBS (4,536 KG))',\n",
       "       'AUTOCYCLE',\n",
       "       'MEDIUM/HEAVY TRUCKS 3 AXLES (OVER 10,000LBS (4,536KG))',\n",
       "       'OTHER BUS', 'OTHER LIGHT TRUCKS (10,000LBS (4,536KG) OR LESS)',\n",
       "       'AMBULANCE/EMERGENCY', 'TRUCK TRACTOR', 'AMBULANCE/NON EMERGENCY',\n",
       "       'FIRE VEHICLE/EMERGENCY', 'SNOWMOBILE',\n",
       "       'FIRE VEHICLE/NON EMERGENCY', 'STATION WAGON', 'LOW SPEED VEHICLE',\n",
       "       'ALL TERRAIN VEHICLE (ATV)', 'MOPED', 'CROSS COUNTRY BUS',\n",
       "       'RECREATIONAL VEHICLE', 'FARM VEHICLE', 'LIMOUSINE'], dtype=object)"
      ]
     },
     "execution_count": 54,
     "metadata": {},
     "output_type": "execute_result"
    }
   ],
   "source": [
    "vehicle_body_type = driverdf.vehicle_body_type\n",
    "vehicle_body_type_uniques = vehicle_body_type.unique()\n",
    "vehicle_body_type_uniques"
   ]
  },
  {
   "cell_type": "code",
   "execution_count": 55,
   "metadata": {},
   "outputs": [
    {
     "data": {
      "text/plain": [
       "array(['UNKNOWN', 'VAN', 'PASSENGER CAR', 'POLICE VEHICLE/NON EMERGENCY',\n",
       "       'POLICE VEHICLE/EMERGENCY', '(SPORT) UTILITY VEHICLE',\n",
       "       'TRANSIT BUS', 'SCHOOL BUS', 'MOTORCYCLE', 'OTHER', 'PICKUP TRUCK',\n",
       "       'CARGO VAN/LIGHT TRUCK 2 AXLES (OVER 10,000LBS (4,536 KG))',\n",
       "       'AUTOCYCLE',\n",
       "       'MEDIUM/HEAVY TRUCKS 3 AXLES (OVER 10,000LBS (4,536KG))',\n",
       "       'OTHER BUS', 'OTHER LIGHT TRUCKS (10,000LBS (4,536KG) OR LESS)',\n",
       "       'AMBULANCE/EMERGENCY', 'TRUCK TRACTOR', 'AMBULANCE/NON EMERGENCY',\n",
       "       'FIRE VEHICLE/EMERGENCY', 'SNOWMOBILE',\n",
       "       'FIRE VEHICLE/NON EMERGENCY', 'STATION WAGON', 'LOW SPEED VEHICLE',\n",
       "       'ALL TERRAIN VEHICLE (ATV)', 'MOPED', 'CROSS COUNTRY BUS',\n",
       "       'RECREATIONAL VEHICLE', 'FARM VEHICLE', 'LIMOUSINE'], dtype=object)"
      ]
     },
     "execution_count": 55,
     "metadata": {},
     "output_type": "execute_result"
    }
   ],
   "source": [
    "# Replace nan with 'UNKNOWN'\n",
    "driverdf['vehicle_body_type'] = driverdf['vehicle_body_type'].fillna('UNKNOWN')\n",
    "vehicle_body_type = driverdf.vehicle_body_type\n",
    "vehicle_body_type_uniques = vehicle_body_type.unique()\n",
    "vehicle_body_type_uniques"
   ]
  },
  {
   "cell_type": "code",
   "execution_count": 56,
   "metadata": {},
   "outputs": [
    {
     "data": {
      "text/plain": [
       "array(['UNKNOWN', 'ACCELERATING', 'STOPPED IN TRAFFIC LANE',\n",
       "       'MOVING CONSTANT SPEED', 'PARKED', 'MAKING LEFT TURN',\n",
       "       'SLOWING OR STOPPING', 'STARTING FROM LANE', 'OTHER',\n",
       "       'CHANGING LANES', 'SKIDDING', nan, 'BACKING',\n",
       "       'STARTING FROM PARKED', 'PARKING', 'PASSING', 'MAKING RIGHT TURN',\n",
       "       'NEGOTIATING A CURVE', 'ENTERING TRAFFIC LANE', 'MAKING U TURN',\n",
       "       'RIGHT TURN ON RED', 'LEAVING TRAFFIC LANE',\n",
       "       'DRIVERLESS MOVING VEH.'], dtype=object)"
      ]
     },
     "execution_count": 56,
     "metadata": {},
     "output_type": "execute_result"
    }
   ],
   "source": [
    "vehicle_movement = driverdf.vehicle_movement\n",
    "vehicle_movement_uniques = vehicle_movement.unique()\n",
    "vehicle_movement_uniques"
   ]
  },
  {
   "cell_type": "code",
   "execution_count": 57,
   "metadata": {},
   "outputs": [
    {
     "data": {
      "text/plain": [
       "array(['Unknown', 'East', 'North', 'West', 'South', nan], dtype=object)"
      ]
     },
     "execution_count": 57,
     "metadata": {},
     "output_type": "execute_result"
    }
   ],
   "source": [
    "vehicle_continuing_dir = driverdf.vehicle_continuing_dir\n",
    "vehicle_continuing_dir_uniques = vehicle_continuing_dir.unique()\n",
    "vehicle_continuing_dir_uniques"
   ]
  },
  {
   "cell_type": "code",
   "execution_count": 58,
   "metadata": {},
   "outputs": [
    {
     "data": {
      "text/plain": [
       "array(['UNKNOWN', 'East', 'North', 'West', 'South'], dtype=object)"
      ]
     },
     "execution_count": 58,
     "metadata": {},
     "output_type": "execute_result"
    }
   ],
   "source": [
    "# Replace nan with 'UNKNOWN'\n",
    "driverdf['vehicle_continuing_dir'] = driverdf['vehicle_continuing_dir'].fillna('UNKNOWN')\n",
    "driverdf['vehicle_continuing_dir'] = driverdf['vehicle_continuing_dir'].replace({'Unknown':'UNKNOWN'})\n",
    "vehicle_continuing_dir = driverdf.vehicle_continuing_dir\n",
    "vehicle_continuing_dir_uniques = vehicle_continuing_dir.unique()\n",
    "vehicle_continuing_dir_uniques"
   ]
  },
  {
   "cell_type": "code",
   "execution_count": 59,
   "metadata": {},
   "outputs": [
    {
     "data": {
      "text/plain": [
       "array(['Unknown', 'East', 'North', 'West', 'South', nan], dtype=object)"
      ]
     },
     "execution_count": 59,
     "metadata": {},
     "output_type": "execute_result"
    }
   ],
   "source": [
    "vehicle_going_dir = driverdf.vehicle_going_dir\n",
    "vehicle_going_dir_uniques = vehicle_going_dir.unique()\n",
    "vehicle_going_dir_uniques"
   ]
  },
  {
   "cell_type": "code",
   "execution_count": 60,
   "metadata": {},
   "outputs": [
    {
     "data": {
      "text/plain": [
       "array(['UNKNOWN', 'East', 'North', 'West', 'South'], dtype=object)"
      ]
     },
     "execution_count": 60,
     "metadata": {},
     "output_type": "execute_result"
    }
   ],
   "source": [
    "# Replace nan with 'UNKNOWN'\n",
    "driverdf['vehicle_going_dir'] = driverdf['vehicle_going_dir'].fillna('UNKNOWN')\n",
    "driverdf['vehicle_going_dir'] = driverdf['vehicle_going_dir'].replace({'Unknown':'UNKNOWN'})\n",
    "vehicle_going_dir = driverdf.vehicle_going_dir\n",
    "vehicle_going_dir_uniques = vehicle_going_dir.unique()\n",
    "vehicle_going_dir_uniques"
   ]
  },
  {
   "cell_type": "code",
   "execution_count": 61,
   "metadata": {},
   "outputs": [
    {
     "data": {
      "text/plain": [
       "array([35, 25, 40,  0, 30, 55, 50, 10, 45, 15, 20,  5, 60, 65, 70])"
      ]
     },
     "execution_count": 61,
     "metadata": {},
     "output_type": "execute_result"
    }
   ],
   "source": [
    "speed_limit = driverdf.speed_limit\n",
    "speed_limit_uniques = speed_limit.unique()\n",
    "speed_limit_uniques"
   ]
  },
  {
   "cell_type": "code",
   "execution_count": 62,
   "metadata": {},
   "outputs": [
    {
     "data": {
      "text/plain": [
       "array(['No', 'Yes'], dtype=object)"
      ]
     },
     "execution_count": 62,
     "metadata": {},
     "output_type": "execute_result"
    }
   ],
   "source": [
    "parked_vehicle = driverdf.parked_vehicle\n",
    "parked_vehicle_uniques = parked_vehicle.unique()\n",
    "parked_vehicle_uniques"
   ]
  },
  {
   "cell_type": "code",
   "execution_count": 63,
   "metadata": {},
   "outputs": [
    {
     "data": {
      "text/plain": [
       "array([2020, 2004, 2006, 2011, 2018, 2017, 2014, 2008, 2003, 1996, 1998,\n",
       "       2007,    0, 2016, 2015, 2013, 1994, 2005, 2019, 2009, 2010, 1997,\n",
       "       1995, 2012, 2000, 1978, 2002, 2001, 1999, 1991, 1989, 1972, 1988,\n",
       "       1955, 1993, 1992, 1990, 1983, 1012, 1985, 9999, 1966, 1968, 1900,\n",
       "       1987, 2021, 1986, 1140, 2022, 8888, 2911, 2991, 1979, 1984, 1980,\n",
       "       1981,  201, 2041, 1970, 2200,  200, 3003, 1982, 1014, 2914, 2996,\n",
       "         99, 2102, 8008, 2998, 2101, 3863,  215, 1965, 1947, 2103, 2104,\n",
       "       1111,   13, 2040, 2917,    4, 1946, 3013, 1971, 1963, 1977, 1025,\n",
       "       5005, 2033, 2100, 2916,   15, 2912, 2205,   14, 2099, 1960,  999,\n",
       "       1974, 1005,    1, 2204, 1969, 1975, 2055,    3, 1901, 1967, 7817,\n",
       "        202, 2105,  198,   97, 1911, 1959,    8, 1949,    2, 1234, 1976,\n",
       "       1015])"
      ]
     },
     "execution_count": 63,
     "metadata": {},
     "output_type": "execute_result"
    }
   ],
   "source": [
    "vehicle_year = driverdf.vehicle_year\n",
    "vehicle_year_uniques = vehicle_year.unique()\n",
    "vehicle_year_uniques"
   ]
  },
  {
   "cell_type": "code",
   "execution_count": 64,
   "metadata": {},
   "outputs": [
    {
     "data": {
      "text/plain": [
       "array(['UNK', 'DODGE', 'HONDA', ..., 'MYST', '4D', 'SUR RON'],\n",
       "      dtype=object)"
      ]
     },
     "execution_count": 64,
     "metadata": {},
     "output_type": "execute_result"
    }
   ],
   "source": [
    "vehicle_make = driverdf.vehicle_make\n",
    "vehicle_make_uniques = vehicle_make.unique()\n",
    "vehicle_make_uniques"
   ]
  },
  {
   "cell_type": "code",
   "execution_count": 65,
   "metadata": {},
   "outputs": [
    {
     "data": {
      "text/plain": [
       "array(['UNKNOWN', 'DODGE', 'HONDA', ..., 'MYST', '4D', 'SUR RON'],\n",
       "      dtype=object)"
      ]
     },
     "execution_count": 65,
     "metadata": {},
     "output_type": "execute_result"
    }
   ],
   "source": [
    "# Standardize make names --- unfortunately reviewing the make and model together reveals merc can be either mercedes or mercury...\n",
    "# Some of these abbreviations are mysteries.\n",
    "driverdf['vehicle_make'] = driverdf['vehicle_make'].replace({'TOYT': 'TOYOTA', 'MERZ': 'MERCEDES', 'INFI': 'INFINITI', 'HYUN': 'HYUNDAI', 'CHEV': 'CHEVROLET',\n",
    "                                                             'HYUND': 'HYUNDAI', 'CHEVY': 'CHEVROLET', 'LEXU': 'LEXUS', 'HOND': 'HONDA', 'VOLK': 'VOLKSWAGEN',\n",
    "                                                             'NISS': 'NISSAN', 'RANGE': 'RANGE_ROVER', 'DODG': 'DODGE', 'NISAN': 'NISSAN', 'HYUD': 'HYUNDAI',\n",
    "                                                             'MNNI': 'MINI', 'MAZD': 'MAZDA', 'MITSUBUSHI': 'MITSUBISHI', 'HUYN': 'HYUNDAI', 'VOLKWAGEN': 'VOLKSWAGEN', \n",
    "                                                             'SUBA': 'SUBARU', 'LANDOVER': 'LANDROVER', 'TOYO': 'TOYOTA', 'MITS': 'MITSUBISHI', 'CADI': 'CADILLAC',\n",
    "                                                             'CHEVORLET': 'CHEVROLET', 'VW': 'VOLKSWAGEN', 'CHRY':'CHRYSLER', 'VOLKWAGON': 'VOLKSWAGEN', 'LAND ROVER': 'LANDROVER', \n",
    "                                                             'FRAIGHT LINER': 'FREIGHTLINER', 'HONDM': 'HONDA', 'TOYTA': 'TOYOTA', 'SSUBARU': 'SUBARU', 'VOLKSWAGON': 'VOLKSWAGEN', 'XX': 'UNKNOWN',\n",
    "                                                             'ACUR': 'ACURA', 'BUICCK': 'BUICK', 'HYNDAI': 'HYUNDAI', 'UNK': 'UNKNOWN', 'HYUNDA':'HYUNDAI', 'SUB': 'SUBARU',\n",
    "                                                             'Unknown':'UNKNOWN'})\n",
    "vehicle_make = driverdf.vehicle_make\n",
    "vehicle_make_uniques = vehicle_make.unique()\n",
    "vehicle_make_uniques"
   ]
  },
  {
   "cell_type": "code",
   "execution_count": 66,
   "metadata": {},
   "outputs": [
    {
     "data": {
      "text/plain": [
       "array(['UNK', 'GRAND CARAVAN', 'CR-V', ..., 'FZ07', 'CC 4D', 'PREVOST'],\n",
       "      dtype=object)"
      ]
     },
     "execution_count": 66,
     "metadata": {},
     "output_type": "execute_result"
    }
   ],
   "source": [
    "vehicle_model = driverdf.vehicle_model\n",
    "vehicle_model_uniques = vehicle_model.unique()\n",
    "vehicle_model_uniques"
   ]
  },
  {
   "cell_type": "code",
   "execution_count": 67,
   "metadata": {},
   "outputs": [
    {
     "data": {
      "text/plain": [
       "array(['UNKNOWN', 'NO MISUSE', nan, 'AIR BAG FAILED', 'OTHER',\n",
       "       'BELTS/ANCHORS BROKE', 'STRAP/TETHER LOOSE', 'BELT(S) MISUSED',\n",
       "       'SIZE/TYPE IMPROPER', 'FACING WRONG WAY', 'NOT STREPPED RIGHT'],\n",
       "      dtype=object)"
      ]
     },
     "execution_count": 67,
     "metadata": {},
     "output_type": "execute_result"
    }
   ],
   "source": [
    "equipment_problems = driverdf.equipment_problems\n",
    "equipment_problems_uniques = equipment_problems.unique()\n",
    "equipment_problems_uniques"
   ]
  },
  {
   "cell_type": "markdown",
   "metadata": {},
   "source": [
    "NOTE:  This column doesn't seem to include any information of interest, so I'll delete it."
   ]
  },
  {
   "cell_type": "code",
   "execution_count": 68,
   "metadata": {},
   "outputs": [
    {
     "data": {
      "text/plain": [
       "array([nan, 'OTHER', 'BICYCLIST', 'PEDESTRIAN', 'OTHER CONVEYANCE',\n",
       "       'OTHER PEDALCYCLIST', 'BICYCLIST, PEDESTRIAN',\n",
       "       'MACHINE OPERATOR/RIDER', 'BICYCLIST, OTHER', 'OTHER, PEDESTRIAN',\n",
       "       'OTHER, OTHER CONVEYANCE', 'IN ANIMAL-DRAWN VEH'], dtype=object)"
      ]
     },
     "execution_count": 68,
     "metadata": {},
     "output_type": "execute_result"
    }
   ],
   "source": [
    "related_non_motorist = driverdf.related_non_motorist\n",
    "related_non_motorist_uniques = related_non_motorist.unique()\n",
    "related_non_motorist_uniques"
   ]
  },
  {
   "cell_type": "code",
   "execution_count": 69,
   "metadata": {},
   "outputs": [
    {
     "data": {
      "text/plain": [
       "array(['UNKNOWN', 'OTHER', 'BICYCLIST', 'PEDESTRIAN', 'OTHER CONVEYANCE',\n",
       "       'OTHER PEDALCYCLIST', 'BICYCLIST, PEDESTRIAN',\n",
       "       'MACHINE OPERATOR/RIDER', 'BICYCLIST, OTHER', 'OTHER, PEDESTRIAN',\n",
       "       'OTHER, OTHER CONVEYANCE', 'IN ANIMAL-DRAWN VEH'], dtype=object)"
      ]
     },
     "execution_count": 69,
     "metadata": {},
     "output_type": "execute_result"
    }
   ],
   "source": [
    "# Fill na's with \"UNKNOWN\"\n",
    "driverdf['related_non_motorist'] = driverdf['related_non_motorist'].fillna(\"UNKNOWN\")\n",
    "related_non_motorist = driverdf.related_non_motorist\n",
    "related_non_motorist_uniques = related_non_motorist.unique()\n",
    "related_non_motorist_uniques"
   ]
  },
  {
   "cell_type": "code",
   "execution_count": 70,
   "metadata": {},
   "outputs": [
    {
     "data": {
      "text/plain": [
       "array([nan, 'NONE DETECTED', 'ALCOHOL PRESENT', 'N/A, NONE DETECTED',\n",
       "       'UNKNOWN', 'ALCOHOL CONTRIBUTED', 'NONE DETECTED, UNKNOWN',\n",
       "       'ILLEGAL DRUG CONTRIBUTED', 'ILLEGAL DRUG PRESENT', 'OTHER',\n",
       "       'COMBINED SUBSTANCE PRESENT', 'ALCOHOL PRESENT, NONE DETECTED',\n",
       "       'MEDICATION PRESENT', 'COMBINATION CONTRIBUTED'], dtype=object)"
      ]
     },
     "execution_count": 70,
     "metadata": {},
     "output_type": "execute_result"
    }
   ],
   "source": [
    "non_motorist_substance_abuse = driverdf.non_motorist_substance_abuse\n",
    "non_motorist_substance_abuse_uniques = non_motorist_substance_abuse.unique()\n",
    "non_motorist_substance_abuse_uniques"
   ]
  },
  {
   "cell_type": "code",
   "execution_count": 71,
   "metadata": {},
   "outputs": [
    {
     "data": {
      "text/plain": [
       "array(['UNKNOWN', 'NONE DETECTED', 'ALCOHOL PRESENT',\n",
       "       'N/A, NONE DETECTED', 'ALCOHOL CONTRIBUTED',\n",
       "       'NONE DETECTED, UNKNOWN', 'ILLEGAL DRUG CONTRIBUTED',\n",
       "       'ILLEGAL DRUG PRESENT', 'OTHER', 'COMBINED SUBSTANCE PRESENT',\n",
       "       'ALCOHOL PRESENT, NONE DETECTED', 'MEDICATION PRESENT',\n",
       "       'COMBINATION CONTRIBUTED'], dtype=object)"
      ]
     },
     "execution_count": 71,
     "metadata": {},
     "output_type": "execute_result"
    }
   ],
   "source": [
    "# Fill na's with \"UNKNOWN\"\n",
    "driverdf['non_motorist_substance_abuse'] = driverdf['non_motorist_substance_abuse'].fillna(\"UNKNOWN\")\n",
    "non_motorist_substance_abuse = driverdf.non_motorist_substance_abuse\n",
    "non_motorist_substance_abuse_uniques = non_motorist_substance_abuse.unique()\n",
    "non_motorist_substance_abuse_uniques"
   ]
  },
  {
   "cell_type": "markdown",
   "metadata": {},
   "source": [
    "Now that I see how the data in each column is labeled, I can change the labels for consistency.  (And delete the columns that don't have information I am interested in."
   ]
  },
  {
   "cell_type": "code",
   "execution_count": null,
   "metadata": {},
   "outputs": [],
   "source": []
  },
  {
   "cell_type": "code",
   "execution_count": null,
   "metadata": {},
   "outputs": [],
   "source": []
  },
  {
   "cell_type": "markdown",
   "metadata": {},
   "source": [
    "#### Begin cleaning crash incidents info dataframe\n",
    "\n",
    "First, begin by examining info about the dataframe."
   ]
  },
  {
   "cell_type": "code",
   "execution_count": 72,
   "metadata": {},
   "outputs": [
    {
     "name": "stdout",
     "output_type": "stream",
     "text": [
      "<class 'pandas.core.frame.DataFrame'>\n",
      "RangeIndex: 68767 entries, 0 to 68766\n",
      "Data columns (total 44 columns):\n",
      " #   Column                        Non-Null Count  Dtype  \n",
      "---  ------                        --------------  -----  \n",
      " 0   report_number                 68767 non-null  object \n",
      " 1   local_case_number             68767 non-null  object \n",
      " 2   agency_name                   68767 non-null  object \n",
      " 3   acrs_report_type              68767 non-null  object \n",
      " 4   crash_date_time               68767 non-null  object \n",
      " 5   hit_run                       68765 non-null  object \n",
      " 6   route_type                    59646 non-null  object \n",
      " 7   mile_point                    60029 non-null  float64\n",
      " 8   mile_point_direction          59660 non-null  object \n",
      " 9   lane_direction                60040 non-null  object \n",
      " 10  lane_number                   68767 non-null  int64  \n",
      " 11  lane_type                     6671 non-null   object \n",
      " 12  number_of_lanes               68767 non-null  int64  \n",
      " 13  direction                     60029 non-null  object \n",
      " 14  distance                      61894 non-null  float64\n",
      " 15  distance_unit                 60039 non-null  object \n",
      " 16  road_grade                    59563 non-null  object \n",
      " 17  nontraffic                    68767 non-null  object \n",
      " 18  road_name                     60039 non-null  object \n",
      " 19  cross_street_type             59635 non-null  object \n",
      " 20  cross_street_name             60034 non-null  object \n",
      " 21  off_road_description          8727 non-null   object \n",
      " 22  municipality                  7294 non-null   object \n",
      " 23  related_non_motorist          3754 non-null   object \n",
      " 24  at_fault                      68767 non-null  object \n",
      " 25  collision_type                68416 non-null  object \n",
      " 26  weather                       62980 non-null  object \n",
      " 27  surface_condition             58299 non-null  object \n",
      " 28  light                         68197 non-null  object \n",
      " 29  traffic_control               56433 non-null  object \n",
      " 30  driver_substance_abuse        57778 non-null  object \n",
      " 31  non_motorist_substance_abuse  2988 non-null   object \n",
      " 32  first_harmful_event           68379 non-null  object \n",
      " 33  second_harmful_event          17193 non-null  object \n",
      " 34  fixed_object_struck           14384 non-null  object \n",
      " 35  junction                      50521 non-null  object \n",
      " 36  intersection_type             33739 non-null  object \n",
      " 37  intersection_area             19262 non-null  object \n",
      " 38  road_alignment                59731 non-null  object \n",
      " 39  road_condition                57462 non-null  object \n",
      " 40  road_division                 59146 non-null  object \n",
      " 41  latitude                      68767 non-null  float64\n",
      " 42  longitude                     68767 non-null  float64\n",
      " 43  location                      68767 non-null  object \n",
      "dtypes: float64(4), int64(2), object(38)\n",
      "memory usage: 23.1+ MB\n"
     ]
    }
   ],
   "source": [
    "incidentsdf.info()"
   ]
  },
  {
   "cell_type": "code",
   "execution_count": null,
   "metadata": {},
   "outputs": [],
   "source": []
  },
  {
   "cell_type": "code",
   "execution_count": 73,
   "metadata": {},
   "outputs": [
    {
     "name": "stdout",
     "output_type": "stream",
     "text": [
      "<class 'pandas.core.frame.DataFrame'>\n",
      "RangeIndex: 68767 entries, 0 to 68766\n",
      "Data columns (total 44 columns):\n",
      " #   Column                        Non-Null Count  Dtype  \n",
      "---  ------                        --------------  -----  \n",
      " 0   report_number                 68767 non-null  object \n",
      " 1   local_case_number             68767 non-null  object \n",
      " 2   agency_name                   68767 non-null  object \n",
      " 3   acrs_report_type              68767 non-null  object \n",
      " 4   crash_date_time               68767 non-null  object \n",
      " 5   hit_run                       68765 non-null  object \n",
      " 6   route_type                    59646 non-null  object \n",
      " 7   mile_point                    60029 non-null  float64\n",
      " 8   mile_point_direction          59660 non-null  object \n",
      " 9   lane_direction                60040 non-null  object \n",
      " 10  lane_number                   68767 non-null  int64  \n",
      " 11  lane_type                     6671 non-null   object \n",
      " 12  number_of_lanes               68767 non-null  int64  \n",
      " 13  direction                     60029 non-null  object \n",
      " 14  distance                      61894 non-null  float64\n",
      " 15  distance_unit                 60039 non-null  object \n",
      " 16  road_grade                    59563 non-null  object \n",
      " 17  nontraffic                    68767 non-null  object \n",
      " 18  road_name                     60039 non-null  object \n",
      " 19  cross_street_type             59635 non-null  object \n",
      " 20  cross_street_name             60034 non-null  object \n",
      " 21  off_road_description          8727 non-null   object \n",
      " 22  municipality                  7294 non-null   object \n",
      " 23  related_non_motorist          3754 non-null   object \n",
      " 24  at_fault                      68767 non-null  object \n",
      " 25  collision_type                68416 non-null  object \n",
      " 26  weather                       62980 non-null  object \n",
      " 27  surface_condition             58299 non-null  object \n",
      " 28  light                         68197 non-null  object \n",
      " 29  traffic_control               56433 non-null  object \n",
      " 30  driver_substance_abuse        57778 non-null  object \n",
      " 31  non_motorist_substance_abuse  2988 non-null   object \n",
      " 32  first_harmful_event           68379 non-null  object \n",
      " 33  second_harmful_event          17193 non-null  object \n",
      " 34  fixed_object_struck           14384 non-null  object \n",
      " 35  junction                      50521 non-null  object \n",
      " 36  intersection_type             33739 non-null  object \n",
      " 37  intersection_area             19262 non-null  object \n",
      " 38  road_alignment                59731 non-null  object \n",
      " 39  road_condition                57462 non-null  object \n",
      " 40  road_division                 59146 non-null  object \n",
      " 41  latitude                      68767 non-null  float64\n",
      " 42  longitude                     68767 non-null  float64\n",
      " 43  location                      68767 non-null  object \n",
      "dtypes: float64(4), int64(2), object(38)\n",
      "memory usage: 23.1+ MB\n"
     ]
    },
    {
     "data": {
      "text/html": [
       "<div>\n",
       "<style scoped>\n",
       "    .dataframe tbody tr th:only-of-type {\n",
       "        vertical-align: middle;\n",
       "    }\n",
       "\n",
       "    .dataframe tbody tr th {\n",
       "        vertical-align: top;\n",
       "    }\n",
       "\n",
       "    .dataframe thead th {\n",
       "        text-align: right;\n",
       "    }\n",
       "</style>\n",
       "<table border=\"1\" class=\"dataframe\">\n",
       "  <thead>\n",
       "    <tr style=\"text-align: right;\">\n",
       "      <th></th>\n",
       "      <th>report_number</th>\n",
       "      <th>local_case_number</th>\n",
       "      <th>agency_name</th>\n",
       "      <th>acrs_report_type</th>\n",
       "      <th>crash_date_time</th>\n",
       "      <th>hit_run</th>\n",
       "      <th>route_type</th>\n",
       "      <th>mile_point</th>\n",
       "      <th>mile_point_direction</th>\n",
       "      <th>lane_direction</th>\n",
       "      <th>...</th>\n",
       "      <th>fixed_object_struck</th>\n",
       "      <th>junction</th>\n",
       "      <th>intersection_type</th>\n",
       "      <th>intersection_area</th>\n",
       "      <th>road_alignment</th>\n",
       "      <th>road_condition</th>\n",
       "      <th>road_division</th>\n",
       "      <th>latitude</th>\n",
       "      <th>longitude</th>\n",
       "      <th>location</th>\n",
       "    </tr>\n",
       "  </thead>\n",
       "  <tbody>\n",
       "    <tr>\n",
       "      <th>0</th>\n",
       "      <td>MCP3048005T</td>\n",
       "      <td>190046316</td>\n",
       "      <td>Montgomery County Police</td>\n",
       "      <td>Property Damage Crash</td>\n",
       "      <td>09/27/2019 09:38:00 AM</td>\n",
       "      <td>No</td>\n",
       "      <td>NaN</td>\n",
       "      <td>NaN</td>\n",
       "      <td>NaN</td>\n",
       "      <td>NaN</td>\n",
       "      <td>...</td>\n",
       "      <td>BUILDING</td>\n",
       "      <td>NaN</td>\n",
       "      <td>NaN</td>\n",
       "      <td>NaN</td>\n",
       "      <td>NaN</td>\n",
       "      <td>NaN</td>\n",
       "      <td>NaN</td>\n",
       "      <td>39.026700</td>\n",
       "      <td>-77.136785</td>\n",
       "      <td>(39.0267, -77.136785)</td>\n",
       "    </tr>\n",
       "    <tr>\n",
       "      <th>1</th>\n",
       "      <td>EJ78460055</td>\n",
       "      <td>200017938</td>\n",
       "      <td>Gaithersburg Police Depar</td>\n",
       "      <td>Property Damage Crash</td>\n",
       "      <td>05/02/2020 02:16:00 PM</td>\n",
       "      <td>Yes</td>\n",
       "      <td>NaN</td>\n",
       "      <td>NaN</td>\n",
       "      <td>NaN</td>\n",
       "      <td>NaN</td>\n",
       "      <td>...</td>\n",
       "      <td>NaN</td>\n",
       "      <td>NaN</td>\n",
       "      <td>NaN</td>\n",
       "      <td>NaN</td>\n",
       "      <td>NaN</td>\n",
       "      <td>NaN</td>\n",
       "      <td>NaN</td>\n",
       "      <td>39.147956</td>\n",
       "      <td>-77.229616</td>\n",
       "      <td>(39.14795617, -77.2296164)</td>\n",
       "    </tr>\n",
       "    <tr>\n",
       "      <th>2</th>\n",
       "      <td>MCP3245000H</td>\n",
       "      <td>200036179</td>\n",
       "      <td>Montgomery County Police</td>\n",
       "      <td>Injury Crash</td>\n",
       "      <td>09/15/2020 03:33:00 PM</td>\n",
       "      <td>No</td>\n",
       "      <td>NaN</td>\n",
       "      <td>NaN</td>\n",
       "      <td>NaN</td>\n",
       "      <td>NaN</td>\n",
       "      <td>...</td>\n",
       "      <td>NaN</td>\n",
       "      <td>NaN</td>\n",
       "      <td>NaN</td>\n",
       "      <td>NaN</td>\n",
       "      <td>NaN</td>\n",
       "      <td>NaN</td>\n",
       "      <td>NaN</td>\n",
       "      <td>39.188862</td>\n",
       "      <td>-77.202455</td>\n",
       "      <td>(39.18886167, -77.202455)</td>\n",
       "    </tr>\n",
       "    <tr>\n",
       "      <th>3</th>\n",
       "      <td>HA23890011</td>\n",
       "      <td>20002466</td>\n",
       "      <td>Maryland-National Capital</td>\n",
       "      <td>Property Damage Crash</td>\n",
       "      <td>10/14/2020 08:40:00 AM</td>\n",
       "      <td>No</td>\n",
       "      <td>NaN</td>\n",
       "      <td>NaN</td>\n",
       "      <td>NaN</td>\n",
       "      <td>NaN</td>\n",
       "      <td>...</td>\n",
       "      <td>NaN</td>\n",
       "      <td>NaN</td>\n",
       "      <td>NaN</td>\n",
       "      <td>NaN</td>\n",
       "      <td>NaN</td>\n",
       "      <td>NaN</td>\n",
       "      <td>NaN</td>\n",
       "      <td>39.158697</td>\n",
       "      <td>-77.146791</td>\n",
       "      <td>(39.15869731, -77.14679055)</td>\n",
       "    </tr>\n",
       "    <tr>\n",
       "      <th>4</th>\n",
       "      <td>MCP3090003Z</td>\n",
       "      <td>200010527</td>\n",
       "      <td>Montgomery County Police</td>\n",
       "      <td>Property Damage Crash</td>\n",
       "      <td>03/03/2020 09:19:00 AM</td>\n",
       "      <td>No</td>\n",
       "      <td>NaN</td>\n",
       "      <td>NaN</td>\n",
       "      <td>NaN</td>\n",
       "      <td>NaN</td>\n",
       "      <td>...</td>\n",
       "      <td>OTHER</td>\n",
       "      <td>NaN</td>\n",
       "      <td>NaN</td>\n",
       "      <td>NaN</td>\n",
       "      <td>NaN</td>\n",
       "      <td>NaN</td>\n",
       "      <td>NaN</td>\n",
       "      <td>39.129216</td>\n",
       "      <td>-77.167342</td>\n",
       "      <td>(39.1292155, -77.16734233)</td>\n",
       "    </tr>\n",
       "  </tbody>\n",
       "</table>\n",
       "<p>5 rows × 44 columns</p>\n",
       "</div>"
      ],
      "text/plain": [
       "  report_number local_case_number                agency_name  \\\n",
       "0   MCP3048005T         190046316   Montgomery County Police   \n",
       "1    EJ78460055         200017938  Gaithersburg Police Depar   \n",
       "2   MCP3245000H         200036179   Montgomery County Police   \n",
       "3    HA23890011          20002466  Maryland-National Capital   \n",
       "4   MCP3090003Z         200010527   Montgomery County Police   \n",
       "\n",
       "        acrs_report_type         crash_date_time hit_run route_type  \\\n",
       "0  Property Damage Crash  09/27/2019 09:38:00 AM      No        NaN   \n",
       "1  Property Damage Crash  05/02/2020 02:16:00 PM     Yes        NaN   \n",
       "2           Injury Crash  09/15/2020 03:33:00 PM      No        NaN   \n",
       "3  Property Damage Crash  10/14/2020 08:40:00 AM      No        NaN   \n",
       "4  Property Damage Crash  03/03/2020 09:19:00 AM      No        NaN   \n",
       "\n",
       "   mile_point mile_point_direction lane_direction  ...  fixed_object_struck  \\\n",
       "0         NaN                  NaN            NaN  ...             BUILDING   \n",
       "1         NaN                  NaN            NaN  ...                  NaN   \n",
       "2         NaN                  NaN            NaN  ...                  NaN   \n",
       "3         NaN                  NaN            NaN  ...                  NaN   \n",
       "4         NaN                  NaN            NaN  ...                OTHER   \n",
       "\n",
       "  junction  intersection_type intersection_area  road_alignment  \\\n",
       "0      NaN                NaN               NaN             NaN   \n",
       "1      NaN                NaN               NaN             NaN   \n",
       "2      NaN                NaN               NaN             NaN   \n",
       "3      NaN                NaN               NaN             NaN   \n",
       "4      NaN                NaN               NaN             NaN   \n",
       "\n",
       "  road_condition road_division   latitude  longitude  \\\n",
       "0            NaN           NaN  39.026700 -77.136785   \n",
       "1            NaN           NaN  39.147956 -77.229616   \n",
       "2            NaN           NaN  39.188862 -77.202455   \n",
       "3            NaN           NaN  39.158697 -77.146791   \n",
       "4            NaN           NaN  39.129216 -77.167342   \n",
       "\n",
       "                      location  \n",
       "0        (39.0267, -77.136785)  \n",
       "1   (39.14795617, -77.2296164)  \n",
       "2    (39.18886167, -77.202455)  \n",
       "3  (39.15869731, -77.14679055)  \n",
       "4   (39.1292155, -77.16734233)  \n",
       "\n",
       "[5 rows x 44 columns]"
      ]
     },
     "execution_count": 73,
     "metadata": {},
     "output_type": "execute_result"
    }
   ],
   "source": [
    "incidentsdf.info()\n",
    "incidentsdf.head()"
   ]
  },
  {
   "cell_type": "code",
   "execution_count": 74,
   "metadata": {},
   "outputs": [],
   "source": [
    "# I need to drop the first row, which is just a copy of the column headers\n",
    "\n",
    "incidentsdf = incidentsdf.drop(incidentsdf.index[0])"
   ]
  },
  {
   "cell_type": "markdown",
   "metadata": {},
   "source": [
    "#### Convert date-time objects to datetime format"
   ]
  },
  {
   "cell_type": "code",
   "execution_count": 75,
   "metadata": {},
   "outputs": [
    {
     "name": "stdout",
     "output_type": "stream",
     "text": [
      "<class 'pandas.core.frame.DataFrame'>\n",
      "Int64Index: 68766 entries, 1 to 68766\n",
      "Data columns (total 44 columns):\n",
      " #   Column                        Non-Null Count  Dtype         \n",
      "---  ------                        --------------  -----         \n",
      " 0   report_number                 68766 non-null  object        \n",
      " 1   local_case_number             68766 non-null  object        \n",
      " 2   agency_name                   68766 non-null  object        \n",
      " 3   acrs_report_type              68766 non-null  object        \n",
      " 4   crash_date_time               68766 non-null  datetime64[ns]\n",
      " 5   hit_run                       68764 non-null  object        \n",
      " 6   route_type                    59646 non-null  object        \n",
      " 7   mile_point                    60029 non-null  float64       \n",
      " 8   mile_point_direction          59660 non-null  object        \n",
      " 9   lane_direction                60040 non-null  object        \n",
      " 10  lane_number                   68766 non-null  int64         \n",
      " 11  lane_type                     6671 non-null   object        \n",
      " 12  number_of_lanes               68766 non-null  int64         \n",
      " 13  direction                     60029 non-null  object        \n",
      " 14  distance                      61894 non-null  float64       \n",
      " 15  distance_unit                 60039 non-null  object        \n",
      " 16  road_grade                    59563 non-null  object        \n",
      " 17  nontraffic                    68766 non-null  object        \n",
      " 18  road_name                     60039 non-null  object        \n",
      " 19  cross_street_type             59635 non-null  object        \n",
      " 20  cross_street_name             60034 non-null  object        \n",
      " 21  off_road_description          8726 non-null   object        \n",
      " 22  municipality                  7294 non-null   object        \n",
      " 23  related_non_motorist          3754 non-null   object        \n",
      " 24  at_fault                      68766 non-null  object        \n",
      " 25  collision_type                68415 non-null  object        \n",
      " 26  weather                       62979 non-null  object        \n",
      " 27  surface_condition             58299 non-null  object        \n",
      " 28  light                         68196 non-null  object        \n",
      " 29  traffic_control               56433 non-null  object        \n",
      " 30  driver_substance_abuse        57778 non-null  object        \n",
      " 31  non_motorist_substance_abuse  2988 non-null   object        \n",
      " 32  first_harmful_event           68378 non-null  object        \n",
      " 33  second_harmful_event          17193 non-null  object        \n",
      " 34  fixed_object_struck           14383 non-null  object        \n",
      " 35  junction                      50521 non-null  object        \n",
      " 36  intersection_type             33739 non-null  object        \n",
      " 37  intersection_area             19262 non-null  object        \n",
      " 38  road_alignment                59731 non-null  object        \n",
      " 39  road_condition                57462 non-null  object        \n",
      " 40  road_division                 59146 non-null  object        \n",
      " 41  latitude                      68766 non-null  float64       \n",
      " 42  longitude                     68766 non-null  float64       \n",
      " 43  location                      68766 non-null  object        \n",
      "dtypes: datetime64[ns](1), float64(4), int64(2), object(37)\n",
      "memory usage: 23.6+ MB\n"
     ]
    }
   ],
   "source": [
    "incidentsdf['crash_date_time'] = pd.to_datetime(incidentsdf['crash_date_time'])\n",
    "incidentsdf.info()"
   ]
  },
  {
   "cell_type": "markdown",
   "metadata": {},
   "source": [
    "#### Clean up the dataset\n",
    "Check for duplicates and remove as necessary  \n",
    "Check for consistency of entries within columns"
   ]
  },
  {
   "cell_type": "code",
   "execution_count": 76,
   "metadata": {},
   "outputs": [
    {
     "data": {
      "text/plain": [
       "68766"
      ]
     },
     "execution_count": 76,
     "metadata": {},
     "output_type": "execute_result"
    }
   ],
   "source": [
    "incidentrprts = incidentsdf.report_number\n",
    "incidentrprts.nunique()"
   ]
  },
  {
   "cell_type": "markdown",
   "metadata": {},
   "source": [
    "The number of unique reports is 1000, which means we shouldn't have any duplicates.  I'll double-check with the duplicates command."
   ]
  },
  {
   "cell_type": "code",
   "execution_count": 77,
   "metadata": {},
   "outputs": [
    {
     "data": {
      "text/html": [
       "<div>\n",
       "<style scoped>\n",
       "    .dataframe tbody tr th:only-of-type {\n",
       "        vertical-align: middle;\n",
       "    }\n",
       "\n",
       "    .dataframe tbody tr th {\n",
       "        vertical-align: top;\n",
       "    }\n",
       "\n",
       "    .dataframe thead th {\n",
       "        text-align: right;\n",
       "    }\n",
       "</style>\n",
       "<table border=\"1\" class=\"dataframe\">\n",
       "  <thead>\n",
       "    <tr style=\"text-align: right;\">\n",
       "      <th></th>\n",
       "      <th>report_number</th>\n",
       "      <th>local_case_number</th>\n",
       "      <th>agency_name</th>\n",
       "      <th>acrs_report_type</th>\n",
       "      <th>crash_date_time</th>\n",
       "      <th>hit_run</th>\n",
       "      <th>route_type</th>\n",
       "      <th>mile_point</th>\n",
       "      <th>mile_point_direction</th>\n",
       "      <th>lane_direction</th>\n",
       "      <th>...</th>\n",
       "      <th>fixed_object_struck</th>\n",
       "      <th>junction</th>\n",
       "      <th>intersection_type</th>\n",
       "      <th>intersection_area</th>\n",
       "      <th>road_alignment</th>\n",
       "      <th>road_condition</th>\n",
       "      <th>road_division</th>\n",
       "      <th>latitude</th>\n",
       "      <th>longitude</th>\n",
       "      <th>location</th>\n",
       "    </tr>\n",
       "  </thead>\n",
       "  <tbody>\n",
       "  </tbody>\n",
       "</table>\n",
       "<p>0 rows × 44 columns</p>\n",
       "</div>"
      ],
      "text/plain": [
       "Empty DataFrame\n",
       "Columns: [report_number, local_case_number, agency_name, acrs_report_type, crash_date_time, hit_run, route_type, mile_point, mile_point_direction, lane_direction, lane_number, lane_type, number_of_lanes, direction, distance, distance_unit, road_grade, nontraffic, road_name, cross_street_type, cross_street_name, off_road_description, municipality, related_non_motorist, at_fault, collision_type, weather, surface_condition, light, traffic_control, driver_substance_abuse, non_motorist_substance_abuse, first_harmful_event, second_harmful_event, fixed_object_struck, junction, intersection_type, intersection_area, road_alignment, road_condition, road_division, latitude, longitude, location]\n",
       "Index: []\n",
       "\n",
       "[0 rows x 44 columns]"
      ]
     },
     "execution_count": 77,
     "metadata": {},
     "output_type": "execute_result"
    }
   ],
   "source": [
    "duplicateRowsincidentsDF = incidentsdf[incidentsdf.duplicated('report_number')]\n",
    "duplicateRowsincidentsDF"
   ]
  },
  {
   "cell_type": "markdown",
   "metadata": {},
   "source": [
    "I'll now check the entries in each column, to see if the entries need to be cleaned."
   ]
  },
  {
   "cell_type": "code",
   "execution_count": 78,
   "metadata": {},
   "outputs": [
    {
     "data": {
      "text/plain": [
       "array(['Gaithersburg Police Depar', 'Montgomery County Police',\n",
       "       'Maryland-National Capital', 'Takoma Park Police Depart',\n",
       "       'Rockville Police Departme', 'MONTGOMERY', 'GAITHERSBURG',\n",
       "       'ROCKVILLE', 'TAKOMA', 'MCPARK'], dtype=object)"
      ]
     },
     "execution_count": 78,
     "metadata": {},
     "output_type": "execute_result"
    }
   ],
   "source": [
    "agency_name = incidentsdf.agency_name\n",
    "agency_uniques = agency_name.unique()\n",
    "agency_uniques"
   ]
  },
  {
   "cell_type": "code",
   "execution_count": 79,
   "metadata": {},
   "outputs": [
    {
     "data": {
      "text/plain": [
       "array(['Gaithersburg Police', 'Montgomery County Police',\n",
       "       'Maryland-National Capital Police', 'Takoma Park Police',\n",
       "       'Rockville Police', 'MONTGOMERY', 'GAITHERSBURG', 'ROCKVILLE',\n",
       "       'TAKOMA', 'MCPARK'], dtype=object)"
      ]
     },
     "execution_count": 79,
     "metadata": {},
     "output_type": "execute_result"
    }
   ],
   "source": [
    "# Using replace by dictionary to correct the names\n",
    "\n",
    "incidentsdf['agency_name'] = incidentsdf['agency_name'].replace({'Rockville Police Departme':'Rockville Police', 'Maryland-National Capital':'Maryland-National Capital Police', \n",
    "                                                     'Gaithersburg Police Depar':'Gaithersburg Police', 'Takoma Park Police Depart': 'Takoma Park Police'})\n",
    "agency_uniques = agency_name.unique()\n",
    "agency_uniques"
   ]
  },
  {
   "cell_type": "code",
   "execution_count": 80,
   "metadata": {},
   "outputs": [
    {
     "data": {
      "text/plain": [
       "array(['Property Damage Crash', 'Injury Crash', 'Fatal Crash'],\n",
       "      dtype=object)"
      ]
     },
     "execution_count": 80,
     "metadata": {},
     "output_type": "execute_result"
    }
   ],
   "source": [
    "acrs_report_type = incidentsdf.acrs_report_type\n",
    "acrs_uniques = acrs_report_type.unique()\n",
    "acrs_uniques"
   ]
  },
  {
   "cell_type": "code",
   "execution_count": 81,
   "metadata": {},
   "outputs": [
    {
     "data": {
      "text/plain": [
       "array(['Yes', 'No', nan], dtype=object)"
      ]
     },
     "execution_count": 81,
     "metadata": {},
     "output_type": "execute_result"
    }
   ],
   "source": [
    "hit_run = incidentsdf.hit_run\n",
    "hit_run_uniques = hit_run.unique()\n",
    "hit_run_uniques"
   ]
  },
  {
   "cell_type": "code",
   "execution_count": 82,
   "metadata": {},
   "outputs": [
    {
     "data": {
      "text/plain": [
       "array([nan, 'County', 'Maryland (State)', 'US (State)', 'Municipality',\n",
       "       'Ramp', 'Government', 'Other Public Roadway', 'Interstate (State)',\n",
       "       'Service Road', 'Unknown'], dtype=object)"
      ]
     },
     "execution_count": 82,
     "metadata": {},
     "output_type": "execute_result"
    }
   ],
   "source": [
    "route_type = incidentsdf.route_type\n",
    "route_uniques = route_type.unique()\n",
    "route_uniques"
   ]
  },
  {
   "cell_type": "code",
   "execution_count": 83,
   "metadata": {},
   "outputs": [
    {
     "data": {
      "text/plain": [
       "array(['UNKNOWN', 'County', 'Maryland (State)', 'US (State)',\n",
       "       'Municipality', 'Ramp', 'Government', 'Other Public Roadway',\n",
       "       'Interstate (State)', 'Service Road', 'Unknown'], dtype=object)"
      ]
     },
     "execution_count": 83,
     "metadata": {},
     "output_type": "execute_result"
    }
   ],
   "source": [
    "# Fill na's with \"UNKNOWN\"\n",
    "incidentsdf['route_type'] = incidentsdf['route_type'].fillna(\"UNKNOWN\")\n",
    "route_type = incidentsdf.route_type\n",
    "route_uniques = route_type.unique()\n",
    "route_uniques"
   ]
  },
  {
   "cell_type": "code",
   "execution_count": 84,
   "metadata": {},
   "outputs": [
    {
     "data": {
      "text/plain": [
       "array([   nan,  0.   ,  0.209, ..., 16.13 , 21.79 ,  3.735])"
      ]
     },
     "execution_count": 84,
     "metadata": {},
     "output_type": "execute_result"
    }
   ],
   "source": [
    "# The numbers won't mean much, but I want to see if there are different ways of representing NA's or unknowns.\n",
    "mile_point = incidentsdf.mile_point\n",
    "mile_point_uniques = mile_point.unique()\n",
    "mile_point_uniques"
   ]
  },
  {
   "cell_type": "code",
   "execution_count": 85,
   "metadata": {},
   "outputs": [
    {
     "data": {
      "text/plain": [
       "array(['UNKNOWN', 0.0, 0.209, ..., 16.13, 21.79, 3.735], dtype=object)"
      ]
     },
     "execution_count": 85,
     "metadata": {},
     "output_type": "execute_result"
    }
   ],
   "source": [
    "incidentsdf['mile_point']=incidentsdf['mile_point'].fillna(\"UNKNOWN\")\n",
    "mile_point = incidentsdf.mile_point\n",
    "mile_point_uniques = mile_point.unique()\n",
    "mile_point_uniques"
   ]
  },
  {
   "cell_type": "code",
   "execution_count": 86,
   "metadata": {},
   "outputs": [
    {
     "data": {
      "text/plain": [
       "array([nan, 'East', 'West', 'North', 'South', 'Unknown'], dtype=object)"
      ]
     },
     "execution_count": 86,
     "metadata": {},
     "output_type": "execute_result"
    }
   ],
   "source": [
    "mile_point_direction = incidentsdf.mile_point_direction\n",
    "mpdirection_uniques = mile_point_direction.unique()\n",
    "mpdirection_uniques"
   ]
  },
  {
   "cell_type": "code",
   "execution_count": 87,
   "metadata": {},
   "outputs": [
    {
     "data": {
      "text/plain": [
       "array(['Unknown', 'East', 'West', 'North', 'South'], dtype=object)"
      ]
     },
     "execution_count": 87,
     "metadata": {},
     "output_type": "execute_result"
    }
   ],
   "source": [
    "incidentsdf['mile_point_direction'] = incidentsdf['mile_point_direction'].fillna(\"Unknown\")\n",
    "mile_point_direction = incidentsdf.mile_point_direction\n",
    "mpdirection_uniques = mile_point_direction.unique()\n",
    "mpdirection_uniques"
   ]
  },
  {
   "cell_type": "code",
   "execution_count": 88,
   "metadata": {},
   "outputs": [
    {
     "data": {
      "text/plain": [
       "array([nan, 'West', 'South', 'North', 'East', 'Unknown'], dtype=object)"
      ]
     },
     "execution_count": 88,
     "metadata": {},
     "output_type": "execute_result"
    }
   ],
   "source": [
    "lane_direction = incidentsdf.lane_direction\n",
    "lane_direction_uniques = lane_direction.unique()\n",
    "lane_direction_uniques"
   ]
  },
  {
   "cell_type": "code",
   "execution_count": 89,
   "metadata": {},
   "outputs": [
    {
     "data": {
      "text/plain": [
       "array(['Unknown', 'West', 'South', 'North', 'East'], dtype=object)"
      ]
     },
     "execution_count": 89,
     "metadata": {},
     "output_type": "execute_result"
    }
   ],
   "source": [
    "incidentsdf['lane_direction'] = incidentsdf['lane_direction'].fillna('Unknown')\n",
    "lane_direction = incidentsdf.lane_direction\n",
    "lane_direction_uniques = lane_direction.unique()\n",
    "lane_direction_uniques"
   ]
  },
  {
   "cell_type": "code",
   "execution_count": 90,
   "metadata": {},
   "outputs": [
    {
     "data": {
      "text/plain": [
       "array([0, 1, 2, 3, 4, 5, 6, 7, 8])"
      ]
     },
     "execution_count": 90,
     "metadata": {},
     "output_type": "execute_result"
    }
   ],
   "source": [
    "lane_number = incidentsdf.lane_number\n",
    "lane_number_uniques = lane_number.unique()\n",
    "lane_number_uniques"
   ]
  },
  {
   "cell_type": "code",
   "execution_count": 91,
   "metadata": {},
   "outputs": [
    {
     "data": {
      "text/plain": [
       "array([ 0,  2,  3,  1,  4,  6,  8,  5,  7,  9, 11, 10, 12, 13, 99])"
      ]
     },
     "execution_count": 91,
     "metadata": {},
     "output_type": "execute_result"
    }
   ],
   "source": [
    "number_of_lanes = incidentsdf.number_of_lanes\n",
    "number_of_lanes_uniques = number_of_lanes.unique()\n",
    "number_of_lanes_uniques"
   ]
  },
  {
   "cell_type": "code",
   "execution_count": 92,
   "metadata": {},
   "outputs": [
    {
     "data": {
      "text/plain": [
       "array([nan, 'West', 'East', 'North', 'South', 'Unknown'], dtype=object)"
      ]
     },
     "execution_count": 92,
     "metadata": {},
     "output_type": "execute_result"
    }
   ],
   "source": [
    "direction = incidentsdf.direction\n",
    "direction_uniques = direction.unique()\n",
    "direction_uniques"
   ]
  },
  {
   "cell_type": "code",
   "execution_count": 93,
   "metadata": {},
   "outputs": [
    {
     "data": {
      "text/plain": [
       "array(['Unknown', 'West', 'East', 'North', 'South'], dtype=object)"
      ]
     },
     "execution_count": 93,
     "metadata": {},
     "output_type": "execute_result"
    }
   ],
   "source": [
    "incidentsdf['direction'] = incidentsdf['direction'].fillna(\"Unknown\")\n",
    "direction = incidentsdf.direction\n",
    "direction_uniques = direction.unique()\n",
    "direction_uniques"
   ]
  },
  {
   "cell_type": "code",
   "execution_count": 94,
   "metadata": {},
   "outputs": [
    {
     "data": {
      "text/plain": [
       "array([       nan, 3.0000e+02, 2.0000e-01, 0.0000e+00, 4.0000e-02,\n",
       "       7.0000e+01, 5.0000e+02, 2.5000e-01, 9.0000e+02, 5.0000e+00,\n",
       "       1.0000e+02, 2.0000e+02, 1.0000e-01, 7.0000e+02, 5.0000e+01,\n",
       "       1.5000e+02, 1.5000e+01, 4.0000e+02, 2.0000e+01, 5.0000e-01,\n",
       "       5.5200e+02, 1.0000e+01, 8.0000e+01, 1.6000e+02, 4.5000e+01,\n",
       "       2.5000e+01, 2.5000e+02, 9.2700e+02, 4.7500e+02, 1.0000e+00,\n",
       "       3.0000e-01, 3.0000e+01, 7.5000e+01, 3.5000e+02, 6.0000e+02,\n",
       "       4.0000e+01, 5.0000e-02, 6.0000e+01, 8.0000e+02, 6.0000e+00,\n",
       "       2.1000e+01, 6.5000e+01, 3.0000e+00, 6.4000e+02, 2.0000e+00,\n",
       "       4.0000e-01, 8.6700e+02, 5.8100e+02, 7.0000e+00, 1.7000e+02,\n",
       "       1.5000e-01, 7.5000e-01, 6.5000e+02, 1.2000e+02, 2.2500e+02,\n",
       "       8.9000e+02, 9.9900e+02, 7.5000e+02, 4.0000e+00, 9.9000e+01,\n",
       "       1.2500e+02, 6.2500e+02, 4.2500e+02, 1.8000e+02, 3.5000e+01,\n",
       "       4.3500e+02, 1.6600e+02, 3.6100e+02, 1.0000e-02, 9.0000e-01,\n",
       "       4.8000e+02, 1.1000e-01, 9.0000e+01, 2.3000e-01, 1.7600e+02,\n",
       "       2.8900e+02, 8.2000e+02, 6.0000e-01, 9.5000e+02, 4.5000e+02,\n",
       "       2.0000e-02, 1.1286e+02, 2.9300e+02, 2.0800e+02, 1.7300e+02,\n",
       "       1.4000e-01, 2.3000e+02, 3.3000e+02, 2.2100e+02, 2.9000e-01,\n",
       "       1.4200e+02, 5.1000e+02, 5.4100e+02, 2.6700e+02, 4.3300e+02,\n",
       "       2.5800e+02, 2.4000e+01, 1.5000e+00, 1.2000e+01, 5.6700e+02,\n",
       "       1.4000e+00, 3.4400e+02, 2.0900e+02, 5.2700e+02, 2.4000e+02,\n",
       "       1.7500e+02, 1.1500e+02, 3.8000e+02, 3.0300e+02, 2.3500e+02,\n",
       "       5.0100e+02, 1.2700e+00, 2.7900e+02, 3.2400e+02, 2.9000e+02,\n",
       "       1.2700e+02, 3.2500e+02, 3.3000e-01, 2.7500e+02, 2.4200e+02,\n",
       "       2.2000e+02, 1.6100e+02, 4.6000e+02, 1.2000e+00, 2.8000e+02,\n",
       "       5.1490e+01, 2.3600e+02, 1.9500e+02, 1.2100e+02, 5.2000e+02,\n",
       "       4.2100e+02, 3.2800e+02, 4.3700e+02, 2.2000e-01, 3.7100e+02,\n",
       "       8.8000e-01, 3.7400e+02, 3.6800e+02, 5.0241e+02, 5.5000e+01,\n",
       "       1.3000e+00, 8.5000e+02, 1.6828e+02, 3.0000e-02, 3.9000e-01,\n",
       "       1.8000e-01, 5.5000e+02, 2.8800e+02, 1.1000e+00, 3.8000e-01,\n",
       "       4.3000e-01, 9.9000e+02, 1.3200e+02, 7.0000e-01, 5.3000e+02,\n",
       "       7.4000e+02, 1.4500e+02, 2.0200e+02, 2.4800e+02, 1.1200e+02,\n",
       "       3.6000e+02, 1.0500e+02, 6.6100e+02, 1.6500e+02, 1.4225e+02,\n",
       "       3.0700e+02, 9.2000e+01, 1.8000e+01, 4.6500e+02, 4.1100e+02,\n",
       "       2.8400e+02, 5.8000e-01, 3.4700e+02, 9.8200e+02, 5.8000e+02,\n",
       "       3.4300e+02, 1.9000e-01, 8.0000e-01, 8.0000e-02, 9.9700e+02,\n",
       "       1.3000e+02, 1.6800e+02, 1.4000e+01, 3.4000e+02, 5.4700e+02,\n",
       "       3.7000e+02, 6.3000e+01, 2.6600e+02, 8.0000e+00, 8.2000e+01,\n",
       "       1.7200e+02, 7.8500e+02, 1.1100e+02, 2.1300e+02, 2.4600e+02,\n",
       "       6.7500e+02, 8.2900e+02, 3.7500e+02, 6.4500e+02, 2.5200e+02,\n",
       "       4.2000e+02, 4.3000e+02, 1.2400e+02, 1.6000e+01, 3.1000e+02,\n",
       "       6.1000e-01, 9.6000e+02, 7.6000e-01, 2.1000e+02, 3.7000e-01,\n",
       "       2.1000e-01, 8.5000e+01, 4.7700e+02, 3.5000e-01, 5.9000e+01,\n",
       "       4.1300e+02, 5.2800e+02, 9.2000e+02, 7.2000e+01, 6.9200e+02,\n",
       "       1.8800e+02, 8.7500e+02, 1.4000e+02, 1.8500e+02, 3.5600e+02,\n",
       "       3.1700e+02, 6.0000e-02, 6.1000e+02, 4.7000e+02, 2.7000e+02,\n",
       "       7.4000e+01, 3.9000e+02, 2.4300e+02, 2.8000e+01, 9.3000e+01,\n",
       "       1.4400e+02, 3.3300e+02, 9.8500e+02, 4.4500e+02, 3.0900e+02,\n",
       "       4.8800e+02, 5.2500e+02, 1.8600e+02, 1.3300e+02, 8.7800e+02,\n",
       "       2.4000e-01, 2.6000e+02, 4.0100e+02, 4.2800e+02, 1.7000e+01,\n",
       "       1.8200e+02, 3.6900e+02, 4.4800e+02, 2.8500e+02, 3.2000e+02,\n",
       "       9.8600e+02, 1.5500e+02, 2.6000e-01, 5.8600e+02, 2.8000e-01,\n",
       "       3.5000e+00, 7.3000e+02, 7.4000e-01, 3.6000e+01, 2.6500e+02,\n",
       "       1.9000e+02, 5.9500e+02, 3.8200e+02, 5.4500e+02, 5.5000e-01,\n",
       "       1.3500e+02, 1.5060e+01, 2.9500e+02, 9.0300e+02, 1.9000e+01,\n",
       "       7.4400e+02, 2.2300e+02, 9.0500e+02, 1.8100e+02, 7.9800e+02,\n",
       "       6.5000e-01, 1.3000e+01, 9.4000e+02, 3.6200e+02, 1.0800e+00,\n",
       "       7.7000e+01, 7.2000e+02, 1.9400e+02, 1.1000e+02, 3.3400e+02,\n",
       "       3.1600e+02, 5.7500e+02, 3.6800e+00, 2.7500e+00, 4.8000e-01,\n",
       "       1.3000e-01, 3.0200e+02, 3.8300e+02, 2.1400e+02, 7.1300e+02,\n",
       "       5.6200e+02, 9.5000e-01, 1.9300e+02, 9.7500e+02, 5.4000e+02,\n",
       "       4.9900e+02, 1.3920e+01, 1.5100e+02, 9.5000e+01, 1.0000e+03,\n",
       "       3.5500e+02, 3.3800e+02, 5.0400e+02, 2.2000e+01, 7.0000e-02,\n",
       "       5.3600e+02, 5.1500e+02, 1.7400e+02, 3.8800e+02, 2.3000e+01,\n",
       "       7.2500e+02, 4.1000e+02, 6.3500e+02, 4.1000e-01, 5.6500e+02,\n",
       "       4.0900e+02, 3.0700e+00, 2.7000e+01, 1.9700e+02, 3.1500e+02,\n",
       "       6.2100e+02, 3.3500e+02, 3.3900e+02, 4.2600e+02, 7.4100e+02,\n",
       "       6.1500e+02, 2.8300e+02, 7.3000e-01, 5.0800e+02, 4.0800e+02,\n",
       "       7.3300e+02, 9.5500e+02, 9.0000e+00, 3.6500e+02, 4.4000e+01,\n",
       "       9.8800e+02, 2.7400e+02, 1.2000e-01, 6.6900e+02, 1.8000e+00,\n",
       "       4.3800e+02, 1.1000e+01, 2.0500e+02, 2.5900e+02, 3.0500e+02,\n",
       "       6.8700e+02, 8.6000e+01, 9.2300e+02, 3.8700e+02, 3.2300e+02,\n",
       "       9.5200e+02, 1.6700e+02, 3.2200e+02, 1.8900e+02, 3.5800e+02])"
      ]
     },
     "execution_count": 94,
     "metadata": {},
     "output_type": "execute_result"
    }
   ],
   "source": [
    "distance = incidentsdf.distance\n",
    "distance_uniques = distance.unique()\n",
    "distance_uniques"
   ]
  },
  {
   "cell_type": "code",
   "execution_count": 95,
   "metadata": {},
   "outputs": [
    {
     "data": {
      "text/plain": [
       "array(['Unknown', 300.0, 0.2, 0.0, 0.04, 70.0, 500.0, 0.25, 900.0, 5.0,\n",
       "       100.0, 200.0, 0.1, 700.0, 50.0, 150.0, 15.0, 400.0, 20.0, 0.5,\n",
       "       552.0, 10.0, 80.0, 160.0, 45.0, 25.0, 250.0, 927.0, 475.0, 1.0,\n",
       "       0.3, 30.0, 75.0, 350.0, 600.0, 40.0, 0.05, 60.0, 800.0, 6.0, 21.0,\n",
       "       65.0, 3.0, 640.0, 2.0, 0.4, 867.0, 581.0, 7.0, 170.0, 0.15, 0.75,\n",
       "       650.0, 120.0, 225.0, 890.0, 999.0, 750.0, 4.0, 99.0, 125.0, 625.0,\n",
       "       425.0, 180.0, 35.0, 435.0, 166.0, 361.0, 0.01, 0.9, 480.0, 0.11,\n",
       "       90.0, 0.23, 176.0, 289.0, 820.0, 0.6, 950.0, 450.0, 0.02, 112.86,\n",
       "       293.0, 208.0, 173.0, 0.14, 230.0, 330.0, 221.0, 0.29, 142.0, 510.0,\n",
       "       541.0, 267.0, 433.0, 258.0, 24.0, 1.5, 12.0, 567.0, 1.4, 344.0,\n",
       "       209.0, 527.0, 240.0, 175.0, 115.0, 380.0, 303.0, 235.0, 501.0,\n",
       "       1.27, 279.0, 324.0, 290.0, 127.0, 325.0, 0.33, 275.0, 242.0, 220.0,\n",
       "       161.0, 460.0, 1.2, 280.0, 51.49, 236.0, 195.0, 121.0, 520.0, 421.0,\n",
       "       328.0, 437.0, 0.22, 371.0, 0.88, 374.0, 368.0, 502.41, 55.0, 1.3,\n",
       "       850.0, 168.28, 0.03, 0.39, 0.18, 550.0, 288.0, 1.1, 0.38, 0.43,\n",
       "       990.0, 132.0, 0.7, 530.0, 740.0, 145.0, 202.0, 248.0, 112.0, 360.0,\n",
       "       105.0, 661.0, 165.0, 142.25, 307.0, 92.0, 18.0, 465.0, 411.0,\n",
       "       284.0, 0.58, 347.0, 982.0, 580.0, 343.0, 0.19, 0.8, 0.08, 997.0,\n",
       "       130.0, 168.0, 14.0, 340.0, 547.0, 370.0, 63.0, 266.0, 8.0, 82.0,\n",
       "       172.0, 785.0, 111.0, 213.0, 246.0, 675.0, 829.0, 375.0, 645.0,\n",
       "       252.0, 420.0, 430.0, 124.0, 16.0, 310.0, 0.61, 960.0, 0.76, 210.0,\n",
       "       0.37, 0.21, 85.0, 477.0, 0.35, 59.0, 413.0, 528.0, 920.0, 72.0,\n",
       "       692.0, 188.0, 875.0, 140.0, 185.0, 356.0, 317.0, 0.06, 610.0,\n",
       "       470.0, 270.0, 74.0, 390.0, 243.0, 28.0, 93.0, 144.0, 333.0, 985.0,\n",
       "       445.0, 309.0, 488.0, 525.0, 186.0, 133.0, 878.0, 0.24, 260.0,\n",
       "       401.0, 428.0, 17.0, 182.0, 369.0, 448.0, 285.0, 320.0, 986.0,\n",
       "       155.0, 0.26, 586.0, 0.28, 3.5, 730.0, 0.74, 36.0, 265.0, 190.0,\n",
       "       595.0, 382.0, 545.0, 0.55, 135.0, 15.06, 295.0, 903.0, 19.0, 744.0,\n",
       "       223.0, 905.0, 181.0, 798.0, 0.65, 13.0, 940.0, 362.0, 1.08, 77.0,\n",
       "       720.0, 194.0, 110.0, 334.0, 316.0, 575.0, 3.68, 2.75, 0.48, 0.13,\n",
       "       302.0, 383.0, 214.0, 713.0, 562.0, 0.95, 193.0, 975.0, 540.0,\n",
       "       499.0, 13.92, 151.0, 95.0, 1000.0, 355.0, 338.0, 504.0, 22.0, 0.07,\n",
       "       536.0, 515.0, 174.0, 388.0, 23.0, 725.0, 410.0, 635.0, 0.41, 565.0,\n",
       "       409.0, 3.07, 27.0, 197.0, 315.0, 621.0, 335.0, 339.0, 426.0, 741.0,\n",
       "       615.0, 283.0, 0.73, 508.0, 408.0, 733.0, 955.0, 9.0, 365.0, 44.0,\n",
       "       988.0, 274.0, 0.12, 669.0, 1.8, 438.0, 11.0, 205.0, 259.0, 305.0,\n",
       "       687.0, 86.0, 923.0, 387.0, 323.0, 952.0, 167.0, 322.0, 189.0,\n",
       "       358.0], dtype=object)"
      ]
     },
     "execution_count": 95,
     "metadata": {},
     "output_type": "execute_result"
    }
   ],
   "source": [
    "incidentsdf['distance'] = incidentsdf['distance'].fillna(\"Unknown\")\n",
    "distance = incidentsdf.distance\n",
    "distance_uniques = distance.unique()\n",
    "distance_uniques"
   ]
  },
  {
   "cell_type": "code",
   "execution_count": 96,
   "metadata": {},
   "outputs": [
    {
     "data": {
      "text/plain": [
       "array([nan, 'FEET', 'MILE', 'UNKNOWN'], dtype=object)"
      ]
     },
     "execution_count": 96,
     "metadata": {},
     "output_type": "execute_result"
    }
   ],
   "source": [
    "distance_unit = incidentsdf.distance_unit\n",
    "distance_unit_uniques = distance_unit.unique()\n",
    "distance_unit_uniques"
   ]
  },
  {
   "cell_type": "code",
   "execution_count": 97,
   "metadata": {},
   "outputs": [
    {
     "data": {
      "text/plain": [
       "array(['UNKNOWN', 'FEET', 'MILE'], dtype=object)"
      ]
     },
     "execution_count": 97,
     "metadata": {},
     "output_type": "execute_result"
    }
   ],
   "source": [
    "incidentsdf['distance_unit'] = incidentsdf['distance_unit'].fillna(\"UNKNOWN\")\n",
    "distance_unit = incidentsdf.distance_unit\n",
    "distance_unit_uniques = distance_unit.unique()\n",
    "distance_unit_uniques"
   ]
  },
  {
   "cell_type": "code",
   "execution_count": 98,
   "metadata": {},
   "outputs": [
    {
     "data": {
      "text/plain": [
       "array([nan, 'LEVEL', 'GRADE DOWNHILL', 'HILL UPHILL', 'HILL CREST',\n",
       "       'DIP SAG', 'OTHER', 'ON BRIDGE', 'UNKNOWN'], dtype=object)"
      ]
     },
     "execution_count": 98,
     "metadata": {},
     "output_type": "execute_result"
    }
   ],
   "source": [
    "road_grade = incidentsdf.road_grade\n",
    "road_grade_uniques = road_grade.unique()\n",
    "road_grade_uniques"
   ]
  },
  {
   "cell_type": "code",
   "execution_count": 99,
   "metadata": {},
   "outputs": [
    {
     "data": {
      "text/plain": [
       "array(['UNKNOWN', 'LEVEL', 'GRADE DOWNHILL', 'HILL UPHILL', 'HILL CREST',\n",
       "       'DIP SAG', 'OTHER', 'ON BRIDGE'], dtype=object)"
      ]
     },
     "execution_count": 99,
     "metadata": {},
     "output_type": "execute_result"
    }
   ],
   "source": [
    "incidentsdf['road_grade'] = incidentsdf['road_grade'].fillna(\"UNKNOWN\")\n",
    "incidentsdf['road_grade'] = incidentsdf['road_grade'].replace({'N/A': \"UNKNOWN\"})\n",
    "road_grade = incidentsdf.road_grade\n",
    "road_grade_uniques = road_grade.unique()\n",
    "road_grade_uniques"
   ]
  },
  {
   "cell_type": "code",
   "execution_count": 100,
   "metadata": {},
   "outputs": [
    {
     "data": {
      "text/plain": [
       "array(['Yes', 'No'], dtype=object)"
      ]
     },
     "execution_count": 100,
     "metadata": {},
     "output_type": "execute_result"
    }
   ],
   "source": [
    "nontraffic = incidentsdf.nontraffic\n",
    "nontraffic_uniques = nontraffic.unique()\n",
    "nontraffic_uniques"
   ]
  },
  {
   "cell_type": "code",
   "execution_count": 101,
   "metadata": {},
   "outputs": [
    {
     "data": {
      "text/plain": [
       "array([nan, 'County', 'Ramp', 'Maryland (State)', 'Municipality',\n",
       "       'Unknown', 'Interstate (State)', 'Other Public Roadway',\n",
       "       'US (State)', 'Service Road', 'Government'], dtype=object)"
      ]
     },
     "execution_count": 101,
     "metadata": {},
     "output_type": "execute_result"
    }
   ],
   "source": [
    "cross_street_type = incidentsdf.cross_street_type\n",
    "cross_street_uniques = cross_street_type.unique()\n",
    "cross_street_uniques"
   ]
  },
  {
   "cell_type": "code",
   "execution_count": 102,
   "metadata": {},
   "outputs": [
    {
     "data": {
      "text/plain": [
       "array(['County', 'Municipality', 'Unknown', 'Other Public Roadway',\n",
       "       'Maryland (State)', 'Ramp', 'Government', 'Interstate (State)',\n",
       "       'US (State)', 'Service Road'], dtype=object)"
      ]
     },
     "execution_count": 102,
     "metadata": {},
     "output_type": "execute_result"
    }
   ],
   "source": [
    "incidentsdf['cross_street_type'] = incidentsdf['cross_street_type'].fillna(\"Unknown\")\n",
    "cross_street_type = driverdf.cross_street_type\n",
    "cross_street_uniques = cross_street_type.unique()\n",
    "cross_street_uniques"
   ]
  },
  {
   "cell_type": "code",
   "execution_count": 103,
   "metadata": {},
   "outputs": [
    {
     "data": {
      "text/plain": [
       "array([nan, 'GAITHERSBURG', 'ROCKVILLE', 'TAKOMA PARK', 'KENSINGTON',\n",
       "       'CHEVY CHASE VIEW', 'CHEVY CHASE #3', 'CHEVY CHASE #4',\n",
       "       'FRIENDSHIP HEIGHTS', 'POOLESVILLE', 'MATINS ADDITION',\n",
       "       'CHEVY CHASE #5', 'LAYTONSVILLE', 'CHEVY CHASE VILLAGE',\n",
       "       'GARRETT PARK', 'WASHINGTON GROVE', 'SOMERSET', 'DRUMMOND',\n",
       "       'BROOKEVILLE', 'NORTH CHEVY CHASE', 'GLEN ECHO'], dtype=object)"
      ]
     },
     "execution_count": 103,
     "metadata": {},
     "output_type": "execute_result"
    }
   ],
   "source": [
    "municipality = incidentsdf.municipality\n",
    "municipality_uniques = municipality.unique()\n",
    "municipality_uniques"
   ]
  },
  {
   "cell_type": "code",
   "execution_count": 104,
   "metadata": {},
   "outputs": [
    {
     "data": {
      "text/plain": [
       "array(['N/A', 'GAITHERSBURG', 'ROCKVILLE', 'TAKOMA PARK', 'KENSINGTON',\n",
       "       'CHEVY CHASE VIEW', 'CHEVY CHASE #3', 'CHEVY CHASE #4',\n",
       "       'FRIENDSHIP HEIGHTS', 'POOLESVILLE', 'MATINS ADDITION',\n",
       "       'CHEVY CHASE #5', 'LAYTONSVILLE', 'CHEVY CHASE VILLAGE',\n",
       "       'GARRETT PARK', 'WASHINGTON GROVE', 'SOMERSET', 'DRUMMOND',\n",
       "       'BROOKEVILLE', 'NORTH CHEVY CHASE', 'GLEN ECHO'], dtype=object)"
      ]
     },
     "execution_count": 104,
     "metadata": {},
     "output_type": "execute_result"
    }
   ],
   "source": [
    "incidentsdf['municipality'] = incidentsdf['municipality'].fillna('N/A')\n",
    "municipality = incidentsdf.municipality\n",
    "municipality_uniques = municipality.unique()\n",
    "municipality_uniques"
   ]
  },
  {
   "cell_type": "code",
   "execution_count": 105,
   "metadata": {},
   "outputs": [
    {
     "data": {
      "text/plain": [
       "array(['DRIVER', 'UNKNOWN', 'NONMOTORIST', 'BOTH'], dtype=object)"
      ]
     },
     "execution_count": 105,
     "metadata": {},
     "output_type": "execute_result"
    }
   ],
   "source": [
    "at_fault = incidentsdf.at_fault\n",
    "at_fault_uniques = at_fault.unique()\n",
    "at_fault_uniques"
   ]
  },
  {
   "cell_type": "code",
   "execution_count": 106,
   "metadata": {},
   "outputs": [
    {
     "data": {
      "text/plain": [
       "array(['STRAIGHT MOVEMENT ANGLE', nan, 'SINGLE VEHICLE', 'OTHER',\n",
       "       'SAME DIR REAR END', 'HEAD ON', 'ANGLE MEETS LEFT TURN',\n",
       "       'OPPOSITE DIRECTION SIDESWIPE', 'SAME DIRECTION SIDESWIPE',\n",
       "       'HEAD ON LEFT TURN', 'SAME DIRECTION RIGHT TURN',\n",
       "       'SAME DIRECTION LEFT TURN', 'UNKNOWN', 'ANGLE MEETS RIGHT TURN',\n",
       "       'SAME DIR REND LEFT TURN', 'ANGLE MEETS LEFT HEAD ON',\n",
       "       'SAME DIR REND RIGHT TURN', 'OPPOSITE DIR BOTH LEFT TURN',\n",
       "       'SAME DIR BOTH LEFT TURN'], dtype=object)"
      ]
     },
     "execution_count": 106,
     "metadata": {},
     "output_type": "execute_result"
    }
   ],
   "source": [
    "collision_type = incidentsdf.collision_type\n",
    "collision_type_uniques = collision_type.unique()\n",
    "collision_type_uniques"
   ]
  },
  {
   "cell_type": "code",
   "execution_count": 107,
   "metadata": {},
   "outputs": [
    {
     "data": {
      "text/plain": [
       "array(['STRAIGHT MOVEMENT ANGLE', nan, 'SINGLE VEHICLE', 'OTHER',\n",
       "       'SAME DIR REAR END', 'HEAD ON', 'ANGLE MEETS LEFT TURN',\n",
       "       'OPPOSITE DIRECTION SIDESWIPE', 'SAME DIRECTION SIDESWIPE',\n",
       "       'HEAD ON LEFT TURN', 'SAME DIRECTION RIGHT TURN',\n",
       "       'SAME DIRECTION LEFT TURN', 'UNKNOWN', 'ANGLE MEETS RIGHT TURN',\n",
       "       'SAME DIR REND LEFT TURN', 'ANGLE MEETS LEFT HEAD ON',\n",
       "       'SAME DIR REND RIGHT TURN', 'OPPOSITE DIR BOTH LEFT TURN',\n",
       "       'SAME DIR BOTH LEFT TURN'], dtype=object)"
      ]
     },
     "execution_count": 107,
     "metadata": {},
     "output_type": "execute_result"
    }
   ],
   "source": [
    "# replace 'N/A' with UNKNOWN\n",
    "incidentsdf['collision_type'] = incidentsdf['collision_type'].replace({'N/A': 'UNKNOWN'})\n",
    "collision_type = incidentsdf.collision_type\n",
    "collision_type_uniques = collision_type.unique()\n",
    "collision_type_uniques"
   ]
  },
  {
   "cell_type": "code",
   "execution_count": 108,
   "metadata": {},
   "outputs": [
    {
     "data": {
      "text/plain": [
       "array(['CLEAR', nan, 'CLOUDY', 'RAINING', 'UNKNOWN', 'WINTRY MIX', 'SNOW',\n",
       "       'FOGGY', 'OTHER', 'SEVERE WINDS', 'SLEET', 'BLOWING SNOW',\n",
       "       'BLOWING SAND, SOIL, DIRT'], dtype=object)"
      ]
     },
     "execution_count": 108,
     "metadata": {},
     "output_type": "execute_result"
    }
   ],
   "source": [
    "weather = incidentsdf.weather\n",
    "weather_uniques = weather.unique()\n",
    "weather_uniques"
   ]
  },
  {
   "cell_type": "code",
   "execution_count": 109,
   "metadata": {},
   "outputs": [
    {
     "data": {
      "text/plain": [
       "array(['CLEAR', nan, 'CLOUDY', 'RAINING', 'UNKNOWN', 'WINTRY MIX', 'SNOW',\n",
       "       'FOGGY', 'OTHER', 'SEVERE WINDS', 'SLEET', 'BLOWING SNOW',\n",
       "       'BLOWING SAND, SOIL, DIRT'], dtype=object)"
      ]
     },
     "execution_count": 109,
     "metadata": {},
     "output_type": "execute_result"
    }
   ],
   "source": [
    "# replace 'N/A' with 'UNKNOWN'\n",
    "incidentsdf['weather'] = incidentsdf['weather'].replace({'N/A': 'UNKNOWN'})\n",
    "weather = incidentsdf.weather\n",
    "weather_uniques = weather.unique()\n",
    "weather_uniques"
   ]
  },
  {
   "cell_type": "code",
   "execution_count": 110,
   "metadata": {},
   "outputs": [
    {
     "data": {
      "text/plain": [
       "array([nan, 'DRY', 'WET', 'ICE', 'OIL', 'OTHER', 'MUD, DIRT, GRAVEL',\n",
       "       'SNOW', 'UNKNOWN', 'SLUSH', 'WATER(STANDING/MOVING)', 'SAND'],\n",
       "      dtype=object)"
      ]
     },
     "execution_count": 110,
     "metadata": {},
     "output_type": "execute_result"
    }
   ],
   "source": [
    "surface_condition = incidentsdf.surface_condition\n",
    "surface_condition_uniques = surface_condition.unique()\n",
    "surface_condition_uniques"
   ]
  },
  {
   "cell_type": "code",
   "execution_count": 111,
   "metadata": {},
   "outputs": [
    {
     "data": {
      "text/plain": [
       "array(['UNKNOWN', 'DRY', 'WET', 'ICE', 'OIL', 'OTHER',\n",
       "       'MUD, DIRT, GRAVEL', 'SNOW', 'SLUSH', 'WATER(STANDING/MOVING)',\n",
       "       'SAND'], dtype=object)"
      ]
     },
     "execution_count": 111,
     "metadata": {},
     "output_type": "execute_result"
    }
   ],
   "source": [
    "# replace 'N/A' and fill na's\n",
    "incidentsdf['surface_condition'] = incidentsdf['surface_condition'].replace({'N/A': 'UNKNOWN'})\n",
    "incidentsdf['surface_condition'] = incidentsdf['surface_condition'].fillna('UNKNOWN')\n",
    "surface_condition = incidentsdf.surface_condition\n",
    "surface_condition_uniques = surface_condition.unique()\n",
    "surface_condition_uniques"
   ]
  },
  {
   "cell_type": "code",
   "execution_count": 112,
   "metadata": {},
   "outputs": [
    {
     "data": {
      "text/plain": [
       "array(['DAYLIGHT', 'DARK NO LIGHTS', 'DAWN', 'DARK LIGHTS ON', 'DUSK',\n",
       "       'DARK -- UNKNOWN LIGHTING', 'UNKNOWN', nan, 'OTHER'], dtype=object)"
      ]
     },
     "execution_count": 112,
     "metadata": {},
     "output_type": "execute_result"
    }
   ],
   "source": [
    "light = incidentsdf.light\n",
    "light_uniques = light.unique()\n",
    "light_uniques"
   ]
  },
  {
   "cell_type": "code",
   "execution_count": 113,
   "metadata": {},
   "outputs": [
    {
     "data": {
      "text/plain": [
       "array(['DAYLIGHT', 'DARK NO LIGHTS', 'DAWN', 'DARK LIGHTS ON', 'DUSK',\n",
       "       'DARK -- UNKNOWN LIGHTING', 'UNKNOWN', nan, 'OTHER'], dtype=object)"
      ]
     },
     "execution_count": 113,
     "metadata": {},
     "output_type": "execute_result"
    }
   ],
   "source": [
    "# replace 'N/A'\n",
    "incidentsdf['light'] = incidentsdf['light'].replace({'N/A': 'UNKNOWN'})\n",
    "light = incidentsdf.light\n",
    "light_uniques = light.unique()\n",
    "light_uniques"
   ]
  },
  {
   "cell_type": "code",
   "execution_count": 114,
   "metadata": {},
   "outputs": [
    {
     "data": {
      "text/plain": [
       "array(['NO CONTROLS', nan, 'FLASHING TRAFFIC SIGNAL', 'TRAFFIC SIGNAL',\n",
       "       'STOP SIGN', 'OTHER', 'YIELD SIGN', 'PERSON', 'WARNING SIGN',\n",
       "       'RAILWAY CROSSING DEVICE', 'UNKNOWN', 'SCHOOL ZONE SIGN DEVICE'],\n",
       "      dtype=object)"
      ]
     },
     "execution_count": 114,
     "metadata": {},
     "output_type": "execute_result"
    }
   ],
   "source": [
    "traffic_control = incidentsdf.traffic_control\n",
    "traffic_control_uniques = traffic_control.unique()\n",
    "traffic_control_uniques"
   ]
  },
  {
   "cell_type": "code",
   "execution_count": 115,
   "metadata": {},
   "outputs": [
    {
     "data": {
      "text/plain": [
       "array(['NO CONTROLS', nan, 'FLASHING TRAFFIC SIGNAL', 'TRAFFIC SIGNAL',\n",
       "       'STOP SIGN', 'OTHER', 'YIELD SIGN', 'PERSON', 'WARNING SIGN',\n",
       "       'RAILWAY CROSSING DEVICE', 'UNKNOWN', 'SCHOOL ZONE SIGN DEVICE'],\n",
       "      dtype=object)"
      ]
     },
     "execution_count": 115,
     "metadata": {},
     "output_type": "execute_result"
    }
   ],
   "source": [
    "# replace 'N/A'\n",
    "incidentsdf['traffic_control'] = incidentsdf['traffic_control'].replace({'N/A': 'UNKNOWN'})\n",
    "traffic_control = incidentsdf.traffic_control\n",
    "traffic_control_uniques = traffic_control.unique()\n",
    "traffic_control_uniques"
   ]
  },
  {
   "cell_type": "code",
   "execution_count": 116,
   "metadata": {},
   "outputs": [
    {
     "data": {
      "text/plain": [
       "array(['UNKNOWN', nan, 'NONE DETECTED', 'NONE DETECTED, UNKNOWN',\n",
       "       'ALCOHOL PRESENT', 'ILLEGAL DRUG CONTRIBUTED',\n",
       "       'N/A, NONE DETECTED', 'ALCOHOL PRESENT, NONE DETECTED',\n",
       "       'N/A, UNKNOWN', 'ALCOHOL CONTRIBUTED, NONE DETECTED',\n",
       "       'COMBINATION CONTRIBUTED, NONE DETECTED',\n",
       "       'ALCOHOL CONTRIBUTED, N/A', 'ALCOHOL CONTRIBUTED',\n",
       "       'MEDICATION PRESENT, NONE DETECTED', 'ALCOHOL PRESENT, N/A',\n",
       "       'ILLEGAL DRUG PRESENT', 'ILLEGAL DRUG CONTRIBUTED, NONE DETECTED',\n",
       "       'N/A, NONE DETECTED, UNKNOWN', 'MEDICATION PRESENT, N/A',\n",
       "       'ALCOHOL CONTRIBUTED, NONE DETECTED, UNKNOWN',\n",
       "       'MEDICATION PRESENT', 'MEDICATION CONTRIBUTED',\n",
       "       'COMBINED SUBSTANCE PRESENT, N/A', 'ILLEGAL DRUG CONTRIBUTED, N/A',\n",
       "       'ILLEGAL DRUG PRESENT, NONE DETECTED',\n",
       "       'COMBINED SUBSTANCE PRESENT, NONE DETECTED',\n",
       "       'COMBINATION CONTRIBUTED', 'ALCOHOL PRESENT, UNKNOWN', 'OTHER',\n",
       "       'ILLEGAL DRUG PRESENT, N/A',\n",
       "       'ALCOHOL PRESENT, NONE DETECTED, UNKNOWN',\n",
       "       'ALCOHOL PRESENT, N/A, NONE DETECTED',\n",
       "       'COMBINED SUBSTANCE PRESENT', 'MEDICATION CONTRIBUTED, N/A',\n",
       "       'NONE DETECTED, OTHER', 'MEDICATION CONTRIBUTED, NONE DETECTED',\n",
       "       'N/A, OTHER', 'ALCOHOL CONTRIBUTED, UNKNOWN',\n",
       "       'ALCOHOL PRESENT, N/A, UNKNOWN',\n",
       "       'MEDICATION CONTRIBUTED, NONE DETECTED, UNKNOWN',\n",
       "       'ILLEGAL DRUG PRESENT, N/A, NONE DETECTED',\n",
       "       'COMBINATION CONTRIBUTED, N/A',\n",
       "       'ALCOHOL CONTRIBUTED, ALCOHOL PRESENT',\n",
       "       'ALCOHOL CONTRIBUTED, N/A, NONE DETECTED',\n",
       "       'MEDICATION PRESENT, N/A, UNKNOWN',\n",
       "       'ILLEGAL DRUG PRESENT, UNKNOWN',\n",
       "       'MEDICATION PRESENT, NONE DETECTED, UNKNOWN',\n",
       "       'ALCOHOL PRESENT, ILLEGAL DRUG PRESENT'], dtype=object)"
      ]
     },
     "execution_count": 116,
     "metadata": {},
     "output_type": "execute_result"
    }
   ],
   "source": [
    "driver_substance_abuse = incidentsdf.driver_substance_abuse\n",
    "driver_substance_abuse_uniques = driver_substance_abuse.unique()\n",
    "driver_substance_abuse_uniques "
   ]
  },
  {
   "cell_type": "code",
   "execution_count": 117,
   "metadata": {},
   "outputs": [
    {
     "data": {
      "text/plain": [
       "array(['UNKNOWN', 'NONE DETECTED', 'NONE DETECTED, UNKNOWN',\n",
       "       'ALCOHOL PRESENT', 'ILLEGAL DRUG CONTRIBUTED',\n",
       "       'N/A, NONE DETECTED', 'ALCOHOL PRESENT, NONE DETECTED',\n",
       "       'N/A, UNKNOWN', 'ALCOHOL CONTRIBUTED, NONE DETECTED',\n",
       "       'COMBINATION CONTRIBUTED, NONE DETECTED',\n",
       "       'ALCOHOL CONTRIBUTED, N/A', 'ALCOHOL CONTRIBUTED',\n",
       "       'MEDICATION PRESENT, NONE DETECTED', 'ALCOHOL PRESENT, N/A',\n",
       "       'ILLEGAL DRUG PRESENT', 'ILLEGAL DRUG CONTRIBUTED, NONE DETECTED',\n",
       "       'N/A, NONE DETECTED, UNKNOWN', 'MEDICATION PRESENT, N/A',\n",
       "       'ALCOHOL CONTRIBUTED, NONE DETECTED, UNKNOWN',\n",
       "       'MEDICATION PRESENT', 'MEDICATION CONTRIBUTED',\n",
       "       'COMBINED SUBSTANCE PRESENT, N/A', 'ILLEGAL DRUG CONTRIBUTED, N/A',\n",
       "       'ILLEGAL DRUG PRESENT, NONE DETECTED',\n",
       "       'COMBINED SUBSTANCE PRESENT, NONE DETECTED',\n",
       "       'COMBINATION CONTRIBUTED', 'ALCOHOL PRESENT, UNKNOWN', 'OTHER',\n",
       "       'ILLEGAL DRUG PRESENT, N/A',\n",
       "       'ALCOHOL PRESENT, NONE DETECTED, UNKNOWN',\n",
       "       'ALCOHOL PRESENT, N/A, NONE DETECTED',\n",
       "       'COMBINED SUBSTANCE PRESENT', 'MEDICATION CONTRIBUTED, N/A',\n",
       "       'NONE DETECTED, OTHER', 'MEDICATION CONTRIBUTED, NONE DETECTED',\n",
       "       'N/A, OTHER', 'ALCOHOL CONTRIBUTED, UNKNOWN',\n",
       "       'ALCOHOL PRESENT, N/A, UNKNOWN',\n",
       "       'MEDICATION CONTRIBUTED, NONE DETECTED, UNKNOWN',\n",
       "       'ILLEGAL DRUG PRESENT, N/A, NONE DETECTED',\n",
       "       'COMBINATION CONTRIBUTED, N/A',\n",
       "       'ALCOHOL CONTRIBUTED, ALCOHOL PRESENT',\n",
       "       'ALCOHOL CONTRIBUTED, N/A, NONE DETECTED',\n",
       "       'MEDICATION PRESENT, N/A, UNKNOWN',\n",
       "       'ILLEGAL DRUG PRESENT, UNKNOWN',\n",
       "       'MEDICATION PRESENT, NONE DETECTED, UNKNOWN',\n",
       "       'ALCOHOL PRESENT, ILLEGAL DRUG PRESENT'], dtype=object)"
      ]
     },
     "execution_count": 117,
     "metadata": {},
     "output_type": "execute_result"
    }
   ],
   "source": [
    "# each line reflects multiple entries, so for now I will just fill the nan\n",
    "incidentsdf['driver_substance_abuse'] = incidentsdf['driver_substance_abuse'].fillna(\"UNKNOWN\")\n",
    "driver_substance_abuse = incidentsdf.driver_substance_abuse\n",
    "driver_substance_abuse_uniques = driver_substance_abuse.unique()\n",
    "driver_substance_abuse_uniques"
   ]
  },
  {
   "cell_type": "code",
   "execution_count": 118,
   "metadata": {},
   "outputs": [
    {
     "data": {
      "text/plain": [
       "array(['PARKED VEHICLE', 'OTHER VEHICLE', 'UNITS SEPARATED',\n",
       "       'OTHER OBJECT', 'BICYCLE', 'FIXED OBJECT', 'PEDESTRIAN', 'ANIMAL',\n",
       "       'OTHER', 'OFF ROAD', 'UNKNOWN', 'OVERTURN',\n",
       "       'THROWN OR FALLING OBJECT', nan, 'OTHER CONVEYANCE', 'U-TURN',\n",
       "       'BACKING', 'OTHER NON COLLISION', 'OTHER PEDALCYCLE',\n",
       "       'SPILLED CARGO', 'IMMERSION', 'FELL JUMPED FROM MOTOR VEHICLE',\n",
       "       'RAILWAY TRAIN', 'DOWNHILL RUNAWAY', 'EXPLOSION OR FIRE',\n",
       "       'JACKKNIFE'], dtype=object)"
      ]
     },
     "execution_count": 118,
     "metadata": {},
     "output_type": "execute_result"
    }
   ],
   "source": [
    "first_harmful_event = incidentsdf.first_harmful_event\n",
    "first_h_e_uniques = first_harmful_event.unique()\n",
    "first_h_e_uniques"
   ]
  },
  {
   "cell_type": "code",
   "execution_count": 119,
   "metadata": {},
   "outputs": [
    {
     "data": {
      "text/plain": [
       "array(['PARKED VEHICLE', 'OTHER VEHICLE', 'UNITS SEPARATED',\n",
       "       'OTHER OBJECT', 'BICYCLE', 'FIXED OBJECT', 'PEDESTRIAN', 'ANIMAL',\n",
       "       'OTHER', 'OFF ROAD', 'UNKNOWN', 'OVERTURN',\n",
       "       'THROWN OR FALLING OBJECT', nan, 'OTHER CONVEYANCE', 'U-TURN',\n",
       "       'BACKING', 'OTHER NON COLLISION', 'OTHER PEDALCYCLE',\n",
       "       'SPILLED CARGO', 'IMMERSION', 'FELL JUMPED FROM MOTOR VEHICLE',\n",
       "       'RAILWAY TRAIN', 'DOWNHILL RUNAWAY', 'EXPLOSION OR FIRE',\n",
       "       'JACKKNIFE'], dtype=object)"
      ]
     },
     "execution_count": 119,
     "metadata": {},
     "output_type": "execute_result"
    }
   ],
   "source": [
    "# Replace N/A\n",
    "incidentsdf['first_harmful_event'] = incidentsdf['first_harmful_event'].replace({'N/A': 'UNKNOWN'})\n",
    "first_harmful_event = incidentsdf.first_harmful_event\n",
    "first_h_e_uniques = first_harmful_event.unique()\n",
    "first_h_e_uniques"
   ]
  },
  {
   "cell_type": "code",
   "execution_count": 120,
   "metadata": {},
   "outputs": [
    {
     "data": {
      "text/plain": [
       "array([nan, 'PARKED VEHICLE', 'OTHER VEHICLE', 'OFF ROAD', 'FIXED OBJECT',\n",
       "       'OTHER OBJECT', 'PEDESTRIAN', 'BICYCLE', 'OTHER', 'OVERTURN',\n",
       "       'BACKING', 'FELL JUMPED FROM MOTOR VEHICLE', 'DOWNHILL RUNAWAY',\n",
       "       'UNKNOWN', 'EXPLOSION OR FIRE', 'OTHER CONVEYANCE',\n",
       "       'OTHER NON COLLISION', 'U-TURN', 'SPILLED CARGO',\n",
       "       'THROWN OR FALLING OBJECT', 'ANIMAL', 'JACKKNIFE',\n",
       "       'UNITS SEPARATED', 'OTHER PEDALCYCLE', 'IMMERSION'], dtype=object)"
      ]
     },
     "execution_count": 120,
     "metadata": {},
     "output_type": "execute_result"
    }
   ],
   "source": [
    "second_harmful_event = incidentsdf.second_harmful_event\n",
    "second_h_e_uniques = second_harmful_event.unique()\n",
    "second_h_e_uniques"
   ]
  },
  {
   "cell_type": "code",
   "execution_count": 121,
   "metadata": {},
   "outputs": [
    {
     "data": {
      "text/plain": [
       "array([nan, 'PARKED VEHICLE', 'OTHER VEHICLE', 'OFF ROAD', 'FIXED OBJECT',\n",
       "       'OTHER OBJECT', 'PEDESTRIAN', 'BICYCLE', 'OTHER', 'OVERTURN',\n",
       "       'BACKING', 'FELL JUMPED FROM MOTOR VEHICLE', 'DOWNHILL RUNAWAY',\n",
       "       'UNKNOWN', 'EXPLOSION OR FIRE', 'OTHER CONVEYANCE',\n",
       "       'OTHER NON COLLISION', 'U-TURN', 'SPILLED CARGO',\n",
       "       'THROWN OR FALLING OBJECT', 'ANIMAL', 'JACKKNIFE',\n",
       "       'UNITS SEPARATED', 'OTHER PEDALCYCLE', 'IMMERSION'], dtype=object)"
      ]
     },
     "execution_count": 121,
     "metadata": {},
     "output_type": "execute_result"
    }
   ],
   "source": [
    "# Replace N/A\n",
    "incidentsdf['second_harmful_event'] = incidentsdf['second_harmful_event'].replace({'N/A': 'UNKNOWN'})\n",
    "second_harmful_event = incidentsdf.second_harmful_event\n",
    "second_h_e_uniques = second_harmful_event.unique()\n",
    "second_h_e_uniques"
   ]
  },
  {
   "cell_type": "code",
   "execution_count": 123,
   "metadata": {},
   "outputs": [
    {
     "data": {
      "text/plain": [
       "array([nan, 'OTHER', 'BUILDING', 'GUARDRAIL OR BARRIER', 'OTHER POLE',\n",
       "       'EMBANKMENT', 'MAILBOX', 'CURB', 'FENCE', 'TREE SHRUBBERY',\n",
       "       'LIGHT SUPPORT POLE', 'CONCRETE TRAFFIC BARRIER',\n",
       "       'TRAFFIC SIGNAL SUPPORT', 'SIGN SUPPORT POLE',\n",
       "       'OTHER TRAFFIC BARRIER', 'GUARDRAIL END', 'BRIDGE OR OVERPASS',\n",
       "       'UNKNOWN', 'CULVERT', 'CONSTRUCTION BARRIER', 'DITCH',\n",
       "       'BRIDGE OVERHEAD STRUCTURE', 'CABLE BARRIER', 'CRASH ATTENUATOR',\n",
       "       'BRIDGE RAIL', 'BRIDGE PIER SUPPORT'], dtype=object)"
      ]
     },
     "execution_count": 123,
     "metadata": {},
     "output_type": "execute_result"
    }
   ],
   "source": [
    "fixed_object_struck = incidentsdf.fixed_object_struck\n",
    "fostruck_uniques = fixed_object_struck.unique()\n",
    "fostruck_uniques"
   ]
  },
  {
   "cell_type": "code",
   "execution_count": 168,
   "metadata": {},
   "outputs": [
    {
     "data": {
      "text/plain": [
       "array([nan, 'OTHER', 'BUILDING', 'GUARDRAIL OR BARRIER', 'OTHER POLE',\n",
       "       'EMBANKMENT', 'MAILBOX', 'CURB', 'FENCE', 'TREE SHRUBBERY',\n",
       "       'LIGHT SUPPORT POLE', 'CONCRETE TRAFFIC BARRIER',\n",
       "       'TRAFFIC SIGNAL SUPPORT', 'SIGN SUPPORT POLE',\n",
       "       'OTHER TRAFFIC BARRIER', 'GUARDRAIL END', 'BRIDGE OR OVERPASS',\n",
       "       'UNKNOWN', 'CULVERT', 'CONSTRUCTION BARRIER', 'DITCH',\n",
       "       'BRIDGE OVERHEAD STRUCTURE', 'CABLE BARRIER', 'CRASH ATTENUATOR',\n",
       "       'BRIDGE RAIL', 'BRIDGE PIER SUPPORT'], dtype=object)"
      ]
     },
     "execution_count": 168,
     "metadata": {},
     "output_type": "execute_result"
    }
   ],
   "source": [
    "# correct typo in column name and replace N/A\n",
    "incidentsdf['fixed_object_struck'] = incidentsdf['fixed_object_struck'].replace({'N/A': 'UNKNOWN'})\n",
    "fixed_object_struck = incidentsdf.fixed_object_struck\n",
    "fostruck_uniques = fixed_object_struck.unique()\n",
    "fostruck_uniques"
   ]
  },
  {
   "cell_type": "code",
   "execution_count": 169,
   "metadata": {},
   "outputs": [
    {
     "data": {
      "text/plain": [
       "<bound method Series.unique of 1                     NaN\n",
       "2                     NaN\n",
       "3                     NaN\n",
       "4                     NaN\n",
       "5                     NaN\n",
       "               ...       \n",
       "68762        INTERSECTION\n",
       "68763        INTERSECTION\n",
       "68764               OTHER\n",
       "68765    NON INTERSECTION\n",
       "68766    NON INTERSECTION\n",
       "Name: junction, Length: 68766, dtype: object>"
      ]
     },
     "execution_count": 169,
     "metadata": {},
     "output_type": "execute_result"
    }
   ],
   "source": [
    "junction = incidentsdf.junction\n",
    "junction_uniques = junction.unique\n",
    "junction_uniques"
   ]
  },
  {
   "cell_type": "code",
   "execution_count": 170,
   "metadata": {},
   "outputs": [
    {
     "data": {
      "text/plain": [
       "<bound method Series.unique of 1                 UNKNOWN\n",
       "2                 UNKNOWN\n",
       "3                 UNKNOWN\n",
       "4                 UNKNOWN\n",
       "5                 UNKNOWN\n",
       "               ...       \n",
       "68762        INTERSECTION\n",
       "68763        INTERSECTION\n",
       "68764               OTHER\n",
       "68765    NON INTERSECTION\n",
       "68766    NON INTERSECTION\n",
       "Name: junction, Length: 68766, dtype: object>"
      ]
     },
     "execution_count": 170,
     "metadata": {},
     "output_type": "execute_result"
    }
   ],
   "source": [
    "#fill NaN replace N/A with 'unknown'\n",
    "incidentsdf['junction'] = incidentsdf['junction'].fillna('UNKNOWN')\n",
    "incidentsdf['junction'] = incidentsdf['junction'].replace({'N/A': 'UNKNOWN'})\n",
    "junction = incidentsdf.junction\n",
    "junction_uniques = junction.unique\n",
    "junction_uniques"
   ]
  },
  {
   "cell_type": "code",
   "execution_count": 171,
   "metadata": {},
   "outputs": [
    {
     "data": {
      "text/plain": [
       "array([nan, 'T-INTERSECTION', 'FOUR-WAY INTERSECTION', 'OTHER',\n",
       "       'Y-INTERSECTION', 'ROUNDABOUT', 'UNKNOWN', 'TRAFFIC CIRCLE',\n",
       "       'FIVE-POINT OR MORE'], dtype=object)"
      ]
     },
     "execution_count": 171,
     "metadata": {},
     "output_type": "execute_result"
    }
   ],
   "source": [
    "inter_type = incidentsdf.intersection_type\n",
    "inter_type_uniques = inter_type.unique()\n",
    "inter_type_uniques"
   ]
  },
  {
   "cell_type": "code",
   "execution_count": 172,
   "metadata": {},
   "outputs": [
    {
     "data": {
      "text/plain": [
       "array(['UNKNOWN', 'T-INTERSECTION', 'FOUR-WAY INTERSECTION', 'OTHER',\n",
       "       'Y-INTERSECTION', 'ROUNDABOUT', 'TRAFFIC CIRCLE',\n",
       "       'FIVE-POINT OR MORE'], dtype=object)"
      ]
     },
     "execution_count": 172,
     "metadata": {},
     "output_type": "execute_result"
    }
   ],
   "source": [
    "#fill NaN replace N/A with 'unknown'\n",
    "incidentsdf['intersection_type'] = incidentsdf['intersection_type'].fillna('UNKNOWN')\n",
    "incidentsdf['intersection_type'] = incidentsdf['intersection_type'].replace({'N/A': 'UNKNOWN'})\n",
    "inter_type = incidentsdf.intersection_type\n",
    "inter_type_uniques = inter_type.unique()\n",
    "inter_type_uniques"
   ]
  },
  {
   "cell_type": "code",
   "execution_count": 173,
   "metadata": {},
   "outputs": [
    {
     "data": {
      "text/plain": [
       "array([nan, 'INTERSECTION', 'OTHER', 'THRU ROADWAY', 'ON RAMP EXIT AREA',\n",
       "       'INTERSECTION RELATED', 'ON RAMP ENTRANCE AREA',\n",
       "       'ON RAMP MID AREA', 'UNKNOWN'], dtype=object)"
      ]
     },
     "execution_count": 173,
     "metadata": {},
     "output_type": "execute_result"
    }
   ],
   "source": [
    "inter_area = incidentsdf.intersection_area\n",
    "inter_area_uniques = inter_area.unique()\n",
    "inter_area_uniques"
   ]
  },
  {
   "cell_type": "code",
   "execution_count": 174,
   "metadata": {},
   "outputs": [
    {
     "data": {
      "text/plain": [
       "array(['UNKNOWN', 'INTERSECTION', 'OTHER', 'THRU ROADWAY',\n",
       "       'ON RAMP EXIT AREA', 'INTERSECTION RELATED',\n",
       "       'ON RAMP ENTRANCE AREA', 'ON RAMP MID AREA'], dtype=object)"
      ]
     },
     "execution_count": 174,
     "metadata": {},
     "output_type": "execute_result"
    }
   ],
   "source": [
    "#fill NaN replace N/A with 'unknown'\n",
    "incidentsdf['intersection_area'] = incidentsdf['intersection_area'].fillna('UNKNOWN')\n",
    "incidentsdf['intersection_area'] = incidentsdf['intersection_area'].replace({'N/A': 'UNKNOWN'})\n",
    "inter_area = incidentsdf.intersection_area\n",
    "inter_area_uniques = inter_area.unique()\n",
    "inter_area_uniques"
   ]
  },
  {
   "cell_type": "code",
   "execution_count": 175,
   "metadata": {},
   "outputs": [
    {
     "data": {
      "text/plain": [
       "array([nan, 'STRAIGHT', 'CURVE RIGHT', 'CURVE LEFT', 'OTHER', 'UNKNOWN'],\n",
       "      dtype=object)"
      ]
     },
     "execution_count": 175,
     "metadata": {},
     "output_type": "execute_result"
    }
   ],
   "source": [
    "align = incidentsdf.road_alignment\n",
    "align_uniques = align.unique()\n",
    "align_uniques"
   ]
  },
  {
   "cell_type": "code",
   "execution_count": 176,
   "metadata": {},
   "outputs": [
    {
     "data": {
      "text/plain": [
       "array(['UNKNOWN', 'STRAIGHT', 'CURVE RIGHT', 'CURVE LEFT', 'OTHER'],\n",
       "      dtype=object)"
      ]
     },
     "execution_count": 176,
     "metadata": {},
     "output_type": "execute_result"
    }
   ],
   "source": [
    "#fill NaN replace N/A with 'unknown'\n",
    "incidentsdf['road_alignment'] = incidentsdf['road_alignment'].fillna('UNKNOWN')\n",
    "incidentsdf['road_alignment'] = incidentsdf['road_alignment'].replace({'N/A': 'UNKNOWN'})\n",
    "align = incidentsdf.road_alignment\n",
    "align_uniques = align.unique()\n",
    "align_uniques"
   ]
  },
  {
   "cell_type": "code",
   "execution_count": 177,
   "metadata": {},
   "outputs": [
    {
     "data": {
      "text/plain": [
       "array([nan, 'NO DEFECTS', 'SHOULDER DEFECT', 'HOLES RUTS ETC', 'OTHER',\n",
       "       'UNKNOWN', 'VIEW OBSTRUCTED', 'OBSTRUCTION NOT LIGHTED',\n",
       "       'LOOSE SURFACE MATERIAL', 'FOREIGN MATERIAL',\n",
       "       'OBSTRUCTION NOT SIGNALED'], dtype=object)"
      ]
     },
     "execution_count": 177,
     "metadata": {},
     "output_type": "execute_result"
    }
   ],
   "source": [
    "condition = incidentsdf.road_condition\n",
    "condition_uniques = condition.unique()\n",
    "condition_uniques"
   ]
  },
  {
   "cell_type": "code",
   "execution_count": 178,
   "metadata": {},
   "outputs": [
    {
     "data": {
      "text/plain": [
       "array(['UNKNOWN', 'NO DEFECTS', 'SHOULDER DEFECT', 'HOLES RUTS ETC',\n",
       "       'OTHER', 'VIEW OBSTRUCTED', 'OBSTRUCTION NOT LIGHTED',\n",
       "       'LOOSE SURFACE MATERIAL', 'FOREIGN MATERIAL',\n",
       "       'OBSTRUCTION NOT SIGNALED'], dtype=object)"
      ]
     },
     "execution_count": 178,
     "metadata": {},
     "output_type": "execute_result"
    }
   ],
   "source": [
    "#fill NaN replace N/A with 'unknown'\n",
    "incidentsdf['road_condition'] = incidentsdf['road_condition'].fillna('UNKNOWN')\n",
    "incidentsdf['road_condition'] = incidentsdf['road_condition'].replace({'N/A': 'UNKNOWN'})\n",
    "condition = incidentsdf.road_condition\n",
    "condition_uniques = condition.unique()\n",
    "condition_uniques"
   ]
  },
  {
   "cell_type": "code",
   "execution_count": 179,
   "metadata": {},
   "outputs": [
    {
     "data": {
      "text/plain": [
       "array([nan, 'TWO-WAY, NOT DIVIDED',\n",
       "       'TWO-WAY, DIVIDED, POSITIVE MEDIAN BARRIER',\n",
       "       'TWO-WAY, NOT DIVIDED WITH A CONTINUOUS LEFT TURN',\n",
       "       'TWO-WAY, DIVIDED, UNPROTECTED PAINTED MIN 4 FEET', 'OTHER',\n",
       "       'ONE-WAY TRAFFICWAY', 'UNKNOWN'], dtype=object)"
      ]
     },
     "execution_count": 179,
     "metadata": {},
     "output_type": "execute_result"
    }
   ],
   "source": [
    "division = incidentsdf.road_division\n",
    "division_uniques = division.unique()\n",
    "division_uniques"
   ]
  },
  {
   "cell_type": "code",
   "execution_count": 180,
   "metadata": {},
   "outputs": [
    {
     "data": {
      "text/plain": [
       "array(['UNKNOWN', 'TWO-WAY, NOT DIVIDED',\n",
       "       'TWO-WAY, DIVIDED, POSITIVE MEDIAN BARRIER',\n",
       "       'TWO-WAY, NOT DIVIDED WITH A CONTINUOUS LEFT TURN',\n",
       "       'TWO-WAY, DIVIDED, UNPROTECTED PAINTED MIN 4 FEET', 'OTHER',\n",
       "       'ONE-WAY TRAFFICWAY'], dtype=object)"
      ]
     },
     "execution_count": 180,
     "metadata": {},
     "output_type": "execute_result"
    }
   ],
   "source": [
    "#fill NaN replace N/A with 'unknown'\n",
    "incidentsdf['road_division'] = incidentsdf['road_division'].fillna('UNKNOWN')\n",
    "incidentsdf['road_division'] = incidentsdf['road_division'].replace({'N/A': 'UNKNOWN'})\n",
    "division = incidentsdf.road_division\n",
    "division_uniques = division.unique()\n",
    "division_uniques"
   ]
  },
  {
   "cell_type": "markdown",
   "metadata": {},
   "source": [
    "#### Begin cleaning non-motorist info dataframe\n",
    "\n",
    "First, examine the information about the dataframe."
   ]
  },
  {
   "cell_type": "code",
   "execution_count": 9,
   "metadata": {},
   "outputs": [
    {
     "name": "stdout",
     "output_type": "stream",
     "text": [
      "<class 'pandas.core.frame.DataFrame'>\n",
      "RangeIndex: 3936 entries, 0 to 3935\n",
      "Data columns (total 32 columns):\n",
      " #   Column                            Non-Null Count  Dtype  \n",
      "---  ------                            --------------  -----  \n",
      " 0   report_number                     3936 non-null   object \n",
      " 1   local_case_number                 3936 non-null   int64  \n",
      " 2   agency_name                       3936 non-null   object \n",
      " 3   acrs_report_type                  3936 non-null   object \n",
      " 4   crash_date_time                   3936 non-null   object \n",
      " 5   route_type                        3014 non-null   object \n",
      " 6   road_name                         3062 non-null   object \n",
      " 7   cross_street_type                 3014 non-null   object \n",
      " 8   cross_street_name                 3061 non-null   object \n",
      " 9   off_road_description              874 non-null    object \n",
      " 10  municipality                      434 non-null    object \n",
      " 11  related_non_motorist              3936 non-null   object \n",
      " 12  collision_type                    3808 non-null   object \n",
      " 13  weather                           3578 non-null   object \n",
      " 14  surface_condition                 2948 non-null   object \n",
      " 15  light                             3902 non-null   object \n",
      " 16  traffic_control                   3330 non-null   object \n",
      " 17  driver_substance_abuse            3211 non-null   object \n",
      " 18  non_motorist_substance_abuse      3117 non-null   object \n",
      " 19  person_id                         3936 non-null   object \n",
      " 20  pedestrian_type                   3936 non-null   object \n",
      " 21  pedestrian_movement               3830 non-null   object \n",
      " 22  pedestrian_actions                3724 non-null   object \n",
      " 23  pedestrian_location               3824 non-null   object \n",
      " 24  pedestrian_obeyed_traffic_signal  2760 non-null   object \n",
      " 25  pedestrian_visibility             3568 non-null   object \n",
      " 26  at_fault                          3649 non-null   object \n",
      " 27  injury_severity                   3936 non-null   object \n",
      " 28  safety_equipment                  2537 non-null   object \n",
      " 29  latitude                          3936 non-null   float64\n",
      " 30  longitude                         3936 non-null   float64\n",
      " 31  location                          3936 non-null   object \n",
      "dtypes: float64(2), int64(1), object(29)\n",
      "memory usage: 984.1+ KB\n"
     ]
    }
   ],
   "source": [
    "nonmotoristdf.info()"
   ]
  },
  {
   "cell_type": "code",
   "execution_count": 10,
   "metadata": {},
   "outputs": [
    {
     "data": {
      "text/html": [
       "<div>\n",
       "<style scoped>\n",
       "    .dataframe tbody tr th:only-of-type {\n",
       "        vertical-align: middle;\n",
       "    }\n",
       "\n",
       "    .dataframe tbody tr th {\n",
       "        vertical-align: top;\n",
       "    }\n",
       "\n",
       "    .dataframe thead th {\n",
       "        text-align: right;\n",
       "    }\n",
       "</style>\n",
       "<table border=\"1\" class=\"dataframe\">\n",
       "  <thead>\n",
       "    <tr style=\"text-align: right;\">\n",
       "      <th></th>\n",
       "      <th>report_number</th>\n",
       "      <th>local_case_number</th>\n",
       "      <th>agency_name</th>\n",
       "      <th>acrs_report_type</th>\n",
       "      <th>crash_date_time</th>\n",
       "      <th>route_type</th>\n",
       "      <th>road_name</th>\n",
       "      <th>cross_street_type</th>\n",
       "      <th>cross_street_name</th>\n",
       "      <th>off_road_description</th>\n",
       "      <th>...</th>\n",
       "      <th>pedestrian_actions</th>\n",
       "      <th>pedestrian_location</th>\n",
       "      <th>pedestrian_obeyed_traffic_signal</th>\n",
       "      <th>pedestrian_visibility</th>\n",
       "      <th>at_fault</th>\n",
       "      <th>injury_severity</th>\n",
       "      <th>safety_equipment</th>\n",
       "      <th>latitude</th>\n",
       "      <th>longitude</th>\n",
       "      <th>location</th>\n",
       "    </tr>\n",
       "  </thead>\n",
       "  <tbody>\n",
       "    <tr>\n",
       "      <th>0</th>\n",
       "      <td>MCP23480052</td>\n",
       "      <td>190024574</td>\n",
       "      <td>Montgomery County Police</td>\n",
       "      <td>Injury Crash</td>\n",
       "      <td>05/23/2019 05:30:00 PM</td>\n",
       "      <td>Maryland (State)</td>\n",
       "      <td>GEORGIA AVE</td>\n",
       "      <td>Maryland (State)</td>\n",
       "      <td>UNIVERSITY BLVD W</td>\n",
       "      <td>NaN</td>\n",
       "      <td>...</td>\n",
       "      <td>NO IMPROPER ACTIONS</td>\n",
       "      <td>ON ROADWAY AT CROSSWALK</td>\n",
       "      <td>OBEYED PED. SIGNAL</td>\n",
       "      <td>LIGHT CLOTHING</td>\n",
       "      <td>No</td>\n",
       "      <td>SUSPECTED SERIOUS INJURY</td>\n",
       "      <td>NaN</td>\n",
       "      <td>39.041653</td>\n",
       "      <td>-77.051877</td>\n",
       "      <td>(39.04165333, -77.05187667)</td>\n",
       "    </tr>\n",
       "    <tr>\n",
       "      <th>1</th>\n",
       "      <td>MCP20160048</td>\n",
       "      <td>190026280</td>\n",
       "      <td>Montgomery County Police</td>\n",
       "      <td>Injury Crash</td>\n",
       "      <td>06/02/2019 12:19:00 PM</td>\n",
       "      <td>Maryland (State)</td>\n",
       "      <td>ROCKVILLE PIKE</td>\n",
       "      <td>Municipality</td>\n",
       "      <td>ROLLINS AVE</td>\n",
       "      <td>NaN</td>\n",
       "      <td>...</td>\n",
       "      <td>NO IMPROPER ACTIONS</td>\n",
       "      <td>SIDEWALK</td>\n",
       "      <td>NaN</td>\n",
       "      <td>LIGHT CLOTHING</td>\n",
       "      <td>No</td>\n",
       "      <td>SUSPECTED MINOR INJURY</td>\n",
       "      <td>NONE</td>\n",
       "      <td>38.953000</td>\n",
       "      <td>-77.338000</td>\n",
       "      <td>(38.953, -77.338)</td>\n",
       "    </tr>\n",
       "    <tr>\n",
       "      <th>2</th>\n",
       "      <td>MCP3171000V</td>\n",
       "      <td>190026764</td>\n",
       "      <td>Montgomery County Police</td>\n",
       "      <td>Injury Crash</td>\n",
       "      <td>06/04/2019 09:02:00 PM</td>\n",
       "      <td>NaN</td>\n",
       "      <td>NaN</td>\n",
       "      <td>NaN</td>\n",
       "      <td>NaN</td>\n",
       "      <td>HOME DEPOT PARKING LOT\\n 21010 FREDERICK RD GE...</td>\n",
       "      <td>...</td>\n",
       "      <td>NO IMPROPER ACTIONS</td>\n",
       "      <td>AT INTERSECTION BUT NO CROSSWALK</td>\n",
       "      <td>NO PED. SIGNAL</td>\n",
       "      <td>NaN</td>\n",
       "      <td>No</td>\n",
       "      <td>POSSIBLE INJURY</td>\n",
       "      <td>NaN</td>\n",
       "      <td>39.201165</td>\n",
       "      <td>-77.248343</td>\n",
       "      <td>(39.201165, -77.24834333)</td>\n",
       "    </tr>\n",
       "    <tr>\n",
       "      <th>3</th>\n",
       "      <td>MCP3000002N</td>\n",
       "      <td>190026219</td>\n",
       "      <td>Montgomery County Police</td>\n",
       "      <td>Injury Crash</td>\n",
       "      <td>06/01/2019 10:27:00 PM</td>\n",
       "      <td>County</td>\n",
       "      <td>MIDDLEBROOK RD</td>\n",
       "      <td>County</td>\n",
       "      <td>WARING STATION RD</td>\n",
       "      <td>NaN</td>\n",
       "      <td>...</td>\n",
       "      <td>OTHER</td>\n",
       "      <td>AT INTERSECTION MARKED CROSSWALK</td>\n",
       "      <td>OBEYED PED. SIGNAL</td>\n",
       "      <td>DARK CLOTHING</td>\n",
       "      <td>No</td>\n",
       "      <td>SUSPECTED MINOR INJURY</td>\n",
       "      <td>NaN</td>\n",
       "      <td>39.175252</td>\n",
       "      <td>-77.253611</td>\n",
       "      <td>(39.17525182, -77.25361113)</td>\n",
       "    </tr>\n",
       "    <tr>\n",
       "      <th>4</th>\n",
       "      <td>EJ7876000N</td>\n",
       "      <td>190026354</td>\n",
       "      <td>Gaithersburg Police Depar</td>\n",
       "      <td>Injury Crash</td>\n",
       "      <td>06/02/2019 10:10:00 PM</td>\n",
       "      <td>Maryland (State)</td>\n",
       "      <td>MONTGOMERY VILLAGE AVE</td>\n",
       "      <td>Unknown</td>\n",
       "      <td>SPUR TO LOST KNIFE RD</td>\n",
       "      <td>NaN</td>\n",
       "      <td>...</td>\n",
       "      <td>OTHER</td>\n",
       "      <td>ON ROADWAY AT CROSSWALK</td>\n",
       "      <td>DISOBEYED PED. SIGNAL</td>\n",
       "      <td>DARK CLOTHING</td>\n",
       "      <td>Yes</td>\n",
       "      <td>SUSPECTED MINOR INJURY</td>\n",
       "      <td>NONE</td>\n",
       "      <td>39.157775</td>\n",
       "      <td>-77.204002</td>\n",
       "      <td>(39.157775, -77.20400167)</td>\n",
       "    </tr>\n",
       "  </tbody>\n",
       "</table>\n",
       "<p>5 rows × 32 columns</p>\n",
       "</div>"
      ],
      "text/plain": [
       "  report_number  local_case_number                agency_name  \\\n",
       "0   MCP23480052          190024574   Montgomery County Police   \n",
       "1   MCP20160048          190026280   Montgomery County Police   \n",
       "2   MCP3171000V          190026764   Montgomery County Police   \n",
       "3   MCP3000002N          190026219   Montgomery County Police   \n",
       "4    EJ7876000N          190026354  Gaithersburg Police Depar   \n",
       "\n",
       "  acrs_report_type         crash_date_time        route_type  \\\n",
       "0     Injury Crash  05/23/2019 05:30:00 PM  Maryland (State)   \n",
       "1     Injury Crash  06/02/2019 12:19:00 PM  Maryland (State)   \n",
       "2     Injury Crash  06/04/2019 09:02:00 PM               NaN   \n",
       "3     Injury Crash  06/01/2019 10:27:00 PM            County   \n",
       "4     Injury Crash  06/02/2019 10:10:00 PM  Maryland (State)   \n",
       "\n",
       "                road_name cross_street_type      cross_street_name  \\\n",
       "0             GEORGIA AVE  Maryland (State)      UNIVERSITY BLVD W   \n",
       "1          ROCKVILLE PIKE      Municipality            ROLLINS AVE   \n",
       "2                     NaN               NaN                    NaN   \n",
       "3          MIDDLEBROOK RD            County      WARING STATION RD   \n",
       "4  MONTGOMERY VILLAGE AVE           Unknown  SPUR TO LOST KNIFE RD   \n",
       "\n",
       "                                off_road_description  ...  \\\n",
       "0                                                NaN  ...   \n",
       "1                                                NaN  ...   \n",
       "2  HOME DEPOT PARKING LOT\\n 21010 FREDERICK RD GE...  ...   \n",
       "3                                                NaN  ...   \n",
       "4                                                NaN  ...   \n",
       "\n",
       "    pedestrian_actions               pedestrian_location  \\\n",
       "0  NO IMPROPER ACTIONS           ON ROADWAY AT CROSSWALK   \n",
       "1  NO IMPROPER ACTIONS                          SIDEWALK   \n",
       "2  NO IMPROPER ACTIONS  AT INTERSECTION BUT NO CROSSWALK   \n",
       "3                OTHER  AT INTERSECTION MARKED CROSSWALK   \n",
       "4                OTHER           ON ROADWAY AT CROSSWALK   \n",
       "\n",
       "  pedestrian_obeyed_traffic_signal pedestrian_visibility at_fault  \\\n",
       "0               OBEYED PED. SIGNAL        LIGHT CLOTHING       No   \n",
       "1                              NaN        LIGHT CLOTHING       No   \n",
       "2                   NO PED. SIGNAL                   NaN       No   \n",
       "3               OBEYED PED. SIGNAL         DARK CLOTHING       No   \n",
       "4            DISOBEYED PED. SIGNAL         DARK CLOTHING      Yes   \n",
       "\n",
       "            injury_severity safety_equipment   latitude  longitude  \\\n",
       "0  SUSPECTED SERIOUS INJURY              NaN  39.041653 -77.051877   \n",
       "1    SUSPECTED MINOR INJURY             NONE  38.953000 -77.338000   \n",
       "2           POSSIBLE INJURY              NaN  39.201165 -77.248343   \n",
       "3    SUSPECTED MINOR INJURY              NaN  39.175252 -77.253611   \n",
       "4    SUSPECTED MINOR INJURY             NONE  39.157775 -77.204002   \n",
       "\n",
       "                      location  \n",
       "0  (39.04165333, -77.05187667)  \n",
       "1            (38.953, -77.338)  \n",
       "2    (39.201165, -77.24834333)  \n",
       "3  (39.17525182, -77.25361113)  \n",
       "4    (39.157775, -77.20400167)  \n",
       "\n",
       "[5 rows x 32 columns]"
      ]
     },
     "execution_count": 10,
     "metadata": {},
     "output_type": "execute_result"
    }
   ],
   "source": [
    "nonmotoristdf.head()"
   ]
  },
  {
   "cell_type": "code",
   "execution_count": 11,
   "metadata": {},
   "outputs": [
    {
     "data": {
      "text/html": [
       "<div>\n",
       "<style scoped>\n",
       "    .dataframe tbody tr th:only-of-type {\n",
       "        vertical-align: middle;\n",
       "    }\n",
       "\n",
       "    .dataframe tbody tr th {\n",
       "        vertical-align: top;\n",
       "    }\n",
       "\n",
       "    .dataframe thead th {\n",
       "        text-align: right;\n",
       "    }\n",
       "</style>\n",
       "<table border=\"1\" class=\"dataframe\">\n",
       "  <thead>\n",
       "    <tr style=\"text-align: right;\">\n",
       "      <th></th>\n",
       "      <th>report_number</th>\n",
       "      <th>local_case_number</th>\n",
       "      <th>agency_name</th>\n",
       "      <th>acrs_report_type</th>\n",
       "      <th>crash_date_time</th>\n",
       "      <th>route_type</th>\n",
       "      <th>road_name</th>\n",
       "      <th>cross_street_type</th>\n",
       "      <th>cross_street_name</th>\n",
       "      <th>off_road_description</th>\n",
       "      <th>...</th>\n",
       "      <th>pedestrian_actions</th>\n",
       "      <th>pedestrian_location</th>\n",
       "      <th>pedestrian_obeyed_traffic_signal</th>\n",
       "      <th>pedestrian_visibility</th>\n",
       "      <th>at_fault</th>\n",
       "      <th>injury_severity</th>\n",
       "      <th>safety_equipment</th>\n",
       "      <th>latitude</th>\n",
       "      <th>longitude</th>\n",
       "      <th>location</th>\n",
       "    </tr>\n",
       "  </thead>\n",
       "  <tbody>\n",
       "    <tr>\n",
       "      <th>1</th>\n",
       "      <td>MCP20160048</td>\n",
       "      <td>190026280</td>\n",
       "      <td>Montgomery County Police</td>\n",
       "      <td>Injury Crash</td>\n",
       "      <td>06/02/2019 12:19:00 PM</td>\n",
       "      <td>Maryland (State)</td>\n",
       "      <td>ROCKVILLE PIKE</td>\n",
       "      <td>Municipality</td>\n",
       "      <td>ROLLINS AVE</td>\n",
       "      <td>NaN</td>\n",
       "      <td>...</td>\n",
       "      <td>NO IMPROPER ACTIONS</td>\n",
       "      <td>SIDEWALK</td>\n",
       "      <td>NaN</td>\n",
       "      <td>LIGHT CLOTHING</td>\n",
       "      <td>No</td>\n",
       "      <td>SUSPECTED MINOR INJURY</td>\n",
       "      <td>NONE</td>\n",
       "      <td>38.953000</td>\n",
       "      <td>-77.338000</td>\n",
       "      <td>(38.953, -77.338)</td>\n",
       "    </tr>\n",
       "    <tr>\n",
       "      <th>2</th>\n",
       "      <td>MCP3171000V</td>\n",
       "      <td>190026764</td>\n",
       "      <td>Montgomery County Police</td>\n",
       "      <td>Injury Crash</td>\n",
       "      <td>06/04/2019 09:02:00 PM</td>\n",
       "      <td>NaN</td>\n",
       "      <td>NaN</td>\n",
       "      <td>NaN</td>\n",
       "      <td>NaN</td>\n",
       "      <td>HOME DEPOT PARKING LOT\\n 21010 FREDERICK RD GE...</td>\n",
       "      <td>...</td>\n",
       "      <td>NO IMPROPER ACTIONS</td>\n",
       "      <td>AT INTERSECTION BUT NO CROSSWALK</td>\n",
       "      <td>NO PED. SIGNAL</td>\n",
       "      <td>NaN</td>\n",
       "      <td>No</td>\n",
       "      <td>POSSIBLE INJURY</td>\n",
       "      <td>NaN</td>\n",
       "      <td>39.201165</td>\n",
       "      <td>-77.248343</td>\n",
       "      <td>(39.201165, -77.24834333)</td>\n",
       "    </tr>\n",
       "    <tr>\n",
       "      <th>3</th>\n",
       "      <td>MCP3000002N</td>\n",
       "      <td>190026219</td>\n",
       "      <td>Montgomery County Police</td>\n",
       "      <td>Injury Crash</td>\n",
       "      <td>06/01/2019 10:27:00 PM</td>\n",
       "      <td>County</td>\n",
       "      <td>MIDDLEBROOK RD</td>\n",
       "      <td>County</td>\n",
       "      <td>WARING STATION RD</td>\n",
       "      <td>NaN</td>\n",
       "      <td>...</td>\n",
       "      <td>OTHER</td>\n",
       "      <td>AT INTERSECTION MARKED CROSSWALK</td>\n",
       "      <td>OBEYED PED. SIGNAL</td>\n",
       "      <td>DARK CLOTHING</td>\n",
       "      <td>No</td>\n",
       "      <td>SUSPECTED MINOR INJURY</td>\n",
       "      <td>NaN</td>\n",
       "      <td>39.175252</td>\n",
       "      <td>-77.253611</td>\n",
       "      <td>(39.17525182, -77.25361113)</td>\n",
       "    </tr>\n",
       "    <tr>\n",
       "      <th>4</th>\n",
       "      <td>EJ7876000N</td>\n",
       "      <td>190026354</td>\n",
       "      <td>Gaithersburg Police Depar</td>\n",
       "      <td>Injury Crash</td>\n",
       "      <td>06/02/2019 10:10:00 PM</td>\n",
       "      <td>Maryland (State)</td>\n",
       "      <td>MONTGOMERY VILLAGE AVE</td>\n",
       "      <td>Unknown</td>\n",
       "      <td>SPUR TO LOST KNIFE RD</td>\n",
       "      <td>NaN</td>\n",
       "      <td>...</td>\n",
       "      <td>OTHER</td>\n",
       "      <td>ON ROADWAY AT CROSSWALK</td>\n",
       "      <td>DISOBEYED PED. SIGNAL</td>\n",
       "      <td>DARK CLOTHING</td>\n",
       "      <td>Yes</td>\n",
       "      <td>SUSPECTED MINOR INJURY</td>\n",
       "      <td>NONE</td>\n",
       "      <td>39.157775</td>\n",
       "      <td>-77.204002</td>\n",
       "      <td>(39.157775, -77.20400167)</td>\n",
       "    </tr>\n",
       "    <tr>\n",
       "      <th>5</th>\n",
       "      <td>MCP20080062</td>\n",
       "      <td>190023569</td>\n",
       "      <td>Montgomery County Police</td>\n",
       "      <td>Injury Crash</td>\n",
       "      <td>05/18/2019 06:11:00 PM</td>\n",
       "      <td>County</td>\n",
       "      <td>FALLS RD</td>\n",
       "      <td>County</td>\n",
       "      <td>BURBANK DR</td>\n",
       "      <td>NaN</td>\n",
       "      <td>...</td>\n",
       "      <td>WRONG WAY RIDING OR WALKING</td>\n",
       "      <td>ON ROADWAY NOT AT CROSSWALK</td>\n",
       "      <td>NaN</td>\n",
       "      <td>LIGHT CLOTHING</td>\n",
       "      <td>Yes</td>\n",
       "      <td>SUSPECTED MINOR INJURY</td>\n",
       "      <td>MC/BIKE HELMET</td>\n",
       "      <td>39.014097</td>\n",
       "      <td>-77.215137</td>\n",
       "      <td>(39.01409667, -77.21513667)</td>\n",
       "    </tr>\n",
       "  </tbody>\n",
       "</table>\n",
       "<p>5 rows × 32 columns</p>\n",
       "</div>"
      ],
      "text/plain": [
       "  report_number  local_case_number                agency_name  \\\n",
       "1   MCP20160048          190026280   Montgomery County Police   \n",
       "2   MCP3171000V          190026764   Montgomery County Police   \n",
       "3   MCP3000002N          190026219   Montgomery County Police   \n",
       "4    EJ7876000N          190026354  Gaithersburg Police Depar   \n",
       "5   MCP20080062          190023569   Montgomery County Police   \n",
       "\n",
       "  acrs_report_type         crash_date_time        route_type  \\\n",
       "1     Injury Crash  06/02/2019 12:19:00 PM  Maryland (State)   \n",
       "2     Injury Crash  06/04/2019 09:02:00 PM               NaN   \n",
       "3     Injury Crash  06/01/2019 10:27:00 PM            County   \n",
       "4     Injury Crash  06/02/2019 10:10:00 PM  Maryland (State)   \n",
       "5     Injury Crash  05/18/2019 06:11:00 PM            County   \n",
       "\n",
       "                road_name cross_street_type      cross_street_name  \\\n",
       "1          ROCKVILLE PIKE      Municipality            ROLLINS AVE   \n",
       "2                     NaN               NaN                    NaN   \n",
       "3          MIDDLEBROOK RD            County      WARING STATION RD   \n",
       "4  MONTGOMERY VILLAGE AVE           Unknown  SPUR TO LOST KNIFE RD   \n",
       "5                FALLS RD            County             BURBANK DR   \n",
       "\n",
       "                                off_road_description  ...  \\\n",
       "1                                                NaN  ...   \n",
       "2  HOME DEPOT PARKING LOT\\n 21010 FREDERICK RD GE...  ...   \n",
       "3                                                NaN  ...   \n",
       "4                                                NaN  ...   \n",
       "5                                                NaN  ...   \n",
       "\n",
       "            pedestrian_actions               pedestrian_location  \\\n",
       "1          NO IMPROPER ACTIONS                          SIDEWALK   \n",
       "2          NO IMPROPER ACTIONS  AT INTERSECTION BUT NO CROSSWALK   \n",
       "3                        OTHER  AT INTERSECTION MARKED CROSSWALK   \n",
       "4                        OTHER           ON ROADWAY AT CROSSWALK   \n",
       "5  WRONG WAY RIDING OR WALKING       ON ROADWAY NOT AT CROSSWALK   \n",
       "\n",
       "  pedestrian_obeyed_traffic_signal pedestrian_visibility at_fault  \\\n",
       "1                              NaN        LIGHT CLOTHING       No   \n",
       "2                   NO PED. SIGNAL                   NaN       No   \n",
       "3               OBEYED PED. SIGNAL         DARK CLOTHING       No   \n",
       "4            DISOBEYED PED. SIGNAL         DARK CLOTHING      Yes   \n",
       "5                              NaN        LIGHT CLOTHING      Yes   \n",
       "\n",
       "          injury_severity safety_equipment   latitude  longitude  \\\n",
       "1  SUSPECTED MINOR INJURY             NONE  38.953000 -77.338000   \n",
       "2         POSSIBLE INJURY              NaN  39.201165 -77.248343   \n",
       "3  SUSPECTED MINOR INJURY              NaN  39.175252 -77.253611   \n",
       "4  SUSPECTED MINOR INJURY             NONE  39.157775 -77.204002   \n",
       "5  SUSPECTED MINOR INJURY   MC/BIKE HELMET  39.014097 -77.215137   \n",
       "\n",
       "                      location  \n",
       "1            (38.953, -77.338)  \n",
       "2    (39.201165, -77.24834333)  \n",
       "3  (39.17525182, -77.25361113)  \n",
       "4    (39.157775, -77.20400167)  \n",
       "5  (39.01409667, -77.21513667)  \n",
       "\n",
       "[5 rows x 32 columns]"
      ]
     },
     "execution_count": 11,
     "metadata": {},
     "output_type": "execute_result"
    }
   ],
   "source": [
    "# Drop the first row --- the duplicated headers\n",
    "\n",
    "nonmotoristdf = nonmotoristdf.drop(nonmotoristdf.index[0])\n",
    "nonmotoristdf.head()"
   ]
  },
  {
   "cell_type": "markdown",
   "metadata": {},
   "source": [
    "#### Convert date-time objects to datetime format"
   ]
  },
  {
   "cell_type": "code",
   "execution_count": 12,
   "metadata": {},
   "outputs": [],
   "source": [
    "nonmotoristdf['crash_date_time'] = pd.to_datetime(nonmotoristdf['crash_date_time']) "
   ]
  },
  {
   "cell_type": "code",
   "execution_count": 13,
   "metadata": {},
   "outputs": [
    {
     "name": "stdout",
     "output_type": "stream",
     "text": [
      "<class 'pandas.core.frame.DataFrame'>\n",
      "Int64Index: 3935 entries, 1 to 3935\n",
      "Data columns (total 32 columns):\n",
      " #   Column                            Non-Null Count  Dtype         \n",
      "---  ------                            --------------  -----         \n",
      " 0   report_number                     3935 non-null   object        \n",
      " 1   local_case_number                 3935 non-null   int64         \n",
      " 2   agency_name                       3935 non-null   object        \n",
      " 3   acrs_report_type                  3935 non-null   object        \n",
      " 4   crash_date_time                   3935 non-null   datetime64[ns]\n",
      " 5   route_type                        3013 non-null   object        \n",
      " 6   road_name                         3061 non-null   object        \n",
      " 7   cross_street_type                 3013 non-null   object        \n",
      " 8   cross_street_name                 3060 non-null   object        \n",
      " 9   off_road_description              874 non-null    object        \n",
      " 10  municipality                      434 non-null    object        \n",
      " 11  related_non_motorist              3935 non-null   object        \n",
      " 12  collision_type                    3807 non-null   object        \n",
      " 13  weather                           3577 non-null   object        \n",
      " 14  surface_condition                 2947 non-null   object        \n",
      " 15  light                             3901 non-null   object        \n",
      " 16  traffic_control                   3329 non-null   object        \n",
      " 17  driver_substance_abuse            3210 non-null   object        \n",
      " 18  non_motorist_substance_abuse      3116 non-null   object        \n",
      " 19  person_id                         3935 non-null   object        \n",
      " 20  pedestrian_type                   3935 non-null   object        \n",
      " 21  pedestrian_movement               3829 non-null   object        \n",
      " 22  pedestrian_actions                3723 non-null   object        \n",
      " 23  pedestrian_location               3823 non-null   object        \n",
      " 24  pedestrian_obeyed_traffic_signal  2759 non-null   object        \n",
      " 25  pedestrian_visibility             3567 non-null   object        \n",
      " 26  at_fault                          3648 non-null   object        \n",
      " 27  injury_severity                   3935 non-null   object        \n",
      " 28  safety_equipment                  2537 non-null   object        \n",
      " 29  latitude                          3935 non-null   float64       \n",
      " 30  longitude                         3935 non-null   float64       \n",
      " 31  location                          3935 non-null   object        \n",
      "dtypes: datetime64[ns](1), float64(2), int64(1), object(28)\n",
      "memory usage: 1014.5+ KB\n"
     ]
    }
   ],
   "source": [
    "nonmotoristdf.info()"
   ]
  },
  {
   "cell_type": "markdown",
   "metadata": {},
   "source": [
    "Remove the columns I know I don't want"
   ]
  },
  {
   "cell_type": "code",
   "execution_count": null,
   "metadata": {},
   "outputs": [],
   "source": []
  },
  {
   "cell_type": "code",
   "execution_count": 14,
   "metadata": {},
   "outputs": [
    {
     "name": "stdout",
     "output_type": "stream",
     "text": [
      "<class 'pandas.core.frame.DataFrame'>\n",
      "Int64Index: 3935 entries, 1 to 3935\n",
      "Data columns (total 32 columns):\n",
      " #   Column                            Non-Null Count  Dtype         \n",
      "---  ------                            --------------  -----         \n",
      " 0   report_number                     3935 non-null   object        \n",
      " 1   local_case_number                 3935 non-null   int64         \n",
      " 2   agency_name                       3935 non-null   object        \n",
      " 3   acrs_report_type                  3935 non-null   object        \n",
      " 4   crash_date_time                   3935 non-null   datetime64[ns]\n",
      " 5   route_type                        3013 non-null   object        \n",
      " 6   road_name                         3061 non-null   object        \n",
      " 7   cross_street_type                 3013 non-null   object        \n",
      " 8   cross_street_name                 3060 non-null   object        \n",
      " 9   off_road_description              874 non-null    object        \n",
      " 10  municipality                      434 non-null    object        \n",
      " 11  related_non_motorist              3935 non-null   object        \n",
      " 12  collision_type                    3807 non-null   object        \n",
      " 13  weather                           3577 non-null   object        \n",
      " 14  surface_condition                 2947 non-null   object        \n",
      " 15  light                             3901 non-null   object        \n",
      " 16  traffic_control                   3329 non-null   object        \n",
      " 17  driver_substance_abuse            3210 non-null   object        \n",
      " 18  non_motorist_substance_abuse      3116 non-null   object        \n",
      " 19  person_id                         3935 non-null   object        \n",
      " 20  pedestrian_type                   3935 non-null   object        \n",
      " 21  pedestrian_movement               3829 non-null   object        \n",
      " 22  pedestrian_actions                3723 non-null   object        \n",
      " 23  pedestrian_location               3823 non-null   object        \n",
      " 24  pedestrian_obeyed_traffic_signal  2759 non-null   object        \n",
      " 25  pedestrian_visibility             3567 non-null   object        \n",
      " 26  at_fault                          3648 non-null   object        \n",
      " 27  injury_severity                   3935 non-null   object        \n",
      " 28  safety_equipment                  2537 non-null   object        \n",
      " 29  latitude                          3935 non-null   float64       \n",
      " 30  longitude                         3935 non-null   float64       \n",
      " 31  location                          3935 non-null   object        \n",
      "dtypes: datetime64[ns](1), float64(2), int64(1), object(28)\n",
      "memory usage: 1014.5+ KB\n"
     ]
    }
   ],
   "source": [
    "nonmotoristdf.info()"
   ]
  },
  {
   "cell_type": "markdown",
   "metadata": {},
   "source": [
    "#### Clean up the dataset\n",
    "Check for duplicates and remove as necessary  \n",
    "Check for consistency of entries within columns"
   ]
  },
  {
   "cell_type": "code",
   "execution_count": 15,
   "metadata": {},
   "outputs": [
    {
     "data": {
      "text/plain": [
       "3753"
      ]
     },
     "execution_count": 15,
     "metadata": {},
     "output_type": "execute_result"
    }
   ],
   "source": [
    "nonmotoristrprts = nonmotoristdf.report_number\n",
    "nonmotoristrprts.nunique()"
   ]
  },
  {
   "cell_type": "markdown",
   "metadata": {},
   "source": [
    "There seem to be duplicates, which is the same situation with the driver df above."
   ]
  },
  {
   "cell_type": "code",
   "execution_count": 16,
   "metadata": {},
   "outputs": [
    {
     "data": {
      "text/html": [
       "<div>\n",
       "<style scoped>\n",
       "    .dataframe tbody tr th:only-of-type {\n",
       "        vertical-align: middle;\n",
       "    }\n",
       "\n",
       "    .dataframe tbody tr th {\n",
       "        vertical-align: top;\n",
       "    }\n",
       "\n",
       "    .dataframe thead th {\n",
       "        text-align: right;\n",
       "    }\n",
       "</style>\n",
       "<table border=\"1\" class=\"dataframe\">\n",
       "  <thead>\n",
       "    <tr style=\"text-align: right;\">\n",
       "      <th></th>\n",
       "      <th>report_number</th>\n",
       "      <th>local_case_number</th>\n",
       "      <th>agency_name</th>\n",
       "      <th>acrs_report_type</th>\n",
       "      <th>crash_date_time</th>\n",
       "      <th>route_type</th>\n",
       "      <th>road_name</th>\n",
       "      <th>cross_street_type</th>\n",
       "      <th>cross_street_name</th>\n",
       "      <th>off_road_description</th>\n",
       "      <th>...</th>\n",
       "      <th>pedestrian_actions</th>\n",
       "      <th>pedestrian_location</th>\n",
       "      <th>pedestrian_obeyed_traffic_signal</th>\n",
       "      <th>pedestrian_visibility</th>\n",
       "      <th>at_fault</th>\n",
       "      <th>injury_severity</th>\n",
       "      <th>safety_equipment</th>\n",
       "      <th>latitude</th>\n",
       "      <th>longitude</th>\n",
       "      <th>location</th>\n",
       "    </tr>\n",
       "  </thead>\n",
       "  <tbody>\n",
       "    <tr>\n",
       "      <th>43</th>\n",
       "      <td>MCP3137000T</td>\n",
       "      <td>190025697</td>\n",
       "      <td>Montgomery County Police</td>\n",
       "      <td>Injury Crash</td>\n",
       "      <td>2019-05-29 23:31:00</td>\n",
       "      <td>County</td>\n",
       "      <td>RUATAN ST</td>\n",
       "      <td>County</td>\n",
       "      <td>QUEBEC ST</td>\n",
       "      <td>NaN</td>\n",
       "      <td>...</td>\n",
       "      <td>NO IMPROPER ACTIONS</td>\n",
       "      <td>OTHER</td>\n",
       "      <td>NaN</td>\n",
       "      <td>MIXED CLOTHING</td>\n",
       "      <td>No</td>\n",
       "      <td>POSSIBLE INJURY</td>\n",
       "      <td>NaN</td>\n",
       "      <td>39.000362</td>\n",
       "      <td>-76.989560</td>\n",
       "      <td>(39.00036175, -76.98955953)</td>\n",
       "    </tr>\n",
       "    <tr>\n",
       "      <th>53</th>\n",
       "      <td>MCP3161001S</td>\n",
       "      <td>190048151</td>\n",
       "      <td>Montgomery County Police</td>\n",
       "      <td>Injury Crash</td>\n",
       "      <td>2019-10-07 15:39:00</td>\n",
       "      <td>Maryland (State)</td>\n",
       "      <td>UNIVERSITY BLVD W</td>\n",
       "      <td>Municipality</td>\n",
       "      <td>PERRY AVE</td>\n",
       "      <td>NaN</td>\n",
       "      <td>...</td>\n",
       "      <td>UNKNOWN</td>\n",
       "      <td>ON ROADWAY AT CROSSWALK</td>\n",
       "      <td>UNKNOWN</td>\n",
       "      <td>DARK CLOTHING</td>\n",
       "      <td>No</td>\n",
       "      <td>POSSIBLE INJURY</td>\n",
       "      <td>NONE</td>\n",
       "      <td>39.032748</td>\n",
       "      <td>-77.073788</td>\n",
       "      <td>(39.03274833, -77.07378833)</td>\n",
       "    </tr>\n",
       "    <tr>\n",
       "      <th>61</th>\n",
       "      <td>MCP3161001S</td>\n",
       "      <td>190048151</td>\n",
       "      <td>Montgomery County Police</td>\n",
       "      <td>Injury Crash</td>\n",
       "      <td>2019-10-07 15:39:00</td>\n",
       "      <td>Maryland (State)</td>\n",
       "      <td>UNIVERSITY BLVD W</td>\n",
       "      <td>Municipality</td>\n",
       "      <td>PERRY AVE</td>\n",
       "      <td>NaN</td>\n",
       "      <td>...</td>\n",
       "      <td>UNKNOWN</td>\n",
       "      <td>ON ROADWAY AT CROSSWALK</td>\n",
       "      <td>UNKNOWN</td>\n",
       "      <td>DARK CLOTHING</td>\n",
       "      <td>No</td>\n",
       "      <td>NO APPARENT INJURY</td>\n",
       "      <td>NONE</td>\n",
       "      <td>39.032748</td>\n",
       "      <td>-77.073788</td>\n",
       "      <td>(39.03274833, -77.07378833)</td>\n",
       "    </tr>\n",
       "    <tr>\n",
       "      <th>67</th>\n",
       "      <td>MCP3173000K</td>\n",
       "      <td>190025858</td>\n",
       "      <td>Montgomery County Police</td>\n",
       "      <td>Injury Crash</td>\n",
       "      <td>2019-06-12 07:14:00</td>\n",
       "      <td>County</td>\n",
       "      <td>BRUNETT AVE</td>\n",
       "      <td>Maryland (State)</td>\n",
       "      <td>UNIVERSITY BLVD W</td>\n",
       "      <td>NaN</td>\n",
       "      <td>...</td>\n",
       "      <td>NO IMPROPER ACTIONS</td>\n",
       "      <td>ON ROADWAY AT CROSSWALK</td>\n",
       "      <td>NO PED. SIGNAL</td>\n",
       "      <td>NaN</td>\n",
       "      <td>No</td>\n",
       "      <td>POSSIBLE INJURY</td>\n",
       "      <td>NaN</td>\n",
       "      <td>39.022937</td>\n",
       "      <td>-77.016886</td>\n",
       "      <td>(39.0229374, -77.01688638)</td>\n",
       "    </tr>\n",
       "    <tr>\n",
       "      <th>75</th>\n",
       "      <td>MCP3173000K</td>\n",
       "      <td>190025858</td>\n",
       "      <td>Montgomery County Police</td>\n",
       "      <td>Injury Crash</td>\n",
       "      <td>2019-06-12 07:14:00</td>\n",
       "      <td>County</td>\n",
       "      <td>BRUNETT AVE</td>\n",
       "      <td>Maryland (State)</td>\n",
       "      <td>UNIVERSITY BLVD W</td>\n",
       "      <td>NaN</td>\n",
       "      <td>...</td>\n",
       "      <td>NO IMPROPER ACTIONS</td>\n",
       "      <td>ON ROADWAY AT CROSSWALK</td>\n",
       "      <td>NO PED. SIGNAL</td>\n",
       "      <td>NaN</td>\n",
       "      <td>No</td>\n",
       "      <td>NO APPARENT INJURY</td>\n",
       "      <td>NaN</td>\n",
       "      <td>39.022937</td>\n",
       "      <td>-77.016886</td>\n",
       "      <td>(39.0229374, -77.01688638)</td>\n",
       "    </tr>\n",
       "    <tr>\n",
       "      <th>...</th>\n",
       "      <td>...</td>\n",
       "      <td>...</td>\n",
       "      <td>...</td>\n",
       "      <td>...</td>\n",
       "      <td>...</td>\n",
       "      <td>...</td>\n",
       "      <td>...</td>\n",
       "      <td>...</td>\n",
       "      <td>...</td>\n",
       "      <td>...</td>\n",
       "      <td>...</td>\n",
       "      <td>...</td>\n",
       "      <td>...</td>\n",
       "      <td>...</td>\n",
       "      <td>...</td>\n",
       "      <td>...</td>\n",
       "      <td>...</td>\n",
       "      <td>...</td>\n",
       "      <td>...</td>\n",
       "      <td>...</td>\n",
       "      <td>...</td>\n",
       "    </tr>\n",
       "    <tr>\n",
       "      <th>3796</th>\n",
       "      <td>MCP2559002Q</td>\n",
       "      <td>180051278</td>\n",
       "      <td>Montgomery County Police</td>\n",
       "      <td>Injury Crash</td>\n",
       "      <td>2018-10-13 12:54:00</td>\n",
       "      <td>County</td>\n",
       "      <td>LOST KNIFE RD</td>\n",
       "      <td>County</td>\n",
       "      <td>CONTOUR RD</td>\n",
       "      <td>NaN</td>\n",
       "      <td>...</td>\n",
       "      <td>OTHER</td>\n",
       "      <td>AT INTERSECTION BUT NO CROSSWALK</td>\n",
       "      <td>NO PED. SIGNAL</td>\n",
       "      <td>MIXED CLOTHING</td>\n",
       "      <td>Yes</td>\n",
       "      <td>NO APPARENT INJURY</td>\n",
       "      <td>NONE</td>\n",
       "      <td>39.153857</td>\n",
       "      <td>-77.199758</td>\n",
       "      <td>(39.15385667, -77.19975833)</td>\n",
       "    </tr>\n",
       "    <tr>\n",
       "      <th>3803</th>\n",
       "      <td>MCP2689003J</td>\n",
       "      <td>170523840</td>\n",
       "      <td>Montgomery County Police</td>\n",
       "      <td>Injury Crash</td>\n",
       "      <td>2017-08-09 10:24:00</td>\n",
       "      <td>Maryland (State)</td>\n",
       "      <td>VEIRS MILL RD</td>\n",
       "      <td>Municipality</td>\n",
       "      <td>ATLANTIC AVE</td>\n",
       "      <td>NaN</td>\n",
       "      <td>...</td>\n",
       "      <td>NO IMPROPER ACTIONS</td>\n",
       "      <td>ON ROADWAY AT CROSSWALK</td>\n",
       "      <td>OBEYED PED. SIGNAL</td>\n",
       "      <td>LIGHT CLOTHING</td>\n",
       "      <td>No</td>\n",
       "      <td>SUSPECTED MINOR INJURY</td>\n",
       "      <td>NONE</td>\n",
       "      <td>39.074875</td>\n",
       "      <td>-77.115450</td>\n",
       "      <td>(39.07487539, -77.11544976)</td>\n",
       "    </tr>\n",
       "    <tr>\n",
       "      <th>3824</th>\n",
       "      <td>MCP2894005H</td>\n",
       "      <td>190006431</td>\n",
       "      <td>Montgomery County Police</td>\n",
       "      <td>Injury Crash</td>\n",
       "      <td>2019-02-09 14:07:00</td>\n",
       "      <td>NaN</td>\n",
       "      <td>NaN</td>\n",
       "      <td>NaN</td>\n",
       "      <td>NaN</td>\n",
       "      <td>4816 BOILING BROOK PKWY, GOODWILL PARKING LOT</td>\n",
       "      <td>...</td>\n",
       "      <td>NO IMPROPER ACTIONS</td>\n",
       "      <td>OTHER</td>\n",
       "      <td>NaN</td>\n",
       "      <td>MIXED CLOTHING</td>\n",
       "      <td>No</td>\n",
       "      <td>POSSIBLE INJURY</td>\n",
       "      <td>NaN</td>\n",
       "      <td>39.045243</td>\n",
       "      <td>-77.113008</td>\n",
       "      <td>(39.04524333, -77.11300833)</td>\n",
       "    </tr>\n",
       "    <tr>\n",
       "      <th>3840</th>\n",
       "      <td>MCP28460021</td>\n",
       "      <td>16032703</td>\n",
       "      <td>Montgomery County Police</td>\n",
       "      <td>Injury Crash</td>\n",
       "      <td>2016-06-28 13:15:00</td>\n",
       "      <td>County</td>\n",
       "      <td>SHOREFIELD RD</td>\n",
       "      <td>Maryland (State)</td>\n",
       "      <td>GEORGIA AVE</td>\n",
       "      <td>NaN</td>\n",
       "      <td>...</td>\n",
       "      <td>NO IMPROPER ACTIONS</td>\n",
       "      <td>ON ROADWAY AT CROSSWALK</td>\n",
       "      <td>OBEYED PED. SIGNAL</td>\n",
       "      <td>MIXED CLOTHING</td>\n",
       "      <td>No</td>\n",
       "      <td>POSSIBLE INJURY</td>\n",
       "      <td>NONE</td>\n",
       "      <td>39.053167</td>\n",
       "      <td>-77.050735</td>\n",
       "      <td>(39.05316667, -77.050735)</td>\n",
       "    </tr>\n",
       "    <tr>\n",
       "      <th>3849</th>\n",
       "      <td>MCP28820023</td>\n",
       "      <td>170525535</td>\n",
       "      <td>Montgomery County Police</td>\n",
       "      <td>Injury Crash</td>\n",
       "      <td>2017-08-18 14:55:00</td>\n",
       "      <td>NaN</td>\n",
       "      <td>NaN</td>\n",
       "      <td>NaN</td>\n",
       "      <td>NaN</td>\n",
       "      <td>PARKING LOT IN FRONT OF 19552 CRYSTAL ROCK DRIVE</td>\n",
       "      <td>...</td>\n",
       "      <td>INATTENTIVE</td>\n",
       "      <td>OTHER</td>\n",
       "      <td>NaN</td>\n",
       "      <td>MIXED CLOTHING</td>\n",
       "      <td>Yes</td>\n",
       "      <td>SUSPECTED MINOR INJURY</td>\n",
       "      <td>NONE</td>\n",
       "      <td>39.178102</td>\n",
       "      <td>-77.263098</td>\n",
       "      <td>(39.17810167, -77.26309833)</td>\n",
       "    </tr>\n",
       "  </tbody>\n",
       "</table>\n",
       "<p>182 rows × 32 columns</p>\n",
       "</div>"
      ],
      "text/plain": [
       "     report_number  local_case_number               agency_name  \\\n",
       "43     MCP3137000T          190025697  Montgomery County Police   \n",
       "53     MCP3161001S          190048151  Montgomery County Police   \n",
       "61     MCP3161001S          190048151  Montgomery County Police   \n",
       "67     MCP3173000K          190025858  Montgomery County Police   \n",
       "75     MCP3173000K          190025858  Montgomery County Police   \n",
       "...            ...                ...                       ...   \n",
       "3796   MCP2559002Q          180051278  Montgomery County Police   \n",
       "3803   MCP2689003J          170523840  Montgomery County Police   \n",
       "3824   MCP2894005H          190006431  Montgomery County Police   \n",
       "3840   MCP28460021           16032703  Montgomery County Police   \n",
       "3849   MCP28820023          170525535  Montgomery County Police   \n",
       "\n",
       "     acrs_report_type     crash_date_time        route_type  \\\n",
       "43       Injury Crash 2019-05-29 23:31:00            County   \n",
       "53       Injury Crash 2019-10-07 15:39:00  Maryland (State)   \n",
       "61       Injury Crash 2019-10-07 15:39:00  Maryland (State)   \n",
       "67       Injury Crash 2019-06-12 07:14:00            County   \n",
       "75       Injury Crash 2019-06-12 07:14:00            County   \n",
       "...               ...                 ...               ...   \n",
       "3796     Injury Crash 2018-10-13 12:54:00            County   \n",
       "3803     Injury Crash 2017-08-09 10:24:00  Maryland (State)   \n",
       "3824     Injury Crash 2019-02-09 14:07:00               NaN   \n",
       "3840     Injury Crash 2016-06-28 13:15:00            County   \n",
       "3849     Injury Crash 2017-08-18 14:55:00               NaN   \n",
       "\n",
       "              road_name cross_street_type  cross_street_name  \\\n",
       "43            RUATAN ST            County          QUEBEC ST   \n",
       "53    UNIVERSITY BLVD W      Municipality          PERRY AVE   \n",
       "61    UNIVERSITY BLVD W      Municipality          PERRY AVE   \n",
       "67          BRUNETT AVE  Maryland (State)  UNIVERSITY BLVD W   \n",
       "75          BRUNETT AVE  Maryland (State)  UNIVERSITY BLVD W   \n",
       "...                 ...               ...                ...   \n",
       "3796      LOST KNIFE RD            County         CONTOUR RD   \n",
       "3803      VEIRS MILL RD      Municipality       ATLANTIC AVE   \n",
       "3824                NaN               NaN                NaN   \n",
       "3840      SHOREFIELD RD  Maryland (State)        GEORGIA AVE   \n",
       "3849                NaN               NaN                NaN   \n",
       "\n",
       "                                  off_road_description  ...  \\\n",
       "43                                                 NaN  ...   \n",
       "53                                                 NaN  ...   \n",
       "61                                                 NaN  ...   \n",
       "67                                                 NaN  ...   \n",
       "75                                                 NaN  ...   \n",
       "...                                                ...  ...   \n",
       "3796                                               NaN  ...   \n",
       "3803                                               NaN  ...   \n",
       "3824     4816 BOILING BROOK PKWY, GOODWILL PARKING LOT  ...   \n",
       "3840                                               NaN  ...   \n",
       "3849  PARKING LOT IN FRONT OF 19552 CRYSTAL ROCK DRIVE  ...   \n",
       "\n",
       "       pedestrian_actions               pedestrian_location  \\\n",
       "43    NO IMPROPER ACTIONS                             OTHER   \n",
       "53                UNKNOWN           ON ROADWAY AT CROSSWALK   \n",
       "61                UNKNOWN           ON ROADWAY AT CROSSWALK   \n",
       "67    NO IMPROPER ACTIONS           ON ROADWAY AT CROSSWALK   \n",
       "75    NO IMPROPER ACTIONS           ON ROADWAY AT CROSSWALK   \n",
       "...                   ...                               ...   \n",
       "3796                OTHER  AT INTERSECTION BUT NO CROSSWALK   \n",
       "3803  NO IMPROPER ACTIONS           ON ROADWAY AT CROSSWALK   \n",
       "3824  NO IMPROPER ACTIONS                             OTHER   \n",
       "3840  NO IMPROPER ACTIONS           ON ROADWAY AT CROSSWALK   \n",
       "3849          INATTENTIVE                             OTHER   \n",
       "\n",
       "     pedestrian_obeyed_traffic_signal pedestrian_visibility at_fault  \\\n",
       "43                                NaN        MIXED CLOTHING       No   \n",
       "53                            UNKNOWN         DARK CLOTHING       No   \n",
       "61                            UNKNOWN         DARK CLOTHING       No   \n",
       "67                     NO PED. SIGNAL                   NaN       No   \n",
       "75                     NO PED. SIGNAL                   NaN       No   \n",
       "...                               ...                   ...      ...   \n",
       "3796                   NO PED. SIGNAL        MIXED CLOTHING      Yes   \n",
       "3803               OBEYED PED. SIGNAL        LIGHT CLOTHING       No   \n",
       "3824                              NaN        MIXED CLOTHING       No   \n",
       "3840               OBEYED PED. SIGNAL        MIXED CLOTHING       No   \n",
       "3849                              NaN        MIXED CLOTHING      Yes   \n",
       "\n",
       "             injury_severity safety_equipment   latitude  longitude  \\\n",
       "43           POSSIBLE INJURY              NaN  39.000362 -76.989560   \n",
       "53           POSSIBLE INJURY             NONE  39.032748 -77.073788   \n",
       "61        NO APPARENT INJURY             NONE  39.032748 -77.073788   \n",
       "67           POSSIBLE INJURY              NaN  39.022937 -77.016886   \n",
       "75        NO APPARENT INJURY              NaN  39.022937 -77.016886   \n",
       "...                      ...              ...        ...        ...   \n",
       "3796      NO APPARENT INJURY             NONE  39.153857 -77.199758   \n",
       "3803  SUSPECTED MINOR INJURY             NONE  39.074875 -77.115450   \n",
       "3824         POSSIBLE INJURY              NaN  39.045243 -77.113008   \n",
       "3840         POSSIBLE INJURY             NONE  39.053167 -77.050735   \n",
       "3849  SUSPECTED MINOR INJURY             NONE  39.178102 -77.263098   \n",
       "\n",
       "                         location  \n",
       "43    (39.00036175, -76.98955953)  \n",
       "53    (39.03274833, -77.07378833)  \n",
       "61    (39.03274833, -77.07378833)  \n",
       "67     (39.0229374, -77.01688638)  \n",
       "75     (39.0229374, -77.01688638)  \n",
       "...                           ...  \n",
       "3796  (39.15385667, -77.19975833)  \n",
       "3803  (39.07487539, -77.11544976)  \n",
       "3824  (39.04524333, -77.11300833)  \n",
       "3840    (39.05316667, -77.050735)  \n",
       "3849  (39.17810167, -77.26309833)  \n",
       "\n",
       "[182 rows x 32 columns]"
      ]
     },
     "execution_count": 16,
     "metadata": {},
     "output_type": "execute_result"
    }
   ],
   "source": [
    "duplicateRowsDF2 = nonmotoristdf[nonmotoristdf.duplicated('report_number')]\n",
    "duplicateRowsDF2"
   ]
  },
  {
   "cell_type": "markdown",
   "metadata": {},
   "source": [
    "As with the above, I'll check the case numbers as well."
   ]
  },
  {
   "cell_type": "code",
   "execution_count": 17,
   "metadata": {},
   "outputs": [
    {
     "data": {
      "text/plain": [
       "3753"
      ]
     },
     "execution_count": 17,
     "metadata": {},
     "output_type": "execute_result"
    }
   ],
   "source": [
    "nonmotoristcases = nonmotoristdf.local_case_number\n",
    "nonmotoristcases.nunique()"
   ]
  },
  {
   "cell_type": "markdown",
   "metadata": {},
   "source": [
    "Same as above, so I will remove the duplicates"
   ]
  },
  {
   "cell_type": "code",
   "execution_count": 18,
   "metadata": {},
   "outputs": [
    {
     "data": {
      "text/html": [
       "<div>\n",
       "<style scoped>\n",
       "    .dataframe tbody tr th:only-of-type {\n",
       "        vertical-align: middle;\n",
       "    }\n",
       "\n",
       "    .dataframe tbody tr th {\n",
       "        vertical-align: top;\n",
       "    }\n",
       "\n",
       "    .dataframe thead th {\n",
       "        text-align: right;\n",
       "    }\n",
       "</style>\n",
       "<table border=\"1\" class=\"dataframe\">\n",
       "  <thead>\n",
       "    <tr style=\"text-align: right;\">\n",
       "      <th></th>\n",
       "      <th>report_number</th>\n",
       "      <th>local_case_number</th>\n",
       "      <th>agency_name</th>\n",
       "      <th>acrs_report_type</th>\n",
       "      <th>crash_date_time</th>\n",
       "      <th>route_type</th>\n",
       "      <th>road_name</th>\n",
       "      <th>cross_street_type</th>\n",
       "      <th>cross_street_name</th>\n",
       "      <th>off_road_description</th>\n",
       "      <th>...</th>\n",
       "      <th>pedestrian_actions</th>\n",
       "      <th>pedestrian_location</th>\n",
       "      <th>pedestrian_obeyed_traffic_signal</th>\n",
       "      <th>pedestrian_visibility</th>\n",
       "      <th>at_fault</th>\n",
       "      <th>injury_severity</th>\n",
       "      <th>safety_equipment</th>\n",
       "      <th>latitude</th>\n",
       "      <th>longitude</th>\n",
       "      <th>location</th>\n",
       "    </tr>\n",
       "  </thead>\n",
       "  <tbody>\n",
       "    <tr>\n",
       "      <th>1</th>\n",
       "      <td>MCP20160048</td>\n",
       "      <td>190026280</td>\n",
       "      <td>Montgomery County Police</td>\n",
       "      <td>Injury Crash</td>\n",
       "      <td>2019-06-02 12:19:00</td>\n",
       "      <td>Maryland (State)</td>\n",
       "      <td>ROCKVILLE PIKE</td>\n",
       "      <td>Municipality</td>\n",
       "      <td>ROLLINS AVE</td>\n",
       "      <td>NaN</td>\n",
       "      <td>...</td>\n",
       "      <td>NO IMPROPER ACTIONS</td>\n",
       "      <td>SIDEWALK</td>\n",
       "      <td>NaN</td>\n",
       "      <td>LIGHT CLOTHING</td>\n",
       "      <td>No</td>\n",
       "      <td>SUSPECTED MINOR INJURY</td>\n",
       "      <td>NONE</td>\n",
       "      <td>38.953000</td>\n",
       "      <td>-77.338000</td>\n",
       "      <td>(38.953, -77.338)</td>\n",
       "    </tr>\n",
       "    <tr>\n",
       "      <th>2</th>\n",
       "      <td>MCP3171000V</td>\n",
       "      <td>190026764</td>\n",
       "      <td>Montgomery County Police</td>\n",
       "      <td>Injury Crash</td>\n",
       "      <td>2019-06-04 21:02:00</td>\n",
       "      <td>NaN</td>\n",
       "      <td>NaN</td>\n",
       "      <td>NaN</td>\n",
       "      <td>NaN</td>\n",
       "      <td>HOME DEPOT PARKING LOT\\n 21010 FREDERICK RD GE...</td>\n",
       "      <td>...</td>\n",
       "      <td>NO IMPROPER ACTIONS</td>\n",
       "      <td>AT INTERSECTION BUT NO CROSSWALK</td>\n",
       "      <td>NO PED. SIGNAL</td>\n",
       "      <td>NaN</td>\n",
       "      <td>No</td>\n",
       "      <td>POSSIBLE INJURY</td>\n",
       "      <td>NaN</td>\n",
       "      <td>39.201165</td>\n",
       "      <td>-77.248343</td>\n",
       "      <td>(39.201165, -77.24834333)</td>\n",
       "    </tr>\n",
       "    <tr>\n",
       "      <th>3</th>\n",
       "      <td>MCP3000002N</td>\n",
       "      <td>190026219</td>\n",
       "      <td>Montgomery County Police</td>\n",
       "      <td>Injury Crash</td>\n",
       "      <td>2019-06-01 22:27:00</td>\n",
       "      <td>County</td>\n",
       "      <td>MIDDLEBROOK RD</td>\n",
       "      <td>County</td>\n",
       "      <td>WARING STATION RD</td>\n",
       "      <td>NaN</td>\n",
       "      <td>...</td>\n",
       "      <td>OTHER</td>\n",
       "      <td>AT INTERSECTION MARKED CROSSWALK</td>\n",
       "      <td>OBEYED PED. SIGNAL</td>\n",
       "      <td>DARK CLOTHING</td>\n",
       "      <td>No</td>\n",
       "      <td>SUSPECTED MINOR INJURY</td>\n",
       "      <td>NaN</td>\n",
       "      <td>39.175252</td>\n",
       "      <td>-77.253611</td>\n",
       "      <td>(39.17525182, -77.25361113)</td>\n",
       "    </tr>\n",
       "    <tr>\n",
       "      <th>4</th>\n",
       "      <td>EJ7876000N</td>\n",
       "      <td>190026354</td>\n",
       "      <td>Gaithersburg Police Depar</td>\n",
       "      <td>Injury Crash</td>\n",
       "      <td>2019-06-02 22:10:00</td>\n",
       "      <td>Maryland (State)</td>\n",
       "      <td>MONTGOMERY VILLAGE AVE</td>\n",
       "      <td>Unknown</td>\n",
       "      <td>SPUR TO LOST KNIFE RD</td>\n",
       "      <td>NaN</td>\n",
       "      <td>...</td>\n",
       "      <td>OTHER</td>\n",
       "      <td>ON ROADWAY AT CROSSWALK</td>\n",
       "      <td>DISOBEYED PED. SIGNAL</td>\n",
       "      <td>DARK CLOTHING</td>\n",
       "      <td>Yes</td>\n",
       "      <td>SUSPECTED MINOR INJURY</td>\n",
       "      <td>NONE</td>\n",
       "      <td>39.157775</td>\n",
       "      <td>-77.204002</td>\n",
       "      <td>(39.157775, -77.20400167)</td>\n",
       "    </tr>\n",
       "    <tr>\n",
       "      <th>5</th>\n",
       "      <td>MCP20080062</td>\n",
       "      <td>190023569</td>\n",
       "      <td>Montgomery County Police</td>\n",
       "      <td>Injury Crash</td>\n",
       "      <td>2019-05-18 18:11:00</td>\n",
       "      <td>County</td>\n",
       "      <td>FALLS RD</td>\n",
       "      <td>County</td>\n",
       "      <td>BURBANK DR</td>\n",
       "      <td>NaN</td>\n",
       "      <td>...</td>\n",
       "      <td>WRONG WAY RIDING OR WALKING</td>\n",
       "      <td>ON ROADWAY NOT AT CROSSWALK</td>\n",
       "      <td>NaN</td>\n",
       "      <td>LIGHT CLOTHING</td>\n",
       "      <td>Yes</td>\n",
       "      <td>SUSPECTED MINOR INJURY</td>\n",
       "      <td>MC/BIKE HELMET</td>\n",
       "      <td>39.014097</td>\n",
       "      <td>-77.215137</td>\n",
       "      <td>(39.01409667, -77.21513667)</td>\n",
       "    </tr>\n",
       "    <tr>\n",
       "      <th>...</th>\n",
       "      <td>...</td>\n",
       "      <td>...</td>\n",
       "      <td>...</td>\n",
       "      <td>...</td>\n",
       "      <td>...</td>\n",
       "      <td>...</td>\n",
       "      <td>...</td>\n",
       "      <td>...</td>\n",
       "      <td>...</td>\n",
       "      <td>...</td>\n",
       "      <td>...</td>\n",
       "      <td>...</td>\n",
       "      <td>...</td>\n",
       "      <td>...</td>\n",
       "      <td>...</td>\n",
       "      <td>...</td>\n",
       "      <td>...</td>\n",
       "      <td>...</td>\n",
       "      <td>...</td>\n",
       "      <td>...</td>\n",
       "      <td>...</td>\n",
       "    </tr>\n",
       "    <tr>\n",
       "      <th>3931</th>\n",
       "      <td>MCP2001001F</td>\n",
       "      <td>200042837</td>\n",
       "      <td>Montgomery County Police</td>\n",
       "      <td>Fatal Crash</td>\n",
       "      <td>2020-10-30 14:32:00</td>\n",
       "      <td>Maryland (State)</td>\n",
       "      <td>GERMANTOWN RD</td>\n",
       "      <td>County</td>\n",
       "      <td>MIDDLEBROOK RD</td>\n",
       "      <td>NaN</td>\n",
       "      <td>...</td>\n",
       "      <td>FAILURE TO YIELD RIGHT OF WAY</td>\n",
       "      <td>ON ROADWAY AT CROSSWALK</td>\n",
       "      <td>DISOBEYED PED. SIGNAL</td>\n",
       "      <td>DARK CLOTHING</td>\n",
       "      <td>Yes</td>\n",
       "      <td>FATAL INJURY</td>\n",
       "      <td>NONE</td>\n",
       "      <td>39.178936</td>\n",
       "      <td>-77.267287</td>\n",
       "      <td>(39.17893647, -77.26728732)</td>\n",
       "    </tr>\n",
       "    <tr>\n",
       "      <th>3932</th>\n",
       "      <td>MCP2456005D</td>\n",
       "      <td>210010499</td>\n",
       "      <td>Montgomery County Police</td>\n",
       "      <td>Injury Crash</td>\n",
       "      <td>2021-03-20 12:30:00</td>\n",
       "      <td>Maryland (State)</td>\n",
       "      <td>NEW HAMPSHIRE AVE</td>\n",
       "      <td>Ramp</td>\n",
       "      <td>RAMP 2 FR IS 495 WB TO MD 650 NB</td>\n",
       "      <td>NaN</td>\n",
       "      <td>...</td>\n",
       "      <td>UNKNOWN</td>\n",
       "      <td>ON ROADWAY AT CROSSWALK</td>\n",
       "      <td>UNKNOWN</td>\n",
       "      <td>MIXED CLOTHING</td>\n",
       "      <td>Unknown</td>\n",
       "      <td>POSSIBLE INJURY</td>\n",
       "      <td>NaN</td>\n",
       "      <td>39.020898</td>\n",
       "      <td>-76.976570</td>\n",
       "      <td>(39.02089833, -76.97657)</td>\n",
       "    </tr>\n",
       "    <tr>\n",
       "      <th>3933</th>\n",
       "      <td>MCP3156001J</td>\n",
       "      <td>210007829</td>\n",
       "      <td>Montgomery County Police</td>\n",
       "      <td>Injury Crash</td>\n",
       "      <td>2021-03-22 07:56:00</td>\n",
       "      <td>County</td>\n",
       "      <td>CEDAR ST</td>\n",
       "      <td>County</td>\n",
       "      <td>WAYNE AVE</td>\n",
       "      <td>NaN</td>\n",
       "      <td>...</td>\n",
       "      <td>NOT VISIBLE</td>\n",
       "      <td>ON ROADWAY AT CROSSWALK</td>\n",
       "      <td>OBEYED PED. SIGNAL</td>\n",
       "      <td>LIGHT CLOTHING</td>\n",
       "      <td>No</td>\n",
       "      <td>SUSPECTED MINOR INJURY</td>\n",
       "      <td>NONE</td>\n",
       "      <td>38.997162</td>\n",
       "      <td>-77.021617</td>\n",
       "      <td>(38.9971621, -77.02161685)</td>\n",
       "    </tr>\n",
       "    <tr>\n",
       "      <th>3934</th>\n",
       "      <td>MCP31360044</td>\n",
       "      <td>210009735</td>\n",
       "      <td>Montgomery County Police</td>\n",
       "      <td>Injury Crash</td>\n",
       "      <td>2021-03-12 19:30:00</td>\n",
       "      <td>NaN</td>\n",
       "      <td>NaN</td>\n",
       "      <td>NaN</td>\n",
       "      <td>NaN</td>\n",
       "      <td>ENTRANCE TO SHOPPING CENTER</td>\n",
       "      <td>...</td>\n",
       "      <td>UNKNOWN</td>\n",
       "      <td>DRIVEWAY ACCESS MARKED CROSSWALK</td>\n",
       "      <td>NaN</td>\n",
       "      <td>UNKNOWN</td>\n",
       "      <td>No</td>\n",
       "      <td>POSSIBLE INJURY</td>\n",
       "      <td>NaN</td>\n",
       "      <td>38.998425</td>\n",
       "      <td>-77.001051</td>\n",
       "      <td>(38.99842547, -77.00105105)</td>\n",
       "    </tr>\n",
       "    <tr>\n",
       "      <th>3935</th>\n",
       "      <td>MCP31130033</td>\n",
       "      <td>210010543</td>\n",
       "      <td>Montgomery County Police</td>\n",
       "      <td>Injury Crash</td>\n",
       "      <td>2021-03-20 18:57:00</td>\n",
       "      <td>Maryland (State)</td>\n",
       "      <td>SPENCERVILLE RD</td>\n",
       "      <td>County</td>\n",
       "      <td>LIONS DEN RD</td>\n",
       "      <td>NaN</td>\n",
       "      <td>...</td>\n",
       "      <td>DART DASH</td>\n",
       "      <td>ON ROADWAY NOT AT CROSSWALK</td>\n",
       "      <td>NO PED. SIGNAL</td>\n",
       "      <td>MIXED CLOTHING</td>\n",
       "      <td>Yes</td>\n",
       "      <td>SUSPECTED SERIOUS INJURY</td>\n",
       "      <td>NONE</td>\n",
       "      <td>39.066991</td>\n",
       "      <td>-76.964330</td>\n",
       "      <td>(39.06699135, -76.96432988)</td>\n",
       "    </tr>\n",
       "  </tbody>\n",
       "</table>\n",
       "<p>3753 rows × 32 columns</p>\n",
       "</div>"
      ],
      "text/plain": [
       "     report_number  local_case_number                agency_name  \\\n",
       "1      MCP20160048          190026280   Montgomery County Police   \n",
       "2      MCP3171000V          190026764   Montgomery County Police   \n",
       "3      MCP3000002N          190026219   Montgomery County Police   \n",
       "4       EJ7876000N          190026354  Gaithersburg Police Depar   \n",
       "5      MCP20080062          190023569   Montgomery County Police   \n",
       "...            ...                ...                        ...   \n",
       "3931   MCP2001001F          200042837   Montgomery County Police   \n",
       "3932   MCP2456005D          210010499   Montgomery County Police   \n",
       "3933   MCP3156001J          210007829   Montgomery County Police   \n",
       "3934   MCP31360044          210009735   Montgomery County Police   \n",
       "3935   MCP31130033          210010543   Montgomery County Police   \n",
       "\n",
       "     acrs_report_type     crash_date_time        route_type  \\\n",
       "1        Injury Crash 2019-06-02 12:19:00  Maryland (State)   \n",
       "2        Injury Crash 2019-06-04 21:02:00               NaN   \n",
       "3        Injury Crash 2019-06-01 22:27:00            County   \n",
       "4        Injury Crash 2019-06-02 22:10:00  Maryland (State)   \n",
       "5        Injury Crash 2019-05-18 18:11:00            County   \n",
       "...               ...                 ...               ...   \n",
       "3931      Fatal Crash 2020-10-30 14:32:00  Maryland (State)   \n",
       "3932     Injury Crash 2021-03-20 12:30:00  Maryland (State)   \n",
       "3933     Injury Crash 2021-03-22 07:56:00            County   \n",
       "3934     Injury Crash 2021-03-12 19:30:00               NaN   \n",
       "3935     Injury Crash 2021-03-20 18:57:00  Maryland (State)   \n",
       "\n",
       "                   road_name cross_street_type  \\\n",
       "1             ROCKVILLE PIKE      Municipality   \n",
       "2                        NaN               NaN   \n",
       "3             MIDDLEBROOK RD            County   \n",
       "4     MONTGOMERY VILLAGE AVE           Unknown   \n",
       "5                   FALLS RD            County   \n",
       "...                      ...               ...   \n",
       "3931           GERMANTOWN RD            County   \n",
       "3932       NEW HAMPSHIRE AVE              Ramp   \n",
       "3933                CEDAR ST            County   \n",
       "3934                     NaN               NaN   \n",
       "3935         SPENCERVILLE RD            County   \n",
       "\n",
       "                     cross_street_name  \\\n",
       "1                          ROLLINS AVE   \n",
       "2                                  NaN   \n",
       "3                    WARING STATION RD   \n",
       "4                SPUR TO LOST KNIFE RD   \n",
       "5                           BURBANK DR   \n",
       "...                                ...   \n",
       "3931                    MIDDLEBROOK RD   \n",
       "3932  RAMP 2 FR IS 495 WB TO MD 650 NB   \n",
       "3933                         WAYNE AVE   \n",
       "3934                               NaN   \n",
       "3935                      LIONS DEN RD   \n",
       "\n",
       "                                   off_road_description  ...  \\\n",
       "1                                                   NaN  ...   \n",
       "2     HOME DEPOT PARKING LOT\\n 21010 FREDERICK RD GE...  ...   \n",
       "3                                                   NaN  ...   \n",
       "4                                                   NaN  ...   \n",
       "5                                                   NaN  ...   \n",
       "...                                                 ...  ...   \n",
       "3931                                                NaN  ...   \n",
       "3932                                                NaN  ...   \n",
       "3933                                                NaN  ...   \n",
       "3934                        ENTRANCE TO SHOPPING CENTER  ...   \n",
       "3935                                                NaN  ...   \n",
       "\n",
       "                 pedestrian_actions               pedestrian_location  \\\n",
       "1               NO IMPROPER ACTIONS                          SIDEWALK   \n",
       "2               NO IMPROPER ACTIONS  AT INTERSECTION BUT NO CROSSWALK   \n",
       "3                             OTHER  AT INTERSECTION MARKED CROSSWALK   \n",
       "4                             OTHER           ON ROADWAY AT CROSSWALK   \n",
       "5       WRONG WAY RIDING OR WALKING       ON ROADWAY NOT AT CROSSWALK   \n",
       "...                             ...                               ...   \n",
       "3931  FAILURE TO YIELD RIGHT OF WAY           ON ROADWAY AT CROSSWALK   \n",
       "3932                        UNKNOWN           ON ROADWAY AT CROSSWALK   \n",
       "3933                    NOT VISIBLE           ON ROADWAY AT CROSSWALK   \n",
       "3934                        UNKNOWN  DRIVEWAY ACCESS MARKED CROSSWALK   \n",
       "3935                      DART DASH       ON ROADWAY NOT AT CROSSWALK   \n",
       "\n",
       "     pedestrian_obeyed_traffic_signal pedestrian_visibility at_fault  \\\n",
       "1                                 NaN        LIGHT CLOTHING       No   \n",
       "2                      NO PED. SIGNAL                   NaN       No   \n",
       "3                  OBEYED PED. SIGNAL         DARK CLOTHING       No   \n",
       "4               DISOBEYED PED. SIGNAL         DARK CLOTHING      Yes   \n",
       "5                                 NaN        LIGHT CLOTHING      Yes   \n",
       "...                               ...                   ...      ...   \n",
       "3931            DISOBEYED PED. SIGNAL         DARK CLOTHING      Yes   \n",
       "3932                          UNKNOWN        MIXED CLOTHING  Unknown   \n",
       "3933               OBEYED PED. SIGNAL        LIGHT CLOTHING       No   \n",
       "3934                              NaN               UNKNOWN       No   \n",
       "3935                   NO PED. SIGNAL        MIXED CLOTHING      Yes   \n",
       "\n",
       "               injury_severity safety_equipment   latitude  longitude  \\\n",
       "1       SUSPECTED MINOR INJURY             NONE  38.953000 -77.338000   \n",
       "2              POSSIBLE INJURY              NaN  39.201165 -77.248343   \n",
       "3       SUSPECTED MINOR INJURY              NaN  39.175252 -77.253611   \n",
       "4       SUSPECTED MINOR INJURY             NONE  39.157775 -77.204002   \n",
       "5       SUSPECTED MINOR INJURY   MC/BIKE HELMET  39.014097 -77.215137   \n",
       "...                        ...              ...        ...        ...   \n",
       "3931              FATAL INJURY             NONE  39.178936 -77.267287   \n",
       "3932           POSSIBLE INJURY              NaN  39.020898 -76.976570   \n",
       "3933    SUSPECTED MINOR INJURY             NONE  38.997162 -77.021617   \n",
       "3934           POSSIBLE INJURY              NaN  38.998425 -77.001051   \n",
       "3935  SUSPECTED SERIOUS INJURY             NONE  39.066991 -76.964330   \n",
       "\n",
       "                         location  \n",
       "1               (38.953, -77.338)  \n",
       "2       (39.201165, -77.24834333)  \n",
       "3     (39.17525182, -77.25361113)  \n",
       "4       (39.157775, -77.20400167)  \n",
       "5     (39.01409667, -77.21513667)  \n",
       "...                           ...  \n",
       "3931  (39.17893647, -77.26728732)  \n",
       "3932     (39.02089833, -76.97657)  \n",
       "3933   (38.9971621, -77.02161685)  \n",
       "3934  (38.99842547, -77.00105105)  \n",
       "3935  (39.06699135, -76.96432988)  \n",
       "\n",
       "[3753 rows x 32 columns]"
      ]
     },
     "execution_count": 18,
     "metadata": {},
     "output_type": "execute_result"
    }
   ],
   "source": [
    "nonmotoristdf.drop_duplicates(subset=['report_number', 'local_case_number'], keep='last')   # I'm keeping the last rather than the first just in case the last has more recent data."
   ]
  },
  {
   "cell_type": "code",
   "execution_count": 19,
   "metadata": {},
   "outputs": [
    {
     "data": {
      "text/plain": [
       "array(['Montgomery County Police', 'Gaithersburg Police Depar',\n",
       "       'Takoma Park Police Depart', 'Rockville Police Departme',\n",
       "       'Maryland-National Capital', 'TAKOMA', 'MONTGOMERY',\n",
       "       'GAITHERSBURG', 'ROCKVILLE', 'MCPARK'], dtype=object)"
      ]
     },
     "execution_count": 19,
     "metadata": {},
     "output_type": "execute_result"
    }
   ],
   "source": [
    "agency_name = nonmotoristdf.agency_name\n",
    "agency_uniques = agency_name.unique()\n",
    "agency_uniques"
   ]
  },
  {
   "cell_type": "code",
   "execution_count": 20,
   "metadata": {},
   "outputs": [
    {
     "data": {
      "text/plain": [
       "array(['Montgomery County Police', 'Gaithersburg Police',\n",
       "       'Takoma Park Police', 'Rockville Police',\n",
       "       'Maryland-National Capital Police', 'TAKOMA', 'MONTGOMERY',\n",
       "       'GAITHERSBURG', 'ROCKVILLE', 'MCPARK'], dtype=object)"
      ]
     },
     "execution_count": 20,
     "metadata": {},
     "output_type": "execute_result"
    }
   ],
   "source": [
    "# Using replace by dictionary to correct the names\n",
    "\n",
    "nonmotoristdf['agency_name'] = nonmotoristdf['agency_name'].replace({'Rockville Police Departme':'Rockville Police', 'Maryland-National Capital':'Maryland-National Capital Police', \n",
    "                                                     'Gaithersburg Police Depar':'Gaithersburg Police', 'Takoma Park Police Depart': 'Takoma Park Police'})\n",
    "agency_uniques = agency_name.unique()\n",
    "agency_uniques"
   ]
  },
  {
   "cell_type": "code",
   "execution_count": 21,
   "metadata": {},
   "outputs": [
    {
     "data": {
      "text/plain": [
       "array(['Injury Crash', 'Property Damage Crash', 'Fatal Crash'],\n",
       "      dtype=object)"
      ]
     },
     "execution_count": 21,
     "metadata": {},
     "output_type": "execute_result"
    }
   ],
   "source": [
    "acrs_report = nonmotoristdf.acrs_report_type\n",
    "acrs_report_uniques = acrs_report.unique()\n",
    "acrs_report_uniques"
   ]
  },
  {
   "cell_type": "code",
   "execution_count": 22,
   "metadata": {},
   "outputs": [
    {
     "data": {
      "text/plain": [
       "array([nan, 'HOME DEPOT PARKING LOT\\n 21010 FREDERICK RD GERMANTOWN MD',\n",
       "       '1300 HOLTON LN (PARKING LOT)', 'PARKING LOT OF 21 S SUMMIT',\n",
       "       '14000 GEORGIA AVE. ASPEN HILL, MD 20906',\n",
       "       '622 CENTERPOINT WAY, GAITHERSBURG MONTGOMERY COUNTY, MARYLAND',\n",
       "       '16101 FREDERICK RD - TRANSFER STATION RDS',\n",
       "       'PARKING LOT 1159 UNIVERSITY BLVD',\n",
       "       'PARKING LOT OF 5214 RIVER ROAD',\n",
       "       'PARKING LOT OF 13490 NEW HAMPSHIRE AVE',\n",
       "       '2144 INDUSTRIAL PARKWAY PARKING LOT',\n",
       "       '9811 WASHINGTONIAN BLVD 5TH FLOOR (RIO MALL PARKING GARAGE)',\n",
       "       'PARKING LOT OF 8720 CARROLL AVE',\n",
       "       '10526 CONNECTICUT AVE. (PARKING LOT) KENSINGTON',\n",
       "       '13855 OUTLET DRIVE,\\nSILVER SPRING, MD, 20904',\n",
       "       'REAR ENTRANCE TO 7620 OLD GEORGETOWN ROAD, BETHESDA MD-- ENTRANCE ON WOODMONT AVE',\n",
       "       'PARKING LOT OF UNIQUE THRIFT STORE',\n",
       "       'PARKING LOT OF 19230 WOODFIELD RD',\n",
       "       'PARKING LOT OF 19945 CENTURY BLVD (CHICK FIL A)',\n",
       "       'PARKING LOT IN FRONT OF 18418 STONE HOLLOW DRIVE, GERMANTOWN, MD 20874',\n",
       "       'PARKING LOT OF SENECA VALLEY H.S. 19401 CRYSTAL ROCK DR',\n",
       "       'PARKING LOT OF 7-11 LOCATED @ 900 MERRIMAC DRIVE TAKOMA PARK MD 20912',\n",
       "       'DRIVEWAY OF 13625 NORTH GATE DR', 'CVS PARKING LOT',\n",
       "       'PARKING LOT OF 12600 VEIRS MILL RD', '14672 SOUTHLAWN LN',\n",
       "       'RAMP ENTRANCE TO THE PARKING LOT OF 8555 16TH STREET',\n",
       "       'PARKING LOT IN FRONT OF 12214 VEIRS MILL RD',\n",
       "       'PARKING LOT OF 12030 CHASE CROSSING CIRCLE',\n",
       "       'GIANT FOOD PARKING LOT 13781 CONNECTICUT AVE.\\nSILVER SPRING MD 20906',\n",
       "       'PARKING LOT OF 2537 ENNALLS AVENUE',\n",
       "       'ENTRANCE TO HOME DEPOT PARKING LOT AT 14000 GEORGIA AVE, SILVER SPRING, MD 20906',\n",
       "       'PARKING LOT OF 16800 GEORGIA AVE',\n",
       "       'PARKING LOT OF WHEATON PARK SHOPPING CENTER',\n",
       "       'DRIVE THRU OF MCDONALDS 13701 CONNECTICUT AVE SILVER SPRING, MD 20906',\n",
       "       'PARKING LOT OF 3111 WHISPERING PINES DR',\n",
       "       'PARKING LOT OF 7676 NEW HAMPSHIRE AVE',\n",
       "       'PARKING LOT OF 7633 NEW HAMPSHIRE AVE, TAKOMA PARK, MD 20912',\n",
       "       'PARKING LOT OF 18250 FLOWER HILL WAY',\n",
       "       'PARKING LOT IN FRONT OF 608 QUINCE ORCHARD ROAD.',\n",
       "       'SIDEWALK IN FRONT OF 7419 MAPLE AVE.', 'Entrance of Parking Lot',\n",
       "       'PARKING LOT OF 6300 NEW HAMPSHIRE AVE, TAKOMA PARK, MD 20912',\n",
       "       '1345 UNIVERSITY BLVD EAST TAKOMA PARK MD 20912',\n",
       "       '7551 NEW HAMPSHIRE AVE CAR WASH PARKING LOT', '900 MERRIMAC DR',\n",
       "       'PARKING LOT OF 12155 AMBER RIDGE CIR',\n",
       "       'COLLISION OCCURRED WITHIN THE LOT OF 7551 NEW HAMPSHIRE AVE. TAKOMA PARK, MD - CAR WASH',\n",
       "       'PARKING LOT 1100 UNIVERSITY BLVD',\n",
       "       'Parking lot of 7676 New Hampshire Ave\\nTakoma Park MD 20912',\n",
       "       'PARKING LOT OF 1127 UNIVERSITY BLVD.',\n",
       "       'PARKING LOT WELLS FARGO\\n1175 UNIVERSITY BLVD E', 'PARKING LOT',\n",
       "       'GARAGE BEHIND 9420 KEY WEST AVE, GAITHERSBURG, MD, 20878',\n",
       "       '4007 E NORBECK ROAD - PARKING LOT',\n",
       "       'PARKING LOT IN FRONT OF 1014 WEST SIDE DRIVE GAITHERSBURG, MD.',\n",
       "       '10400 AUTO PARK AVENUE (PARKING LOT OF CADILLAC CAR DEALERSHIP)',\n",
       "       'PARKING LOT OF 3004 HEWITT AVE',\n",
       "       'PARKING LOT OF 13884 GEORGIA AVENUE',\n",
       "       'PARKING LOT \\n7682 NEW HAMPSHIRE AVE',\n",
       "       '51 MANNAKEE STREET PARKING LOT #5', 'PL OF 307 COPLEY PLACE',\n",
       "       'IN PARKING LOT', 'PK LOT 12600 TWINBROOK PKWY',\n",
       "       'JESUP BLAIR LOCAL PARK GRASS AREA',\n",
       "       'THE PARKIG LOT OF 9300 PINEY BRANCH RD. SILVER SPRING, MARYLAND 20903',\n",
       "       '1280 EAST WEST HWY (GIANT PARKING LOT)', 'WALGREENS PARKING LOT',\n",
       "       'Parking lot/entrance of 7609 New Hampshire Avenue, Takoma Park, Montgomery County Maryland.',\n",
       "       'HOSPITAL PARKING LOT',\n",
       "       'PARKING LOT OF THE 7/11, LOCATED AT 902 MERIMAC DRIVE',\n",
       "       'PARKING LOT OF 13781 CONNECTICUT AVE',\n",
       "       'PARKING LOT OF 3323 BEAVERWOOD LA',\n",
       "       'PARKING LOT AREA OF 19110 MONTGOMERY VILLAGE AVE.  (BEHIND CVS STORE)   MOTGOMERY VILLAGE, MD 20886',\n",
       "       '1329 UNIVERSITY BLVD PARKING LOT', 'SCHOOL PARKING LOT',\n",
       "       'PAKRING LOT OF 11160 VEIRS MILL RD',\n",
       "       'ENTRY TO PARKING LOT OF 8604 FLOWER AVENUE, TAKOMA PARK, MD',\n",
       "       'PARKING LOT IN FRONT OF 516 N FREDERICK RD',\n",
       "       'PARKING LOT OF HOME DEPOT 21010 FREDERICK RD',\n",
       "       'PARKING LOT OF BRIGGS CHANEY SHOPPING CENTER 13800 BLK OUTLET DRIVE',\n",
       "       'PARKING LOT OF 880 RUSSELL AVE',\n",
       "       'PARKING LOT OF 10400 OLD GEORGETOWN RD. GIANT FOOD',\n",
       "       'PARKING LOT OF 8101 FENTON STREET',\n",
       "       '3201 ROSSMOOR BLVD PARKING LOT (LEISURE WORLD)',\n",
       "       'PUBLIC PARKING LOT #8 OF 4821 ST. ELMO AVE.',\n",
       "       '8523 PINEY BRANCH RD (REAR PARKING LOT)',\n",
       "       'PKNGLT ENTRANCE 12230 ROCKVILLE PIKE',\n",
       "       'PARKING LOT OF 891 ROCKVILLE PIKE',\n",
       "       'DRIVEWAY TO RANDOLPH ROAD FROM PARKING LOT OF 17 RANDOLPH ROAD, SILVER SPRING MD 20904',\n",
       "       'REAR PARKING LOT OF 13625 GEORGIA AVE',\n",
       "       'THE DRIVEWAY TO 9101 CEDAR LA. THE STONE RIDGE SCHOOL OF THE SACRED HEART.',\n",
       "       'PARKING LOT OF 888 ROCKVILLE PIKE', 'PARKING LOT 15100 GLADE DR',\n",
       "       'IN THE DRIVEWAY OF 16713 ALEXANDER MANOR DRIVE, SILVER SPRING, MARYLAND',\n",
       "       'PARKING LOT OF 46 BUREAU DR', 'PARKING LOT OF 611 ROCKVILLE PIKE',\n",
       "       'DRIVEWAY OF 12801 FLACK ST',\n",
       "       'PARKING LOT\\n12705 NEW HAMPSHIRE AVENUE\\nSILVER SPRING, MD, 20904',\n",
       "       'PARKINGLOT OF 404 RIDGEPOINTLA',\n",
       "       '11277 NEW HAMPSHIRE AVE.AT THE BACK PARKING LOT',\n",
       "       '16041 FREDERICK RD PRIVATE DRIVEWAY/SIDEWALK',\n",
       "       'SIDEWALK ADJACENT 5451 RANDOLPH RD',\n",
       "       'PARKING LOT 16101 FREDERICK RD',\n",
       "       'PARKING LOT OF 2440 ROSS ROAD SILVER SPRING, MD',\n",
       "       'PARKING LOT OF 1131 UNIVERSITY BLVD W.',\n",
       "       'DRIVE WAY IN FRONT OF 13711 GEORGIA AVE', '18228 MUNCASTER ROAD',\n",
       "       'SIDEWALK AT 8100 BLOCK OF GEORGIA AVENUE',\n",
       "       'PARKING LOT OF 12197 DARNESTOWN RD',\n",
       "       'IN PARKING LOT OF 1902 VIERS MILL ROAD',\n",
       "       'DRIVEWAY OF 413 DENNIS AVE SILVER SPRING, MD 20901',\n",
       "       'LEVEL 1 PARKING GARAGE OF 15740 SHADY GROVE RD, GAITHERSBURG, MD',\n",
       "       'CROSSWALK IN FRONT OF SHOPPING CENTER LOCATED AT 12825 WISTERIA DR., GERMANTOWN, MD.',\n",
       "       'CVS - 7809 WISCONSIN AVE BETHESDA, MD 20814',\n",
       "       'ONE WAY PRIVATE ALLEY BEHIND 12940 MIDDLEBROOK ROAD, GERMANTOWN, MD 20874',\n",
       "       '12041 GEORGIA AVE, SILVER SPRING MD 20902 (M&T BANK)',\n",
       "       'DRIVE WAY ACCESS TO 2305 SHORFIELD RD.',\n",
       "       'CAR WASH LOCATED AT 9500 GEORGIA AVENUE',\n",
       "       'PARKING LOT OF 344 MARTINS LN.',\n",
       "       '12289 TECH ROAD, SILVER SPRING, MONTGOMERY COUNTY MD.',\n",
       "       'ENTRANCE TO FEDERAL PLAZA SHOPPING CENTER',\n",
       "       'DRIVEWAY OF 302 SUMMIT HALL RD',\n",
       "       'PARKING LOT OF 13114 BRIARCLIFF TERRACE.',\n",
       "       'PARKING LOT OF 4101 RANDOLPH RD. SILVER SPRING, MD 20906. (SHELL GAS STATION)',\n",
       "       'PARKING LOT OF 3305 NORTH LEISURE WORLD BLVD',\n",
       "       'PARKING LOT OF 544 N. FREDERICK AVE',\n",
       "       'PARKING LOT DRIVEWAY OF 3610 UNIVERSITY BLVD W',\n",
       "       '8530 CAMERON STREET PARKING GARAGE',\n",
       "       'SAFEWAY PARKING LOT\\n19718 GERMANTOWN ROAD\\nGERMANTOWN, MD 20874',\n",
       "       'PARKING LOT OF 1900 ROCKVILLE PIKE',\n",
       "       'PARKING LOT OF 8816 LANIER DR',\n",
       "       'PARKING LOT IN FRONT OF 3860 INTERNATIONAL DR',\n",
       "       'PARKING LOT OF 14921 SHADY GROVE RD',\n",
       "       'PARKING LOT 13661 CONNECTICUT AVE',\n",
       "       'PARKING LOT-7400 ARLINGTON RD\\nBETHESDA LIBRARY',\n",
       "       'PARKING LOT OF 2509 UNIVERSITY BLVD WEST, SILVER SPRING, MD 20902',\n",
       "       'GIANT FOOD LOT-7142 ARLINGTON RD',\n",
       "       '19707 GERMANTOWN ROAD, DRIVE WAY AREA OF BANK OF AMERICA',\n",
       "       'DRIVEWAY ACCESS AT 16101 FREDERICK RD',\n",
       "       'PARKING LOT OF 2304 BLUERIDGE AVE',\n",
       "       'PARKING LOT OF 19315 ARCHDALE RD, GERMANTOWN, MARYLAND 20876',\n",
       "       '501 N FREDERICK AVE', '8101 FENTON ST. 7-11 PARKING LOT.',\n",
       "       'PARKING LOT OF 850 E GUDE DR',\n",
       "       'PARKING LOT AT ALDI. 2223 BEL PRE RD, SILVER SPRING, MD 20906',\n",
       "       'PARKING LOT OF 10901 WESTLAKE DR',\n",
       "       'PARKING LOT / SIDEWALK IN FRONT OF 451 NORTH FREDERICK AVENUE',\n",
       "       '14030 CONNECTICUT AVE SILVER SPRING MD 20906\\nUS POST OFFICE',\n",
       "       'PRIVATE DRIVE OFF 10000 BRUNSWICK AVE',\n",
       "       'PARKING LOT/BUS PICKUP KINGSVIEW MIDDLE SCHOOL 18909 KINGSVIEW RD',\n",
       "       'PARKING LOT OF 11812 NEW HAMPSHIRE AVE, OUR LADY OF VIETNAM CHURCH',\n",
       "       'PL OF 4301 WILLOW LN', 'CVS PARKING LOT. 108 AND SPARTAN',\n",
       "       'DRIVEWAY AT 8120 GEORGIA AVE', '12313 GEORGIA AVE',\n",
       "       'PARKING LOT OF 21000 FREDERICK RD',\n",
       "       'PARKING LOT TO THE REAR OF 10141 COLESVILLE RD',\n",
       "       'PARKING LOT OF 12056 CHERRY HILL ROAD',\n",
       "       'PARKING LOT AT 2205 GEORGIAN WAY',\n",
       "       'SLEISURE WORLD BLVD AND EDELMAR TERRACE',\n",
       "       'PARKING LOT 20908 FREDERICK RD',\n",
       "       'PARKING LOT BEHIND 7600 FLOWER AVE.',\n",
       "       'WILDWOOD SHOPPING PLAZA PARKING LOT',\n",
       "       'VEHICLE STRUCK PED IN PARKING LOT AND FLED',\n",
       "       '12041 GEORGIA AVE (M&T BANK PARKING LOT)',\n",
       "       '323 COPLEY PL. PARKING LOT', 'PARKING LOT OF 903 W EDMONSTON DR',\n",
       "       '1220 TECH ROAD/DRIVEWAY ENTRANCE OF WESTECH VILLAGE CENTER',\n",
       "       'PARKING LOT AT 22 TINDALL SRPINGS CT',\n",
       "       'PARKING LOT OF PAINT BRANCH HIGH SCHOOL, LOCATED AT 14121 OLD COLUMBIA PIKE, BURTONSVILLE, MD 20877',\n",
       "       'PARKING LOT IFO 19218 MONTGOMERY VILLAGE AVE',\n",
       "       '4405 EAST WEST HWY BETHESDA, MD 20814',\n",
       "       'GLACIER LILY DR@ DOGWOOD HILLS DR',\n",
       "       'PARKING LOT OF 1400 FORESST GLEN RD, SILVER SPRING, MD, 20910',\n",
       "       'PARKING LOT IN FRONT OF 19564 CRYSTAL ROCK DR.',\n",
       "       'PARKING LOT OF\\n7272 WISCONCIN AVE',\n",
       "       'PARKING LOT OF 12409 BRAXFIELD CT.',\n",
       "       'ON A SERVICE ROAD IN BETWEEN POST OFFICE AND PARKING LOT OF POST OFFICE LOCATED AT 10079 STEDWICK RD',\n",
       "       'ENTRANCE TO PARKING LOT OF 3410 OLNEY LAYTONSVILLE RD.',\n",
       "       'DRIVEWAY OF 16227 BATCHELLORS FOREST RD',\n",
       "       'THE PARKING LOT CROSSWALK OF 12207 VEIRS MILL RD',\n",
       "       'PARKING LOT IN FRONT OF 9821 BETHESDA CHURCH RD',\n",
       "       'PARKING LOT IN FRONT OF CHINA KING 3827 ASPEN HILL RD SILVER SPRING, MD 20906',\n",
       "       'PARKING LOT OF GIANT FOOD, 9719 TRAVILLE GATEWAY DR, ROCKVILLE, MD 20850',\n",
       "       'DRIVEWAY ACCESS OF 13615 GEORGIA AVE',\n",
       "       'PARKING LOT OF KITCHEN HOUSE WAY',\n",
       "       'SIDEWALK/PARKING LOT OF 11790 PARKLAWN DR ROCKVILLE, MD 20852',\n",
       "       'PARKING LOT OF 12835 LOCBURY CIRCLE',\n",
       "       'PARKING LOT OF 700 HUNGERFORD DR. ROCKVILLE MD',\n",
       "       'PL OF 880 RUSSELL AVE, GAITHERSBURG, MD',\n",
       "       'PARKING LOT OF 19777 FREDERICK RD',\n",
       "       'PARKING LOT IN FRONT OF 12807 SAGE TER',\n",
       "       'PARKING LOT OF HILTON HOTEL AT 1750 ROCKVILLE PIKE',\n",
       "       'PAVED DRIVEWAY OF 14031 GEORGIA AVENUE',\n",
       "       'PARKING LOT OF MCDONALDS AT 19388 MONTGOMERY VILLAGE AVE',\n",
       "       'PARKING LOT OF 2015 EAST WEST HWY.',\n",
       "       'PARKING LOT OF 12039 GEORGIA AVE',\n",
       "       'PARKING LOT OF 19200 MONTGOMERY VILLAGE AVE',\n",
       "       '211 N FREDERICK AVE', 'PARKING LOT OF 403 REDLAND BLVD',\n",
       "       '5000 BRADLEY BLVD (PARKING LOT EXIT OF SAFEWAY GROCERY)',\n",
       "       'PARKING LOT OF LEDOS PIZZA 5245 RIVER RD',\n",
       "       '18100 VILLAGE CENTER DRIVE', '3592 GLENEAGLES DRIVE',\n",
       "       'DASH IN (PARKING LOT)\\n11150 NEW HAMPSHIRE AVE \\nSILVER SPRING, MD 20904',\n",
       "       'REAR PARKING LOT OF 3000 MCCOMAS AVE',\n",
       "       'PARKING LOT 3661 TURBRIDGE DRIVE',\n",
       "       'PARKING LOT IN FRONT OF 5077 BRADLEY BLVD, CHEVY CHASE, MD',\n",
       "       'PARKING LOT OF 1701 ROCKVILLE PIKE',\n",
       "       'PARKING LOT IFO 18325 LOST KNIFE CIR.',\n",
       "       '1600 BLOCK OF ROCKVILLE PIKE (CONGRESSIONAL PLAZA)',\n",
       "       'ON SIDEWALK IN FRONT OF 2624 WEISMAN RD., SILVER SPRING MD',\n",
       "       'IFO 19508 BURLINGAME WAY MONTGOMERY VILLAGE MD 20886',\n",
       "       'PARKING LOT OF 9941 RIDGELINE DR',\n",
       "       'PARKING LOT OF 14101 GEORGIA AVE',\n",
       "       'PARKING LOT, 316 KENTLANDS BLVD',\n",
       "       '12012 CHERRY HILL RD - ALDI PARKING LOT',\n",
       "       'PARKING LOT OF 12304 FEATHERWOOD DR SILVER SPRING MD',\n",
       "       '15215 SHADY GROVE RD PARKING LOT',\n",
       "       'ACCESS ROAD AT SUBURBAN HOSPITAL',\n",
       "       'THRU ROADWAY (COMMONLY REFERRED TO AS RING ROAD) AT 11160 VEIRS MILL ROAD, SILVER SPRING, MD, 20902',\n",
       "       'PARKING LOT NEXT TO 9802 GEORGIA AVE',\n",
       "       'PARKING LOT OF 16021 INDUSTRIAL DRIVE',\n",
       "       'PARKING LOT OF 19620 WHITE GROUND ROAD',\n",
       "       'PRIVATE DRIVEWAY OF 5610 WISCONSIN AVE.',\n",
       "       'PARKING LOT MONTROSE  CROSSING CENTER',\n",
       "       'driveway/garage of 1957 middlebridge dr',\n",
       "       'In front yard of 45 Portside Court Gaithersburg, MD 20877',\n",
       "       'PARKING LOT OF 75 E WAYNE AVE',\n",
       "       'PARKING LOT OF 26004 BRIGADIER PLACE',\n",
       "       'SIDEWALK /DRIVEWAY OF 1911 ROCKVILLE PIKE',\n",
       "       'DRIVEWAY OF TRANSFER STATION 16101 FREDERICK RD',\n",
       "       'At the entrance to the Citgo located at 13615 Georgia Ave',\n",
       "       'PARKING LOT OF 20044 GOSHEN RD',\n",
       "       'PARKING LOT OF 16004 SHADY GROVE ROAD',\n",
       "       'parking lot of 610 N. Frederick Ave',\n",
       "       'PARKING LOT OF GIANT FOOD, 625 HUNGERFORD DRIVE, ROCKVILLE',\n",
       "       'DRIVEWAY OF 10820 GEORGIA AVE.',\n",
       "       'PARKING LOT OF 2 UNIVERSITY BLVD W',\n",
       "       'PARKING LOT OF 111 WATKINS STATION CIRCLE IN GAITHERSBURG, MD 20877',\n",
       "       'PARKING LOT OF 4301 RANDOLPH RD',\n",
       "       'PARKING LOT-BETHESDA ELEMENTARY\\n7600 ARLINGTON RD.',\n",
       "       '8580 2ND AVE - DRIVEWAY',\n",
       "       'CAPITAL CRESENT TRAIL@LITTLE FALLS PKWY',\n",
       "       'PARKING LOT OF 20600 SENECA MEADOWS PKW',\n",
       "       'PARKING LOT OF\\n2015 EAST WEST HWY',\n",
       "       'PARKING LOT OF 625 HUNGERFORD DR',\n",
       "       'STAPLES PARKING LOT 1531 ROCKVILLE PIKE ROCKVILLE, MD',\n",
       "       'Driveway of 21100 Slidell Rd. Boyds MD 20841',\n",
       "       'PARKING LOT OF 9649 LOST KNIFE RD ,MCG',\n",
       "       'PARKING LOT OF 11301 GEORGIA AVE.',\n",
       "       'DRIVEWAY EXITING GIANT AT 10400 OLD GEORGETOWN ROAD ONTO ROCKSPRING DRIVE',\n",
       "       'PARKING LOT OF 825 QUINCE ORCHARD BLVD',\n",
       "       'REAR PARKING LOT OF 3305 N LEISURE WORLD BLVD',\n",
       "       'PARKING LOT IN AREA OF 9918 RIDGE LINE DRIVE',\n",
       "       'PARKING LOT FOR 649 UNIVERSITY BOULEVARD EAST.',\n",
       "       'IN THE PARKING LOT OF 19533 FETLOCK DR. GERMANTOWN MD. 20874',\n",
       "       '13716 BRIGEWATER DRIVE', 'PARKING LOT AT 19411 BRASSIE PLACE',\n",
       "       'PARKINGLOT OF 20910 FREDERICK ROAD GERMANTOWN, MD 20876',\n",
       "       'PARKING SPACE OUTSIDE 23 FIRSTFIELD RD, GAITHERSBURG, MD, 20878',\n",
       "       'PARKING LOT OF 13615 GEORGIA AVE',\n",
       "       'ALLEYWAY OF 7220 WISCONSIN AVENUE',\n",
       "       '4414 MUNCASTERMILL RD.\\nCHINESE BIBLE CHURCH',\n",
       "       '7106 MUNCASTER MILL RD, GAITHERSBURG, MD (MCDONALDS PARKING LOT)',\n",
       "       'PARKING LOT OF\\n 11820 PARKLAWN DR',\n",
       "       '891-G ROCKVILLE PIKE \"PAISANO\\'S\"  PARKING LOT',\n",
       "       'PARKING LOT OF 417 N. FREDERICK ROAD',\n",
       "       'PARKING LOT OF 13517 GEORGIA AVE',\n",
       "       'PARKING LOT OF 9235 HUMMINGBIRD TERR',\n",
       "       'PARKING LOT OF 1514 DUNSTER RD', 'ALLEY BEHIND NEW HAMPSHIRE AVE',\n",
       "       'PARKING LOT OF 13671 GEORGIA AVE SILVER SPRING MD 20906',\n",
       "       'Parking Lot of 7945 Tuckerman Lane',\n",
       "       'ON OBSERVATION DR AT 20200 OBSERVATION DR ON THE CAMPUS OF MONTGOMERY COLLEGE',\n",
       "       'IN THE PARKING LOT OF THE 7 ELEVEN',\n",
       "       'PARKING LOT ENTRANCE LOCATED AT 2424 UNIVERSITY BLVD W',\n",
       "       'DRIVEWAY OF 2311 NORBECK ROAD',\n",
       "       'shell parking lot 11300 lockwood drive/11200 new hampshire avenue',\n",
       "       'PARKING LOT OF 710 BEACON ROAD SILVER SPRING MD',\n",
       "       'DRIVEWAY OF 2006 LONGMEAD RD', 'Darcars parking lot',\n",
       "       'PARKING LOT OF DOLLAR GENERAL, 19718 FISHER AVE, POOLESVILLE, MD 20837',\n",
       "       'PARKING LOT OF \\n\\n10100 RIVER RD',\n",
       "       'PARKING LOT OF GAITHERSURG ELEMENTARY SCHOOL 35 N. SUMMIT AVE',\n",
       "       'SIDEWALK IN FRONT OF 416 NORTH FREDERICK AVE',\n",
       "       '19515 FREDERICK RD. TAILER # 102  (INSIDE OF TRAILER PARK)',\n",
       "       'DRIVEWAY OF 12512 BARBARA RD',\n",
       "       'parking garage of Westfield Montgomery mall',\n",
       "       'PARKING LOT 12405 GEORGIA AVENUE', '909 THAYER AVE PARKING LOT',\n",
       "       'Parking lot of 13701 Georgia Ave',\n",
       "       'PARKING LOT OF 4816 BOILING BROOK PARKWAY',\n",
       "       'PARKING LOT OF 22 N SUMMIT AVE',\n",
       "       'PARKING LOT OF WEST EXIT OF MCDONALDS AT 13701 CONNECTICUT AVENUE IN ASPEN HILL SHOPPING CENTER',\n",
       "       'PARKING LOT KINGSVIEW MIDDLE SCHOOL @ 16600 RAVEN ROCK DR',\n",
       "       'DRIVEWAY OF\\n20211 GOSHEN ROAD',\n",
       "       \"10401 GROSVENOR PLACE ROCKVILLE, MD 20852\\nINCIDENT OCCURED IN GROSVENOR MARKET'S  PARKING LOT\",\n",
       "       'H-MART PARKING LOT.  12015 GEORGIA AVE WHEATON, MD',\n",
       "       'PARKING LOT OF 13420 NEW HAMPSHIRE AVE, EXXON GAS STATION',\n",
       "       'Parking lot of 7400 Arlington Road, Bethesda, MD',\n",
       "       'PARKING LOT OF MONTGOMERY COUNTY FAIR GROUNDS.',\n",
       "       'PARKING LOT OF WESTWOOD SHOPPING CENTER, LOCATED AT 5400 WESTBARD AVENUE, BETHESDA, MD 20816',\n",
       "       'PARKING LOT OF PEP BOYS\\n20900 FREDERICK ROAD GERMANTOWN MD, 20876',\n",
       "       'PARKING LOT OF 20902 FREDERICK RD',\n",
       "       'SHADY GROVE METRO \\n\\n15903 SOMMERVILLE DR\\n ROCKVILLE, MD 20855',\n",
       "       'PARKING LOT IN FRONT OF 842 MUDDY BRANCH RD, GAITHERSBURG, MARYLAND, 20878',\n",
       "       'PARKING LOT IN FRONT OF 13007 WISTERIA DR',\n",
       "       'PARKING LOT OF 15136 FREDERICK RD (ADVANCE AUTO), ROCKVILLE, MD',\n",
       "       'APARTMENT COMPLEX PARKING LOT- INTERSECTION OF HAMPSHIRE GREEN LANE AND MT. PISGAH LANE',\n",
       "       'Parking lot of 12015 Georgia Ave. Silver Spring, MD 20902 (H Mart)',\n",
       "       'PARKING LOT OF 18905 BONONZA WAY',\n",
       "       '38 MARYLAND AVE PARKING GARAGE B ROCKVILLE MD 20850',\n",
       "       \"Parking Garage near Macy's side of Montgomery Mall\",\n",
       "       'SIDEWALK PARALLEL TO 10008 COLESVILLE ROAD',\n",
       "       'PARKING LOT OF 5566 NORBECK RD',\n",
       "       'Parking lot of 7103 Democracy Blvd (Sears-Montgomery Mall)',\n",
       "       'Chipotle Parking Lot (10526 Connecticut Avenue)',\n",
       "       'NORDSTORM PARKING GARAGE-7111 DEMOCRACY BLVD',\n",
       "       '15740 SHADY GROVE RD,  HOME DEPOT STORE PARKING LOT',\n",
       "       'Parking lot of 18435 Lost Knife Circle, Montgomery Village, MD 20877',\n",
       "       'PARKING LOT OF 19227 WATKINS MILL RD',\n",
       "       'INSIDE PARKING GARAGE LOCATED AT 1215 E. WEST HIGHWAY',\n",
       "       'PARKING LOT OF 19900 BLOCK OF CENTURY BLVD',\n",
       "       'ENTRANCE/EXIT FROM CONGRESSIONAL NORTH PLAZA',\n",
       "       'Parking lot of 141-1 Georgia Ave',\n",
       "       '801  ELLSWORTH DRIVE (FENTON STREET PARKING GARAGE)',\n",
       "       'entrance/driveway to 4601 N.Park Avenue (The Elizabeth Apartments)',\n",
       "       '18140 VILLAGE CENTER DR OLNEY MD 20832\\n\\nPARKING LOT',\n",
       "       'PARKING LOT AT 13820 OLD COLUMBIA PIKE',\n",
       "       'PARKING LOT OF 7996 GEORGIA AVE',\n",
       "       'PARKING LOT OF 20910 FREDERICK RD. GERMANTOWN, MD. 20876',\n",
       "       'IN PARKING LOT OF 8750 ARLISS ST.',\n",
       "       'Parking lot of KMart store located at 14014 Connecticut Avenue, Silver Spring',\n",
       "       '3470 Olney Laytonsville Rd (Ledos Pizza)\\nOlney, MD 20832  - Occurred in parking retail parking lot.',\n",
       "       'FARMERS MARKET PARKING LOT. \\n7155 WISCONSIN AVE BETHESDA MD',\n",
       "       'PARKING LOT OF 12028 CHERRY HILL RD',\n",
       "       'PARKING LOT OF TRADER JOES \\n10741 COLUMBIA PIKE\\nSILVER SPRING, MD 20901',\n",
       "       'PARKING LOT OF 3100 NORTH LEISURE WORLD BLVD',\n",
       "       'PARKING LOT IN 2000 BLOCK OF PRUITT COURT',\n",
       "       'WALMART PARKING LOT: 20910 FREDERICK RD., GERMANTOWN, MD',\n",
       "       'PARKING LOT OF GIANT', 'BANK OF AMERICA PARKING LOT',\n",
       "       'DRIVEWAY OF 23001 HOWARD CHAPEL RD',\n",
       "       'PARKING SPACE OUTSIDE 1088 WEST SIDE DR, GAITHERSBURG, MD.',\n",
       "       '9864 HELLINGLY PL\\nGAITHERSBURG, MD 20886',\n",
       "       'IFO 16567 S FREDERICK AVE (WEIS MARKET)',\n",
       "       'PARKING LOT OF 22222 DAVIS MILL RD',\n",
       "       'PARKING LOT IN FRONT OF 394 N SUMMIT AVENUE',\n",
       "       '1643B ROCKVILLE PIKE (PARKING LOT/STORE)',\n",
       "       'INSIDE MONTGOMERY COUNTY PARKING GARAGE #4 ON 2ND LEVEL, LOCATED AT 8110 FENTON STREET',\n",
       "       'PARKING LOT IN FRONT OF 10911 BREWER HOUSE RD',\n",
       "       'PARKING LOT OF 20910 FREDERICK RD (WALMART)',\n",
       "       'PARKING LOT OF 12051 ROCKVILLE PIKE, ROCKVILLE, MD 20851.',\n",
       "       'PARKING LOT OF 501 QUINCE ORCHARD RD, GAITHERSBURG, MD',\n",
       "       'PARKING LOT OF\\n18206 CONTOUR ROAD',\n",
       "       'PARKING LOT OF 7ELEVEN LOCATED AT 13001 WISTERIA DRIVE, GERMANTOWN, MD 20874',\n",
       "       'PARKING LOT OF 19923 CENTURY BLVD',\n",
       "       \"Parking Lot of Bobby's Burger Palace (7101 Democracy Blvd. Bethesda, MD 20817)\",\n",
       "       'PARKING LOT OF 9659 LOST KNIFE ROAD',\n",
       "       '5144 NICHOLSON LANE (COMMERCIAL PARKING LOT)',\n",
       "       '117 E. DIAMOND AVE. GAITHERSBURG, MD. 20877 (CANCUN RESTAURANT / REAR PARKING LOT)',\n",
       "       'PARKING LOT IN FRONT OF WALMART 20910 FREDERICK RD GERMANTOWN, MD 20874',\n",
       "       'PARKING LOT 655 WATKINS MILL RD',\n",
       "       'In Parking lot of 11710 Hunters Lane, Rockville, MD',\n",
       "       'PARKING LOT BEHIND 8105 EAST WEST HWY',\n",
       "       '11606 MIDDLEBROOK RD (SUNOCO PARKING LOT)',\n",
       "       'PARKING LOT OF 2730 UNIVERSITY BOULEVARD, SILVER SPRING MARYLAND',\n",
       "       '901 Jessup Blair Rd Garage (Level 2)',\n",
       "       'PARKING LOT\\n\\n9159 BROOKVILLE ROAD SILVER SPRING, MD',\n",
       "       '14000 GEORGIA AVENUE PARKING LOT (HOME DEPOT)',\n",
       "       'Parking lot area of 10011 Stedwick Road, between the Capitol One bank and US Post Office.',\n",
       "       'acess road between 30 N Summit Ave and 32 N Summit Ave',\n",
       "       'PARKING LOT ENTRANCE', 'parking lot of 15920 Shady Grove Rd',\n",
       "       'PARKING LOT OF 457  FREDERICK RD',\n",
       "       'PARKING LOT OF 1750 ROCKVILLE PIKE',\n",
       "       'PARKING LOT OF 10134 RIVER ROAD', 'DRIVEWAY 6516 DAMASCUS ROAD',\n",
       "       'PARKING LOT OF 11160 VEIRS MILL ROAD, WHEATON MD',\n",
       "       'PARKING LOT OF 18701 LIBERTY MILL RD, GERMANTOWN, MD',\n",
       "       'IN PARKING LOT IN FRONT OF 8709 FLOWER AVE.',\n",
       "       'PARKING LOT OF 6121 MONTROSE RD ROCKVILLE, MD',\n",
       "       '11171 GEORGIA AVE - BUS TURN AROUND',\n",
       "       'PARKING LOT OF 8504 16TH STREET',\n",
       "       'PRIVATELY OWNED/MAINTAINED ROADWAY\\nINTERSECTION OF 3300 N LEISURE WORLD BLVD AND NORBECK BLVD',\n",
       "       'PARKING LOT OF 13408 KINGSVIEW VILLAGE AVE',\n",
       "       'PARKING LOT OF PANERA BREAD LOCATED AT 8541 GEORGIA AVENUE, SILVER SPRING, MD 20901',\n",
       "       'SIDE WALK IN FRONT OF PARKING LOT OF 420 UNIVERSITY BLVD E',\n",
       "       'In parking lot of Target store @ 11160 Veirs Mill Road, Wheaton MD 20902, Westfield Shopping Plaza.',\n",
       "       'PARKING LOT OF 11190 VEIRS MILL RD',\n",
       "       'Parking Lot of 50 Bureau Dr. Gaithersburg',\n",
       "       'Parking lot of Citgo gas station located at 13615 Georgia Avenue, Silver Spring, MD 20906',\n",
       "       'GAINT  PARKING LOT\\n13060 MIDDLEBROOK RD\\nGERMANTOWN\\nMD 20874',\n",
       "       '722 HIGHLAND RIDGE AVE',\n",
       "       'the parking lot located at 500 N. Washington St',\n",
       "       'AMAZON SHIPPING WAREHOUSE LOCATED AT 861 E GUDE DRIVE ROCKVILLE, MD 20852',\n",
       "       '8120 GEORGIA AVE. DRIVEWAY',\n",
       "       'DRIVEWAY OF 26601 MULLINIX MILL RD MT AIRY, MD 21771',\n",
       "       'PARKING LOT OF 2408 UNIVERSITY BLVD, EL CATRACHITO',\n",
       "       'IN FRONT OF 7700 SCOTLAND DR. (PARKING LOT)',\n",
       "       'PARKING LOT OF 18911 PEACH TREE RD DICKERSON, MD 20842',\n",
       "       'IN SHOPPING CENTER INFRONT OF OLNEY GRILLE RESTAURANT',\n",
       "       'PARKING LOT OF ASPEN HILL SHOPPING CENTER  (13729 CONNECTICUT AVE)',\n",
       "       'DRIVE WAY AND SIDEWALK OF 1111 EDMONSTON DRIVE',\n",
       "       'PARKING LOT OF 18 ONEILL DR.',\n",
       "       'KIELBASA FACTORY BUILDING AND PARKING LOT LOCATED AT 1065 ROCKVILLE PIKE',\n",
       "       'PK LOT 14939 SHADY GROVE RD.',\n",
       "       \"11355 WOODGLEN DRIVE (UNDERGROUND PARKING GARAGE OF 'WHOLE FOODS MARKET')\",\n",
       "       'GARAGE OF 1200 EAST WEST HWY',\n",
       "       'STARBUCKS PARKING LOT @ 16806 GEROGIA AVE',\n",
       "       'PARKING LOT OF 3410 OLNEY LAYTONSVILLE RD (SIDE PARKING LOT EXIT)',\n",
       "       'Parking lot of 12310 Academy Way',\n",
       "       'Abandoned Auto Parking lot, 305 Metropolitan Grove Road Gaithersburg MD 20878',\n",
       "       'PARKING LOT OF 24001 RIDGE RD',\n",
       "       'IN PARKING LOT IN FRONT OF 13817 OUTLET DRIVE, SILVER SPRING MD.',\n",
       "       'PARKING LOT OF 11271 NEW HAMPSHIRE AVENUE',\n",
       "       'PARKING LOT FOR 8541 GEORGIA AVENUE',\n",
       "       'Parking lot 5809 Nicholson Ln T1 level',\n",
       "       'CHIK-FIL-A PARKING LOT LOCATED AT 19945 CENTURY BLVD GERMANTOWN, MD 20874',\n",
       "       'GLENMONT METRO GARAGE\\nLEVEL 2, BY ROW 2C\\n12501 GEORGIA AVE. SILVER SPRING, MD 20902.',\n",
       "       '16651 CRABBS BRANCH WAY\\nROCKVILLE, MD 20855',\n",
       "       'PARKING LOT OF 11931 VEIRS MILL RD',\n",
       "       'PARKING LOT OF 8208 ROANOKE AVE',\n",
       "       'PARKING LOT CUT THROUGH OUTSIDE OF 11558 LOCKWOOD DRIVE, SILVER SPRING, MD 20904.',\n",
       "       'IN THE PARKING LOT OF SHOPPERS LOCATED AT 12345 GEORGIA AVE SILVER SPRING, MD 20906',\n",
       "       'PARKING LOT OF HARRIS TEETER @ 11845 OLD GEORGETOWN RD ROCKVILLE, MD 20852',\n",
       "       '2100 CHAPMAN AVE (FLAGSHIP CARWASH PARKING LOT)',\n",
       "       'PARKING LOT OF \"BIG LOTS\" 19000 BLOCK OF MONTGOMERY VILLAGE AVE',\n",
       "       'PARKING LOT OF \\n6301 RIVER RD',\n",
       "       'PARKING LOT OF\\n19718 GERMANTOWN ROAD (SAFEWAY)',\n",
       "       \"PARKING LOT IN FRONT OF MACY'S AT MONTGOMERY MALL-7101 DEMOCRACY BLVD BETHESDA, MD 20817\",\n",
       "       'PARKING LOT IN FRONT OF 13002 COUNTRY RIDGE DRIVE, GERMANTOWN',\n",
       "       '13884 GEORGIA AVE (ROY ROGERS PARKING LOT ENTRANCE)',\n",
       "       'DRIVEWAY OF 11530 ROCKVILLE PIKE',\n",
       "       'ENTRANCE TO 15301 FREDERICK RD. IN DRIVEWAY \\nCHEVROLET DEALERSHIP',\n",
       "       'PARKING LOT OF 8190 BEECHCRAFT AVE',\n",
       "       'OCCURRED ON NE CAPITAL CRESCENT TRAIL, APPROXIMATELY 50 FEET PRIOR TO DORSET AVENUE INTERSECTION.',\n",
       "       'PARKING LOT 1580 ROCKVILLE PIKE',\n",
       "       'PARKING LOT OF 360 HUNGERFORD DR, ROCKVILLE, MD',\n",
       "       'PARKING LOT OF 11311 LOCKWOOD DR',\n",
       "       'SEARS PARKINGLOT OF 7101 DEMOCRACY BLVD',\n",
       "       \"SAM'S CLUM PARKING LOT, 610 N FREDERICK AVE, GAITHERSBURG, MD 20877\",\n",
       "       'DRIVEWAY ENTRANCE TO 390 N. SUMMIT AVE',\n",
       "       'PARKING LOT OF 1675 ROCKVILLE PIKE',\n",
       "       'IN FRONT OF 19603 CRYSTAL ROCK DR.',\n",
       "       'PARKING LOT OF MEDSTAR MONTGOMERY HOSPITAL 18011 PRINCE PHILIP DR',\n",
       "       'PARKING LOT IN FRONT OF 19552 CRYSTAL ROCK DRIVE',\n",
       "       'PARKING LOT OF WOODMOOR SHOPPING CENTER',\n",
       "       '600 N FREDERICK AVE\\n PARING LOT OF\\n TOYS R US',\n",
       "       '18909 KINGSVIEW RD PARKING LOT OF GERMANTOWN OUTDOOR POOL',\n",
       "       'PARKING GARAGE AT 921 WAYNE AVE.',\n",
       "       'PARKING LOT OF 910 SCHINDLER DRIVE, SILVER SPRING MD 20903',\n",
       "       'DRIVE WAY TO 19815 GERMANTOWN ROAD EXXON',\n",
       "       'PARKING LOT OF 104 N FREDERICK RD',\n",
       "       'PARKING LOT OF 11310 GEORGIA AVE SILVER SPRING, MD 20902',\n",
       "       'THE REAR OF THE PARKING LOT AT 820 BALTIMORE RD',\n",
       "       'PARKING LOT OF 2505 PROSPERITY TER',\n",
       "       'PARKING LOT OF SAFEWAY   2010 VEIRS MILL RD',\n",
       "       'parking lot of 2010 LINDEN LA ,MCG (YESHIVA SCHOOL)',\n",
       "       '206 N. Frederick Ave\\nGaithersburg MD  20878',\n",
       "       'ALLEY BEHIND LA FITNESS CONNECTING GEORGIA AVE AND DRIVEWAY TO PARKING GARAGE.',\n",
       "       'PARKING LOT OF 225 N WASHINGTON AVE',\n",
       "       'Parking Lot rear of 1111 University Blvd, Wheaton MD 20902.',\n",
       "       'IFO 27 PICKERING CT, GERMANTOWN MD',\n",
       "       'AT PARKING LOT EXIT OF 650 HUNGERFORD DR TO ENTER SB HUNGERFORD DR',\n",
       "       'SIDEWALK IN FRONT OF 112 UNIVERSITY BLVD W, SILVER SPRING,MD 20903',\n",
       "       'Parking lot of 16541 S Frederick Ave',\n",
       "       'SAFEWAY PARKING LOT \\n116 UNIVERSITY BOULEVARD\\nSILVER SPRING',\n",
       "       'PARKING LOT OF 8617 CHATEAU DRIVE POTOMAC, MARYLAND 20854',\n",
       "       '12277 NEBEL STREET',\n",
       "       \"PARKING LOT OF MACY'S LOCATED AT 7101 DEMOCRACY BLVD\",\n",
       "       'PARKING LOT OF TGI FRIDAYS OF TECH RD',\n",
       "       'Parking Lot Access on 2nd Ave for 8405 Colesville Rd',\n",
       "       'PARKING LOT IN FRONT OF 1923 ROSEMARY HILLS DR, SILVER SPRING, MD 20910',\n",
       "       'PARKING LOT OF ST. JOHN THE EVANGELIST CATHOLIC CHURCH\\n\\n\\n10201 GEORGIA AVENUE',\n",
       "       'PARKING LOT IN FRONT OF 10106 LITTLE POND PLACE, GAITHERSBURG, MD, 20886',\n",
       "       'PARKING LOT OF 12389 GEORGIA AVE',\n",
       "       'CROSS WALK IN FRONT OF CHECKERS AT 16171 SHADY GROVE RD GAITHERSBURG MD 20877',\n",
       "       'ASPEN HILL SHOPPING CENTER - CAPITAL ONE BANK - 13601 CONNECTICUT AVE SILVER SPRING MD 20906',\n",
       "       'IN DRIVEWAY OF 13118 HATHAWAY DRIVE, SILVER SPRING, MD 20906',\n",
       "       'IFO 13428 NEW HAMPSHIRE AVE',\n",
       "       'PARKING LOT OF WILDWOOD SHOPPING CENTER', '865 Rockville Pike',\n",
       "       'Driveway/Sidewalk in front of 8436 10th Avenue Silver Spring, MD 20903',\n",
       "       'PARKING LOT OF 20906A FREDERICK ROAD',\n",
       "       'PARKING LOT OF 2601 UNIVERSITY BLVD W',\n",
       "       '12000 CHERRY HILL   IFO TARGET STORE',\n",
       "       'PARKING LOT OF SEARS ROEBUCK   11255 NEW HAMPSHIRE AVE',\n",
       "       'Exit heading onto southbound Rockville Pike from Congressional Plaza',\n",
       "       'PARKING LOT IN FRONT OF 8038 INVERNESS RIDGE ROAD, POTOMAC, MD 20854',\n",
       "       \"ENTRANCE TO WENDY'S PARKING LOT LOCATED AT 14012 CONNECTICUT AVE\",\n",
       "       '2921 N LEISURE WORLD BLVD',\n",
       "       'IN THE PARKING LOT OF CRESTWOOD DRIVE',\n",
       "       '4816 BOILING BROOK PKWY, GOODWILL PARKING LOT',\n",
       "       'PARKING LOT OF 15 SCHOOL DR',\n",
       "       'PARKING LOT OF 13880 OLD COLUMBIA PIKE, SILVER SPRING, MD, 20904',\n",
       "       '3715 UNIVERSITY BLVD W PARKING LOT OF CVS',\n",
       "       'SIDEWALK IN FRONT OF 14101 GEORGIA AVENUE SILVER SPRING, MARYLAND 20906',\n",
       "       'LOWER LEVEL PARKING LOT MACYS',\n",
       "       'PARKING LOT IFO 625 HUNGERFORD DR (GIANT)',\n",
       "       'PARKING LOT OF 10753 COLUMBIA PIKE',\n",
       "       'Parking lot in front of entrance to Best Buy located at 10901 Georgia Avenue, Silver Spring',\n",
       "       'PARKING LOT OF 807 DALEVIEW DRIVE\\nMONTGOMERY KNOLLS ELEMENTARY SCHOOL',\n",
       "       'PARKING LOT IN FRONT OF 11507 FEBRUARY CIRCLE, SILVER SPRING, MARYLAND',\n",
       "       'PARKING LOT OF 19294 MONTGOMERY VILLAGE AVE',\n",
       "       'PARKING LOT OF 1939 SEMINARY RD, SILVER SPRING, MD 20910',\n",
       "       'PARKING LOT OF 8600 OLD GEORGETOWN RD SUBURBAN HOSPITAL',\n",
       "       '10550 CONNECTICUT AVENUE',\n",
       "       'Parking Lot of 2201 Randolph Road (Shoppers)',\n",
       "       'On the sidewalk located at 411 N. Frederick Ave, Gaithersburg Maryland',\n",
       "       '8357 COLESVILLE ROAD',\n",
       "       'PARKING LOT OF 1776 EAST JEFFERSON STREET',\n",
       "       'DRIVEWAY/EXIT OF 1560 ROCKVILLE PIKE',\n",
       "       'PARKING LOT BETWEEN 7408 AND 7406 WESTMORE RD ROCKVILLE',\n",
       "       'PARKING LOT OF 3860 INTERNATIONAL DR, SILVER SPRING MD (GIANT FOODSTORE)',\n",
       "       'PARKING LOT OF 15200 SHADY GROVE ROAD', 'MILESTONE PARKING LOT',\n",
       "       'PARKING LOT OF 2131 INDUSTRIAL PARKWAY (WHITE OAK MVA)',\n",
       "       '8301 FENTON ST',\n",
       "       'PARKING LOT NEAR 19388 MONTGOMERY VILLAGE AVENUE',\n",
       "       'Cheltnham Parking Garage', 'DRIVEWAY OF 2827 ABBEY MANOR CR',\n",
       "       '2212 Glenmont Circle \\nSilver Spring MD 20902\\nParking Lot',\n",
       "       'Parking Lot 12001 Sylark Rd. Clarksburg, MD \\nOvid Hazen Wells Park',\n",
       "       'PARKING LOT OF 12266 ROCKVILLE PIKE',\n",
       "       'STAPLES PARKING LOT,\\n LOCATED AT 20906A FREDERICK RD, GERMANTOWN, MD',\n",
       "       'CVS/KOREAN KORNER PARKING LOT-VEIRS MILL RD/RANDOLPH RD',\n",
       "       '4701 SANGAMORE RD, CVS PARKING LOT',\n",
       "       'Parking lot of 11409-A Amherst Ave',\n",
       "       'PARKING LOT OF 11548 STEWART LANE',\n",
       "       '10201 OLD GEORGETOWN ROAD (WILDWOOD SHOPPING CENTER PARKING-LOT)',\n",
       "       'PARKING LOT OF 20300 PLEASANT RIDGE DR ,MCG (NORTHGATE CHURCH)',\n",
       "       'PARKING LOT OF CENTRAL SQUARE SHOPPING CENTER 8555 PINEY BRANCH RD',\n",
       "       '4707 HIGHLAND AVENUE (MONTGOMERY COUNTY PUBLIC PARKING LOT)',\n",
       "       'PARKING LOT- HI-TECH BUILDING MONTGOMERY COLLEGE-GERMANTOWN\\n20200 OBSERVATION DR\\nGERMANTOWN, MD',\n",
       "       '11700 OLD COMBIA PIKE CRASHED INTO BUILDING',\n",
       "       '11790 PARKLAWN DR PARKING LOT',\n",
       "       'Occured in the 7-11 Parking lot at11445 AMHERST AVE, WHEATON, MARYLAND, 20902.',\n",
       "       'PARKING LOT OF 10100 COLESVILLE RD',\n",
       "       'SIDEWALK OF PARKING LOT IN FRONT OF A 7-11 AT\\n14101 GEORGIA AVENUE\\nSILVER SPRING MD',\n",
       "       'IN PARKING LOT IFO 14231 GEORGIA AVE SILVER SPRING, MD 20906.',\n",
       "       '18101 PRINCE PHILLIP DR OLNEY MD 20832                  ( MONTGOMERY GENERAL HOSPITAL PARKING LOT)',\n",
       "       'PARKING LOT OF 15807 FREDERICK RD, ROCKVILLE, MD 20855',\n",
       "       'PARKING LOT OF 13838 OUTLET DRIVE',\n",
       "       'PARKING LOT @ 237 KENTLANDS BLVD',\n",
       "       'ON THE SIDEWALK OF 11620 ROCKVILLE PIKE',\n",
       "       'parking lot of 10101 New Hampshire Ave',\n",
       "       'PARKING LOT OF 12021 GEORGIA AVENUE',\n",
       "       'PARKING LOT OF 18701 LIBERTY MILL RD (SUNOCO GAS STATION)',\n",
       "       'PARKING LOT OF 9745 TRAVILLE GATEWAY DRIVE',\n",
       "       'MONT CO. PARKING LOT 60 921 WAYNE AVENUE LEVEL 2 ROW C',\n",
       "       'FENTON ST VILLAGE GARAGE \\n8110 FENTON ST SILVER SPRING MD 20910',\n",
       "       'PARKING LOT OF 13069 WISTERIA DR',\n",
       "       'PARKING LOT OF 455 N. FREDERICK AVE, GAITHERSBURG, MONTGOMERY COUTNY, MARYLAND',\n",
       "       'PARKING LOT OF HOLBROOK SHOPPING CENTER AT 425 S. FREDERICK AVE, GAITHERSBURG, MD 20877',\n",
       "       'PRIVATE PASSAGEWAY WITHIN THE PRIVATE PROPERTY OF LEISURE WORLD.',\n",
       "       'PARKING LOT OF CHIC FIL A RESTAURANT  19945 CENTURY BLVD GERMANTOWN, MD',\n",
       "       'DRIVEWAY/SIDEWALK AT 11700 PARKLAWN DR ROCKVILLE, MD 20852',\n",
       "       '6101 WILSON LANE (LANDON SCHOOL)',\n",
       "       'PARKING LOT OF 11509 AMHERST AVENUE WHEATON, MD',\n",
       "       'PARKING LOT OF 11919 ROCKVILLE PIKE', 'PARKING LOT OF LOWES',\n",
       "       'PARKING LOT OF 8615 FENTON STREET',\n",
       "       'parking lot of 8010 Fenton Street',\n",
       "       'In parking lot of 1580 Rockville Pike',\n",
       "       'ON SECOND FLOOR OF COUNTY PARKING GARAGE LOCATED AT 7726 FENTON STREET, SILVER SPRING MARYLAND 20910',\n",
       "       'SOUTH SIDE PARKING LOT AT GERMANTOWN ASSISTED LIVING  20990 FATHER HURLEY BLVD GERMANTOWN, MD 20874',\n",
       "       'PARKING LOT OF 19300 FRENCHTON PLACE \\nMONTGOMERY VILLAGE, MD 20886',\n",
       "       'PARKING LOT OF MONTGOERY COLLEGE ROCKVILLE.',\n",
       "       'PARKING LOT OF 10300 STRATHMORE HALL ST',\n",
       "       'PARKING LOT OF 422 GIRARD ST',\n",
       "       'IN PARKING LOT TO THE NORTH OF 12216 PARKLAWN DR',\n",
       "       'Parking lot of 12021 Georgia Ave Silver Spring, MD 20906',\n",
       "       '408 N. FREDERICK AVE. GAITHERSBURG, MARYLAND 20877',\n",
       "       'PARKING LOT OF WALMART 20910 FREDERICK RD',\n",
       "       'Parking Lot of 525 Thayer Ave',\n",
       "       '115 S FREDERICK AVE.   ST. MARTINS CATHOLIC CHURCH PARKING  LOT',\n",
       "       \"PARKING LOT OF 7200 MUNCASTER MILL RD (MCDONALD'S)\",\n",
       "       'PARKING LOT OF 5269 RIVER ROAD',\n",
       "       'ASPEN HILL SHOPPING CENTER PARKING LOT',\n",
       "       'DRIVEWAY OF 10820 GEORGIA AVE',\n",
       "       'Rear parking lot of Sherwood High School\\n300 Olney Sandy Spring Rd. Olney, MD 20860',\n",
       "       '5301 TUCKERMAN LANE (PARKING LOT OF STRATHMORE CONCERT HALL)',\n",
       "       '16501 SHADY GROVE RD, ROCKVILLE, MD 20850, US POST OFFICE',\n",
       "       'REAR PARKING LOT OF 2 UNIVERSITY BLVD W, SILVER SPRING, MD 20903',\n",
       "       'parking garage @ 5454 The Hills plz',\n",
       "       'REAR PARKING LOT OF 2 UNIVERSITY BLVD E',\n",
       "       'PARKING LOT OF 4968 WYACONDA ROAD, ROCKVILLE, MD',\n",
       "       'The parking lot exit located at 1450 Rockville Pike',\n",
       "       'IHOP PARKING LOT', 'PARKING LOT OF 12281 TECH RD',\n",
       "       'PARKING LOT 9136 GAITHER RD',\n",
       "       'PARKING LOT OF 701 RUSSELL AVE NEXT TO SEARS AUTOMOTIVE',\n",
       "       'IN FRONT OF 11408 BROOK RUN DR',\n",
       "       'UNKNOWN LOCATION, POSSIBLY IN PARKING LOT OF REFERENCED ADDRESS',\n",
       "       'DRIVEWAY 10501 DEMOCRACY LANE',\n",
       "       'Wheaton Plaza Ring Rd, between Target and Giant',\n",
       "       'PARKING LOT OF 10901 GEORGIA AVE',\n",
       "       'exiting the shopping plaza onto Georgia Avenue. Off road, just before Georgia Avenue.',\n",
       "       'IN FRONT OF 3834 INTERNATIONAL DRIVE',\n",
       "       'PARKING LOT AT 19515 FREDERICK RD 20876',\n",
       "       'IN DRIVEWAY OF 509 HARDING DR, SILVER SPRING MD 20901',\n",
       "       'PARKING LOT NEXT TO 14339 GEORGIA AVE SILVER SPRING MD 20906',\n",
       "       'DRIVEWAY TO 19910 FREDERICK ROAD',\n",
       "       'DRIVEWAY TO GIANT 10400 OLD GEORGETOWN ROAD',\n",
       "       '20110 ROTHBURY LANE (PARKING LOT)',\n",
       "       'IN AREA BETWEEN THE BEST BUY STORE (20914 FREDERICK RD) AND THE BEST BUY PARKING LOT.',\n",
       "       'PARKING LOT LOCATED AT 3740 BEL PRE ROAD',\n",
       "       'PEDESTRIAN STRUCK ON SIDEWALK IN THE ENTRANCE TO PARKING LOT OF 13205 TWINBROOK PKWY.',\n",
       "       'Rear Parking Lot of 8600 16th Street (Suburban Towers apartment building)',\n",
       "       'IN PARKING LOT OF 13661 CONNECTICUT AVE',\n",
       "       'GIANT FOOD STORE PARKING LOT \\n2900 UNIVERSITY BLVD W',\n",
       "       'PARKING LOT OF 19840 CENTURY BLVD.',\n",
       "       'OCCURRED ON DRIVEWAY OF 8405 BUCKHANNON DRIVE, POTOMAC MARYLAND',\n",
       "       'MONTGOMERY COUNTY PARKING LOT 20\\n8212 COLONIAL LANE SILVER SPRING, MD',\n",
       "       'ROAD IN MILESTONE SHOPPING CENTER\\n IN FRONT OF THE PETSMART',\n",
       "       'PARKING LOT OF 12130 DARNESTOWN RD.',\n",
       "       'PARKING LOT OF BED BATH AND BEYOND- 1519 ROCKVILLE PIKE',\n",
       "       'Parking Lot of 1801 Rockville Pike',\n",
       "       'Parking lot in front of townhomes at 14650 McKnew Road, Burtonsville, MD 20866',\n",
       "       'PARKING LOT OF 4749 SANGAMORE RD',\n",
       "       'PARKING LOT OF BLAIR HIGH SCHOOL NEXT TO UNIVERSITY BLVD EAST',\n",
       "       'GAS STATION LOT LOCATED AT 1911 ROCKVILLE PIKE',\n",
       "       'PARKING LOT OF 17051 OAKMONT ST',\n",
       "       'Parking lot # 5 located at 51 Mannakee St.\\n\\nthe Montogmery County Community College',\n",
       "       'DRIVEWAY OF 17605 CASHELL RD',\n",
       "       'PARKING LOT OF 15618 OLD COLUMBIA PIKE, GIANT',\n",
       "       '6930 ARLINGTON RD-BRADLEY SHOPPING CENTER',\n",
       "       'Parking lot of Giant Food (12051 Rockville Pike)',\n",
       "       '9936 MAIN STREET', 'PARKING LOT OF 18250 FLOWER HILL WAY (GIANT)',\n",
       "       'DRIVE WAY OF 10625 CONNECTICUT AVE.',\n",
       "       'parking lot of 7821 eastern avenue',\n",
       "       'PARKING LOT OF 100 TSCHIFFELY SQUARE RD',\n",
       "       'DUNKIN DONUTS 13810 CONNECTICUT AVE SILVER SPRING 20906',\n",
       "       'PARKING LOT OF GIANT / SEARS     11200 NEW HAMPSHIRE AVE',\n",
       "       'DRIVEWAY- 8728 COLESVILLE RD\\nSILVER SPRING, MD 20910',\n",
       "       '10400 OLD GEORGETOWN ROAD (GIANT FOOD PARKING LOT)',\n",
       "       'Parking lot of 13097 Wisteria Dr., Germantown, MD 20874',\n",
       "       'Parking Lot 13 at 11219 Grandview Ave',\n",
       "       'Northgate Shopping Center',\n",
       "       'PARKING LOT IN FRONT OF 4978 SENTINEL DRIVE',\n",
       "       'DRIVEWAY OF 11105 POTOMAC CREST DR\\nPOTOMAC, MD 20854',\n",
       "       'PARKING LOT OF 4111 HOWARD AVE, KENSINGTON MD 20895',\n",
       "       'PARKING LOT AT 1911 ROCKVILLE PIKE',\n",
       "       'PARKING LOT OF THE GIANT FOODS 625 HUNGERFORD DR ROCKVILLE',\n",
       "       'PARKING GARAGE AT 5430 WISCONSIN AVE.',\n",
       "       'PARKING LOT OF 8751 SNOUFFER SCHOOL RD \\n(NEW PSTA)',\n",
       "       '7740 FENTON ST. PARKING GARAGE LEVEL 3',\n",
       "       'FRONT OF HOSPITAL ROAUNDABOUT',\n",
       "       'PARKING LOT OF 3876 INTERNATIONAL DRIVE, SILVER SPRING MD 20906',\n",
       "       'PARKING LOT 6930 ARLINGTON RD',\n",
       "       'rear parking lot of 15503 Old Columbia Pike, Burtonsville, MD 20866',\n",
       "       'IN FRONT OF 9708 DIGGING RD',\n",
       "       'PARKING LOT OF 20944 FREDERICK ROAD (GIANT SUPERMARKET)',\n",
       "       'Driveway entrance at Post gate',\n",
       "       'Parking lot of 10121 New Hampshire Ave',\n",
       "       'PARKING LOT OF 7736 WOODMONT AVE',\n",
       "       'PARKING LOT OF KNIGHTS OF PYTHIAS LODGE AT 11011 GAME PRESERVE RD',\n",
       "       'PKG LOT OF SHOPPERS FOOD WAREHOUSE LOCATED AT 18140 VILLAGE MART DRIVE, OLNEY, MD 20832',\n",
       "       'PARKING LOT OF LIFETIME FITNESS CLUB',\n",
       "       '2121 INDUSTRIAL PARKWAY\\nSILVER SPRING,MD',\n",
       "       'PARKING LOT OF 9200 DARNESTOWN RD, ROCKVILLE MD.',\n",
       "       'PARKING LOT IN FRONT OF 6920 ARLINGTON RD',\n",
       "       'Parking lot of 8300 Carroll Ave Takoma Park, MD 20912',\n",
       "       'PARKING LOT OF 13639 GEORGIA AVE, SILVER SPRING, MD',\n",
       "       'PARKING GARAGE OF 6800 WISCONSIN AVE.  LEVEL 1.  ENTRENCE FOR GARAGE IS OFF BRADLEY BLVD.',\n",
       "       'parking lot of 951 N. Frederick Rd. Gaithersburg,  Md. 20879',\n",
       "       'parking lot of 11200 Rockville Pike',\n",
       "       'PARKING LOT OF HOME DEPOT AT 21010 FREDERIC RD',\n",
       "       'Parking Lot of 20510 Frederick Rd',\n",
       "       'PARKING LOT OF FLORA SINGER ELEMENTARY SCHOOL',\n",
       "       'In parking lot in front of 11240 Georgia Avenue, Wheaton MD 20902',\n",
       "       'PARKING LOT OF 1700 CHAPMAN AVE (TWINBROOK METRO)',\n",
       "       'PARKING LOT OF 1471 ROCKVILLE PIKE, ROCKVILLE, MD',\n",
       "       'PARKING LOT OF 1290 EAST WEST HWY, SILVER SPRING MD 20910',\n",
       "       'PARKING LOT OF GIANT LOCATED AT 20044 GOSHEN RD',\n",
       "       'PARKING LOT ROADWAY IN FRONT OF 7901 TUCKERMAN LANE',\n",
       "       'PARKING GARAGE AT 8700 CAMERON ST',\n",
       "       'PARKING LOT, 18010 GEORGIA AVENUE (MCDONALDS)',\n",
       "       'PARKING LOT AT FENTON STREET AND CAMERON',\n",
       "       'SIDE WALK\\n8600 BLOCK COLESVILLE RD\\n\\nSILVER SPRING, MD 20910',\n",
       "       'P/L OF 814 W DIAMOND AVE',\n",
       "       \"PARKING LOT OF JC PENNY'S LOCATED AT 11160 VEIRS MILL ROAD, WHEATON MD\",\n",
       "       'PARKING LOT OF SUNOCO STATION; 14031 GEORGIA AVE, SILVER SPRING, MD',\n",
       "       'PARKING LOT OF STROSNIDERS HARDWARE',\n",
       "       'Parking area of 7851 Old Georgetown Road.', '14400 TAOS COURT',\n",
       "       'DRIVEWAY OF 2305 SHOREFIELD ROAD',\n",
       "       'PARKING LOT OF 14000 GEORGIA AVE (HOME DEPOT)',\n",
       "       \"PARKING LOT IN FRONT OF CICI'S PIZZA AT 12111 ROCKVILLE PIKE\",\n",
       "       '1600 BLK OF YALE PLACE (RESIDENTIAL PARKING LOT)',\n",
       "       '1121 UNIVERSITY BLVD W SILVER SPRING MD\\nIN PARKING LOT IN FRONT OF MAIN ENTRANCE',\n",
       "       'WASTE TRANSFER STATION PARKING LOT\\n16101 FREDERICK RD\\nROCKVILLE, MD 20855',\n",
       "       'PARKING LOT OF 5601 RIVER RD',\n",
       "       '11325 SEVEN LOCKS RD POTOMAC, MD 20854, CABIN JOHN SHOPPING CENTER REAR PARKING LOT BEHIND GIANT',\n",
       "       'PARKING LOT OF 1902 VEIRS MILL RD, ROCKVILLE, MD, 20851',\n",
       "       '19000 BLK CENTURY BLVD',\n",
       "       \"PARKING LOT OF MCDONALD'S LOCATED AT 13800 OUTLET DR, SILVER SPRING MD 20904\",\n",
       "       'parking lot giant food 10400 Old Georgetown Road',\n",
       "       '4101 Aspen Hill Road (Shell Gas Station)',\n",
       "       '10113 NEW HAMPSHIRE AVE. PARKING LOT',\n",
       "       'BURGER KING PARKING LOT 16004 SHADY GROVE ROAD',\n",
       "       'PARKING LOT OF 10400 FERNWOOD ROAD, BETHESDA, MD 20817 (MARRIOTT CORP BUILDING)',\n",
       "       'PARKING LOT OF 14101 GEORGIA AVE SILVER SPRING, MD',\n",
       "       '7400 ARLINGTON RD \\nBETHESDA MD 20814\\nBETHESDA LIBRARY PARKING LOT',\n",
       "       'PARKING LOT OF 2210 VEIRS MILL RD',\n",
       "       'parking lot of 9601 Cedar Ln',\n",
       "       'PARKING LOT OF GIANT FOOD 8750 ARLISS ST SILVER SPRING, MD',\n",
       "       'Parking Lot of 14939 Shady Grove Rd',\n",
       "       'SAFEWAY PARKING LOT\\n116 UNIVERSITY BLVD W',\n",
       "       'PARKING LOT OF 12321 PARKLAWN DRIVE, ROCKVILLE, MD 20852',\n",
       "       '11219 Grandview Ave\\nMontgomery County Public Parking Lot 13',\n",
       "       'PARKING LOT IN FRONT OF GIANT FOOD LOCATED AT 20944 FREDERICK RD GERMANTOWN MD 20876',\n",
       "       '10801 LOCKWOOD DR IN THE PARKING LOT TO THE REAR NEAR THE ENTRANCE',\n",
       "       'PARKING LOT OF 25 E WAYNE AVE',\n",
       "       'ON SIDEWALK NEXT TO 11302 GRANDVIEW AVE., WHEATON MD',\n",
       "       'PARKING LOT OF 2201 RANDOLPH RD',\n",
       "       'INTERSECTION OF CHATTERLY WAY AND CHATTERLY CT.',\n",
       "       'VEH CRASH INTO 3952 ANGELTON CT, BURTONSVILLE MD',\n",
       "       'Lower parking garage located at 11160 Veirs Mill Road (in front of Ruby Tusdays)',\n",
       "       'PARKING LOT IN FRONT OF THE GLEN ECHO PHARMACY LOCATED AT 7309 MACARTHUR BLVD. BETHESDA, MD 20816',\n",
       "       'PARKING LOT OF 9331 GEORGIA AVE',\n",
       "       'PARKING LOT OF 9801 BETHESDA CHURCH ROAD',\n",
       "       \"MACY'S PARKING LOT @ WHEATON PLAZA\",\n",
       "       'PARKING LOT OF 13827 OUTLET DRIVE',\n",
       "       'THE EXIT OF THE PARKING GARAGE ON WOODGLEN DRIVE',\n",
       "       'PARKING LOT OF\\n10215 FERNWOOD RD',\n",
       "       'PARKING LOT OF 10225 FREDERICK AVENUE, KENSINGTON, 20895',\n",
       "       'DRIVEWAY OF 3810 EAST WEST HWY',\n",
       "       'HOME DEPOT PARKING LOT - 14000 GEORGIA AVE SILVER SPRING, MD 20906',\n",
       "       '1008 QUEBEC TER APT 101',\n",
       "       '7730 WOODMONT AVE.PARKING GARAGE ENTRANCE TO GARAGE 11.',\n",
       "       'IN THE PARKING LOT OF 19911 AIRCRAFT DR. GERMANTOWN MD.',\n",
       "       '8619-A 16TH STREET 7-11 PARKING LOT',\n",
       "       'Garage of 14508 Bradshaw Dr',\n",
       "       'PARKING LOT OF 14014  CONNECTICUT AVE',\n",
       "       '880 RUSSELL AVE GAITHERSBURG MD PARKING LOT( COSTCO)',\n",
       "       'PARKING LOT OF 12345 GEORGIA AVE',\n",
       "       'PARKING LOT OF 19700 N FREDERICK ROAD, GERMANTOWN, MARYLAND 20874',\n",
       "       'PARKING LOT OF\\n\\n8215 OLD GEORGETOWN RD.',\n",
       "       'PARKING LOT IN FRONT OF 10107 COLESVILLE ROAD, SILVER SPRING, MARYLAND 20901',\n",
       "       'PARKING LOT OF 245 KENTLANDS BLVD',\n",
       "       'Parking lot of shopping center at 10315 Westlake Dr',\n",
       "       'PARKING LOT OF \\n8615 EAST VILLAGE AVENUE\\nMONTGOMERY VILLAGE MD 20886',\n",
       "       'PARKING LOT 3335 HEWITT AVE SILVER SPRING MD 20906',\n",
       "       'PARKING LOT OF 2301 GLENALLAN AVE SILVER SPRING MARYLAND 20906',\n",
       "       '12000 CHERRY HILL ROAD     TARGET PARKING LOT',\n",
       "       'PARKING LOT OF 18207 VILLAGE CENTER DR',\n",
       "       'PARKING LOT OF 15750 SHADY GROVE ROAD',\n",
       "       'parking lot of 833 Wayne Ave. Silver Spring Md. 20910',\n",
       "       'PARKING LOT OF 797 ROCKVILLE PIKE',\n",
       "       'PARKING LOT OF 24 MONTGOMERY VILLAGE AVE',\n",
       "       'PARKING LOT OF TARGET LOCATED AT 12000 CHERRY HILL ROAD',\n",
       "       'PARKING AREA TO THE REAR OF MAIN SERVICE BUILDING AT 11920 BOURNEFIELD WAY',\n",
       "       'In the parking lot of 3654 Bel Pre Rd.',\n",
       "       'ALLEYWAY ADJACENT TO PARKING GARAGE OF 5700 BOU AVENUE, ROCKVILLE, MD 20852.',\n",
       "       'PARKING LOT OF DUFIEF ELEMENTARY SCHOOL LOCATED AT 15001 DUFIEF DR',\n",
       "       'UNIT 1 RAN INTO A TREE ON PRIVATE PROPERTY AT 309 DENNIS AVENUE.',\n",
       "       'PARKING LOT OF 8315 GEORGIA AVE',\n",
       "       'PARKING LOT OF 12001 BIRDSEYE TERR',\n",
       "       '7949 TUCKERMAN LA - CABIN JOHN SHOPPING CENTER',\n",
       "       'PARKING GARAGE DRIVEWAY/ SIDEWALK',\n",
       "       'THE LOWER LEVEL PARKING LOT OF SEARS (701 RUSSELL AVE. GAITHERSBURG, MARYLAND 20877)',\n",
       "       'PARKING LOT OF 18310 MONTGOMERY VILLAGE AVE',\n",
       "       'PARKING LOT OF 19328 MONTGOMERY VILLAGE AVE (S.S VAPE STORE)',\n",
       "       'PARKING LOT OF 8703 PINEY BRANCH RD',\n",
       "       'PARKING LOT OF 1131 UNIVERSITY BLVD W',\n",
       "       '20910 Frederick Rd. Germantown Montgomery County Maryaland. Roadway in front of the Walmart',\n",
       "       'PARKING LOT OF 12089 ROCKVILLE PIKE',\n",
       "       '20910 FREDERICK ROAD GERMANTOWN, MD 20876',\n",
       "       'ON SIDEWALK OFF OF RANDOLPH ROAD INTO THE PRIVATE ENTRANCE TO RANDOLPH SQUARE APARTMENTS',\n",
       "       'PARKING LOT OF 20938 FREDERICK RD',\n",
       "       'PARKING LOT OF CEDAR CREEK LP AT CROSS WALK',\n",
       "       'Parking lot of 12345 Georgia Avenue',\n",
       "       'THE PARKING LOT OF 15215 SHADY GROVE RD',\n",
       "       'CHURCH PARKING LOT OFF OF 17615 OLD BALTIMORE RD.',\n",
       "       'TO THE REAR OF 13807 OUTLET DR- PARKING LOT CUT THRU',\n",
       "       'Parking Lot at 12015 georgia avenue',\n",
       "       '7101 DEMOCRACY BLVD PARKING LOT OF MALL IN FRONT OF SEARS AUTO CENTER',\n",
       "       'PARKING LOT OF 8805 FLOWER AVENUE',\n",
       "       '6930  ARLINGTON ROAD  BETHESDA, MD. 20814',\n",
       "       '19513 GUNNERS BRANCH', 'PARKING LOT OF 13100 OLD COLUMBIA PIKE',\n",
       "       'PARKING LOT OF CRESTHAVEN ELEMENTARY SCHOOL (1234 CRESTHAVEN DRIVE)',\n",
       "       'DRIVEWAY LEAVING 2119 UNIVERSITY BLVD. W. SILVER SPRING, MD 20902.',\n",
       "       'PARKING LOT OF 7809 WISCONSIN AVENUE.',\n",
       "       'GIANT PARKING LOT (46 BUREAU DRIVE)',\n",
       "       'PARKING LOT OF ENCLAVE APARTMENTS IN AREA BETWEEN 11235 OAK LEAF DRIVE/11200 LOCKWOOD DRIVE',\n",
       "       'PARKING LOT OF 1040 1OLD GEORGETOWN RD',\n",
       "       'LEVEL ONE PARKING GARAGE AT 921 WAYNE AVE',\n",
       "       'PARKING LOT OF 13468 NEW HAMPSHIRE AVE',\n",
       "       'DRIVE WAY OF 18604 RELIANT DR',\n",
       "       'PARKING LOT OF 353 WEST SIDE DRIVE', 'PARKING LOT OF GIANT FOODS',\n",
       "       'DRIVEWAY OF 11810 PARKLAWN DRIVE',\n",
       "       'PARKING LOT OF 8860 PINEY BRANCH ROAD',\n",
       "       '2 UNIVERSITY BLVD W SILVER SPRING, MD 20901\\n\\n7-11 PARKING LOT',\n",
       "       'PARKING LOT OF 17 600 BLK OF TOWNE CREST DR.',\n",
       "       'PARKING LOT OF 3111 HEWITT AVE',\n",
       "       '4823 RUGBY AVENUE (MCP BETHESDA DISTRICT STATION)',\n",
       "       '9500 GEORGIA AVE (DRIVEWAY)\\nSILVER SPRING, MD 20910',\n",
       "       'PRIVATE PROPERTY OF 17807 BOWIE MILL RD',\n",
       "       'PARKING LOT OF 12814 SAGE TERRACE',\n",
       "       'PKG LOT OF 18220 VILLAGE CENTER DRIVE, OLNEY, MD 20832',\n",
       "       'MILESTONE SHOPPING CENTER\\n20934 FREDERICK ROAD\\nGERMANTOWN, MD 20876',\n",
       "       'PARKING LOT OF 300 N FREDERICK AVE GAITHERSBURG MD 20877',\n",
       "       'PARKING LOT OF 10504 CONNECTICUT AVENUE',\n",
       "       'PARKING LOT OF 9901 MEDICAL CENTER DR, GAITHERSBURG, MD 20878',\n",
       "       'PARKING LOT OF 18625 MOONEY DRIVE, GAITHERSBURG, MD 20879',\n",
       "       'PARKING LOT OF 12305 VILLAGE SQUARE TER',\n",
       "       'PARKING LOT OF 13807 OUTLET DR, SILVER SPRING, MARYLAND',\n",
       "       'PARKING GARAGE OF 1628 E JEFFERSON ST',\n",
       "       'PARKING LOT OF 2571 ENNALS AVE',\n",
       "       '15740 SHADY GROVE ROAD, GAITHERSBURG, MD 20877 IN THE HOME DEPOT PAKING LOT.',\n",
       "       'BEHIND 422 MARKET STREET (PARKING LOT)',\n",
       "       'PARKING LOT OF 8097 SNOUFFER SCHOOL RD',\n",
       "       'ENTRANCE TO SHOPPING CENTER'], dtype=object)"
      ]
     },
     "execution_count": 22,
     "metadata": {},
     "output_type": "execute_result"
    }
   ],
   "source": [
    "off_rd_desc = nonmotoristdf.off_road_description\n",
    "off_rd_desc_uniques = off_rd_desc.unique()\n",
    "off_rd_desc_uniques"
   ]
  },
  {
   "cell_type": "code",
   "execution_count": 23,
   "metadata": {},
   "outputs": [
    {
     "data": {
      "text/plain": [
       "array(['PEDESTRIAN', 'BICYCLIST', 'OTHER', 'BICYCLIST, PEDESTRIAN',\n",
       "       'OTHER CONVEYANCE', 'OTHER PEDALCYCLIST', 'OTHER, PEDESTRIAN',\n",
       "       'MACHINE OPERATOR/RIDER', 'BICYCLIST, OTHER',\n",
       "       'MACHINE OPERATOR/RIDER, OTHER', 'OTHER, OTHER CONVEYANCE',\n",
       "       'IN ANIMAL-DRAWN VEH'], dtype=object)"
      ]
     },
     "execution_count": 23,
     "metadata": {},
     "output_type": "execute_result"
    }
   ],
   "source": [
    "r_n_m = nonmotoristdf.related_non_motorist\n",
    "r_n_m_uniques = r_n_m.unique()\n",
    "r_n_m_uniques"
   ]
  },
  {
   "cell_type": "code",
   "execution_count": 24,
   "metadata": {},
   "outputs": [
    {
     "data": {
      "text/plain": [
       "array(['SINGLE VEHICLE', 'STRAIGHT MOVEMENT ANGLE',\n",
       "       'OPPOSITE DIRECTION SIDESWIPE', 'OTHER', 'SAME DIR REAR END', nan,\n",
       "       'HEAD ON LEFT TURN', 'HEAD ON', 'SAME DIRECTION LEFT TURN',\n",
       "       'SAME DIRECTION SIDESWIPE', 'ANGLE MEETS LEFT TURN',\n",
       "       'ANGLE MEETS RIGHT TURN', 'SAME DIRECTION RIGHT TURN', 'UNKNOWN',\n",
       "       'SAME DIR REND LEFT TURN', 'ANGLE MEETS LEFT HEAD ON',\n",
       "       'OPPOSITE DIR BOTH LEFT TURN', 'SAME DIR REND RIGHT TURN'],\n",
       "      dtype=object)"
      ]
     },
     "execution_count": 24,
     "metadata": {},
     "output_type": "execute_result"
    }
   ],
   "source": [
    "coll_type = nonmotoristdf.collision_type\n",
    "coll_type_uniques = coll_type.unique()\n",
    "coll_type_uniques"
   ]
  },
  {
   "cell_type": "code",
   "execution_count": 25,
   "metadata": {},
   "outputs": [
    {
     "data": {
      "text/plain": [
       "array(['SINGLE VEHICLE', 'STRAIGHT MOVEMENT ANGLE',\n",
       "       'OPPOSITE DIRECTION SIDESWIPE', 'OTHER', 'SAME DIR REAR END', nan,\n",
       "       'HEAD ON LEFT TURN', 'HEAD ON', 'SAME DIRECTION LEFT TURN',\n",
       "       'SAME DIRECTION SIDESWIPE', 'ANGLE MEETS LEFT TURN',\n",
       "       'ANGLE MEETS RIGHT TURN', 'SAME DIRECTION RIGHT TURN', 'UNKNOWN',\n",
       "       'SAME DIR REND LEFT TURN', 'ANGLE MEETS LEFT HEAD ON',\n",
       "       'OPPOSITE DIR BOTH LEFT TURN', 'SAME DIR REND RIGHT TURN'],\n",
       "      dtype=object)"
      ]
     },
     "execution_count": 25,
     "metadata": {},
     "output_type": "execute_result"
    }
   ],
   "source": [
    "# replace 'N/A'\n",
    "nonmotoristdf['collision_type'] = nonmotoristdf['collision_type'].replace({'N/A': 'UNKNOWN'})\n",
    "coll_type = nonmotoristdf.collision_type\n",
    "coll_type_uniques = coll_type.unique()\n",
    "coll_type_uniques"
   ]
  },
  {
   "cell_type": "code",
   "execution_count": 26,
   "metadata": {},
   "outputs": [
    {
     "data": {
      "text/plain": [
       "array(['CLOUDY', 'CLEAR', nan, 'RAINING', 'OTHER', 'UNKNOWN',\n",
       "       'BLOWING SNOW', 'SEVERE WINDS', 'FOGGY', 'SNOW', 'SLEET',\n",
       "       'WINTRY MIX'], dtype=object)"
      ]
     },
     "execution_count": 26,
     "metadata": {},
     "output_type": "execute_result"
    }
   ],
   "source": [
    "weather = nonmotoristdf.weather\n",
    "weather_uniques = weather.unique()\n",
    "weather_uniques"
   ]
  },
  {
   "cell_type": "code",
   "execution_count": 27,
   "metadata": {},
   "outputs": [
    {
     "data": {
      "text/plain": [
       "array(['CLOUDY', 'CLEAR', nan, 'RAINING', 'OTHER', 'UNKNOWN',\n",
       "       'BLOWING SNOW', 'SEVERE WINDS', 'FOGGY', 'SNOW', 'SLEET',\n",
       "       'WINTRY MIX'], dtype=object)"
      ]
     },
     "execution_count": 27,
     "metadata": {},
     "output_type": "execute_result"
    }
   ],
   "source": [
    "# replace 'N/A'\n",
    "nonmotoristdf['weather'] = nonmotoristdf['weather'].replace({'N/A': 'UNKNOWN'})\n",
    "weather = nonmotoristdf.weather\n",
    "weather_uniques = weather.unique()\n",
    "weather_uniques"
   ]
  },
  {
   "cell_type": "code",
   "execution_count": 28,
   "metadata": {},
   "outputs": [
    {
     "data": {
      "text/plain": [
       "array(['DAYLIGHT', 'DARK LIGHTS ON', 'DUSK', 'DARK NO LIGHTS', 'DAWN',\n",
       "       nan, 'DARK -- UNKNOWN LIGHTING', 'UNKNOWN', 'OTHER'], dtype=object)"
      ]
     },
     "execution_count": 28,
     "metadata": {},
     "output_type": "execute_result"
    }
   ],
   "source": [
    "light = nonmotoristdf.light\n",
    "light_uniques = light.unique()\n",
    "light_uniques"
   ]
  },
  {
   "cell_type": "code",
   "execution_count": 29,
   "metadata": {},
   "outputs": [
    {
     "data": {
      "text/plain": [
       "array(['DAYLIGHT', 'DARK LIGHTS ON', 'DUSK', 'DARK NO LIGHTS', 'DAWN',\n",
       "       nan, 'DARK -- UNKNOWN LIGHTING', 'UNKNOWN', 'OTHER'], dtype=object)"
      ]
     },
     "execution_count": 29,
     "metadata": {},
     "output_type": "execute_result"
    }
   ],
   "source": [
    "# replace 'N/A'\n",
    "nonmotoristdf['light'] = nonmotoristdf['light'].replace({'N/A': 'UNKNOWN'})\n",
    "light = nonmotoristdf.light\n",
    "light_uniques = light.unique()\n",
    "light_uniques"
   ]
  },
  {
   "cell_type": "code",
   "execution_count": 30,
   "metadata": {},
   "outputs": [
    {
     "data": {
      "text/plain": [
       "array([nan, 'TRAFFIC SIGNAL', 'NO CONTROLS', 'OTHER', 'STOP SIGN',\n",
       "       'WARNING SIGN', 'UNKNOWN', 'PERSON', 'SCHOOL ZONE SIGN DEVICE',\n",
       "       'YIELD SIGN', 'FLASHING TRAFFIC SIGNAL', 'RAILWAY CROSSING DEVICE'],\n",
       "      dtype=object)"
      ]
     },
     "execution_count": 30,
     "metadata": {},
     "output_type": "execute_result"
    }
   ],
   "source": [
    "control = nonmotoristdf.traffic_control\n",
    "control_uniques = control.unique()\n",
    "control_uniques"
   ]
  },
  {
   "cell_type": "code",
   "execution_count": 31,
   "metadata": {},
   "outputs": [
    {
     "data": {
      "text/plain": [
       "array([nan, 'TRAFFIC SIGNAL', 'NO CONTROLS', 'OTHER', 'STOP SIGN',\n",
       "       'WARNING SIGN', 'UNKNOWN', 'PERSON', 'SCHOOL ZONE SIGN DEVICE',\n",
       "       'YIELD SIGN', 'FLASHING TRAFFIC SIGNAL', 'RAILWAY CROSSING DEVICE'],\n",
       "      dtype=object)"
      ]
     },
     "execution_count": 31,
     "metadata": {},
     "output_type": "execute_result"
    }
   ],
   "source": [
    "# replace 'N/A'\n",
    "nonmotoristdf['traffic_control'] = nonmotoristdf['traffic_control'].replace({'N/A': 'UNKNOWN'})\n",
    "control = nonmotoristdf.traffic_control\n",
    "control_uniques = control.unique()\n",
    "control_uniques"
   ]
  },
  {
   "cell_type": "code",
   "execution_count": 32,
   "metadata": {},
   "outputs": [
    {
     "data": {
      "text/plain": [
       "array(['NONE DETECTED', nan, 'UNKNOWN', 'ALCOHOL PRESENT',\n",
       "       'ALCOHOL CONTRIBUTED, N/A', 'ILLEGAL DRUG PRESENT',\n",
       "       'N/A, NONE DETECTED', 'NONE DETECTED, UNKNOWN',\n",
       "       'ALCOHOL CONTRIBUTED', 'COMBINED SUBSTANCE PRESENT, NONE DETECTED',\n",
       "       'ALCOHOL CONTRIBUTED, NONE DETECTED', 'ILLEGAL DRUG CONTRIBUTED',\n",
       "       'ALCOHOL PRESENT, NONE DETECTED', 'COMBINED SUBSTANCE PRESENT',\n",
       "       'MEDICATION PRESENT', 'ALCOHOL PRESENT, UNKNOWN', 'OTHER'],\n",
       "      dtype=object)"
      ]
     },
     "execution_count": 32,
     "metadata": {},
     "output_type": "execute_result"
    }
   ],
   "source": [
    "dsa = nonmotoristdf.driver_substance_abuse\n",
    "dsa_uniques = dsa.unique()\n",
    "dsa_uniques"
   ]
  },
  {
   "cell_type": "code",
   "execution_count": 33,
   "metadata": {},
   "outputs": [
    {
     "data": {
      "text/plain": [
       "array(['NONE DETECTED', 'UNKNOWN', 'ALCOHOL PRESENT',\n",
       "       'ALCOHOL CONTRIBUTED, N/A', 'ILLEGAL DRUG PRESENT',\n",
       "       'N/A, NONE DETECTED', 'NONE DETECTED, UNKNOWN',\n",
       "       'ALCOHOL CONTRIBUTED', 'COMBINED SUBSTANCE PRESENT, NONE DETECTED',\n",
       "       'ALCOHOL CONTRIBUTED, NONE DETECTED', 'ILLEGAL DRUG CONTRIBUTED',\n",
       "       'ALCOHOL PRESENT, NONE DETECTED', 'COMBINED SUBSTANCE PRESENT',\n",
       "       'MEDICATION PRESENT', 'ALCOHOL PRESENT, UNKNOWN', 'OTHER'],\n",
       "      dtype=object)"
      ]
     },
     "execution_count": 33,
     "metadata": {},
     "output_type": "execute_result"
    }
   ],
   "source": [
    "#fill NaN replace N/A with 'unknown'\n",
    "nonmotoristdf['driver_substance_abuse'] = nonmotoristdf['driver_substance_abuse'].fillna('UNKNOWN')\n",
    "nonmotoristdf['driver_substance_abuse'] = nonmotoristdf['driver_substance_abuse'].replace({'N/A': 'UNKNOWN'})\n",
    "dsa = nonmotoristdf.driver_substance_abuse\n",
    "dsa_uniques = dsa.unique()\n",
    "dsa_uniques"
   ]
  },
  {
   "cell_type": "code",
   "execution_count": 34,
   "metadata": {},
   "outputs": [
    {
     "data": {
      "text/plain": [
       "array([nan, 'NONE DETECTED', 'ALCOHOL PRESENT', 'UNKNOWN',\n",
       "       'ALCOHOL CONTRIBUTED', 'ILLEGAL DRUG CONTRIBUTED',\n",
       "       'ILLEGAL DRUG PRESENT', 'COMBINED SUBSTANCE PRESENT', 'OTHER',\n",
       "       'MEDICATION PRESENT', 'COMBINATION CONTRIBUTED'], dtype=object)"
      ]
     },
     "execution_count": 34,
     "metadata": {},
     "output_type": "execute_result"
    }
   ],
   "source": [
    "nsa = nonmotoristdf.non_motorist_substance_abuse\n",
    "nsa_uniques = nsa.unique()\n",
    "nsa_uniques"
   ]
  },
  {
   "cell_type": "code",
   "execution_count": 35,
   "metadata": {},
   "outputs": [
    {
     "data": {
      "text/plain": [
       "array([nan, 'NONE DETECTED', 'ALCOHOL PRESENT', 'UNKNOWN',\n",
       "       'ALCOHOL CONTRIBUTED', 'ILLEGAL DRUG CONTRIBUTED',\n",
       "       'ILLEGAL DRUG PRESENT', 'COMBINED SUBSTANCE PRESENT', 'OTHER',\n",
       "       'MEDICATION PRESENT', 'COMBINATION CONTRIBUTED'], dtype=object)"
      ]
     },
     "execution_count": 35,
     "metadata": {},
     "output_type": "execute_result"
    }
   ],
   "source": [
    "#replace N/A with 'unknown'\n",
    "nonmotoristdf['non_motorist_substance_abuse'] = nonmotoristdf['non_motorist_substance_abuse'].replace({'N/A': 'UNKNOWN'})\n",
    "nsa = nonmotoristdf.non_motorist_substance_abuse\n",
    "nsa_uniques = nsa.unique()\n",
    "nsa_uniques"
   ]
  },
  {
   "cell_type": "code",
   "execution_count": 36,
   "metadata": {},
   "outputs": [
    {
     "data": {
      "text/plain": [
       "3935"
      ]
     },
     "execution_count": 36,
     "metadata": {},
     "output_type": "execute_result"
    }
   ],
   "source": [
    "# Check for duplicate person id's\n",
    "p_id = nonmotoristdf.person_id\n",
    "p_id.nunique()"
   ]
  },
  {
   "cell_type": "code",
   "execution_count": 37,
   "metadata": {},
   "outputs": [
    {
     "data": {
      "text/plain": [
       "array(['PEDESTRIAN', 'BICYCLIST', 'OTHER', 'OTHER CONVEYANCE',\n",
       "       'OTHER PEDALCYCLIST', 'MACHINE OPERATOR/RIDER',\n",
       "       'IN ANIMAL-DRAWN VEH'], dtype=object)"
      ]
     },
     "execution_count": 37,
     "metadata": {},
     "output_type": "execute_result"
    }
   ],
   "source": [
    "ptype = nonmotoristdf.pedestrian_type\n",
    "ptype_uniques = ptype.unique()\n",
    "ptype_uniques"
   ]
  },
  {
   "cell_type": "code",
   "execution_count": 38,
   "metadata": {},
   "outputs": [
    {
     "data": {
      "text/plain": [
       "array(['Walking/Cycling on Sidewalk', 'Unknown',\n",
       "       'Cross/Enter at Intersection', 'Walking/Riding against Traffic',\n",
       "       'Other', 'Playing', 'Cross/Enter not at Intersection', 'Standing',\n",
       "       nan, 'Getting off/on Vehicle', 'Walking/Riding w/Traffic',\n",
       "       'Walking to/from school', 'Push/Work on Vehicle', 'Other Working',\n",
       "       'Approach/Leaving Schoolbus', 'Hitchhiking'], dtype=object)"
      ]
     },
     "execution_count": 38,
     "metadata": {},
     "output_type": "execute_result"
    }
   ],
   "source": [
    "pmove = nonmotoristdf.pedestrian_movement\n",
    "pmove_uniques = pmove.unique()\n",
    "pmove_uniques"
   ]
  },
  {
   "cell_type": "code",
   "execution_count": 39,
   "metadata": {},
   "outputs": [
    {
     "data": {
      "text/plain": [
       "array(['Walking/Cycling on Sidewalk', 'Unknown',\n",
       "       'Cross/Enter at Intersection', 'Walking/Riding against Traffic',\n",
       "       'Other', 'Playing', 'Cross/Enter not at Intersection', 'Standing',\n",
       "       nan, 'Getting off/on Vehicle', 'Walking/Riding w/Traffic',\n",
       "       'Walking to/from school', 'Push/Work on Vehicle', 'Other Working',\n",
       "       'Approach/Leaving Schoolbus', 'Hitchhiking'], dtype=object)"
      ]
     },
     "execution_count": 39,
     "metadata": {},
     "output_type": "execute_result"
    }
   ],
   "source": [
    "#replace N/A with 'unknown'\n",
    "nonmotoristdf['pedestrian_movement'] = nonmotoristdf['pedestrian_movement'].replace({'N/A': 'Unknown'})\n",
    "pmove = nonmotoristdf.pedestrian_movement\n",
    "pmove_uniques = pmove.unique()\n",
    "pmove_uniques"
   ]
  },
  {
   "cell_type": "code",
   "execution_count": 40,
   "metadata": {},
   "outputs": [
    {
     "data": {
      "text/plain": [
       "array(['NO IMPROPER ACTIONS', 'OTHER', 'WRONG WAY RIDING OR WALKING',\n",
       "       'UNKNOWN', 'IN ROADWAY IMPROPERLY', 'DART DASH', 'INATTENTIVE',\n",
       "       nan, 'FAILURE TO YIELD RIGHT OF WAY',\n",
       "       'FAILURE TO OBEY TRAFFIC SIGNS SIGNALS OR OFFICER',\n",
       "       'ENTERING EXITING PARKED STANDING VEHICLE', 'NOT VISIBLE',\n",
       "       'IMPROPER PASSING', 'DISABLED VEHICLE RELATED',\n",
       "       'IMPROPER TURN MERGE'], dtype=object)"
      ]
     },
     "execution_count": 40,
     "metadata": {},
     "output_type": "execute_result"
    }
   ],
   "source": [
    "pactions = nonmotoristdf.pedestrian_actions\n",
    "pactions_unique = pactions.unique()\n",
    "pactions_unique"
   ]
  },
  {
   "cell_type": "code",
   "execution_count": 41,
   "metadata": {},
   "outputs": [
    {
     "data": {
      "text/plain": [
       "array(['NO IMPROPER ACTIONS', 'OTHER', 'WRONG WAY RIDING OR WALKING',\n",
       "       'UNKNOWN', 'IN ROADWAY IMPROPERLY', 'DART DASH', 'INATTENTIVE',\n",
       "       nan, 'FAILURE TO YIELD RIGHT OF WAY',\n",
       "       'FAILURE TO OBEY TRAFFIC SIGNS SIGNALS OR OFFICER',\n",
       "       'ENTERING EXITING PARKED STANDING VEHICLE', 'NOT VISIBLE',\n",
       "       'IMPROPER PASSING', 'DISABLED VEHICLE RELATED',\n",
       "       'IMPROPER TURN MERGE'], dtype=object)"
      ]
     },
     "execution_count": 41,
     "metadata": {},
     "output_type": "execute_result"
    }
   ],
   "source": [
    "#replace N/A with 'unknown'\n",
    "nonmotoristdf['pedestrian_actions'] = nonmotoristdf['pedestrian_actions'].replace({'N/A': 'Unknown'})\n",
    "pactions = nonmotoristdf.pedestrian_actions\n",
    "pactions_unique = pactions.unique()\n",
    "pactions_unique"
   ]
  },
  {
   "cell_type": "code",
   "execution_count": 42,
   "metadata": {},
   "outputs": [
    {
     "data": {
      "text/plain": [
       "array(['SIDEWALK', 'AT INTERSECTION BUT NO CROSSWALK',\n",
       "       'AT INTERSECTION MARKED CROSSWALK', 'ON ROADWAY AT CROSSWALK',\n",
       "       'ON ROADWAY NOT AT CROSSWALK', nan, 'OTHER',\n",
       "       'DRIVEWAY ACCESS MARKED CROSSWALK', 'CURB', 'UNKNOWN',\n",
       "       'MIDBLOCK MARKED CROSSWALK', 'INSIDE BUILDING', 'SHOULDER',\n",
       "       'IN SCHOOL BUS ZONE', 'MEDIAN', 'OUTSIDE RIGHT OF WAY', 'ISLAND',\n",
       "       'SHARED USE PATH OR TRAILS', 'IN BIKEWAY'], dtype=object)"
      ]
     },
     "execution_count": 42,
     "metadata": {},
     "output_type": "execute_result"
    }
   ],
   "source": [
    "ploc = nonmotoristdf.pedestrian_location\n",
    "ploc_unique = ploc.unique()\n",
    "ploc_unique"
   ]
  },
  {
   "cell_type": "code",
   "execution_count": 43,
   "metadata": {},
   "outputs": [
    {
     "data": {
      "text/plain": [
       "array(['SIDEWALK', 'AT INTERSECTION BUT NO CROSSWALK',\n",
       "       'AT INTERSECTION MARKED CROSSWALK', 'ON ROADWAY AT CROSSWALK',\n",
       "       'ON ROADWAY NOT AT CROSSWALK', nan, 'OTHER',\n",
       "       'DRIVEWAY ACCESS MARKED CROSSWALK', 'CURB', 'UNKNOWN',\n",
       "       'MIDBLOCK MARKED CROSSWALK', 'INSIDE BUILDING', 'SHOULDER',\n",
       "       'IN SCHOOL BUS ZONE', 'MEDIAN', 'OUTSIDE RIGHT OF WAY', 'ISLAND',\n",
       "       'SHARED USE PATH OR TRAILS', 'IN BIKEWAY'], dtype=object)"
      ]
     },
     "execution_count": 43,
     "metadata": {},
     "output_type": "execute_result"
    }
   ],
   "source": [
    "#replace N/A with 'unknown'\n",
    "nonmotoristdf['pedestrian_location'] = nonmotoristdf['pedestrian_location'].replace({'N/A': 'UNKNOWN', 'Unknown': 'UNKNOWN'})\n",
    "ploc = nonmotoristdf.pedestrian_location\n",
    "ploc_unique = ploc.unique()\n",
    "ploc_unique"
   ]
  },
  {
   "cell_type": "code",
   "execution_count": 44,
   "metadata": {},
   "outputs": [
    {
     "data": {
      "text/plain": [
       "array([nan, 'NO PED. SIGNAL', 'OBEYED PED. SIGNAL',\n",
       "       'DISOBEYED PED. SIGNAL', 'UNKNOWN', 'OTHER',\n",
       "       'PED. SIGNAL MALFUNCTION'], dtype=object)"
      ]
     },
     "execution_count": 44,
     "metadata": {},
     "output_type": "execute_result"
    }
   ],
   "source": [
    "pobey = nonmotoristdf.pedestrian_obeyed_traffic_signal\n",
    "pobey_uniques = pobey.unique()\n",
    "pobey_uniques"
   ]
  },
  {
   "cell_type": "code",
   "execution_count": 45,
   "metadata": {},
   "outputs": [
    {
     "data": {
      "text/plain": [
       "array([nan, 'NO PED. SIGNAL', 'OBEYED PED. SIGNAL',\n",
       "       'DISOBEYED PED. SIGNAL', 'UNKNOWN', 'OTHER',\n",
       "       'PED. SIGNAL MALFUNCTION'], dtype=object)"
      ]
     },
     "execution_count": 45,
     "metadata": {},
     "output_type": "execute_result"
    }
   ],
   "source": [
    "#replace N/A with 'unknown'\n",
    "nonmotoristdf['pedestrian_obeyed_traffic_signal'] = nonmotoristdf['pedestrian_obeyed_traffic_signal'].replace({'N/A': 'UNKNOWN'})\n",
    "pobey = nonmotoristdf.pedestrian_obeyed_traffic_signal\n",
    "pobey_uniques = pobey.unique()\n",
    "pobey_uniques"
   ]
  },
  {
   "cell_type": "code",
   "execution_count": 47,
   "metadata": {},
   "outputs": [
    {
     "data": {
      "text/plain": [
       "array(['LIGHT CLOTHING', nan, 'DARK CLOTHING', 'OTHER', 'UNKNOWN',\n",
       "       'MIXED CLOTHING', 'REFLECTIVE MATERIAL',\n",
       "       'HEAD LIGHT AND REFLECTORS', 'REAR REFLECTOR', 'HEAD LIGHT'],\n",
       "      dtype=object)"
      ]
     },
     "execution_count": 47,
     "metadata": {},
     "output_type": "execute_result"
    }
   ],
   "source": [
    "pvis = nonmotoristdf.pedestrian_visibility\n",
    "pvis_uniques = pvis.unique()\n",
    "pvis_uniques"
   ]
  },
  {
   "cell_type": "code",
   "execution_count": 48,
   "metadata": {},
   "outputs": [
    {
     "data": {
      "text/plain": [
       "array(['LIGHT CLOTHING', 'UNKNOWN', 'DARK CLOTHING', 'OTHER',\n",
       "       'MIXED CLOTHING', 'REFLECTIVE MATERIAL',\n",
       "       'HEAD LIGHT AND REFLECTORS', 'REAR REFLECTOR', 'HEAD LIGHT'],\n",
       "      dtype=object)"
      ]
     },
     "execution_count": 48,
     "metadata": {},
     "output_type": "execute_result"
    }
   ],
   "source": [
    "#replace N/A with 'unknown'\n",
    "nonmotoristdf['pedestrian_visibility'] = nonmotoristdf['pedestrian_visibility'].fillna('UNKNOWN')\n",
    "pvis = nonmotoristdf.pedestrian_visibility\n",
    "pvis_uniques = pvis.unique()\n",
    "pvis_uniques"
   ]
  },
  {
   "cell_type": "code",
   "execution_count": 49,
   "metadata": {},
   "outputs": [
    {
     "data": {
      "text/plain": [
       "array(['No', 'Yes', 'Unknown', nan], dtype=object)"
      ]
     },
     "execution_count": 49,
     "metadata": {},
     "output_type": "execute_result"
    }
   ],
   "source": [
    "fault = nonmotoristdf.at_fault\n",
    "fault_uniques = fault.unique()\n",
    "fault_uniques"
   ]
  },
  {
   "cell_type": "code",
   "execution_count": 50,
   "metadata": {},
   "outputs": [
    {
     "data": {
      "text/plain": [
       "array(['SUSPECTED MINOR INJURY', 'POSSIBLE INJURY',\n",
       "       'SUSPECTED SERIOUS INJURY', 'NO APPARENT INJURY', 'FATAL INJURY'],\n",
       "      dtype=object)"
      ]
     },
     "execution_count": 50,
     "metadata": {},
     "output_type": "execute_result"
    }
   ],
   "source": [
    "injury = nonmotoristdf.injury_severity\n",
    "injury_uniques = injury.unique()\n",
    "injury_uniques"
   ]
  },
  {
   "cell_type": "code",
   "execution_count": 51,
   "metadata": {},
   "outputs": [
    {
     "data": {
      "text/plain": [
       "array(['NONE', nan, 'MC/BIKE HELMET', 'LIGHTING', 'UNKNOWN',\n",
       "       'REFLECTIVE CLOTHING', 'OTHER'], dtype=object)"
      ]
     },
     "execution_count": 51,
     "metadata": {},
     "output_type": "execute_result"
    }
   ],
   "source": [
    "equip = nonmotoristdf.safety_equipment\n",
    "equip_uniques = equip.unique()\n",
    "equip_uniques"
   ]
  },
  {
   "cell_type": "code",
   "execution_count": 52,
   "metadata": {},
   "outputs": [
    {
     "data": {
      "text/plain": [
       "array(['NONE', nan, 'MC/BIKE HELMET', 'LIGHTING', 'UNKNOWN',\n",
       "       'REFLECTIVE CLOTHING', 'OTHER'], dtype=object)"
      ]
     },
     "execution_count": 52,
     "metadata": {},
     "output_type": "execute_result"
    }
   ],
   "source": [
    "#replace N/A with 'unknown'\n",
    "nonmotoristdf['safety_equipment'] = nonmotoristdf['safety_equipment'].replace({'N/A': 'UNKNOWN'})\n",
    "equip = nonmotoristdf.safety_equipment\n",
    "equip_uniques = equip.unique()\n",
    "equip_uniques"
   ]
  },
  {
   "cell_type": "code",
   "execution_count": 53,
   "metadata": {},
   "outputs": [
    {
     "data": {
      "text/plain": [
       "array(['Maryland (State)', nan, 'County', 'Municipality',\n",
       "       'Other Public Roadway', 'US (State)', 'Government', 'Ramp',\n",
       "       'Interstate (State)'], dtype=object)"
      ]
     },
     "execution_count": 53,
     "metadata": {},
     "output_type": "execute_result"
    }
   ],
   "source": [
    "rte_type = nonmotoristdf.route_type\n",
    "rte_type_uniques = rte_type.unique()\n",
    "rte_type_uniques"
   ]
  },
  {
   "cell_type": "code",
   "execution_count": 54,
   "metadata": {},
   "outputs": [
    {
     "data": {
      "text/plain": [
       "array(['Maryland (State)', 'Unknown', 'County', 'Municipality',\n",
       "       'Other Public Roadway', 'US (State)', 'Government', 'Ramp',\n",
       "       'Interstate (State)'], dtype=object)"
      ]
     },
     "execution_count": 54,
     "metadata": {},
     "output_type": "execute_result"
    }
   ],
   "source": [
    "# fill na\n",
    "nonmotoristdf['route_type'] = nonmotoristdf['route_type'].fillna('Unknown')\n",
    "rte_type = nonmotoristdf.route_type\n",
    "rte_type_uniques = rte_type.unique()\n",
    "rte_type_uniques"
   ]
  },
  {
   "cell_type": "code",
   "execution_count": 55,
   "metadata": {},
   "outputs": [
    {
     "data": {
      "text/plain": [
       "array(['Municipality', nan, 'County', 'Unknown', 'Maryland (State)',\n",
       "       'Other Public Roadway', 'Government', 'US (State)', 'Ramp',\n",
       "       'Interstate (State)', 'Service Road'], dtype=object)"
      ]
     },
     "execution_count": 55,
     "metadata": {},
     "output_type": "execute_result"
    }
   ],
   "source": [
    "cross_street = nonmotoristdf.cross_street_type\n",
    "cross_street_uniques = cross_street.unique()\n",
    "cross_street_uniques"
   ]
  },
  {
   "cell_type": "code",
   "execution_count": 56,
   "metadata": {},
   "outputs": [
    {
     "data": {
      "text/plain": [
       "array(['Municipality', 'Unknown', 'County', 'Maryland (State)',\n",
       "       'Other Public Roadway', 'Government', 'US (State)', 'Ramp',\n",
       "       'Interstate (State)', 'Service Road'], dtype=object)"
      ]
     },
     "execution_count": 56,
     "metadata": {},
     "output_type": "execute_result"
    }
   ],
   "source": [
    "# fill na\n",
    "nonmotoristdf['cross_street_type'] = nonmotoristdf['cross_street_type'].fillna('Unknown')\n",
    "cross_street = nonmotoristdf.cross_street_type\n",
    "cross_street_uniques = cross_street.unique()\n",
    "cross_street_uniques"
   ]
  },
  {
   "cell_type": "code",
   "execution_count": 57,
   "metadata": {},
   "outputs": [
    {
     "data": {
      "text/plain": [
       "array(['ROCKVILLE', nan, 'TAKOMA PARK', 'FRIENDSHIP HEIGHTS',\n",
       "       'GAITHERSBURG', 'KENSINGTON', 'SOMERSET', 'POOLESVILLE',\n",
       "       'CHEVY CHASE #3', 'GLEN ECHO', 'MATINS ADDITION',\n",
       "       'CHEVY CHASE VILLAGE', 'CHEVY CHASE #4', 'GARRETT PARK'],\n",
       "      dtype=object)"
      ]
     },
     "execution_count": 57,
     "metadata": {},
     "output_type": "execute_result"
    }
   ],
   "source": [
    "muni = nonmotoristdf.municipality\n",
    "muni_uniques = muni.unique()\n",
    "muni_uniques"
   ]
  },
  {
   "cell_type": "code",
   "execution_count": 58,
   "metadata": {},
   "outputs": [
    {
     "data": {
      "text/plain": [
       "array(['ROCKVILLE', 'UNKNOWN', 'TAKOMA PARK', 'FRIENDSHIP HEIGHTS',\n",
       "       'GAITHERSBURG', 'KENSINGTON', 'SOMERSET', 'POOLESVILLE',\n",
       "       'CHEVY CHASE #3', 'GLEN ECHO', 'MATINS ADDITION',\n",
       "       'CHEVY CHASE VILLAGE', 'CHEVY CHASE #4', 'GARRETT PARK'],\n",
       "      dtype=object)"
      ]
     },
     "execution_count": 58,
     "metadata": {},
     "output_type": "execute_result"
    }
   ],
   "source": [
    "#fill NaN replace N/A with 'unknown'\n",
    "nonmotoristdf['municipality'] = nonmotoristdf['municipality'].fillna('UNKNOWN')\n",
    "nonmotoristdf['municipality'] = nonmotoristdf['municipality'].replace({'N/A': 'UNKNOWN'})\n",
    "muni = nonmotoristdf.municipality\n",
    "muni_uniques = muni.unique()\n",
    "muni_uniques"
   ]
  },
  {
   "cell_type": "code",
   "execution_count": 59,
   "metadata": {},
   "outputs": [
    {
     "data": {
      "text/plain": [
       "array(['DRY', nan, 'WET', 'UNKNOWN', 'OTHER', 'ICE', 'SLUSH', 'SNOW'],\n",
       "      dtype=object)"
      ]
     },
     "execution_count": 59,
     "metadata": {},
     "output_type": "execute_result"
    }
   ],
   "source": [
    "surface = nonmotoristdf.surface_condition\n",
    "surface_uniques = surface.unique()\n",
    "surface_uniques"
   ]
  },
  {
   "cell_type": "code",
   "execution_count": 60,
   "metadata": {},
   "outputs": [
    {
     "data": {
      "text/plain": [
       "array(['DRY', 'UNKNOWN', 'WET', 'OTHER', 'ICE', 'SLUSH', 'SNOW'],\n",
       "      dtype=object)"
      ]
     },
     "execution_count": 60,
     "metadata": {},
     "output_type": "execute_result"
    }
   ],
   "source": [
    "#fill NaN replace N/A with 'unknown'\n",
    "nonmotoristdf['surface_condition'] = nonmotoristdf['surface_condition'].fillna('UNKNOWN')\n",
    "nonmotoristdf['surface_condition'] = nonmotoristdf['surface_condition'].replace({'N/A': 'UNKNOWN'})\n",
    "surface = nonmotoristdf.surface_condition\n",
    "surface_uniques = surface.unique()\n",
    "surface_uniques"
   ]
  },
  {
   "cell_type": "code",
   "execution_count": 230,
   "metadata": {},
   "outputs": [
    {
     "name": "stdout",
     "output_type": "stream",
     "text": [
      "<class 'pandas.core.frame.DataFrame'>\n",
      "RangeIndex: 665555 entries, 0 to 665554\n",
      "Data columns (total 56 columns):\n",
      " #   Column                 Non-Null Count   Dtype  \n",
      "---  ------                 --------------   -----  \n",
      " 0   YEAR                   665555 non-null  int64  \n",
      " 1   QUARTER                665555 non-null  object \n",
      " 2   LIGHT_DESC             642520 non-null  object \n",
      " 3   LIGHT_CODE             665555 non-null  float64\n",
      " 4   COUNTY_DESC            665551 non-null  object \n",
      " 5   COUNTY_NO              665551 non-null  float64\n",
      " 6   MUNI_DESC              0 non-null       float64\n",
      " 7   MUNI_CODE              490165 non-null  float64\n",
      " 8   JUNCTION_DESC          577189 non-null  object \n",
      " 9   JUNCTION_CODE          598197 non-null  float64\n",
      " 10  COLLISION_TYPE_DESC    665555 non-null  object \n",
      " 11  COLLISION_TYPE_CODE    665555 non-null  int64  \n",
      " 12  SURF_COND_DESC         596327 non-null  object \n",
      " 13  SURF_COND_CODE         598197 non-null  float64\n",
      " 14  LANE_DESC              504723 non-null  object \n",
      " 15  LANE_CODE              504731 non-null  float64\n",
      " 16  RD_COND_DESC           598197 non-null  object \n",
      " 17  RD_COND_CODE           598197 non-null  float64\n",
      " 18  RD_DIV_DESC            594543 non-null  object \n",
      " 19  RD_DIV_CODE            598197 non-null  float64\n",
      " 20  FIX_OBJ_DESC           630198 non-null  object \n",
      " 21  FIX_OBJ_CODE           665555 non-null  float64\n",
      " 22  REPORT_NO              665555 non-null  object \n",
      " 23  REPORT_TYPE            554822 non-null  object \n",
      " 24  WEATHER_DESC           401881 non-null  object \n",
      " 25  WEATHER_CODE           665555 non-null  float64\n",
      " 26  ACC_DATE               665555 non-null  int64  \n",
      " 27  ACC_TIME               665555 non-null  object \n",
      " 28  LOC_CODE               311686 non-null  object \n",
      " 29  SIGNAL_FLAG_DESC       665555 non-null  object \n",
      " 30  SIGNAL_FLAG            665555 non-null  object \n",
      " 31  C_M_ZONE_FLAG          665555 non-null  object \n",
      " 32  AGENCY_CODE            665555 non-null  object \n",
      " 33  AREA_CODE              665555 non-null  object \n",
      " 34  HARM_EVENT_DESC1       70096 non-null   object \n",
      " 35  HARM_EVENT_CODE1       665555 non-null  float64\n",
      " 36  HARM_EVENT_DESC2       665555 non-null  object \n",
      " 37  HARM_EVENT_CODE2       665555 non-null  float64\n",
      " 38  RTE_NO                 532863 non-null  float64\n",
      " 39  ROUTE_TYPE_CODE        534624 non-null  object \n",
      " 40  RTE_SUFFIX             13533 non-null   object \n",
      " 41  LOG_MILE               594700 non-null  float64\n",
      " 42  LOGMILE_DIR_FLAG_DESC  537725 non-null  object \n",
      " 43  LOGMILE_DIR_FLAG       537733 non-null  object \n",
      " 44  MAINROAD_NAME          598190 non-null  object \n",
      " 45  DISTANCE               579661 non-null  float64\n",
      " 46  FEET_MILES_FLAG_DESC   110938 non-null  object \n",
      " 47  FEET_MILES_FLAG        598196 non-null  object \n",
      " 48  DISTANCE_DIR_FLAG      594819 non-null  object \n",
      " 49  REFERENCE_NO           525664 non-null  float64\n",
      " 50  REFERENCE_TYPE_CODE    534876 non-null  object \n",
      " 51  REFERENCE_SUFFIX       14315 non-null   object \n",
      " 52  REFERENCE_ROAD_NAME    597721 non-null  object \n",
      " 53  LATITUDE               665555 non-null  float64\n",
      " 54  LONGITUDE              665555 non-null  float64\n",
      " 55  LOCATION               665555 non-null  object \n",
      "dtypes: float64(19), int64(3), object(34)\n",
      "memory usage: 284.4+ MB\n"
     ]
    }
   ],
   "source": [
    "marylanddf.info()"
   ]
  },
  {
   "cell_type": "code",
   "execution_count": 231,
   "metadata": {},
   "outputs": [
    {
     "data": {
      "text/html": [
       "<div>\n",
       "<style scoped>\n",
       "    .dataframe tbody tr th:only-of-type {\n",
       "        vertical-align: middle;\n",
       "    }\n",
       "\n",
       "    .dataframe tbody tr th {\n",
       "        vertical-align: top;\n",
       "    }\n",
       "\n",
       "    .dataframe thead th {\n",
       "        text-align: right;\n",
       "    }\n",
       "</style>\n",
       "<table border=\"1\" class=\"dataframe\">\n",
       "  <thead>\n",
       "    <tr style=\"text-align: right;\">\n",
       "      <th></th>\n",
       "      <th>YEAR</th>\n",
       "      <th>QUARTER</th>\n",
       "      <th>LIGHT_DESC</th>\n",
       "      <th>LIGHT_CODE</th>\n",
       "      <th>COUNTY_DESC</th>\n",
       "      <th>COUNTY_NO</th>\n",
       "      <th>MUNI_DESC</th>\n",
       "      <th>MUNI_CODE</th>\n",
       "      <th>JUNCTION_DESC</th>\n",
       "      <th>JUNCTION_CODE</th>\n",
       "      <th>...</th>\n",
       "      <th>FEET_MILES_FLAG_DESC</th>\n",
       "      <th>FEET_MILES_FLAG</th>\n",
       "      <th>DISTANCE_DIR_FLAG</th>\n",
       "      <th>REFERENCE_NO</th>\n",
       "      <th>REFERENCE_TYPE_CODE</th>\n",
       "      <th>REFERENCE_SUFFIX</th>\n",
       "      <th>REFERENCE_ROAD_NAME</th>\n",
       "      <th>LATITUDE</th>\n",
       "      <th>LONGITUDE</th>\n",
       "      <th>LOCATION</th>\n",
       "    </tr>\n",
       "  </thead>\n",
       "  <tbody>\n",
       "    <tr>\n",
       "      <th>0</th>\n",
       "      <td>2020</td>\n",
       "      <td>Q2</td>\n",
       "      <td>Daylight</td>\n",
       "      <td>1.00</td>\n",
       "      <td>Baltimore</td>\n",
       "      <td>3.0</td>\n",
       "      <td>NaN</td>\n",
       "      <td>NaN</td>\n",
       "      <td>NaN</td>\n",
       "      <td>NaN</td>\n",
       "      <td>...</td>\n",
       "      <td>NaN</td>\n",
       "      <td>NaN</td>\n",
       "      <td>NaN</td>\n",
       "      <td>NaN</td>\n",
       "      <td>NaN</td>\n",
       "      <td>NaN</td>\n",
       "      <td>NaN</td>\n",
       "      <td>39.277263</td>\n",
       "      <td>-76.503693</td>\n",
       "      <td>POINT (-76.5036932 39.27726285)</td>\n",
       "    </tr>\n",
       "    <tr>\n",
       "      <th>1</th>\n",
       "      <td>2020</td>\n",
       "      <td>Q2</td>\n",
       "      <td>NaN</td>\n",
       "      <td>6.02</td>\n",
       "      <td>Baltimore City</td>\n",
       "      <td>24.0</td>\n",
       "      <td>NaN</td>\n",
       "      <td>NaN</td>\n",
       "      <td>Non Intersection</td>\n",
       "      <td>1.0</td>\n",
       "      <td>...</td>\n",
       "      <td>Miles</td>\n",
       "      <td>M</td>\n",
       "      <td>N</td>\n",
       "      <td>NaN</td>\n",
       "      <td>NaN</td>\n",
       "      <td>NaN</td>\n",
       "      <td>NORTH AVE</td>\n",
       "      <td>39.311025</td>\n",
       "      <td>-76.616429</td>\n",
       "      <td>POINT (-76.616429453205 39.311024794431)</td>\n",
       "    </tr>\n",
       "    <tr>\n",
       "      <th>2</th>\n",
       "      <td>2020</td>\n",
       "      <td>Q2</td>\n",
       "      <td>Daylight</td>\n",
       "      <td>1.00</td>\n",
       "      <td>Montgomery</td>\n",
       "      <td>15.0</td>\n",
       "      <td>NaN</td>\n",
       "      <td>NaN</td>\n",
       "      <td>NaN</td>\n",
       "      <td>NaN</td>\n",
       "      <td>...</td>\n",
       "      <td>NaN</td>\n",
       "      <td>NaN</td>\n",
       "      <td>NaN</td>\n",
       "      <td>NaN</td>\n",
       "      <td>NaN</td>\n",
       "      <td>NaN</td>\n",
       "      <td>NaN</td>\n",
       "      <td>39.140680</td>\n",
       "      <td>-77.193413</td>\n",
       "      <td>POINT (-77.193412729561 39.140680249069)</td>\n",
       "    </tr>\n",
       "    <tr>\n",
       "      <th>3</th>\n",
       "      <td>2017</td>\n",
       "      <td>Q2</td>\n",
       "      <td>Daylight</td>\n",
       "      <td>1.00</td>\n",
       "      <td>Baltimore City</td>\n",
       "      <td>24.0</td>\n",
       "      <td>NaN</td>\n",
       "      <td>NaN</td>\n",
       "      <td>NaN</td>\n",
       "      <td>NaN</td>\n",
       "      <td>...</td>\n",
       "      <td>NaN</td>\n",
       "      <td>NaN</td>\n",
       "      <td>NaN</td>\n",
       "      <td>NaN</td>\n",
       "      <td>NaN</td>\n",
       "      <td>NaN</td>\n",
       "      <td>NaN</td>\n",
       "      <td>39.282928</td>\n",
       "      <td>-76.635215</td>\n",
       "      <td>POINT (-76.6352150952347 39.2829284750108)</td>\n",
       "    </tr>\n",
       "    <tr>\n",
       "      <th>4</th>\n",
       "      <td>2020</td>\n",
       "      <td>Q2</td>\n",
       "      <td>Daylight</td>\n",
       "      <td>1.00</td>\n",
       "      <td>Cecil</td>\n",
       "      <td>7.0</td>\n",
       "      <td>NaN</td>\n",
       "      <td>NaN</td>\n",
       "      <td>NaN</td>\n",
       "      <td>NaN</td>\n",
       "      <td>...</td>\n",
       "      <td>NaN</td>\n",
       "      <td>NaN</td>\n",
       "      <td>NaN</td>\n",
       "      <td>NaN</td>\n",
       "      <td>NaN</td>\n",
       "      <td>NaN</td>\n",
       "      <td>NaN</td>\n",
       "      <td>39.611028</td>\n",
       "      <td>-75.951314</td>\n",
       "      <td>POINT (-75.951314 39.611027833333)</td>\n",
       "    </tr>\n",
       "  </tbody>\n",
       "</table>\n",
       "<p>5 rows × 56 columns</p>\n",
       "</div>"
      ],
      "text/plain": [
       "   YEAR QUARTER LIGHT_DESC  LIGHT_CODE     COUNTY_DESC  COUNTY_NO  MUNI_DESC  \\\n",
       "0  2020      Q2   Daylight        1.00       Baltimore        3.0        NaN   \n",
       "1  2020      Q2        NaN        6.02  Baltimore City       24.0        NaN   \n",
       "2  2020      Q2   Daylight        1.00      Montgomery       15.0        NaN   \n",
       "3  2017      Q2   Daylight        1.00  Baltimore City       24.0        NaN   \n",
       "4  2020      Q2   Daylight        1.00           Cecil        7.0        NaN   \n",
       "\n",
       "   MUNI_CODE     JUNCTION_DESC  JUNCTION_CODE  ... FEET_MILES_FLAG_DESC  \\\n",
       "0        NaN               NaN            NaN  ...                  NaN   \n",
       "1        NaN  Non Intersection            1.0  ...                Miles   \n",
       "2        NaN               NaN            NaN  ...                  NaN   \n",
       "3        NaN               NaN            NaN  ...                  NaN   \n",
       "4        NaN               NaN            NaN  ...                  NaN   \n",
       "\n",
       "   FEET_MILES_FLAG DISTANCE_DIR_FLAG  REFERENCE_NO REFERENCE_TYPE_CODE  \\\n",
       "0              NaN               NaN           NaN                 NaN   \n",
       "1                M                 N           NaN                 NaN   \n",
       "2              NaN               NaN           NaN                 NaN   \n",
       "3              NaN               NaN           NaN                 NaN   \n",
       "4              NaN               NaN           NaN                 NaN   \n",
       "\n",
       "   REFERENCE_SUFFIX REFERENCE_ROAD_NAME   LATITUDE  LONGITUDE  \\\n",
       "0               NaN                 NaN  39.277263 -76.503693   \n",
       "1               NaN           NORTH AVE  39.311025 -76.616429   \n",
       "2               NaN                 NaN  39.140680 -77.193413   \n",
       "3               NaN                 NaN  39.282928 -76.635215   \n",
       "4               NaN                 NaN  39.611028 -75.951314   \n",
       "\n",
       "                                     LOCATION  \n",
       "0             POINT (-76.5036932 39.27726285)  \n",
       "1    POINT (-76.616429453205 39.311024794431)  \n",
       "2    POINT (-77.193412729561 39.140680249069)  \n",
       "3  POINT (-76.6352150952347 39.2829284750108)  \n",
       "4          POINT (-75.951314 39.611027833333)  \n",
       "\n",
       "[5 rows x 56 columns]"
      ]
     },
     "execution_count": 231,
     "metadata": {},
     "output_type": "execute_result"
    }
   ],
   "source": [
    "marylanddf.head()"
   ]
  },
  {
   "cell_type": "markdown",
   "metadata": {},
   "source": [
    "### Save Cleaned Dataframes"
   ]
  },
  {
   "cell_type": "code",
   "execution_count": 232,
   "metadata": {},
   "outputs": [],
   "source": [
    "driverdf.to_csv(\"driverdf_clean.csv\")"
   ]
  },
  {
   "cell_type": "code",
   "execution_count": 61,
   "metadata": {},
   "outputs": [],
   "source": [
    "nonmotoristdf.to_csv(\"nonmotoristdf_clean.csv\")"
   ]
  },
  {
   "cell_type": "code",
   "execution_count": 234,
   "metadata": {},
   "outputs": [],
   "source": [
    "incidentsdf.to_csv(\"incidents_clean.csv\")"
   ]
  },
  {
   "cell_type": "code",
   "execution_count": 235,
   "metadata": {},
   "outputs": [],
   "source": [
    "marylanddf.to_csv(\"marylanddf_clean.csv\")\n"
   ]
  },
  {
   "cell_type": "code",
   "execution_count": null,
   "metadata": {},
   "outputs": [],
   "source": [
    "crashesDCdf.to_csv(\"crashesDCdf_clean.csv\")"
   ]
  },
  {
   "cell_type": "code",
   "execution_count": null,
   "metadata": {},
   "outputs": [],
   "source": []
  }
 ],
 "metadata": {
  "kernelspec": {
   "display_name": "Python 3",
   "language": "python",
   "name": "python3"
  },
  "language_info": {
   "codemirror_mode": {
    "name": "ipython",
    "version": 3
   },
   "file_extension": ".py",
   "mimetype": "text/x-python",
   "name": "python",
   "nbconvert_exporter": "python",
   "pygments_lexer": "ipython3",
   "version": "3.8.3"
  }
 },
 "nbformat": 4,
 "nbformat_minor": 4
}
